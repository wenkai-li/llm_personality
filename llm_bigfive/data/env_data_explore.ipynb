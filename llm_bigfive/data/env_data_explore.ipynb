{
 "cells": [
  {
   "cell_type": "code",
   "execution_count": 14,
   "metadata": {},
   "outputs": [],
   "source": [
    "import json\n",
    "import rich"
   ]
  },
  {
   "cell_type": "code",
   "execution_count": 2,
   "metadata": {},
   "outputs": [],
   "source": [
    "file_path = \"/data/user_data/wenkail/llm_personality/profiles/env_profiles_o_1.jsonl\"\n",
    "\n",
    "data = []\n",
    "with open(file_path, 'r') as f:\n",
    "    for line in f:\n",
    "       data.append(json.loads(line))"
   ]
  },
  {
   "cell_type": "code",
   "execution_count": 4,
   "metadata": {},
   "outputs": [
    {
     "data": {
      "text/plain": [
       "15000"
      ]
     },
     "execution_count": 4,
     "metadata": {},
     "output_type": "execute_result"
    }
   ],
   "source": [
    "len(data)"
   ]
  },
  {
   "cell_type": "code",
   "execution_count": 16,
   "metadata": {},
   "outputs": [
    {
     "data": {
      "text/plain": [
       "dict_keys(['env_idx', 'env_info', 'turn', 'prompt', 'response'])"
      ]
     },
     "execution_count": 16,
     "metadata": {},
     "output_type": "execute_result"
    }
   ],
   "source": [
    "data[0].keys()"
   ]
  },
  {
   "cell_type": "code",
   "execution_count": 20,
   "metadata": {},
   "outputs": [
    {
     "data": {
      "text/html": [
       "<pre style=\"white-space:pre;overflow-x:auto;line-height:normal;font-family:Menlo,'DejaVu Sans Mono',consolas,'Courier New',monospace\">Imagine you are Sharif, your task is to act/speak as Sharif would.\n",
       "You should try your best to infer and achieve Sharif's goal in a single turn that align with their character \n",
       "traits.\n",
       "Additionally, maintaining the conversation's naturalness and realism is essential.\n",
       "Here is the context of this interaction:\n",
       "```\n",
       "Scenario: Sharif is happy because she was able to help Karis out of a difficult situation. She feels good knowing \n",
       "that she was able to be there for him and make things better.\n",
       "Participants: Sharif and Karis\n",
       "```\n",
       ".\n",
       "\n",
       "Conversation starts:\n",
       "You are at Turn #<span style=\"color: #008080; text-decoration-color: #008080; font-weight: bold\">0</span>.\n",
       "\n",
       "Please generate your argument directly and concisely within <span style=\"color: #008080; text-decoration-color: #008080; font-weight: bold\">50</span> words:\n",
       "</pre>\n"
      ],
      "text/plain": [
       "Imagine you are Sharif, your task is to act/speak as Sharif would.\n",
       "You should try your best to infer and achieve Sharif's goal in a single turn that align with their character \n",
       "traits.\n",
       "Additionally, maintaining the conversation's naturalness and realism is essential.\n",
       "Here is the context of this interaction:\n",
       "```\n",
       "Scenario: Sharif is happy because she was able to help Karis out of a difficult situation. She feels good knowing \n",
       "that she was able to be there for him and make things better.\n",
       "Participants: Sharif and Karis\n",
       "```\n",
       ".\n",
       "\n",
       "Conversation starts:\n",
       "You are at Turn #\u001b[1;36m0\u001b[0m.\n",
       "\n",
       "Please generate your argument directly and concisely within \u001b[1;36m50\u001b[0m words:\n"
      ]
     },
     "metadata": {},
     "output_type": "display_data"
    }
   ],
   "source": [
    "rich.print(data[0]['prompt'])"
   ]
  },
  {
   "cell_type": "code",
   "execution_count": 31,
   "metadata": {},
   "outputs": [
    {
     "data": {
      "text/html": [
       "<pre style=\"white-space:pre;overflow-x:auto;line-height:normal;font-family:Menlo,'DejaVu Sans Mono',consolas,'Courier New',monospace\">Thanks, Sharif. I'm fine now. Don't worry about it. I just needed a little help, that's all. Let's just move on and\n",
       "forget about it, okay?\n",
       "</pre>\n"
      ],
      "text/plain": [
       "Thanks, Sharif. I'm fine now. Don't worry about it. I just needed a little help, that's all. Let's just move on and\n",
       "forget about it, okay?\n"
      ]
     },
     "metadata": {},
     "output_type": "display_data"
    }
   ],
   "source": [
    "rich.print(data[2]['response'])"
   ]
  },
  {
   "cell_type": "code",
   "execution_count": null,
   "metadata": {},
   "outputs": [],
   "source": []
  },
  {
   "cell_type": "code",
   "execution_count": null,
   "metadata": {},
   "outputs": [],
   "source": []
  }
 ],
 "metadata": {
  "kernelspec": {
   "display_name": "lf",
   "language": "python",
   "name": "python3"
  },
  "language_info": {
   "codemirror_mode": {
    "name": "ipython",
    "version": 3
   },
   "file_extension": ".py",
   "mimetype": "text/x-python",
   "name": "python",
   "nbconvert_exporter": "python",
   "pygments_lexer": "ipython3",
   "version": "3.11.9"
  }
 },
 "nbformat": 4,
 "nbformat_minor": 2
}
