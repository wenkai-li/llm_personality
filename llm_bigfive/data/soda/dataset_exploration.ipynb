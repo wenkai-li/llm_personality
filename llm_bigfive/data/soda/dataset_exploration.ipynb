{
 "cells": [
  {
   "cell_type": "code",
   "execution_count": 3,
   "metadata": {},
   "outputs": [
    {
     "name": "stderr",
     "output_type": "stream",
     "text": [
      "/home/wenkail/miniconda3/envs/lp/lib/python3.10/site-packages/tqdm/auto.py:21: TqdmWarning: IProgress not found. Please update jupyter and ipywidgets. See https://ipywidgets.readthedocs.io/en/stable/user_install.html\n",
      "  from .autonotebook import tqdm as notebook_tqdm\n"
     ]
    }
   ],
   "source": [
    "from datasets import load_dataset, DatasetDict, load_from_disk\n",
    "import rich"
   ]
  },
  {
   "cell_type": "code",
   "execution_count": 14,
   "metadata": {},
   "outputs": [
    {
     "name": "stderr",
     "output_type": "stream",
     "text": [
      "Saving the dataset (1/1 shards): 100%|██████████| 5000/5000 [00:00<00:00, 22773.84 examples/s]\n"
     ]
    }
   ],
   "source": [
    "d = load_dataset(\"allenai/soda\")\n",
    "sample = d[\"train\"].shuffle(seed=42).select(range(5000))\n",
    "\n",
    "new_dataset = DatasetDict({\n",
    "    'sample': sample\n",
    "})\n",
    "\n",
    "new_dataset.save_to_disk('/data/user_data/wenkail/llm_personality/soda_data/sample_5000')"
   ]
  },
  {
   "cell_type": "markdown",
   "metadata": {},
   "source": [
    "### Dataset Cleaning"
   ]
  },
  {
   "cell_type": "code",
   "execution_count": 5,
   "metadata": {},
   "outputs": [],
   "source": [
    "data = load_from_disk(\"/data/user_data/wenkail/llm_personality/soda_data/sample_5000\")"
   ]
  },
  {
   "cell_type": "code",
   "execution_count": 11,
   "metadata": {},
   "outputs": [],
   "source": [
    "sub_data = data[\"sample\"][0]"
   ]
  },
  {
   "cell_type": "code",
   "execution_count": 13,
   "metadata": {},
   "outputs": [
    {
     "data": {
      "text/html": [
       "<pre style=\"white-space:pre;overflow-x:auto;line-height:normal;font-family:Menlo,'DejaVu Sans Mono',consolas,'Courier New',monospace\"><span style=\"font-weight: bold\">{</span>\n",
       "    <span style=\"color: #008000; text-decoration-color: #008000\">'head'</span>: <span style=\"color: #008000; text-decoration-color: #008000\">'PersonX and PersonY is dating'</span>,\n",
       "    <span style=\"color: #008000; text-decoration-color: #008000\">'relation'</span>: <span style=\"color: #008000; text-decoration-color: #008000\">'xIntent'</span>,\n",
       "    <span style=\"color: #008000; text-decoration-color: #008000\">'tail'</span>: <span style=\"color: #008000; text-decoration-color: #008000\">'to be with PersonY'</span>,\n",
       "    <span style=\"color: #008000; text-decoration-color: #008000\">'literal'</span>: <span style=\"color: #008000; text-decoration-color: #008000\">'Deontay and Gibson is dating because Deontay wants to be with Gibson.'</span>,\n",
       "    <span style=\"color: #008000; text-decoration-color: #008000\">'narrative'</span>: <span style=\"color: #008000; text-decoration-color: #008000\">'Deontay and Gibson started dating because Deontay was interested in getting to know Gibson </span>\n",
       "<span style=\"color: #008000; text-decoration-color: #008000\">better. She thought he was a great guy with a lot of potential, and she wanted to see where things could go between</span>\n",
       "<span style=\"color: #008000; text-decoration-color: #008000\">them. Gibson felt the same way about Deontay, so they decided to give dating a try.'</span>,\n",
       "    <span style=\"color: #008000; text-decoration-color: #008000\">'dialogue'</span>: <span style=\"font-weight: bold\">[</span>\n",
       "        <span style=\"color: #008000; text-decoration-color: #008000\">'Hey, Gibson. Thanks for coming to meet me.'</span>,\n",
       "        <span style=\"color: #008000; text-decoration-color: #008000\">\"Hey, Deontay. No problem, I'm happy to be here.\"</span>,\n",
       "        <span style=\"color: #008000; text-decoration-color: #008000\">'So, how have you been?'</span>,\n",
       "        <span style=\"color: #008000; text-decoration-color: #008000\">\"I've been good. Just been busy with work and stuff. How about you?\"</span>,\n",
       "        <span style=\"color: #008000; text-decoration-color: #008000\">\"I've been good too. I just finished up my finals and now I have some free time.\"</span>,\n",
       "        <span style=\"color: #008000; text-decoration-color: #008000\">\"That's great! What did you study?\"</span>,\n",
       "        <span style=\"color: #008000; text-decoration-color: #008000\">'I majored in psychology and minored in sociology.'</span>,\n",
       "        <span style=\"color: #008000; text-decoration-color: #008000\">\"Interesting. I've always been interested in psychology myself. What made you decide to study it?\"</span>,\n",
       "        <span style=\"color: #008000; text-decoration-color: #008000\">\"I've always been interested in why people do the things they do. I thought psychology would give me a </span>\n",
       "<span style=\"color: #008000; text-decoration-color: #008000\">better understanding of that.\"</span>,\n",
       "        <span style=\"color: #008000; text-decoration-color: #008000\">'That makes sense. I can definitely see how that would be useful.'</span>,\n",
       "        <span style=\"color: #008000; text-decoration-color: #008000\">'Yeah, I think it will be helpful in a lot of different ways. So, what about you? What made you decide to </span>\n",
       "<span style=\"color: #008000; text-decoration-color: #008000\">study psychology?'</span>,\n",
       "        <span style=\"color: #008000; text-decoration-color: #008000\">\"Well, like I said, I've always been interested in it. But I also think it's a really important topic. </span>\n",
       "<span style=\"color: #008000; text-decoration-color: #008000\">There's a lot we still don't understand about the human mind, and I want to help contribute to that </span>\n",
       "<span style=\"color: #008000; text-decoration-color: #008000\">understanding.\"</span>,\n",
       "        <span style=\"color: #008000; text-decoration-color: #008000\">\"That's really admirable. I'm sure you'll be able to make a lot of progress in your field.\"</span>,\n",
       "        <span style=\"color: #008000; text-decoration-color: #008000\">'Thanks, Deontay. I appreciate your support.'</span>\n",
       "    <span style=\"font-weight: bold\">]</span>,\n",
       "    <span style=\"color: #008000; text-decoration-color: #008000\">'speakers'</span>: <span style=\"font-weight: bold\">[</span>\n",
       "        <span style=\"color: #008000; text-decoration-color: #008000\">'Deontay'</span>,\n",
       "        <span style=\"color: #008000; text-decoration-color: #008000\">'Gibson'</span>,\n",
       "        <span style=\"color: #008000; text-decoration-color: #008000\">'Deontay'</span>,\n",
       "        <span style=\"color: #008000; text-decoration-color: #008000\">'Gibson'</span>,\n",
       "        <span style=\"color: #008000; text-decoration-color: #008000\">'Deontay'</span>,\n",
       "        <span style=\"color: #008000; text-decoration-color: #008000\">'Gibson'</span>,\n",
       "        <span style=\"color: #008000; text-decoration-color: #008000\">'Deontay'</span>,\n",
       "        <span style=\"color: #008000; text-decoration-color: #008000\">'Gibson'</span>,\n",
       "        <span style=\"color: #008000; text-decoration-color: #008000\">'Deontay'</span>,\n",
       "        <span style=\"color: #008000; text-decoration-color: #008000\">'Gibson'</span>,\n",
       "        <span style=\"color: #008000; text-decoration-color: #008000\">'Deontay'</span>,\n",
       "        <span style=\"color: #008000; text-decoration-color: #008000\">'Gibson'</span>,\n",
       "        <span style=\"color: #008000; text-decoration-color: #008000\">'Deontay'</span>,\n",
       "        <span style=\"color: #008000; text-decoration-color: #008000\">'Gibson'</span>\n",
       "    <span style=\"font-weight: bold\">]</span>,\n",
       "    <span style=\"color: #008000; text-decoration-color: #008000\">'PersonX'</span>: <span style=\"color: #008000; text-decoration-color: #008000\">'Deontay'</span>,\n",
       "    <span style=\"color: #008000; text-decoration-color: #008000\">'PersonY'</span>: <span style=\"color: #008000; text-decoration-color: #008000\">'Gibson'</span>,\n",
       "    <span style=\"color: #008000; text-decoration-color: #008000\">'PersonZ'</span>: <span style=\"color: #008000; text-decoration-color: #008000\">''</span>,\n",
       "    <span style=\"color: #008000; text-decoration-color: #008000\">'original_index'</span>: <span style=\"color: #008080; text-decoration-color: #008080; font-weight: bold\">543740</span>,\n",
       "    <span style=\"color: #008000; text-decoration-color: #008000\">'split'</span>: <span style=\"color: #008000; text-decoration-color: #008000\">'train'</span>,\n",
       "    <span style=\"color: #008000; text-decoration-color: #008000\">'head_answer'</span>: <span style=\"color: #008000; text-decoration-color: #008000\">'Yes'</span>,\n",
       "    <span style=\"color: #008000; text-decoration-color: #008000\">'pmi_head_answer'</span>: <span style=\"color: #008000; text-decoration-color: #008000\">'Yes'</span>,\n",
       "    <span style=\"color: #008000; text-decoration-color: #008000\">'relation_tail_answer'</span>: <span style=\"color: #008000; text-decoration-color: #008000\">'No'</span>,\n",
       "    <span style=\"color: #008000; text-decoration-color: #008000\">'pmi_relation_tail_answer'</span>: <span style=\"color: #008000; text-decoration-color: #008000\">'No'</span>\n",
       "<span style=\"font-weight: bold\">}</span>\n",
       "</pre>\n"
      ],
      "text/plain": [
       "\u001b[1m{\u001b[0m\n",
       "    \u001b[32m'head'\u001b[0m: \u001b[32m'PersonX and PersonY is dating'\u001b[0m,\n",
       "    \u001b[32m'relation'\u001b[0m: \u001b[32m'xIntent'\u001b[0m,\n",
       "    \u001b[32m'tail'\u001b[0m: \u001b[32m'to be with PersonY'\u001b[0m,\n",
       "    \u001b[32m'literal'\u001b[0m: \u001b[32m'Deontay and Gibson is dating because Deontay wants to be with Gibson.'\u001b[0m,\n",
       "    \u001b[32m'narrative'\u001b[0m: \u001b[32m'Deontay and Gibson started dating because Deontay was interested in getting to know Gibson \u001b[0m\n",
       "\u001b[32mbetter. She thought he was a great guy with a lot of potential, and she wanted to see where things could go between\u001b[0m\n",
       "\u001b[32mthem. Gibson felt the same way about Deontay, so they decided to give dating a try.'\u001b[0m,\n",
       "    \u001b[32m'dialogue'\u001b[0m: \u001b[1m[\u001b[0m\n",
       "        \u001b[32m'Hey, Gibson. Thanks for coming to meet me.'\u001b[0m,\n",
       "        \u001b[32m\"Hey, Deontay. No problem, I'm happy to be here.\"\u001b[0m,\n",
       "        \u001b[32m'So, how have you been?'\u001b[0m,\n",
       "        \u001b[32m\"I've been good. Just been busy with work and stuff. How about you?\"\u001b[0m,\n",
       "        \u001b[32m\"I've been good too. I just finished up my finals and now I have some free time.\"\u001b[0m,\n",
       "        \u001b[32m\"That's great! What did you study?\"\u001b[0m,\n",
       "        \u001b[32m'I majored in psychology and minored in sociology.'\u001b[0m,\n",
       "        \u001b[32m\"Interesting. I've always been interested in psychology myself. What made you decide to study it?\"\u001b[0m,\n",
       "        \u001b[32m\"I've always been interested in why people do the things they do. I thought psychology would give me a \u001b[0m\n",
       "\u001b[32mbetter understanding of that.\"\u001b[0m,\n",
       "        \u001b[32m'That makes sense. I can definitely see how that would be useful.'\u001b[0m,\n",
       "        \u001b[32m'Yeah, I think it will be helpful in a lot of different ways. So, what about you? What made you decide to \u001b[0m\n",
       "\u001b[32mstudy psychology?'\u001b[0m,\n",
       "        \u001b[32m\"Well, like I said, I've always been interested in it. But I also think it's a really important topic. \u001b[0m\n",
       "\u001b[32mThere's a lot we still don't understand about the human mind, and I want to help contribute to that \u001b[0m\n",
       "\u001b[32munderstanding.\"\u001b[0m,\n",
       "        \u001b[32m\"That's really admirable. I'm sure you'll be able to make a lot of progress in your field.\"\u001b[0m,\n",
       "        \u001b[32m'Thanks, Deontay. I appreciate your support.'\u001b[0m\n",
       "    \u001b[1m]\u001b[0m,\n",
       "    \u001b[32m'speakers'\u001b[0m: \u001b[1m[\u001b[0m\n",
       "        \u001b[32m'Deontay'\u001b[0m,\n",
       "        \u001b[32m'Gibson'\u001b[0m,\n",
       "        \u001b[32m'Deontay'\u001b[0m,\n",
       "        \u001b[32m'Gibson'\u001b[0m,\n",
       "        \u001b[32m'Deontay'\u001b[0m,\n",
       "        \u001b[32m'Gibson'\u001b[0m,\n",
       "        \u001b[32m'Deontay'\u001b[0m,\n",
       "        \u001b[32m'Gibson'\u001b[0m,\n",
       "        \u001b[32m'Deontay'\u001b[0m,\n",
       "        \u001b[32m'Gibson'\u001b[0m,\n",
       "        \u001b[32m'Deontay'\u001b[0m,\n",
       "        \u001b[32m'Gibson'\u001b[0m,\n",
       "        \u001b[32m'Deontay'\u001b[0m,\n",
       "        \u001b[32m'Gibson'\u001b[0m\n",
       "    \u001b[1m]\u001b[0m,\n",
       "    \u001b[32m'PersonX'\u001b[0m: \u001b[32m'Deontay'\u001b[0m,\n",
       "    \u001b[32m'PersonY'\u001b[0m: \u001b[32m'Gibson'\u001b[0m,\n",
       "    \u001b[32m'PersonZ'\u001b[0m: \u001b[32m''\u001b[0m,\n",
       "    \u001b[32m'original_index'\u001b[0m: \u001b[1;36m543740\u001b[0m,\n",
       "    \u001b[32m'split'\u001b[0m: \u001b[32m'train'\u001b[0m,\n",
       "    \u001b[32m'head_answer'\u001b[0m: \u001b[32m'Yes'\u001b[0m,\n",
       "    \u001b[32m'pmi_head_answer'\u001b[0m: \u001b[32m'Yes'\u001b[0m,\n",
       "    \u001b[32m'relation_tail_answer'\u001b[0m: \u001b[32m'No'\u001b[0m,\n",
       "    \u001b[32m'pmi_relation_tail_answer'\u001b[0m: \u001b[32m'No'\u001b[0m\n",
       "\u001b[1m}\u001b[0m\n"
      ]
     },
     "metadata": {},
     "output_type": "display_data"
    }
   ],
   "source": [
    "# sub_data['head'] = sub_data['head'].replace(\"PersonX\", sub_data[\"PersonX\"])\n",
    "# sub_data['head'] = sub_data['head'].replace(\"PersonY\", sub_data[\"PersonY\"])\n",
    "\n",
    "rich.print(sub_data)"
   ]
  },
  {
   "cell_type": "code",
   "execution_count": 7,
   "metadata": {},
   "outputs": [
    {
     "data": {
      "text/plain": [
       "{'head': 'PersonX and PersonY is dating',\n",
       " 'relation': 'xIntent',\n",
       " 'tail': 'to be with PersonY',\n",
       " 'literal': 'Deontay and Gibson is dating because Deontay wants to be with Gibson.',\n",
       " 'narrative': 'Deontay and Gibson started dating because Deontay was interested in getting to know Gibson better. She thought he was a great guy with a lot of potential, and she wanted to see where things could go between them. Gibson felt the same way about Deontay, so they decided to give dating a try.',\n",
       " 'dialogue': ['Hey, Gibson. Thanks for coming to meet me.',\n",
       "  \"Hey, Deontay. No problem, I'm happy to be here.\",\n",
       "  'So, how have you been?',\n",
       "  \"I've been good. Just been busy with work and stuff. How about you?\",\n",
       "  \"I've been good too. I just finished up my finals and now I have some free time.\",\n",
       "  \"That's great! What did you study?\",\n",
       "  'I majored in psychology and minored in sociology.',\n",
       "  \"Interesting. I've always been interested in psychology myself. What made you decide to study it?\",\n",
       "  \"I've always been interested in why people do the things they do. I thought psychology would give me a better understanding of that.\",\n",
       "  'That makes sense. I can definitely see how that would be useful.',\n",
       "  'Yeah, I think it will be helpful in a lot of different ways. So, what about you? What made you decide to study psychology?',\n",
       "  \"Well, like I said, I've always been interested in it. But I also think it's a really important topic. There's a lot we still don't understand about the human mind, and I want to help contribute to that understanding.\",\n",
       "  \"That's really admirable. I'm sure you'll be able to make a lot of progress in your field.\",\n",
       "  'Thanks, Deontay. I appreciate your support.'],\n",
       " 'speakers': ['Deontay',\n",
       "  'Gibson',\n",
       "  'Deontay',\n",
       "  'Gibson',\n",
       "  'Deontay',\n",
       "  'Gibson',\n",
       "  'Deontay',\n",
       "  'Gibson',\n",
       "  'Deontay',\n",
       "  'Gibson',\n",
       "  'Deontay',\n",
       "  'Gibson',\n",
       "  'Deontay',\n",
       "  'Gibson'],\n",
       " 'PersonX': 'Deontay',\n",
       " 'PersonY': 'Gibson',\n",
       " 'PersonZ': '',\n",
       " 'original_index': 543740,\n",
       " 'split': 'train',\n",
       " 'head_answer': 'Yes',\n",
       " 'pmi_head_answer': 'Yes',\n",
       " 'relation_tail_answer': 'No',\n",
       " 'pmi_relation_tail_answer': 'No'}"
      ]
     },
     "execution_count": 7,
     "metadata": {},
     "output_type": "execute_result"
    }
   ],
   "source": [
    "sub_data"
   ]
  },
  {
   "cell_type": "markdown",
   "metadata": {},
   "source": [
    "### Dataset Exploration"
   ]
  },
  {
   "cell_type": "code",
   "execution_count": 16,
   "metadata": {},
   "outputs": [],
   "source": [
    "def check_list_duplicates(d):\n",
    "    if 'train' in d:\n",
    "        relation_list = d['train']['relation']\n",
    "        count_dict = {}\n",
    "        for item in relation_list:\n",
    "            if item in count_dict:\n",
    "                count_dict[item] += 1\n",
    "            else:\n",
    "                count_dict[item] = 1\n",
    "        \n",
    "        duplicates = {item: count for item, count in count_dict.items() if count > 1}\n",
    "        rich.print(\"Duplicates and their counts:\", duplicates)\n",
    "    else:\n",
    "        print(\"'relation' is not a list.\")"
   ]
  },
  {
   "cell_type": "code",
   "execution_count": 17,
   "metadata": {},
   "outputs": [
    {
     "data": {
      "text/html": [
       "<pre style=\"white-space:pre;overflow-x:auto;line-height:normal;font-family:Menlo,'DejaVu Sans Mono',consolas,'Courier New',monospace\">Duplicates and their counts:\n",
       "<span style=\"font-weight: bold\">{</span><span style=\"color: #008000; text-decoration-color: #008000\">'xNeed'</span>: <span style=\"color: #008080; text-decoration-color: #008080; font-weight: bold\">76823</span>, <span style=\"color: #008000; text-decoration-color: #008000\">'xAttr'</span>: <span style=\"color: #008080; text-decoration-color: #008080; font-weight: bold\">217023</span>, <span style=\"color: #008000; text-decoration-color: #008000\">'xIntent'</span>: <span style=\"color: #008080; text-decoration-color: #008080; font-weight: bold\">272732</span>, <span style=\"color: #008000; text-decoration-color: #008000\">'xEffect'</span>: <span style=\"color: #008080; text-decoration-color: #008080; font-weight: bold\">195936</span>, <span style=\"color: #008000; text-decoration-color: #008000\">'xWant'</span>: <span style=\"color: #008080; text-decoration-color: #008080; font-weight: bold\">125112</span>, <span style=\"color: #008000; text-decoration-color: #008000\">'xReact'</span>: <span style=\"color: #008080; text-decoration-color: #008080; font-weight: bold\">303956</span><span style=\"font-weight: bold\">}</span>\n",
       "</pre>\n"
      ],
      "text/plain": [
       "Duplicates and their counts:\n",
       "\u001b[1m{\u001b[0m\u001b[32m'xNeed'\u001b[0m: \u001b[1;36m76823\u001b[0m, \u001b[32m'xAttr'\u001b[0m: \u001b[1;36m217023\u001b[0m, \u001b[32m'xIntent'\u001b[0m: \u001b[1;36m272732\u001b[0m, \u001b[32m'xEffect'\u001b[0m: \u001b[1;36m195936\u001b[0m, \u001b[32m'xWant'\u001b[0m: \u001b[1;36m125112\u001b[0m, \u001b[32m'xReact'\u001b[0m: \u001b[1;36m303956\u001b[0m\u001b[1m}\u001b[0m\n"
      ]
     },
     "metadata": {},
     "output_type": "display_data"
    }
   ],
   "source": [
    "check_list_duplicates(d)"
   ]
  }
 ],
 "metadata": {
  "kernelspec": {
   "display_name": "lp",
   "language": "python",
   "name": "python3"
  },
  "language_info": {
   "codemirror_mode": {
    "name": "ipython",
    "version": 3
   },
   "file_extension": ".py",
   "mimetype": "text/x-python",
   "name": "python",
   "nbconvert_exporter": "python",
   "pygments_lexer": "ipython3",
   "version": "3.10.14"
  }
 },
 "nbformat": 4,
 "nbformat_minor": 2
}
