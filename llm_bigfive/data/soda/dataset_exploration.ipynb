{
 "cells": [
  {
   "cell_type": "code",
   "execution_count": 1,
   "metadata": {},
   "outputs": [
    {
     "name": "stderr",
     "output_type": "stream",
     "text": [
      "/home/wenkail/miniconda3/envs/lp/lib/python3.10/site-packages/tqdm/auto.py:21: TqdmWarning: IProgress not found. Please update jupyter and ipywidgets. See https://ipywidgets.readthedocs.io/en/stable/user_install.html\n",
      "  from .autonotebook import tqdm as notebook_tqdm\n"
     ]
    }
   ],
   "source": [
    "from datasets import load_dataset\n",
    "import rich"
   ]
  },
  {
   "cell_type": "code",
   "execution_count": 14,
   "metadata": {},
   "outputs": [
    {
     "data": {
      "text/html": [
       "<pre style=\"white-space:pre;overflow-x:auto;line-height:normal;font-family:Menlo,'DejaVu Sans Mono',consolas,'Courier New',monospace\"><span style=\"color: #800080; text-decoration-color: #800080; font-weight: bold\">dict_keys</span><span style=\"font-weight: bold\">([</span><span style=\"color: #008000; text-decoration-color: #008000\">'head'</span>, <span style=\"color: #008000; text-decoration-color: #008000\">'relation'</span>, <span style=\"color: #008000; text-decoration-color: #008000\">'tail'</span>, <span style=\"color: #008000; text-decoration-color: #008000\">'literal'</span>, <span style=\"color: #008000; text-decoration-color: #008000\">'narrative'</span>, <span style=\"color: #008000; text-decoration-color: #008000\">'dialogue'</span>, <span style=\"color: #008000; text-decoration-color: #008000\">'speakers'</span>, <span style=\"color: #008000; text-decoration-color: #008000\">'PersonX'</span>, <span style=\"color: #008000; text-decoration-color: #008000\">'PersonY'</span>, \n",
       "<span style=\"color: #008000; text-decoration-color: #008000\">'PersonZ'</span>, <span style=\"color: #008000; text-decoration-color: #008000\">'original_index'</span>, <span style=\"color: #008000; text-decoration-color: #008000\">'split'</span>, <span style=\"color: #008000; text-decoration-color: #008000\">'head_answer'</span>, <span style=\"color: #008000; text-decoration-color: #008000\">'pmi_head_answer'</span>, <span style=\"color: #008000; text-decoration-color: #008000\">'relation_tail_answer'</span>, \n",
       "<span style=\"color: #008000; text-decoration-color: #008000\">'pmi_relation_tail_answer'</span><span style=\"font-weight: bold\">])</span>\n",
       "</pre>\n"
      ],
      "text/plain": [
       "\u001b[1;35mdict_keys\u001b[0m\u001b[1m(\u001b[0m\u001b[1m[\u001b[0m\u001b[32m'head'\u001b[0m, \u001b[32m'relation'\u001b[0m, \u001b[32m'tail'\u001b[0m, \u001b[32m'literal'\u001b[0m, \u001b[32m'narrative'\u001b[0m, \u001b[32m'dialogue'\u001b[0m, \u001b[32m'speakers'\u001b[0m, \u001b[32m'PersonX'\u001b[0m, \u001b[32m'PersonY'\u001b[0m, \n",
       "\u001b[32m'PersonZ'\u001b[0m, \u001b[32m'original_index'\u001b[0m, \u001b[32m'split'\u001b[0m, \u001b[32m'head_answer'\u001b[0m, \u001b[32m'pmi_head_answer'\u001b[0m, \u001b[32m'relation_tail_answer'\u001b[0m, \n",
       "\u001b[32m'pmi_relation_tail_answer'\u001b[0m\u001b[1m]\u001b[0m\u001b[1m)\u001b[0m\n"
      ]
     },
     "metadata": {},
     "output_type": "display_data"
    },
    {
     "data": {
      "text/html": [
       "<pre style=\"white-space:pre;overflow-x:auto;line-height:normal;font-family:Menlo,'DejaVu Sans Mono',consolas,'Courier New',monospace\"><span style=\"color: #800080; text-decoration-color: #800080; font-weight: bold\">dict_keys</span><span style=\"font-weight: bold\">([</span><span style=\"color: #008000; text-decoration-color: #008000\">'head'</span>, <span style=\"color: #008000; text-decoration-color: #008000\">'relation'</span>, <span style=\"color: #008000; text-decoration-color: #008000\">'tail'</span>, <span style=\"color: #008000; text-decoration-color: #008000\">'literal'</span>, <span style=\"color: #008000; text-decoration-color: #008000\">'narrative'</span>, <span style=\"color: #008000; text-decoration-color: #008000\">'dialogue'</span>, <span style=\"color: #008000; text-decoration-color: #008000\">'speakers'</span>, <span style=\"color: #008000; text-decoration-color: #008000\">'PersonX'</span>, <span style=\"color: #008000; text-decoration-color: #008000\">'PersonY'</span>, \n",
       "<span style=\"color: #008000; text-decoration-color: #008000\">'PersonZ'</span>, <span style=\"color: #008000; text-decoration-color: #008000\">'original_index'</span>, <span style=\"color: #008000; text-decoration-color: #008000\">'split'</span>, <span style=\"color: #008000; text-decoration-color: #008000\">'head_answer'</span>, <span style=\"color: #008000; text-decoration-color: #008000\">'pmi_head_answer'</span>, <span style=\"color: #008000; text-decoration-color: #008000\">'relation_tail_answer'</span>, \n",
       "<span style=\"color: #008000; text-decoration-color: #008000\">'pmi_relation_tail_answer'</span><span style=\"font-weight: bold\">])</span>\n",
       "</pre>\n"
      ],
      "text/plain": [
       "\u001b[1;35mdict_keys\u001b[0m\u001b[1m(\u001b[0m\u001b[1m[\u001b[0m\u001b[32m'head'\u001b[0m, \u001b[32m'relation'\u001b[0m, \u001b[32m'tail'\u001b[0m, \u001b[32m'literal'\u001b[0m, \u001b[32m'narrative'\u001b[0m, \u001b[32m'dialogue'\u001b[0m, \u001b[32m'speakers'\u001b[0m, \u001b[32m'PersonX'\u001b[0m, \u001b[32m'PersonY'\u001b[0m, \n",
       "\u001b[32m'PersonZ'\u001b[0m, \u001b[32m'original_index'\u001b[0m, \u001b[32m'split'\u001b[0m, \u001b[32m'head_answer'\u001b[0m, \u001b[32m'pmi_head_answer'\u001b[0m, \u001b[32m'relation_tail_answer'\u001b[0m, \n",
       "\u001b[32m'pmi_relation_tail_answer'\u001b[0m\u001b[1m]\u001b[0m\u001b[1m)\u001b[0m\n"
      ]
     },
     "metadata": {},
     "output_type": "display_data"
    },
    {
     "data": {
      "text/html": [
       "<pre style=\"white-space:pre;overflow-x:auto;line-height:normal;font-family:Menlo,'DejaVu Sans Mono',consolas,'Courier New',monospace\"><span style=\"color: #800080; text-decoration-color: #800080; font-weight: bold\">dict_keys</span><span style=\"font-weight: bold\">([</span><span style=\"color: #008000; text-decoration-color: #008000\">'head'</span>, <span style=\"color: #008000; text-decoration-color: #008000\">'relation'</span>, <span style=\"color: #008000; text-decoration-color: #008000\">'tail'</span>, <span style=\"color: #008000; text-decoration-color: #008000\">'literal'</span>, <span style=\"color: #008000; text-decoration-color: #008000\">'narrative'</span>, <span style=\"color: #008000; text-decoration-color: #008000\">'dialogue'</span>, <span style=\"color: #008000; text-decoration-color: #008000\">'speakers'</span>, <span style=\"color: #008000; text-decoration-color: #008000\">'PersonX'</span>, <span style=\"color: #008000; text-decoration-color: #008000\">'PersonY'</span>, \n",
       "<span style=\"color: #008000; text-decoration-color: #008000\">'PersonZ'</span>, <span style=\"color: #008000; text-decoration-color: #008000\">'original_index'</span>, <span style=\"color: #008000; text-decoration-color: #008000\">'split'</span>, <span style=\"color: #008000; text-decoration-color: #008000\">'head_answer'</span>, <span style=\"color: #008000; text-decoration-color: #008000\">'pmi_head_answer'</span>, <span style=\"color: #008000; text-decoration-color: #008000\">'relation_tail_answer'</span>, \n",
       "<span style=\"color: #008000; text-decoration-color: #008000\">'pmi_relation_tail_answer'</span><span style=\"font-weight: bold\">])</span>\n",
       "</pre>\n"
      ],
      "text/plain": [
       "\u001b[1;35mdict_keys\u001b[0m\u001b[1m(\u001b[0m\u001b[1m[\u001b[0m\u001b[32m'head'\u001b[0m, \u001b[32m'relation'\u001b[0m, \u001b[32m'tail'\u001b[0m, \u001b[32m'literal'\u001b[0m, \u001b[32m'narrative'\u001b[0m, \u001b[32m'dialogue'\u001b[0m, \u001b[32m'speakers'\u001b[0m, \u001b[32m'PersonX'\u001b[0m, \u001b[32m'PersonY'\u001b[0m, \n",
       "\u001b[32m'PersonZ'\u001b[0m, \u001b[32m'original_index'\u001b[0m, \u001b[32m'split'\u001b[0m, \u001b[32m'head_answer'\u001b[0m, \u001b[32m'pmi_head_answer'\u001b[0m, \u001b[32m'relation_tail_answer'\u001b[0m, \n",
       "\u001b[32m'pmi_relation_tail_answer'\u001b[0m\u001b[1m]\u001b[0m\u001b[1m)\u001b[0m\n"
      ]
     },
     "metadata": {},
     "output_type": "display_data"
    }
   ],
   "source": [
    "dataset = load_dataset(\"allenai/soda\")\n",
    "\n",
    "rich.print(dataset['train'].features.keys())\n",
    "rich.print(dataset['validation'].features.keys())\n",
    "rich.print(dataset['test'].features.keys())"
   ]
  },
  {
   "cell_type": "code",
   "execution_count": 13,
   "metadata": {},
   "outputs": [
    {
     "data": {
      "text/plain": [
       "148968"
      ]
     },
     "execution_count": 13,
     "metadata": {},
     "output_type": "execute_result"
    }
   ],
   "source": [
    "len(dataset['test'])"
   ]
  }
 ],
 "metadata": {
  "kernelspec": {
   "display_name": "lp",
   "language": "python",
   "name": "python3"
  },
  "language_info": {
   "codemirror_mode": {
    "name": "ipython",
    "version": 3
   },
   "file_extension": ".py",
   "mimetype": "text/x-python",
   "name": "python",
   "nbconvert_exporter": "python",
   "pygments_lexer": "ipython3",
   "version": "3.1.undefined"
  }
 },
 "nbformat": 4,
 "nbformat_minor": 2
}
