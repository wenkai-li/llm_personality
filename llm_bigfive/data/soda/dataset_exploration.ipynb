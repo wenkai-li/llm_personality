{
 "cells": [
  {
   "cell_type": "code",
   "execution_count": 5,
   "metadata": {},
   "outputs": [],
   "source": [
    "from datasets import load_dataset\n",
    "import rich"
   ]
  },
  {
   "cell_type": "code",
   "execution_count": 12,
   "metadata": {},
   "outputs": [
    {
     "data": {
      "text/html": [
       "<pre style=\"white-space:pre;overflow-x:auto;line-height:normal;font-family:Menlo,'DejaVu Sans Mono',consolas,'Courier New',monospace\"><span style=\"color: #800080; text-decoration-color: #800080; font-weight: bold\">dict_keys</span><span style=\"font-weight: bold\">([</span><span style=\"color: #008000; text-decoration-color: #008000\">'head'</span>, <span style=\"color: #008000; text-decoration-color: #008000\">'relation'</span>, <span style=\"color: #008000; text-decoration-color: #008000\">'tail'</span>, <span style=\"color: #008000; text-decoration-color: #008000\">'literal'</span>, <span style=\"color: #008000; text-decoration-color: #008000\">'narrative'</span>, <span style=\"color: #008000; text-decoration-color: #008000\">'dialogue'</span>, <span style=\"color: #008000; text-decoration-color: #008000\">'speakers'</span>, <span style=\"color: #008000; text-decoration-color: #008000\">'PersonX'</span>, <span style=\"color: #008000; text-decoration-color: #008000\">'PersonY'</span>, \n",
       "<span style=\"color: #008000; text-decoration-color: #008000\">'PersonZ'</span>, <span style=\"color: #008000; text-decoration-color: #008000\">'original_index'</span>, <span style=\"color: #008000; text-decoration-color: #008000\">'split'</span>, <span style=\"color: #008000; text-decoration-color: #008000\">'head_answer'</span>, <span style=\"color: #008000; text-decoration-color: #008000\">'pmi_head_answer'</span>, <span style=\"color: #008000; text-decoration-color: #008000\">'relation_tail_answer'</span>, \n",
       "<span style=\"color: #008000; text-decoration-color: #008000\">'pmi_relation_tail_answer'</span><span style=\"font-weight: bold\">])</span>\n",
       "</pre>\n"
      ],
      "text/plain": [
       "\u001b[1;35mdict_keys\u001b[0m\u001b[1m(\u001b[0m\u001b[1m[\u001b[0m\u001b[32m'head'\u001b[0m, \u001b[32m'relation'\u001b[0m, \u001b[32m'tail'\u001b[0m, \u001b[32m'literal'\u001b[0m, \u001b[32m'narrative'\u001b[0m, \u001b[32m'dialogue'\u001b[0m, \u001b[32m'speakers'\u001b[0m, \u001b[32m'PersonX'\u001b[0m, \u001b[32m'PersonY'\u001b[0m, \n",
       "\u001b[32m'PersonZ'\u001b[0m, \u001b[32m'original_index'\u001b[0m, \u001b[32m'split'\u001b[0m, \u001b[32m'head_answer'\u001b[0m, \u001b[32m'pmi_head_answer'\u001b[0m, \u001b[32m'relation_tail_answer'\u001b[0m, \n",
       "\u001b[32m'pmi_relation_tail_answer'\u001b[0m\u001b[1m]\u001b[0m\u001b[1m)\u001b[0m\n"
      ]
     },
     "metadata": {},
     "output_type": "display_data"
    },
    {
     "data": {
      "text/html": [
       "<pre style=\"white-space:pre;overflow-x:auto;line-height:normal;font-family:Menlo,'DejaVu Sans Mono',consolas,'Courier New',monospace\"><span style=\"color: #800080; text-decoration-color: #800080; font-weight: bold\">dict_keys</span><span style=\"font-weight: bold\">([</span><span style=\"color: #008000; text-decoration-color: #008000\">'head'</span>, <span style=\"color: #008000; text-decoration-color: #008000\">'relation'</span>, <span style=\"color: #008000; text-decoration-color: #008000\">'tail'</span>, <span style=\"color: #008000; text-decoration-color: #008000\">'literal'</span>, <span style=\"color: #008000; text-decoration-color: #008000\">'narrative'</span>, <span style=\"color: #008000; text-decoration-color: #008000\">'dialogue'</span>, <span style=\"color: #008000; text-decoration-color: #008000\">'speakers'</span>, <span style=\"color: #008000; text-decoration-color: #008000\">'PersonX'</span>, <span style=\"color: #008000; text-decoration-color: #008000\">'PersonY'</span>, \n",
       "<span style=\"color: #008000; text-decoration-color: #008000\">'PersonZ'</span>, <span style=\"color: #008000; text-decoration-color: #008000\">'original_index'</span>, <span style=\"color: #008000; text-decoration-color: #008000\">'split'</span>, <span style=\"color: #008000; text-decoration-color: #008000\">'head_answer'</span>, <span style=\"color: #008000; text-decoration-color: #008000\">'pmi_head_answer'</span>, <span style=\"color: #008000; text-decoration-color: #008000\">'relation_tail_answer'</span>, \n",
       "<span style=\"color: #008000; text-decoration-color: #008000\">'pmi_relation_tail_answer'</span><span style=\"font-weight: bold\">])</span>\n",
       "</pre>\n"
      ],
      "text/plain": [
       "\u001b[1;35mdict_keys\u001b[0m\u001b[1m(\u001b[0m\u001b[1m[\u001b[0m\u001b[32m'head'\u001b[0m, \u001b[32m'relation'\u001b[0m, \u001b[32m'tail'\u001b[0m, \u001b[32m'literal'\u001b[0m, \u001b[32m'narrative'\u001b[0m, \u001b[32m'dialogue'\u001b[0m, \u001b[32m'speakers'\u001b[0m, \u001b[32m'PersonX'\u001b[0m, \u001b[32m'PersonY'\u001b[0m, \n",
       "\u001b[32m'PersonZ'\u001b[0m, \u001b[32m'original_index'\u001b[0m, \u001b[32m'split'\u001b[0m, \u001b[32m'head_answer'\u001b[0m, \u001b[32m'pmi_head_answer'\u001b[0m, \u001b[32m'relation_tail_answer'\u001b[0m, \n",
       "\u001b[32m'pmi_relation_tail_answer'\u001b[0m\u001b[1m]\u001b[0m\u001b[1m)\u001b[0m\n"
      ]
     },
     "metadata": {},
     "output_type": "display_data"
    },
    {
     "data": {
      "text/html": [
       "<pre style=\"white-space:pre;overflow-x:auto;line-height:normal;font-family:Menlo,'DejaVu Sans Mono',consolas,'Courier New',monospace\"><span style=\"color: #800080; text-decoration-color: #800080; font-weight: bold\">dict_keys</span><span style=\"font-weight: bold\">([</span><span style=\"color: #008000; text-decoration-color: #008000\">'head'</span>, <span style=\"color: #008000; text-decoration-color: #008000\">'relation'</span>, <span style=\"color: #008000; text-decoration-color: #008000\">'tail'</span>, <span style=\"color: #008000; text-decoration-color: #008000\">'literal'</span>, <span style=\"color: #008000; text-decoration-color: #008000\">'narrative'</span>, <span style=\"color: #008000; text-decoration-color: #008000\">'dialogue'</span>, <span style=\"color: #008000; text-decoration-color: #008000\">'speakers'</span>, <span style=\"color: #008000; text-decoration-color: #008000\">'PersonX'</span>, <span style=\"color: #008000; text-decoration-color: #008000\">'PersonY'</span>, \n",
       "<span style=\"color: #008000; text-decoration-color: #008000\">'PersonZ'</span>, <span style=\"color: #008000; text-decoration-color: #008000\">'original_index'</span>, <span style=\"color: #008000; text-decoration-color: #008000\">'split'</span>, <span style=\"color: #008000; text-decoration-color: #008000\">'head_answer'</span>, <span style=\"color: #008000; text-decoration-color: #008000\">'pmi_head_answer'</span>, <span style=\"color: #008000; text-decoration-color: #008000\">'relation_tail_answer'</span>, \n",
       "<span style=\"color: #008000; text-decoration-color: #008000\">'pmi_relation_tail_answer'</span><span style=\"font-weight: bold\">])</span>\n",
       "</pre>\n"
      ],
      "text/plain": [
       "\u001b[1;35mdict_keys\u001b[0m\u001b[1m(\u001b[0m\u001b[1m[\u001b[0m\u001b[32m'head'\u001b[0m, \u001b[32m'relation'\u001b[0m, \u001b[32m'tail'\u001b[0m, \u001b[32m'literal'\u001b[0m, \u001b[32m'narrative'\u001b[0m, \u001b[32m'dialogue'\u001b[0m, \u001b[32m'speakers'\u001b[0m, \u001b[32m'PersonX'\u001b[0m, \u001b[32m'PersonY'\u001b[0m, \n",
       "\u001b[32m'PersonZ'\u001b[0m, \u001b[32m'original_index'\u001b[0m, \u001b[32m'split'\u001b[0m, \u001b[32m'head_answer'\u001b[0m, \u001b[32m'pmi_head_answer'\u001b[0m, \u001b[32m'relation_tail_answer'\u001b[0m, \n",
       "\u001b[32m'pmi_relation_tail_answer'\u001b[0m\u001b[1m]\u001b[0m\u001b[1m)\u001b[0m\n"
      ]
     },
     "metadata": {},
     "output_type": "display_data"
    }
   ],
   "source": [
    "d = load_dataset(\"allenai/soda\")\n",
    "\n",
    "rich.print(d['train'].features.keys())\n",
    "rich.print(d['validation'].features.keys())\n",
    "rich.print(d['test'].features.keys())"
   ]
  },
  {
   "cell_type": "code",
   "execution_count": 7,
   "metadata": {},
   "outputs": [
    {
     "name": "stdout",
     "output_type": "stream",
     "text": [
      "head\n"
     ]
    },
    {
     "data": {
      "text/html": [
       "<pre style=\"white-space:pre;overflow-x:auto;line-height:normal;font-family:Menlo,'DejaVu Sans Mono',consolas,'Courier New',monospace\"><span style=\"font-weight: bold\">[</span><span style=\"color: #008000; text-decoration-color: #008000\">'PersonX thought about going to church'</span>, <span style=\"color: #008000; text-decoration-color: #008000\">\"PersonX listens to PersonY's thoughts\"</span><span style=\"font-weight: bold\">]</span>\n",
       "</pre>\n"
      ],
      "text/plain": [
       "\u001b[1m[\u001b[0m\u001b[32m'PersonX thought about going to church'\u001b[0m, \u001b[32m\"PersonX listens to PersonY's thoughts\"\u001b[0m\u001b[1m]\u001b[0m\n"
      ]
     },
     "metadata": {},
     "output_type": "display_data"
    },
    {
     "name": "stdout",
     "output_type": "stream",
     "text": [
      "\n",
      "relation\n"
     ]
    },
    {
     "data": {
      "text/html": [
       "<pre style=\"white-space:pre;overflow-x:auto;line-height:normal;font-family:Menlo,'DejaVu Sans Mono',consolas,'Courier New',monospace\"><span style=\"font-weight: bold\">[</span><span style=\"color: #008000; text-decoration-color: #008000\">'xNeed'</span>, <span style=\"color: #008000; text-decoration-color: #008000\">'xAttr'</span><span style=\"font-weight: bold\">]</span>\n",
       "</pre>\n"
      ],
      "text/plain": [
       "\u001b[1m[\u001b[0m\u001b[32m'xNeed'\u001b[0m, \u001b[32m'xAttr'\u001b[0m\u001b[1m]\u001b[0m\n"
      ]
     },
     "metadata": {},
     "output_type": "display_data"
    },
    {
     "name": "stdout",
     "output_type": "stream",
     "text": [
      "\n",
      "tail\n"
     ]
    },
    {
     "data": {
      "text/html": [
       "<pre style=\"white-space:pre;overflow-x:auto;line-height:normal;font-family:Menlo,'DejaVu Sans Mono',consolas,'Courier New',monospace\"><span style=\"font-weight: bold\">[</span><span style=\"color: #008000; text-decoration-color: #008000\">'to be interested in going to church'</span>, <span style=\"color: #008000; text-decoration-color: #008000\">'a good friend'</span><span style=\"font-weight: bold\">]</span>\n",
       "</pre>\n"
      ],
      "text/plain": [
       "\u001b[1m[\u001b[0m\u001b[32m'to be interested in going to church'\u001b[0m, \u001b[32m'a good friend'\u001b[0m\u001b[1m]\u001b[0m\n"
      ]
     },
     "metadata": {},
     "output_type": "display_data"
    },
    {
     "name": "stdout",
     "output_type": "stream",
     "text": [
      "\n",
      "literal\n"
     ]
    },
    {
     "data": {
      "text/html": [
       "<pre style=\"white-space:pre;overflow-x:auto;line-height:normal;font-family:Menlo,'DejaVu Sans Mono',consolas,'Courier New',monospace\"><span style=\"font-weight: bold\">[</span>\n",
       "    <span style=\"color: #008000; text-decoration-color: #008000\">'Veda was interested in going to church. Veda thought about going to church.'</span>,\n",
       "    <span style=\"color: #008000; text-decoration-color: #008000\">\"Rylea is a good friend. Rylea listens to Shavon's thoughts.\"</span>\n",
       "<span style=\"font-weight: bold\">]</span>\n",
       "</pre>\n"
      ],
      "text/plain": [
       "\u001b[1m[\u001b[0m\n",
       "    \u001b[32m'Veda was interested in going to church. Veda thought about going to church.'\u001b[0m,\n",
       "    \u001b[32m\"Rylea is a good friend. Rylea listens to Shavon's thoughts.\"\u001b[0m\n",
       "\u001b[1m]\u001b[0m\n"
      ]
     },
     "metadata": {},
     "output_type": "display_data"
    },
    {
     "name": "stdout",
     "output_type": "stream",
     "text": [
      "\n",
      "narrative\n"
     ]
    },
    {
     "data": {
      "text/html": [
       "<pre style=\"white-space:pre;overflow-x:auto;line-height:normal;font-family:Menlo,'DejaVu Sans Mono',consolas,'Courier New',monospace\"><span style=\"font-weight: bold\">[</span>\n",
       "    <span style=\"color: #008000; text-decoration-color: #008000\">'Veda thought about going to church because she was interested in the religion. She had never been to church </span>\n",
       "<span style=\"color: #008000; text-decoration-color: #008000\">before, but she had heard good things about it. She decided to go to a nearby church and see what it was like.'</span>,\n",
       "    <span style=\"color: #008000; text-decoration-color: #008000\">'Rylea sat down with Shavon and asked him what was wrong. Shavon told Rylea that he was having a hard time and </span>\n",
       "<span style=\"color: #008000; text-decoration-color: #008000\">needed someone to talk to. Rylea said that he would be happy to be there for his friend.'</span>\n",
       "<span style=\"font-weight: bold\">]</span>\n",
       "</pre>\n"
      ],
      "text/plain": [
       "\u001b[1m[\u001b[0m\n",
       "    \u001b[32m'Veda thought about going to church because she was interested in the religion. She had never been to church \u001b[0m\n",
       "\u001b[32mbefore, but she had heard good things about it. She decided to go to a nearby church and see what it was like.'\u001b[0m,\n",
       "    \u001b[32m'Rylea sat down with Shavon and asked him what was wrong. Shavon told Rylea that he was having a hard time and \u001b[0m\n",
       "\u001b[32mneeded someone to talk to. Rylea said that he would be happy to be there for his friend.'\u001b[0m\n",
       "\u001b[1m]\u001b[0m\n"
      ]
     },
     "metadata": {},
     "output_type": "display_data"
    },
    {
     "name": "stdout",
     "output_type": "stream",
     "text": [
      "\n",
      "dialogue\n"
     ]
    },
    {
     "data": {
      "text/html": [
       "<pre style=\"white-space:pre;overflow-x:auto;line-height:normal;font-family:Menlo,'DejaVu Sans Mono',consolas,'Courier New',monospace\"><span style=\"font-weight: bold\">[</span>\n",
       "    <span style=\"font-weight: bold\">[</span>\n",
       "        <span style=\"color: #008000; text-decoration-color: #008000\">\"Hi, Father. I'm Veda. I'm new to the area and was curious about your church. Could you tell me a little </span>\n",
       "<span style=\"color: #008000; text-decoration-color: #008000\">bit about it?\"</span>,\n",
       "        <span style=\"color: #008000; text-decoration-color: #008000\">\"Of course, Veda. Our church is based on the teachings of Jesus Christ. We believe in loving our neighbor </span>\n",
       "<span style=\"color: #008000; text-decoration-color: #008000\">and treating others as we would want to be treated. We strive to live according to Christ's example and </span>\n",
       "<span style=\"color: #008000; text-decoration-color: #008000\">teachings.\"</span>,\n",
       "        <span style=\"color: #008000; text-decoration-color: #008000\">'That sounds like a really great way to live. I can see why so many people are drawn to this religion. What</span>\n",
       "<span style=\"color: #008000; text-decoration-color: #008000\">do you think makes Christianity different from other religions?'</span>,\n",
       "        <span style=\"color: #008000; text-decoration-color: #008000\">'Well, there are a lot of different interpretations of Christianity, but for us, it\\'s all about following </span>\n",
       "<span style=\"color: #008000; text-decoration-color: #008000\">Jesus Christ\\'s example. He was a man who loved unconditionally and forgave easily. He preached compassion and </span>\n",
       "<span style=\"color: #008000; text-decoration-color: #008000\">understanding, even for those who disagreed with him or did not follow his teachings perfectly. We try to emulate </span>\n",
       "<span style=\"color: #008000; text-decoration-color: #008000\">that in our own lives.\"'</span>,\n",
       "        <span style=\"color: #008000; text-decoration-color: #008000\">\"That does sound different. I know that forgiveness is a big part of Christianity, but it's not always easy</span>\n",
       "<span style=\"color: #008000; text-decoration-color: #008000\">to do. How do you think Christians are able to forgive so easily?\"</span>,\n",
       "        <span style=\"color: #008000; text-decoration-color: #008000\">\"Well, I think it comes from our belief that everyone is capable of change and redemption. We believe that </span>\n",
       "<span style=\"color: #008000; text-decoration-color: #008000\">no one is beyond hope or help, and so we are always willing to forgive those who have wronged us. It's not always </span>\n",
       "<span style=\"color: #008000; text-decoration-color: #008000\">easy, but it is something we strive for.\"</span>\n",
       "    <span style=\"font-weight: bold\">]</span>,\n",
       "    <span style=\"font-weight: bold\">[</span>\n",
       "        <span style=\"color: #008000; text-decoration-color: #008000\">\"Hey Shavon, what's up? You seem troubled.\"</span>,\n",
       "        <span style=\"color: #008000; text-decoration-color: #008000\">\"Yeah, I am. I'm just having a hard time and needed someone to talk to.\"</span>,\n",
       "        <span style=\"color: #008000; text-decoration-color: #008000\">\"Of course, man. I'm always here for you. What's going on?\"</span>,\n",
       "        <span style=\"color: #008000; text-decoration-color: #008000\">\"It's just everything. Work is stressing me out, my relationship is falling apart, and I feel like I'm </span>\n",
       "<span style=\"color: #008000; text-decoration-color: #008000\">losing touch with my friends. I don't know what to do.\"</span>,\n",
       "        <span style=\"color: #008000; text-decoration-color: #008000\">\"Well, let's start with work then. What's going on there?\"</span>,\n",
       "        <span style=\"color: #008000; text-decoration-color: #008000\">\"It's just that everything is so demanding and I can't keep up. I'm constantly behind and it feels like I'm</span>\n",
       "<span style=\"color: #008000; text-decoration-color: #008000\">never going to catch up.\"</span>,\n",
       "        <span style=\"color: #008000; text-decoration-color: #008000\">\"Okay, that does sound pretty tough. But it sounds like you're doing the best you can under the </span>\n",
       "<span style=\"color: #008000; text-decoration-color: #008000\">circumstances. Maybe you just need to cut yourself some slack and focus on one thing at a time. As for your </span>\n",
       "<span style=\"color: #008000; text-decoration-color: #008000\">relationship, what's going on there?\"</span>,\n",
       "        <span style=\"color: #008000; text-decoration-color: #008000\">\"We're just fighting all the time and it feels like we're growing apart instead of together. I don't know </span>\n",
       "<span style=\"color: #008000; text-decoration-color: #008000\">if we can make it through this rough patch.\"</span>,\n",
       "        <span style=\"color: #008000; text-decoration-color: #008000\">'Do you still love her?'</span>,\n",
       "        <span style=\"color: #008000; text-decoration-color: #008000\">\"Yes, I do. But it's just so hard right now.\"</span>,\n",
       "        <span style=\"color: #008000; text-decoration-color: #008000\">\"Then you should definitely try to work things out. It sounds like you're going through a lot right now, </span>\n",
       "<span style=\"color: #008000; text-decoration-color: #008000\">but your friends are still here for you. So don't forget that.\"</span>\n",
       "    <span style=\"font-weight: bold\">]</span>\n",
       "<span style=\"font-weight: bold\">]</span>\n",
       "</pre>\n"
      ],
      "text/plain": [
       "\u001b[1m[\u001b[0m\n",
       "    \u001b[1m[\u001b[0m\n",
       "        \u001b[32m\"Hi, Father. I'm Veda. I'm new to the area and was curious about your church. Could you tell me a little \u001b[0m\n",
       "\u001b[32mbit about it?\"\u001b[0m,\n",
       "        \u001b[32m\"Of course, Veda. Our church is based on the teachings of Jesus Christ. We believe in loving our neighbor \u001b[0m\n",
       "\u001b[32mand treating others as we would want to be treated. We strive to live according to Christ's example and \u001b[0m\n",
       "\u001b[32mteachings.\"\u001b[0m,\n",
       "        \u001b[32m'That sounds like a really great way to live. I can see why so many people are drawn to this religion. What\u001b[0m\n",
       "\u001b[32mdo you think makes Christianity different from other religions?'\u001b[0m,\n",
       "        \u001b[32m'Well, there are a lot of different interpretations of Christianity, but for us, it\\'s all about following \u001b[0m\n",
       "\u001b[32mJesus Christ\\'s example. He was a man who loved unconditionally and forgave easily. He preached compassion and \u001b[0m\n",
       "\u001b[32munderstanding, even for those who disagreed with him or did not follow his teachings perfectly. We try to emulate \u001b[0m\n",
       "\u001b[32mthat in our own lives.\"'\u001b[0m,\n",
       "        \u001b[32m\"That does sound different. I know that forgiveness is a big part of Christianity, but it's not always easy\u001b[0m\n",
       "\u001b[32mto do. How do you think Christians are able to forgive so easily?\"\u001b[0m,\n",
       "        \u001b[32m\"Well, I think it comes from our belief that everyone is capable of change and redemption. We believe that \u001b[0m\n",
       "\u001b[32mno one is beyond hope or help, and so we are always willing to forgive those who have wronged us. It's not always \u001b[0m\n",
       "\u001b[32measy, but it is something we strive for.\"\u001b[0m\n",
       "    \u001b[1m]\u001b[0m,\n",
       "    \u001b[1m[\u001b[0m\n",
       "        \u001b[32m\"Hey Shavon, what's up? You seem troubled.\"\u001b[0m,\n",
       "        \u001b[32m\"Yeah, I am. I'm just having a hard time and needed someone to talk to.\"\u001b[0m,\n",
       "        \u001b[32m\"Of course, man. I'm always here for you. What's going on?\"\u001b[0m,\n",
       "        \u001b[32m\"It's just everything. Work is stressing me out, my relationship is falling apart, and I feel like I'm \u001b[0m\n",
       "\u001b[32mlosing touch with my friends. I don't know what to do.\"\u001b[0m,\n",
       "        \u001b[32m\"Well, let's start with work then. What's going on there?\"\u001b[0m,\n",
       "        \u001b[32m\"It's just that everything is so demanding and I can't keep up. I'm constantly behind and it feels like I'm\u001b[0m\n",
       "\u001b[32mnever going to catch up.\"\u001b[0m,\n",
       "        \u001b[32m\"Okay, that does sound pretty tough. But it sounds like you're doing the best you can under the \u001b[0m\n",
       "\u001b[32mcircumstances. Maybe you just need to cut yourself some slack and focus on one thing at a time. As for your \u001b[0m\n",
       "\u001b[32mrelationship, what's going on there?\"\u001b[0m,\n",
       "        \u001b[32m\"We're just fighting all the time and it feels like we're growing apart instead of together. I don't know \u001b[0m\n",
       "\u001b[32mif we can make it through this rough patch.\"\u001b[0m,\n",
       "        \u001b[32m'Do you still love her?'\u001b[0m,\n",
       "        \u001b[32m\"Yes, I do. But it's just so hard right now.\"\u001b[0m,\n",
       "        \u001b[32m\"Then you should definitely try to work things out. It sounds like you're going through a lot right now, \u001b[0m\n",
       "\u001b[32mbut your friends are still here for you. So don't forget that.\"\u001b[0m\n",
       "    \u001b[1m]\u001b[0m\n",
       "\u001b[1m]\u001b[0m\n"
      ]
     },
     "metadata": {},
     "output_type": "display_data"
    },
    {
     "name": "stdout",
     "output_type": "stream",
     "text": [
      "\n",
      "speakers\n"
     ]
    },
    {
     "data": {
      "text/html": [
       "<pre style=\"white-space:pre;overflow-x:auto;line-height:normal;font-family:Menlo,'DejaVu Sans Mono',consolas,'Courier New',monospace\"><span style=\"font-weight: bold\">[</span>\n",
       "    <span style=\"font-weight: bold\">[</span><span style=\"color: #008000; text-decoration-color: #008000\">'Veda'</span>, <span style=\"color: #008000; text-decoration-color: #008000\">'Priest'</span>, <span style=\"color: #008000; text-decoration-color: #008000\">'Veda'</span>, <span style=\"color: #008000; text-decoration-color: #008000\">'Priest'</span>, <span style=\"color: #008000; text-decoration-color: #008000\">'Veda'</span>, <span style=\"color: #008000; text-decoration-color: #008000\">'Priest'</span><span style=\"font-weight: bold\">]</span>,\n",
       "    <span style=\"font-weight: bold\">[</span><span style=\"color: #008000; text-decoration-color: #008000\">'Rylea'</span>, <span style=\"color: #008000; text-decoration-color: #008000\">'Shavon'</span>, <span style=\"color: #008000; text-decoration-color: #008000\">'Rylea'</span>, <span style=\"color: #008000; text-decoration-color: #008000\">'Shavon'</span>, <span style=\"color: #008000; text-decoration-color: #008000\">'Rylea'</span>, <span style=\"color: #008000; text-decoration-color: #008000\">'Shavon'</span>, <span style=\"color: #008000; text-decoration-color: #008000\">'Rylea'</span>, <span style=\"color: #008000; text-decoration-color: #008000\">'Shavon'</span>, <span style=\"color: #008000; text-decoration-color: #008000\">'Rylea'</span>, <span style=\"color: #008000; text-decoration-color: #008000\">'Shavon'</span>, <span style=\"color: #008000; text-decoration-color: #008000\">'Rylea'</span><span style=\"font-weight: bold\">]</span>\n",
       "<span style=\"font-weight: bold\">]</span>\n",
       "</pre>\n"
      ],
      "text/plain": [
       "\u001b[1m[\u001b[0m\n",
       "    \u001b[1m[\u001b[0m\u001b[32m'Veda'\u001b[0m, \u001b[32m'Priest'\u001b[0m, \u001b[32m'Veda'\u001b[0m, \u001b[32m'Priest'\u001b[0m, \u001b[32m'Veda'\u001b[0m, \u001b[32m'Priest'\u001b[0m\u001b[1m]\u001b[0m,\n",
       "    \u001b[1m[\u001b[0m\u001b[32m'Rylea'\u001b[0m, \u001b[32m'Shavon'\u001b[0m, \u001b[32m'Rylea'\u001b[0m, \u001b[32m'Shavon'\u001b[0m, \u001b[32m'Rylea'\u001b[0m, \u001b[32m'Shavon'\u001b[0m, \u001b[32m'Rylea'\u001b[0m, \u001b[32m'Shavon'\u001b[0m, \u001b[32m'Rylea'\u001b[0m, \u001b[32m'Shavon'\u001b[0m, \u001b[32m'Rylea'\u001b[0m\u001b[1m]\u001b[0m\n",
       "\u001b[1m]\u001b[0m\n"
      ]
     },
     "metadata": {},
     "output_type": "display_data"
    },
    {
     "name": "stdout",
     "output_type": "stream",
     "text": [
      "\n",
      "PersonX\n"
     ]
    },
    {
     "data": {
      "text/html": [
       "<pre style=\"white-space:pre;overflow-x:auto;line-height:normal;font-family:Menlo,'DejaVu Sans Mono',consolas,'Courier New',monospace\"><span style=\"font-weight: bold\">[</span><span style=\"color: #008000; text-decoration-color: #008000\">'Veda'</span>, <span style=\"color: #008000; text-decoration-color: #008000\">'Rylea'</span><span style=\"font-weight: bold\">]</span>\n",
       "</pre>\n"
      ],
      "text/plain": [
       "\u001b[1m[\u001b[0m\u001b[32m'Veda'\u001b[0m, \u001b[32m'Rylea'\u001b[0m\u001b[1m]\u001b[0m\n"
      ]
     },
     "metadata": {},
     "output_type": "display_data"
    },
    {
     "name": "stdout",
     "output_type": "stream",
     "text": [
      "\n",
      "PersonY\n"
     ]
    },
    {
     "data": {
      "text/html": [
       "<pre style=\"white-space:pre;overflow-x:auto;line-height:normal;font-family:Menlo,'DejaVu Sans Mono',consolas,'Courier New',monospace\"><span style=\"font-weight: bold\">[</span><span style=\"color: #008000; text-decoration-color: #008000\">''</span>, <span style=\"color: #008000; text-decoration-color: #008000\">'Shavon'</span><span style=\"font-weight: bold\">]</span>\n",
       "</pre>\n"
      ],
      "text/plain": [
       "\u001b[1m[\u001b[0m\u001b[32m''\u001b[0m, \u001b[32m'Shavon'\u001b[0m\u001b[1m]\u001b[0m\n"
      ]
     },
     "metadata": {},
     "output_type": "display_data"
    },
    {
     "name": "stdout",
     "output_type": "stream",
     "text": [
      "\n",
      "PersonZ\n"
     ]
    },
    {
     "data": {
      "text/html": [
       "<pre style=\"white-space:pre;overflow-x:auto;line-height:normal;font-family:Menlo,'DejaVu Sans Mono',consolas,'Courier New',monospace\"><span style=\"font-weight: bold\">[</span><span style=\"color: #008000; text-decoration-color: #008000\">''</span>, <span style=\"color: #008000; text-decoration-color: #008000\">''</span><span style=\"font-weight: bold\">]</span>\n",
       "</pre>\n"
      ],
      "text/plain": [
       "\u001b[1m[\u001b[0m\u001b[32m''\u001b[0m, \u001b[32m''\u001b[0m\u001b[1m]\u001b[0m\n"
      ]
     },
     "metadata": {},
     "output_type": "display_data"
    },
    {
     "name": "stdout",
     "output_type": "stream",
     "text": [
      "\n",
      "original_index\n"
     ]
    },
    {
     "data": {
      "text/html": [
       "<pre style=\"white-space:pre;overflow-x:auto;line-height:normal;font-family:Menlo,'DejaVu Sans Mono',consolas,'Courier New',monospace\"><span style=\"font-weight: bold\">[</span><span style=\"color: #008080; text-decoration-color: #008080; font-weight: bold\">6027731</span>, <span style=\"color: #008080; text-decoration-color: #008080; font-weight: bold\">6027739</span><span style=\"font-weight: bold\">]</span>\n",
       "</pre>\n"
      ],
      "text/plain": [
       "\u001b[1m[\u001b[0m\u001b[1;36m6027731\u001b[0m, \u001b[1;36m6027739\u001b[0m\u001b[1m]\u001b[0m\n"
      ]
     },
     "metadata": {},
     "output_type": "display_data"
    },
    {
     "name": "stdout",
     "output_type": "stream",
     "text": [
      "\n",
      "split\n"
     ]
    },
    {
     "data": {
      "text/html": [
       "<pre style=\"white-space:pre;overflow-x:auto;line-height:normal;font-family:Menlo,'DejaVu Sans Mono',consolas,'Courier New',monospace\"><span style=\"font-weight: bold\">[</span><span style=\"color: #008000; text-decoration-color: #008000\">'train'</span>, <span style=\"color: #008000; text-decoration-color: #008000\">'train'</span><span style=\"font-weight: bold\">]</span>\n",
       "</pre>\n"
      ],
      "text/plain": [
       "\u001b[1m[\u001b[0m\u001b[32m'train'\u001b[0m, \u001b[32m'train'\u001b[0m\u001b[1m]\u001b[0m\n"
      ]
     },
     "metadata": {},
     "output_type": "display_data"
    },
    {
     "name": "stdout",
     "output_type": "stream",
     "text": [
      "\n",
      "head_answer\n"
     ]
    },
    {
     "data": {
      "text/html": [
       "<pre style=\"white-space:pre;overflow-x:auto;line-height:normal;font-family:Menlo,'DejaVu Sans Mono',consolas,'Courier New',monospace\"><span style=\"font-weight: bold\">[</span><span style=\"color: #008000; text-decoration-color: #008000\">'Yes'</span>, <span style=\"color: #008000; text-decoration-color: #008000\">'Yes'</span><span style=\"font-weight: bold\">]</span>\n",
       "</pre>\n"
      ],
      "text/plain": [
       "\u001b[1m[\u001b[0m\u001b[32m'Yes'\u001b[0m, \u001b[32m'Yes'\u001b[0m\u001b[1m]\u001b[0m\n"
      ]
     },
     "metadata": {},
     "output_type": "display_data"
    },
    {
     "name": "stdout",
     "output_type": "stream",
     "text": [
      "\n",
      "pmi_head_answer\n"
     ]
    },
    {
     "data": {
      "text/html": [
       "<pre style=\"white-space:pre;overflow-x:auto;line-height:normal;font-family:Menlo,'DejaVu Sans Mono',consolas,'Courier New',monospace\"><span style=\"font-weight: bold\">[</span><span style=\"color: #008000; text-decoration-color: #008000\">'Yes'</span>, <span style=\"color: #008000; text-decoration-color: #008000\">'Yes'</span><span style=\"font-weight: bold\">]</span>\n",
       "</pre>\n"
      ],
      "text/plain": [
       "\u001b[1m[\u001b[0m\u001b[32m'Yes'\u001b[0m, \u001b[32m'Yes'\u001b[0m\u001b[1m]\u001b[0m\n"
      ]
     },
     "metadata": {},
     "output_type": "display_data"
    },
    {
     "name": "stdout",
     "output_type": "stream",
     "text": [
      "\n",
      "relation_tail_answer\n"
     ]
    },
    {
     "data": {
      "text/html": [
       "<pre style=\"white-space:pre;overflow-x:auto;line-height:normal;font-family:Menlo,'DejaVu Sans Mono',consolas,'Courier New',monospace\"><span style=\"font-weight: bold\">[</span><span style=\"color: #008000; text-decoration-color: #008000\">'Yes'</span>, <span style=\"color: #008000; text-decoration-color: #008000\">'Yes'</span><span style=\"font-weight: bold\">]</span>\n",
       "</pre>\n"
      ],
      "text/plain": [
       "\u001b[1m[\u001b[0m\u001b[32m'Yes'\u001b[0m, \u001b[32m'Yes'\u001b[0m\u001b[1m]\u001b[0m\n"
      ]
     },
     "metadata": {},
     "output_type": "display_data"
    },
    {
     "name": "stdout",
     "output_type": "stream",
     "text": [
      "\n",
      "pmi_relation_tail_answer\n"
     ]
    },
    {
     "data": {
      "text/html": [
       "<pre style=\"white-space:pre;overflow-x:auto;line-height:normal;font-family:Menlo,'DejaVu Sans Mono',consolas,'Courier New',monospace\"><span style=\"font-weight: bold\">[</span><span style=\"color: #008000; text-decoration-color: #008000\">'No'</span>, <span style=\"color: #008000; text-decoration-color: #008000\">'Yes'</span><span style=\"font-weight: bold\">]</span>\n",
       "</pre>\n"
      ],
      "text/plain": [
       "\u001b[1m[\u001b[0m\u001b[32m'No'\u001b[0m, \u001b[32m'Yes'\u001b[0m\u001b[1m]\u001b[0m\n"
      ]
     },
     "metadata": {},
     "output_type": "display_data"
    },
    {
     "name": "stdout",
     "output_type": "stream",
     "text": [
      "\n"
     ]
    }
   ],
   "source": [
    "for i in d['train'].features.keys():\n",
    "    print(i)\n",
    "    rich.print(d['train'][i][:2])\n",
    "    print()"
   ]
  },
  {
   "cell_type": "code",
   "execution_count": 16,
   "metadata": {},
   "outputs": [],
   "source": [
    "def check_list_duplicates(d):\n",
    "    if 'train' in d:\n",
    "        relation_list = d['train']['relation']\n",
    "        count_dict = {}\n",
    "        for item in relation_list:\n",
    "            if item in count_dict:\n",
    "                count_dict[item] += 1\n",
    "            else:\n",
    "                count_dict[item] = 1\n",
    "        \n",
    "        duplicates = {item: count for item, count in count_dict.items() if count > 1}\n",
    "        rich.print(\"Duplicates and their counts:\", duplicates)\n",
    "    else:\n",
    "        print(\"'relation' is not a list.\")"
   ]
  },
  {
   "cell_type": "code",
   "execution_count": 17,
   "metadata": {},
   "outputs": [
    {
     "data": {
      "text/html": [
       "<pre style=\"white-space:pre;overflow-x:auto;line-height:normal;font-family:Menlo,'DejaVu Sans Mono',consolas,'Courier New',monospace\">Duplicates and their counts:\n",
       "<span style=\"font-weight: bold\">{</span><span style=\"color: #008000; text-decoration-color: #008000\">'xNeed'</span>: <span style=\"color: #008080; text-decoration-color: #008080; font-weight: bold\">76823</span>, <span style=\"color: #008000; text-decoration-color: #008000\">'xAttr'</span>: <span style=\"color: #008080; text-decoration-color: #008080; font-weight: bold\">217023</span>, <span style=\"color: #008000; text-decoration-color: #008000\">'xIntent'</span>: <span style=\"color: #008080; text-decoration-color: #008080; font-weight: bold\">272732</span>, <span style=\"color: #008000; text-decoration-color: #008000\">'xEffect'</span>: <span style=\"color: #008080; text-decoration-color: #008080; font-weight: bold\">195936</span>, <span style=\"color: #008000; text-decoration-color: #008000\">'xWant'</span>: <span style=\"color: #008080; text-decoration-color: #008080; font-weight: bold\">125112</span>, <span style=\"color: #008000; text-decoration-color: #008000\">'xReact'</span>: <span style=\"color: #008080; text-decoration-color: #008080; font-weight: bold\">303956</span><span style=\"font-weight: bold\">}</span>\n",
       "</pre>\n"
      ],
      "text/plain": [
       "Duplicates and their counts:\n",
       "\u001b[1m{\u001b[0m\u001b[32m'xNeed'\u001b[0m: \u001b[1;36m76823\u001b[0m, \u001b[32m'xAttr'\u001b[0m: \u001b[1;36m217023\u001b[0m, \u001b[32m'xIntent'\u001b[0m: \u001b[1;36m272732\u001b[0m, \u001b[32m'xEffect'\u001b[0m: \u001b[1;36m195936\u001b[0m, \u001b[32m'xWant'\u001b[0m: \u001b[1;36m125112\u001b[0m, \u001b[32m'xReact'\u001b[0m: \u001b[1;36m303956\u001b[0m\u001b[1m}\u001b[0m\n"
      ]
     },
     "metadata": {},
     "output_type": "display_data"
    }
   ],
   "source": [
    "check_list_duplicates(d)"
   ]
  }
 ],
 "metadata": {
  "kernelspec": {
   "display_name": "lp",
   "language": "python",
   "name": "python3"
  },
  "language_info": {
   "codemirror_mode": {
    "name": "ipython",
    "version": 3
   },
   "file_extension": ".py",
   "mimetype": "text/x-python",
   "name": "python",
   "nbconvert_exporter": "python",
   "pygments_lexer": "ipython3",
   "version": "3.10.14"
  }
 },
 "nbformat": 4,
 "nbformat_minor": 2
}
