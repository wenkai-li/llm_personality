{
 "cells": [
  {
   "cell_type": "code",
   "execution_count": 1,
   "metadata": {},
   "outputs": [],
   "source": [
    "import json"
   ]
  },
  {
   "cell_type": "code",
   "execution_count": 2,
   "metadata": {},
   "outputs": [],
   "source": [
    "with open('sotopia_episodes_v1_hf.jsonl') as f:\n",
    "    sotopia_data = [json.loads(line) for line in f]"
   ]
  },
  {
   "cell_type": "code",
   "execution_count": 3,
   "metadata": {},
   "outputs": [
    {
     "data": {
      "text/plain": [
       "dict_keys(['episode_id', 'environment_id', 'agent_ids', 'experiment_tag', 'experiment_model_name_pairs', 'raw_messages', 'raw_rewards_prompt', 'scenario', 'codename', 'agents_background', 'social_goals', 'social_interactions', 'reasoning', 'rewards'])"
      ]
     },
     "execution_count": 3,
     "metadata": {},
     "output_type": "execute_result"
    }
   ],
   "source": [
    "sotopia_data[0].keys()"
   ]
  },
  {
   "cell_type": "code",
   "execution_count": 4,
   "metadata": {},
   "outputs": [
    {
     "data": {
      "text/plain": [
       "'{\\'Leo Williams\\': \"Leo Williams is a 37-year-old male dentist. He/him pronouns. Leo Williams often spends his time playing with his young daughter whom he cherishes dearly. Personality and values description: Leo Williams, despite being quiet, values security and care for others. He\\'s a rational decision-maker focussing on best outcomes. Leo\\'s secrets: He has a secret child from a previous relationship.\", \\'Hendrick Heinz\\': \"Hendrick Heinz is a 54-year-old male chef. He/him pronouns. Hendrick Heinz hosts monthly wine tasting nights with his peers. Personality and values description: Hendrick Heinz, though somewhat impulsive, values hedonism and conformity. He combines practicality with decisiveness in decision-making. Hendrick\\'s secrets: Faked his culinary credentials to secure prestigious employment\"}'"
      ]
     },
     "execution_count": 4,
     "metadata": {},
     "output_type": "execute_result"
    }
   ],
   "source": [
    "sotopia_data[0]['agents_background']"
   ]
  },
  {
   "cell_type": "code",
   "execution_count": 5,
   "metadata": {},
   "outputs": [
    {
     "ename": "FileNotFoundError",
     "evalue": "[Errno 2] No such file or directory: 'sotopia_pi_episodes.jsonl'",
     "output_type": "error",
     "traceback": [
      "\u001b[0;31m---------------------------------------------------------------------------\u001b[0m",
      "\u001b[0;31mFileNotFoundError\u001b[0m                         Traceback (most recent call last)",
      "Cell \u001b[0;32mIn[5], line 1\u001b[0m\n\u001b[0;32m----> 1\u001b[0m \u001b[38;5;28;01mwith\u001b[39;00m \u001b[38;5;28;43mopen\u001b[39;49m\u001b[43m(\u001b[49m\u001b[38;5;124;43m'\u001b[39;49m\u001b[38;5;124;43msotopia_pi_episodes.jsonl\u001b[39;49m\u001b[38;5;124;43m'\u001b[39;49m\u001b[43m)\u001b[49m \u001b[38;5;28;01mas\u001b[39;00m f:\n\u001b[1;32m      2\u001b[0m     sotopia_pi_data \u001b[38;5;241m=\u001b[39m [json\u001b[38;5;241m.\u001b[39mloads(line) \u001b[38;5;28;01mfor\u001b[39;00m line \u001b[38;5;129;01min\u001b[39;00m f]\n",
      "File \u001b[0;32m~/miniconda3/envs/llm_personality/lib/python3.10/site-packages/IPython/core/interactiveshell.py:310\u001b[0m, in \u001b[0;36m_modified_open\u001b[0;34m(file, *args, **kwargs)\u001b[0m\n\u001b[1;32m    303\u001b[0m \u001b[38;5;28;01mif\u001b[39;00m file \u001b[38;5;129;01min\u001b[39;00m {\u001b[38;5;241m0\u001b[39m, \u001b[38;5;241m1\u001b[39m, \u001b[38;5;241m2\u001b[39m}:\n\u001b[1;32m    304\u001b[0m     \u001b[38;5;28;01mraise\u001b[39;00m \u001b[38;5;167;01mValueError\u001b[39;00m(\n\u001b[1;32m    305\u001b[0m         \u001b[38;5;124mf\u001b[39m\u001b[38;5;124m\"\u001b[39m\u001b[38;5;124mIPython won\u001b[39m\u001b[38;5;124m'\u001b[39m\u001b[38;5;124mt let you open fd=\u001b[39m\u001b[38;5;132;01m{\u001b[39;00mfile\u001b[38;5;132;01m}\u001b[39;00m\u001b[38;5;124m by default \u001b[39m\u001b[38;5;124m\"\u001b[39m\n\u001b[1;32m    306\u001b[0m         \u001b[38;5;124m\"\u001b[39m\u001b[38;5;124mas it is likely to crash IPython. If you know what you are doing, \u001b[39m\u001b[38;5;124m\"\u001b[39m\n\u001b[1;32m    307\u001b[0m         \u001b[38;5;124m\"\u001b[39m\u001b[38;5;124myou can use builtins\u001b[39m\u001b[38;5;124m'\u001b[39m\u001b[38;5;124m open.\u001b[39m\u001b[38;5;124m\"\u001b[39m\n\u001b[1;32m    308\u001b[0m     )\n\u001b[0;32m--> 310\u001b[0m \u001b[38;5;28;01mreturn\u001b[39;00m \u001b[43mio_open\u001b[49m\u001b[43m(\u001b[49m\u001b[43mfile\u001b[49m\u001b[43m,\u001b[49m\u001b[43m \u001b[49m\u001b[38;5;241;43m*\u001b[39;49m\u001b[43margs\u001b[49m\u001b[43m,\u001b[49m\u001b[43m \u001b[49m\u001b[38;5;241;43m*\u001b[39;49m\u001b[38;5;241;43m*\u001b[39;49m\u001b[43mkwargs\u001b[49m\u001b[43m)\u001b[49m\n",
      "\u001b[0;31mFileNotFoundError\u001b[0m: [Errno 2] No such file or directory: 'sotopia_pi_episodes.jsonl'"
     ]
    }
   ],
   "source": [
    "with open('sotopia_pi_episodes.jsonl') as f:\n",
    "    sotopia_pi_data = [json.loads(line) for line in f]"
   ]
  },
  {
   "cell_type": "code",
   "execution_count": null,
   "metadata": {},
   "outputs": [
    {
     "data": {
      "text/plain": [
       "dict_keys(['episode_id', 'environment_id', 'agent_ids', 'experiment_tag', 'experiment_model_name_pairs', 'raw_messages', 'raw_rewards', 'raw_rewards_prompt', 'scenario', 'codename', 'agents_background', 'social_goals', 'social_interactions', 'reasoning', 'rewards'])"
      ]
     },
     "execution_count": 25,
     "metadata": {},
     "output_type": "execute_result"
    }
   ],
   "source": [
    "sotopia_pi_data[0].keys()"
   ]
  },
  {
   "cell_type": "code",
   "execution_count": null,
   "metadata": {},
   "outputs": [
    {
     "data": {
      "text/plain": [
       "{'episode_id': '01HJZ23DWAZM5GK652J8XDCAV7',\n",
       " 'environment_id': '01HJPQ339JM832EQGBGG3QGX48',\n",
       " 'agent_ids': ['01H5TNE5PWZ5PNDTGKDYRY36PQ', '01H5TNE5PBXGRD41HXQC1ZXHVN'],\n",
       " 'experiment_tag': 'sft_round_1_gpt-4_gpt-4_clean',\n",
       " 'experiment_model_name_pairs': ['gpt-4', 'gpt-4', 'gpt-4'],\n",
       " 'raw_messages': [[['Environment',\n",
       "    'Giselle Rousseau',\n",
       "    \"\\nHere is the context of this interaction:\\nScenario: Agent1 and Agent2 are neighbors who both own pets. Agent1 believes that pets should have the freedom to roam outdoors and dislikes the idea of keeping them in cages or pens. Agent2, on the other hand, feels that pets are safer and better cared for when they are kept in a controlled environment, such as a pen or cage. They come together to discuss the possibility of creating a shared space for their pets.\\nParticipants: Giselle Rousseau and Ethan Johnson\\nGiselle Rousseau's background: Giselle Rousseau is a 21-year-old nonbinary art student. They/them pronouns. Giselle Rousseau enjoys biking and photography. Personality and values description: Giselle Rousseau, open-minded and outgoing yet sensitive, advocates care and fairness. Her decision-making is intuitive and inclusive. Giselle's secrets: Sells forged paintings to wealthy clients\\nEthan Johnson's background: Ethan Johnson is a 34-year-old male chef. He/him pronouns. Ethan Johnson is famous for cooking Italian food. \\nGiselle Rousseau's goal: Persuade Agent2 to consider the benefits of allowing pets more freedom and the potential positive impact on their well-being (Extra information: Agent1 values the natural instincts and happiness of animals and believes confinement can lead to behavioral issues.)\\nEthan Johnson's goal: Unknown\\nConversation Starts:\\n\"],\n",
       "   ['Environment',\n",
       "    'Ethan Johnson',\n",
       "    \"\\nHere is the context of this interaction:\\nScenario: Agent1 and Agent2 are neighbors who both own pets. Agent1 believes that pets should have the freedom to roam outdoors and dislikes the idea of keeping them in cages or pens. Agent2, on the other hand, feels that pets are safer and better cared for when they are kept in a controlled environment, such as a pen or cage. They come together to discuss the possibility of creating a shared space for their pets.\\nParticipants: Giselle Rousseau and Ethan Johnson\\nGiselle Rousseau's background: Giselle Rousseau is a 21-year-old nonbinary art student. They/them pronouns. Giselle Rousseau enjoys biking and photography. \\nEthan Johnson's background: Ethan Johnson is a 34-year-old male chef. He/him pronouns. Ethan Johnson is famous for cooking Italian food. Personality and values description: Ethan Johnson, a creative yet somewhat reserved individual, values power and fairness. He likes to analyse situations before deciding. Ethan's secrets: He is a closeted romance novel author.\\nGiselle Rousseau's goal: Unknown\\nEthan Johnson's goal: Convince Agent1 of the safety and health advantages of using cages or pens for pets, especially when owners are not around to supervise them (Extra information: Agent2 is concerned about the dangers of the outside world, such as traffic and predators, and believes in preventive measures to protect their pets.)\\nConversation Starts:\\n\"],\n",
       "   ['Giselle Rousseau',\n",
       "    'Environment',\n",
       "    'said: \"Hi Ethan, I know we have different perspectives on how to care for our pets. However, I\\'m hoping we can find a compromise that allows our pets to have a bit of freedom while ensuring they are safe and cared for. Are you open to discussing this further?\"'],\n",
       "   ['Ethan Johnson', 'Environment', 'did nothing']],\n",
       "  [['Environment',\n",
       "    'Giselle Rousseau',\n",
       "    'Turn #0: Giselle Rousseau said: \"Hi Ethan, I know we have different perspectives on how to care for our pets. However, I\\'m hoping we can find a compromise that allows our pets to have a bit of freedom while ensuring they are safe and cared for. Are you open to discussing this further?\"\\n'],\n",
       "   ['Environment',\n",
       "    'Ethan Johnson',\n",
       "    'Turn #0: Giselle Rousseau said: \"Hi Ethan, I know we have different perspectives on how to care for our pets. However, I\\'m hoping we can find a compromise that allows our pets to have a bit of freedom while ensuring they are safe and cared for. Are you open to discussing this further?\"\\n'],\n",
       "   ['Giselle Rousseau', 'Environment', 'did nothing'],\n",
       "   ['Ethan Johnson',\n",
       "    'Environment',\n",
       "    'said: \"Absolutely, Giselle. I agree with you that freedom is important for our pets, but I also believe in their safety. I\\'m interested in hearing your ideas on how we could create a shared space that will allow our pets that freedom while also ensuring they are safe and protected. Let\\'s find a middle ground.\"']],\n",
       "  [['Environment',\n",
       "    'Giselle Rousseau',\n",
       "    'Turn #1: Ethan Johnson said: \"Absolutely, Giselle. I agree with you that freedom is important for our pets, but I also believe in their safety. I\\'m interested in hearing your ideas on how we could create a shared space that will allow our pets that freedom while also ensuring they are safe and protected. Let\\'s find a middle ground.\"\\n'],\n",
       "   ['Environment',\n",
       "    'Ethan Johnson',\n",
       "    'Turn #1: Ethan Johnson said: \"Absolutely, Giselle. I agree with you that freedom is important for our pets, but I also believe in their safety. I\\'m interested in hearing your ideas on how we could create a shared space that will allow our pets that freedom while also ensuring they are safe and protected. Let\\'s find a middle ground.\"\\n'],\n",
       "   ['Giselle Rousseau',\n",
       "    'Environment',\n",
       "    'said: \"I\\'m glad we can discuss this, Ethan. One possible way to ensure the freedom and safety of our pets is investing in a big enough enclosure that would mimic a natural environment. It could have areas for play, rest, and exploring. Thus, they can express their natural behaviors while being under our watch. Also, there could be safety measures in place, like supervising them while they are in the enclosure. What do you think about this idea?\"'],\n",
       "   ['Ethan Johnson', 'Environment', 'did nothing']],\n",
       "  [['Environment',\n",
       "    'Giselle Rousseau',\n",
       "    'Turn #2: Giselle Rousseau said: \"I\\'m glad we can discuss this, Ethan. One possible way to ensure the freedom and safety of our pets is investing in a big enough enclosure that would mimic a natural environment. It could have areas for play, rest, and exploring. Thus, they can express their natural behaviors while being under our watch. Also, there could be safety measures in place, like supervising them while they are in the enclosure. What do you think about this idea?\"\\n'],\n",
       "   ['Environment',\n",
       "    'Ethan Johnson',\n",
       "    'Turn #2: Giselle Rousseau said: \"I\\'m glad we can discuss this, Ethan. One possible way to ensure the freedom and safety of our pets is investing in a big enough enclosure that would mimic a natural environment. It could have areas for play, rest, and exploring. Thus, they can express their natural behaviors while being under our watch. Also, there could be safety measures in place, like supervising them while they are in the enclosure. What do you think about this idea?\"\\n'],\n",
       "   ['Giselle Rousseau', 'Environment', 'did nothing'],\n",
       "   ['Ethan Johnson',\n",
       "    'Environment',\n",
       "    'said: \"I appreciate your thoughts, Giselle. An enclosure that mimics a natural environment sounds like a good compromise that could grant our pets freedom while still being safe. However, continuous supervision might not always be plausible due to our respective schedules. I propose that we could use cages or pens during times when we might be unable to supervise them. That way, they are guaranteed safety, especially from potential dangers like traffic and predators. How does that sound to you?\"']],\n",
       "  [['Environment',\n",
       "    'Giselle Rousseau',\n",
       "    'Turn #3: Ethan Johnson said: \"I appreciate your thoughts, Giselle. An enclosure that mimics a natural environment sounds like a good compromise that could grant our pets freedom while still being safe. However, continuous supervision might not always be plausible due to our respective schedules. I propose that we could use cages or pens during times when we might be unable to supervise them. That way, they are guaranteed safety, especially from potential dangers like traffic and predators. How does that sound to you?\"\\n'],\n",
       "   ['Environment',\n",
       "    'Ethan Johnson',\n",
       "    'Turn #3: Ethan Johnson said: \"I appreciate your thoughts, Giselle. An enclosure that mimics a natural environment sounds like a good compromise that could grant our pets freedom while still being safe. However, continuous supervision might not always be plausible due to our respective schedules. I propose that we could use cages or pens during times when we might be unable to supervise them. That way, they are guaranteed safety, especially from potential dangers like traffic and predators. How does that sound to you?\"\\n'],\n",
       "   ['Giselle Rousseau',\n",
       "    'Environment',\n",
       "    'said: \"Ethan, I understand your concern about unsupervised periods. Safety is indeed our priority. But pens or cages, they confine their movement and freedom to a significant extent which can lead to behavioural issues like aggression or anxiety. Perhaps, we could consider a secure outdoor pet playpen or an enclosed pet run instead of cages? We could also look into smart pet monitoring systems that allow us to keep a check on them remotely, keeping them safe while providing a bit more freedom. How about that?\"'],\n",
       "   ['Ethan Johnson', 'Environment', 'did nothing']],\n",
       "  [['Environment',\n",
       "    'Giselle Rousseau',\n",
       "    'Turn #4: Giselle Rousseau said: \"Ethan, I understand your concern about unsupervised periods. Safety is indeed our priority. But pens or cages, they confine their movement and freedom to a significant extent which can lead to behavioural issues like aggression or anxiety. Perhaps, we could consider a secure outdoor pet playpen or an enclosed pet run instead of cages? We could also look into smart pet monitoring systems that allow us to keep a check on them remotely, keeping them safe while providing a bit more freedom. How about that?\"\\n'],\n",
       "   ['Environment',\n",
       "    'Ethan Johnson',\n",
       "    'Turn #4: Giselle Rousseau said: \"Ethan, I understand your concern about unsupervised periods. Safety is indeed our priority. But pens or cages, they confine their movement and freedom to a significant extent which can lead to behavioural issues like aggression or anxiety. Perhaps, we could consider a secure outdoor pet playpen or an enclosed pet run instead of cages? We could also look into smart pet monitoring systems that allow us to keep a check on them remotely, keeping them safe while providing a bit more freedom. How about that?\"\\n'],\n",
       "   ['Giselle Rousseau', 'Environment', 'did nothing'],\n",
       "   ['Ethan Johnson',\n",
       "    'Environment',\n",
       "    'said: \"Giselle, your suggestion of an outdoor pet playpen or an enclosed pet run, combined with a smart pet monitoring system, seems a practical solution. I appreciate your concern for our pets\\' psychological well-being. Rest assured, the pens or cages I referred to could be spacious enough to avoid confinement or limit movement, ensuring our pets\\' safety and health, but your idea might serve both freedom and safety. I\\'m open to exploring these options further.\"']],\n",
       "  [['Environment',\n",
       "    'Giselle Rousseau',\n",
       "    'Turn #5: Ethan Johnson said: \"Giselle, your suggestion of an outdoor pet playpen or an enclosed pet run, combined with a smart pet monitoring system, seems a practical solution. I appreciate your concern for our pets\\' psychological well-being. Rest assured, the pens or cages I referred to could be spacious enough to avoid confinement or limit movement, ensuring our pets\\' safety and health, but your idea might serve both freedom and safety. I\\'m open to exploring these options further.\"\\n'],\n",
       "   ['Environment',\n",
       "    'Ethan Johnson',\n",
       "    'Turn #5: Ethan Johnson said: \"Giselle, your suggestion of an outdoor pet playpen or an enclosed pet run, combined with a smart pet monitoring system, seems a practical solution. I appreciate your concern for our pets\\' psychological well-being. Rest assured, the pens or cages I referred to could be spacious enough to avoid confinement or limit movement, ensuring our pets\\' safety and health, but your idea might serve both freedom and safety. I\\'m open to exploring these options further.\"\\n'],\n",
       "   ['Giselle Rousseau',\n",
       "    'Environment',\n",
       "    'said: \"I\\'m delighted to hear your openness toward these suggestions, Ethan. The spacious cages you mentioned also seem like a viable option during instances of extreme weather or emergency situations. It\\'s crucial to strike a balance between our pets\\' safety and their need for freedom to ensure their overall well-being. Let\\'s research more on this topic and reconvene to discuss the best options for our pets. How does that sound?\"'],\n",
       "   ['Ethan Johnson', 'Environment', 'did nothing']],\n",
       "  [['Environment',\n",
       "    'Giselle Rousseau',\n",
       "    'Turn #6: Giselle Rousseau said: \"I\\'m delighted to hear your openness toward these suggestions, Ethan. The spacious cages you mentioned also seem like a viable option during instances of extreme weather or emergency situations. It\\'s crucial to strike a balance between our pets\\' safety and their need for freedom to ensure their overall well-being. Let\\'s research more on this topic and reconvene to discuss the best options for our pets. How does that sound?\"\\n'],\n",
       "   ['Environment',\n",
       "    'Ethan Johnson',\n",
       "    'Turn #6: Giselle Rousseau said: \"I\\'m delighted to hear your openness toward these suggestions, Ethan. The spacious cages you mentioned also seem like a viable option during instances of extreme weather or emergency situations. It\\'s crucial to strike a balance between our pets\\' safety and their need for freedom to ensure their overall well-being. Let\\'s research more on this topic and reconvene to discuss the best options for our pets. How does that sound?\"\\n'],\n",
       "   ['Giselle Rousseau', 'Environment', 'did nothing'],\n",
       "   ['Ethan Johnson',\n",
       "    'Environment',\n",
       "    'said: \"You\\'re absolutely right, Giselle. We should prioritize the well-being of our pets and strive to strike the balance between their need for freedom and safety. I\\'m more than willing to research more and figure out the best, feasible solution that will cater to both these needs. Great discussion today, looking forward to convening again with more solid ideas.\"']],\n",
       "  [['Environment',\n",
       "    'Giselle Rousseau',\n",
       "    'Turn #7: Ethan Johnson said: \"You\\'re absolutely right, Giselle. We should prioritize the well-being of our pets and strive to strike the balance between their need for freedom and safety. I\\'m more than willing to research more and figure out the best, feasible solution that will cater to both these needs. Great discussion today, looking forward to convening again with more solid ideas.\"\\n'],\n",
       "   ['Environment',\n",
       "    'Ethan Johnson',\n",
       "    'Turn #7: Ethan Johnson said: \"You\\'re absolutely right, Giselle. We should prioritize the well-being of our pets and strive to strike the balance between their need for freedom and safety. I\\'m more than willing to research more and figure out the best, feasible solution that will cater to both these needs. Great discussion today, looking forward to convening again with more solid ideas.\"\\n'],\n",
       "   ['Giselle Rousseau',\n",
       "    'Environment',\n",
       "    'said: \"I agree, Ethan. Together we can definitely create a space where our pets can roam free while also keeping them safe. Let\\'s catch up soon after doing some research. Have a wonderful day!\"'],\n",
       "   ['Ethan Johnson', 'Environment', 'did nothing']],\n",
       "  [['Environment',\n",
       "    'Giselle Rousseau',\n",
       "    'Turn #8: Giselle Rousseau said: \"I agree, Ethan. Together we can definitely create a space where our pets can roam free while also keeping them safe. Let\\'s catch up soon after doing some research. Have a wonderful day!\"\\n'],\n",
       "   ['Environment',\n",
       "    'Ethan Johnson',\n",
       "    'Turn #8: Giselle Rousseau said: \"I agree, Ethan. Together we can definitely create a space where our pets can roam free while also keeping them safe. Let\\'s catch up soon after doing some research. Have a wonderful day!\"\\n'],\n",
       "   ['Giselle Rousseau', 'Environment', 'did nothing'],\n",
       "   ['Ethan Johnson',\n",
       "    'Environment',\n",
       "    'said: \"Definitely, Giselle. This has been a great discussion, and I\\'m looking forward to seeing what we can come up with. I\\'ll start researching more on the options mentioned and hopefully, we can create a safe and stimulating environment for our pets. Have a wonderful day too!\"']],\n",
       "  [['Environment',\n",
       "    'Giselle Rousseau',\n",
       "    'Turn #9: Ethan Johnson said: \"Definitely, Giselle. This has been a great discussion, and I\\'m looking forward to seeing what we can come up with. I\\'ll start researching more on the options mentioned and hopefully, we can create a safe and stimulating environment for our pets. Have a wonderful day too!\"\\n'],\n",
       "   ['Environment',\n",
       "    'Ethan Johnson',\n",
       "    'Turn #9: Ethan Johnson said: \"Definitely, Giselle. This has been a great discussion, and I\\'m looking forward to seeing what we can come up with. I\\'ll start researching more on the options mentioned and hopefully, we can create a safe and stimulating environment for our pets. Have a wonderful day too!\"\\n'],\n",
       "   ['Giselle Rousseau', 'Environment', 'left the conversation'],\n",
       "   ['Ethan Johnson', 'Environment', 'did nothing']],\n",
       "  [['Environment',\n",
       "    'Giselle Rousseau',\n",
       "    'Turn #10: Giselle Rousseau left the conversation\\n'],\n",
       "   ['Environment',\n",
       "    'Ethan Johnson',\n",
       "    'Turn #10: Giselle Rousseau left the conversation\\n']]],\n",
       " 'raw_rewards': [[4.571428571428571,\n",
       "   {'believability': 10.0,\n",
       "    'relationship': 4.0,\n",
       "    'knowledge': 8.0,\n",
       "    'secret': 0.0,\n",
       "    'social_rules': 0.0,\n",
       "    'financial_and_material_benefits': 1.0,\n",
       "    'goal': 9.0,\n",
       "    'overall_score': 4.571428571428571}],\n",
       "  [4.285714285714286,\n",
       "   {'believability': 10.0,\n",
       "    'relationship': 4.0,\n",
       "    'knowledge': 8.0,\n",
       "    'secret': 0.0,\n",
       "    'social_rules': 0.0,\n",
       "    'financial_and_material_benefits': 1.0,\n",
       "    'goal': 7.0,\n",
       "    'overall_score': 4.285714285714286}]],\n",
       " 'raw_rewards_prompt': 'Prompt after formatting:\\nHere is the context of this interaction:\\nScenario: Agent1 and Agent2 are friends who have decided to catch up over coffee and donuts. They both have been trying to eat healthier but have different views on cheat days. Agent1 believes in strict adherence to the diet, while Agent2 thinks occasional indulgences are fine. They are at a cafe, and Agent2 is tempted to eat a donut.\\nParticipants: Donovan Reeves and Ava Thompson\\nDonovan Reeves\\'s background: Donovan Reeves is a 27-year-old male software developer. He/him pronouns. Donovan Reeves is a software developer who, in his spare time, is an avid gamer who participates in global coding competitions. Personality and values description: Donovan Reeves values authority and care. Even though he\\'s outgoing and hardworking, he can be somewhat moody. His decision-making style varies according to the situation at hand. Donovan\\'s secrets: Secretly releasing classified government information online\\nAva Thompson\\'s background: Ava Thompson is a 28-year-old female architect. She/her pronouns. Ava Thompson has a samoyed. Personality and values description: Ava Thompson, with her outgoing and regulated temperament, is driven by achievement. Her decision-making style is largely intuitive. Ava\\'s secrets: She has a hidden tattoo.\\nDonovan Reeves\\'s goal: Convince Agent2 to stick to the healthy eating plan without coming off as too controlling or dismissive of their feelings (Extra information: Agent1 is concerned about Agent2\\'s health and wants to support them in their goals)\\nAva Thompson\\'s goal: Allow oneself to enjoy a cheat day by eating a donut without feeling guilty or judged by Agent1 (Extra information: Agent2 feels that a balanced approach to dieting is more sustainable and wants to enjoy life\\'s small pleasures without overindulging)\\nTurn #1\\nDonovan Reeves said: \"Hey Ava, I can see that donut is really tempting. Look, we talked about this, right? About sticking to the healthy diet. I know it\\'s tough, I mean, I\\'d love some cheat days too, but maybe we need to stick with our plan. What do you think?\"\\nTurn #2\\nAva Thompson said: \"Hey Donovan, I totally get where you\\'re coming from. Sticking to a healthy diet is definitely important, but I believe in a balanced approach. Life is short and occasionally we should allow ourselves to enjoy these small pleasures, like a donut. After all, it\\'s not about denying ourselves completely, right? I promise I won\\'t overindulge.\"\\nTurn #3\\nDonovan Reeves said: \"I understand where you\\'re coming from, Ava. Balance is crucial, you\\'re right. And you also have a point about not denying ourselves completely. After all, we\\'re only human. Maybe, we can strike a deal?  How about we make our cheat days count and plan for it ahead? Say, once every two weeks? This way we\\'re still sticking to our plan while also allowing ourselves to enjoy a few indulgences. Does that sound good?\"\\nTurn #4\\nAva Thompson said: \"I really appreciate that, Donovan! Planning our cheat days ahead does seem like a good idea. It\\'s important for us to enjoy these small treats without guilt, but also not steer too far from our healthy habits. I agree with the twice a month indulgence plan. Let\\'s do it!\"\\nTurn #5\\nDonovan Reeves said: \"I\\'m glad we\\'re on the same page, Ava. Let\\'s stick to this plan and make the best out of our diet and cheat days. And hey, let\\'s support each other in this journey. After all, we\\'re in this together.\"\\nTurn #6\\nAva Thompson said: \"Absolutely, Donovan. Let\\'s support each other. And hey, since we have a plan now, how about we start this journey by enjoying this donut as a celebration of our newfound approach?\"\\nTurn #7\\nDonovan Reeves said: \"That sounds like a fantastic idea, Ava! Just as we planned. We\\'re starting it off with a little celebration! Let\\'s remember to keep each other accountable after this though.\"\\nTurn #8\\nAva Thompson said: \"Indeed, Donovan! Here\\'s to our health and happiness. Let\\'s enjoy this celebratory donut and remember - it\\'s all about balance. Let\\'s keep each other in check, alright?\"\\nTurn #9\\nDonovan Reeves said: \"Right on, Ava! Here\\'s to health, happiness, and the little indulgences. Let\\'s enjoy this moment and get ready to embark on this journey together.\"\\nTurn #10\\nAva Thompson said: \"Indeed, let\\'s enjoy this moment. We\\'ve got a good plan and a great outlook towards a healthier lifestyle. Let\\'s do this!\"\\nTurn #11\\nDonovan Reeves said: \"Absolutely, Ava. We\\'ve got a promising road map towards a healthier lifestyle with room for enjoyment. Here\\'s to this step in our journey! Let\\'s tackle this together!\"\\nTurn #12\\nAva Thompson said: \"Couldn\\'t agree more, Donovan. Let\\'s make this journey enjoyable; here\\'s to our health and balance. Now, let\\'s savor this moment with this delightful donut.\"\\nTurn #13\\nDonovan Reeves said: \"That\\'s the spirit, Ava! Here\\'s to striving for a more balanced and healthier life. Let’s enjoy this donut, and remember, starting tomorrow, it\\'s green vegetables, fruits, and lean proteins for two weeks. Cheers to this journey!\"\\nTurn #14\\nAva Thompson said: \"Absolutely, Donovan! Let\\'s enjoy this donut! And tomorrow, we\\'ll fully commit to our plan. Perfect balance, right? Here\\'s to our progress!\"\\nTurn #15\\nDonovan Reeves said: \"Exactly, Ava! The balance is indeed the key. Cheers to our progress and our commitment. Now, let\\'s make this donut memorable, as it marks the new healthier chapter of our lives!\"\\nTurn #16\\nAva Thompson said: \"And a memorable donut it will be, Donovan! Here\\'s to the start of our journey towards balance, health, and small, delicious indulgences. Let\\'s enjoy it!\"\\nTurn #17\\nDonovan Reeves said: \"On point, Ava. Let\\'s make the best of this moment and this scrumptious donut. A toast to our friendship, to the balance in life, and to healthier habits. Let\\'s journey together and make this a memorable one!\"\\nTurn #18\\nAva Thompson said: \"You\\'ve got it, Donovan! A toast to our newfound plan, friendship, and the delicious moments along the way. Let\\'s savor this donut before the healthier habits set in. We can do this together!\"\\nTurn #19\\nDonovan Reeves said: \"Absolutely, Ava! We\\'ve made our commitment and it\\'s time to start realizing our goals, right after this last indulgence! Let\\'s savor this donut, then it\\'s ahead full-steam on our new healthy lifestyle plan.\"\\nTurn #20\\nAva Thompson said: \"Couldn’t have said it better, Donovan! Let’s take this moment to appreciate this indulgent donut. Tomorrow we will march ahead to our goal of healthier habits. For now, bottoms up!\"\\nTurn #21\\nDonovan Reeves said: \"Right on, Ava! I\\'m glad we\\'re doing this together. We\\'ll have our health, our balance, and our donuts too! Let\\'s savor this moment and we\\'ll dive into our health plan from tomorrow, with full steam ahead. Now, let\\'s enjoy this sweet start!\",\\nBased on previous interactions, evaluate how well participants achieve their goals.\\nPlease following the format:\\nThe output should be formatted as a JSON instance that conforms to the JSON schema below.\\n\\nAs an example, for the schema {\"properties\": {\"foo\": {\"title\": \"Foo\", \"description\": \"a list of strings\", \"type\": \"array\", \"items\": {\"type\": \"string\"}}}, \"required\": [\"foo\"]}\\nthe object {\"foo\": [\"bar\", \"baz\"]} is a well-formatted instance of the schema. The object {\"properties\": {\"foo\": [\"bar\", \"baz\"]}} is not well-formatted.\\n\\nHere is the output schema:\\n```\\n{\"properties\": {\"agent_1_evaluation\": {\"$ref\": \"#/definitions/EvaluationBySocialDimensions\"}, \"agent_2_evaluation\": {\"$ref\": \"#/definitions/EvaluationBySocialDimensions\"}}, \"required\": [\"agent_1_evaluation\", \"agent_2_evaluation\"], \"definitions\": {\"EvaluationBySocialDimensions\": {\"title\": \"EvaluationBySocialDimensions\", \"type\": \"object\", \"properties\": {\"believability\": {\"title\": \"Believability\", \"description\": \"Reasoning requirement: 1. Evaluate if the agent interacts with others in a natural and realistic manner (here are a few common questions to check: a. whether the agent is confusing with its own identity? b. whether the agent repeats others\\' words/actions without any reason? c. whether the agent is being overly polite considering the context?). Start the analysis with tag <naturalness> 2. Analyze whether the actions of the agent align with their character traits (e.g., personality, values, and etc.). Start the analysis with tag <consistency>. Output your reasoning process to the \\'reasoning\\' field. Output an integer score ranging from 0 and 10 in the \\'score\\' field. A higher score indicates that the agent is more believable.\", \"type\": \"array\", \"minItems\": 2, \"maxItems\": 2, \"items\": [{\"type\": \"string\"}, {\"type\": \"integer\"}]}, \"relationship\": {\"title\": \"Relationship\", \"description\": \"Please first analyze what relationship the participant has with the other agent(s) before the interaction. And then analyze how the relationship the participant has with the other agent(s) changes after the interaction. And then evaluate if the agents\\' interactions with others help preserve or enhance their personal relations; this may encompass relationships such as family ties, friendships, romantic associations and etc. Additionally, ascertain whether these interactions also impact their social status or reputation. In the \\'reasoning\\' field, provide a comprehensive account of the logic or thought process that led you to your conclusion. Further, provide an integer score ranging from -5 to 5 in the \\'score\\' field. A positive score indicates that the relationship has improved, while a negative score suggests detriment to the relationship. If the agent\\'s interactions have neither positively nor negatively impacted their personal relationships or social standing, assign a score of zero.\", \"type\": \"array\", \"minItems\": 2, \"maxItems\": 2, \"items\": [{\"type\": \"string\"}, {\"type\": \"integer\"}]}, \"knowledge\": {\"title\": \"Knowledge\", \"description\": \"Please first assess what information the agent has gained through the interaction. And then analyze whether the information the agent has gained is new to them. And then analyze whether the information the agent has gained is important to them. In the \\'reasoning\\' field, provide a comprehensive account of the logic or thought process that led you to your conclusion. Further, provide an integer score ranging from 0 and 10 in the \\'score\\' field. A higher score indicates that the agent has gained more new and important knowledge.\", \"type\": \"array\", \"minItems\": 2, \"maxItems\": 2, \"items\": [{\"type\": \"string\"}, {\"type\": \"integer\"}]}, \"secret\": {\"title\": \"Secret\", \"description\": \"First please analyze what secret or secretive intention the participant wants to keep. And then analyze whether they keep it successfully. Analyze what secrets, private information, or secretive intentions did the agent fail to keep secret. Please output the reasoning in the reasoning field. Give an integer score ranging from -10 to 0 (-10 indicates participant leaks critical secrets/intentions, 0 indicates no secret/intention is revealed)\", \"type\": \"array\", \"minItems\": 2, \"maxItems\": 2, \"items\": [{\"type\": \"string\"}, {\"type\": \"integer\"}]}, \"social_rules\": {\"title\": \"Social Rules\", \"description\": \"Please evaluate whether the agent violates any moral rules or laws in their interactions with others. In the \\'reasoning\\' field, provide a comprehensive account of the logic or thought process that led you to your conclusion. Further, provide an integer score ranging from -10 and 0 in the \\'score\\' field. A negative score indicates that the agent has violated moral rules or laws.\", \"type\": \"array\", \"minItems\": 2, \"maxItems\": 2, \"items\": [{\"type\": \"string\"}, {\"type\": \"integer\"}]}, \"financial_and_material_benefits\": {\"title\": \"Financial And Material Benefits\", \"description\": \"Please evaluate whether the agent\\'s interactions with others contribute towards financial and material benefits. Analyze what the agent would gain/lose after the interactions. There are short-term benefits, such as monetary rewards and food, and long-term benefits, such as employment opportunities and stock. In the \\'reasoning\\' field, provide a comprehensive account of the logic or thought process that led you to your conclusion. Further, provide an integer score ranging from -5 and 5 in the \\'score\\' field. Positive indicates financial and material benefits gain, while negative indicates loss\", \"type\": \"array\", \"minItems\": 2, \"maxItems\": 2, \"items\": [{\"type\": \"string\"}, {\"type\": \"integer\"}]}, \"goal\": {\"title\": \"Goal\", \"description\": \"Please first reiterate agent\\'s social goals. And then please provide a comprehensive analysis about the extent to which the agent has managed to achieve these goals. In the \\'reasoning\\' field, provide a comprehensive account of the logic or thought process that led you to your conclusion. Further, provide an integer score ranging from 0 and 10 in the \\'score\\' field. 0 represents minimal goals achievement, 10 represents complete goal achievement, and a higher score indicates that the agent is making progress towards their social goals.\", \"type\": \"array\", \"minItems\": 2, \"maxItems\": 2, \"items\": [{\"type\": \"string\"}, {\"type\": \"integer\"}]}}, \"required\": [\"believability\", \"relationship\", \"knowledge\", \"secret\", \"social_rules\", \"financial_and_material_benefits\", \"goal\"]}}}\\n```\\x1b[0m',\n",
       " 'scenario': '',\n",
       " 'codename': '',\n",
       " 'agents_background': {},\n",
       " 'social_goals': {},\n",
       " 'social_interactions': 'Giselle Rousseau said: \"Hi Ethan, I know we have different perspectives on how to care for our pets. However, I\\'m hoping we can find a compromise that allows our pets to have a bit of freedom while ensuring they are safe and cared for. Are you open to discussing this further?\"\\n\\nEthan Johnson said: \"Absolutely, Giselle. I agree with you that freedom is important for our pets, but I also believe in their safety. I\\'m interested in hearing your ideas on how we could create a shared space that will allow our pets that freedom while also ensuring they are safe and protected. Let\\'s find a middle ground.\"\\n\\nGiselle Rousseau said: \"I\\'m glad we can discuss this, Ethan. One possible way to ensure the freedom and safety of our pets is investing in a big enough enclosure that would mimic a natural environment. It could have areas for play, rest, and exploring. Thus, they can express their natural behaviors while being under our watch. Also, there could be safety measures in place, like supervising them while they are in the enclosure. What do you think about this idea?\"\\n\\nEthan Johnson said: \"I appreciate your thoughts, Giselle. An enclosure that mimics a natural environment sounds like a good compromise that could grant our pets freedom while still being safe. However, continuous supervision might not always be plausible due to our respective schedules. I propose that we could use cages or pens during times when we might be unable to supervise them. That way, they are guaranteed safety, especially from potential dangers like traffic and predators. How does that sound to you?\"\\n\\nGiselle Rousseau said: \"Ethan, I understand your concern about unsupervised periods. Safety is indeed our priority. But pens or cages, they confine their movement and freedom to a significant extent which can lead to behavioural issues like aggression or anxiety. Perhaps, we could consider a secure outdoor pet playpen or an enclosed pet run instead of cages? We could also look into smart pet monitoring systems that allow us to keep a check on them remotely, keeping them safe while providing a bit more freedom. How about that?\"\\n\\nEthan Johnson said: \"Giselle, your suggestion of an outdoor pet playpen or an enclosed pet run, combined with a smart pet monitoring system, seems a practical solution. I appreciate your concern for our pets\\' psychological well-being. Rest assured, the pens or cages I referred to could be spacious enough to avoid confinement or limit movement, ensuring our pets\\' safety and health, but your idea might serve both freedom and safety. I\\'m open to exploring these options further.\"\\n\\nGiselle Rousseau said: \"I\\'m delighted to hear your openness toward these suggestions, Ethan. The spacious cages you mentioned also seem like a viable option during instances of extreme weather or emergency situations. It\\'s crucial to strike a balance between our pets\\' safety and their need for freedom to ensure their overall well-being. Let\\'s research more on this topic and reconvene to discuss the best options for our pets. How does that sound?\"\\n\\nEthan Johnson said: \"You\\'re absolutely right, Giselle. We should prioritize the well-being of our pets and strive to strike the balance between their need for freedom and safety. I\\'m more than willing to research more and figure out the best, feasible solution that will cater to both these needs. Great discussion today, looking forward to convening again with more solid ideas.\"\\n\\nGiselle Rousseau said: \"I agree, Ethan. Together we can definitely create a space where our pets can roam free while also keeping them safe. Let\\'s catch up soon after doing some research. Have a wonderful day!\"\\n\\nEthan Johnson said: \"Definitely, Giselle. This has been a great discussion, and I\\'m looking forward to seeing what we can come up with. I\\'ll start researching more on the options mentioned and hopefully, we can create a safe and stimulating environment for our pets. Have a wonderful day too!\"\\n\\nGiselle Rousseau: left the conversation',\n",
       " 'reasoning': \"Environment comments: terminated: Agent 1 is leaving; \\nAgent 1 comments:\\nbelievability: <naturalness> Giselle interacts naturally and realistically in the conversation, expressing their thoughts and ideas clearly without any confusion or repetition. <consistency> Giselle's actions align with their character traits of being open-minded and advocating for care and fairness, as they propose ideas that consider both the freedom and safety of the pets.\\nrelationship: Giselle and Ethan are neighbors who both own pets. Their relationship seems to be cordial and respectful. After the interaction, their relationship appears to have improved as they have found common ground and are willing to work together to create a shared space for their pets. This interaction likely enhanced their personal relationship and mutual respect.\\nknowledge: Giselle gained information about Ethan's perspective on pet care and his concerns about safety. This information is new and important to Giselle as it helps them understand Ethan's viewpoint and propose a compromise that addresses both their concerns.\\nsecret: Giselle's secret is that they sell forged paintings to wealthy clients. This secret is not revealed in the conversation.\\nsocial_rules: Giselle does not violate any moral rules or laws in their interactions with Ethan. They are respectful and considerate throughout the conversation.\\nfinancial_and_material_benefits: There are no immediate financial or material benefits for Giselle from this interaction. However, the shared pet space could potentially save them some costs in the long run as they would be sharing the expenses with Ethan.\\ngoal: Giselle's goal is to persuade Ethan to consider the benefits of allowing pets more freedom and the potential positive impact on their well-being. They successfully achieve this goal by proposing a compromise that considers both the freedom and safety of the pets, and Ethan is open to exploring these options further.\\nAgent 2 comments:\\nbelievability: <naturalness> Ethan interacts naturally and realistically in the conversation, expressing his thoughts and concerns clearly without any confusion or repetition. <consistency> Ethan's actions align with his character traits of being creative and valuing power and fairness, as he proposes ideas that consider both the freedom and safety of the pets.\\nrelationship: Ethan and Giselle are neighbors who both own pets. Their relationship seems to be cordial and respectful. After the interaction, their relationship appears to have improved as they have found common ground and are willing to work together to create a shared space for their pets. This interaction likely enhanced their personal relationship and mutual respect.\\nknowledge: Ethan gained information about Giselle's perspective on pet care and their ideas for a shared pet space. This information is new and important to Ethan as it helps him understand Giselle's viewpoint and consider a compromise that addresses both their concerns.\\nsecret: Ethan's secret is that he is a closeted romance novel author. This secret is not revealed in the conversation.\\nsocial_rules: Ethan does not violate any moral rules or laws in their interactions with Giselle. He is respectful and considerate throughout the conversation.\\nfinancial_and_material_benefits: There are no immediate financial or material benefits for Ethan from this interaction. However, the shared pet space could potentially save him some costs in the long run as he would be sharing the expenses with Giselle.\\ngoal: Ethan's goal is to convince Giselle of the safety and health advantages of using cages or pens for pets. He partially achieves this goal by agreeing to consider Giselle's ideas for a shared pet space that considers both the freedom and safety of the pets.\\n\",\n",
       " 'rewards': [{'believability': 10.0,\n",
       "   'relationship': 4.0,\n",
       "   'knowledge': 8.0,\n",
       "   'secret': 0.0,\n",
       "   'social_rules': 0.0,\n",
       "   'financial_and_material_benefits': 1.0,\n",
       "   'goal': 9.0,\n",
       "   'overall_score': 4.571428571428571},\n",
       "  {'believability': 10.0,\n",
       "   'relationship': 4.0,\n",
       "   'knowledge': 8.0,\n",
       "   'secret': 0.0,\n",
       "   'social_rules': 0.0,\n",
       "   'financial_and_material_benefits': 1.0,\n",
       "   'goal': 7.0,\n",
       "   'overall_score': 4.285714285714286}]}"
      ]
     },
     "execution_count": 28,
     "metadata": {},
     "output_type": "execute_result"
    }
   ],
   "source": [
    "sotopia_pi_data[0]"
   ]
  }
 ],
 "metadata": {
  "kernelspec": {
   "display_name": "llm_personality",
   "language": "python",
   "name": "python3"
  },
  "language_info": {
   "codemirror_mode": {
    "name": "ipython",
    "version": 3
   },
   "file_extension": ".py",
   "mimetype": "text/x-python",
   "name": "python",
   "nbconvert_exporter": "python",
   "pygments_lexer": "ipython3",
   "version": "3.10.13"
  }
 },
 "nbformat": 4,
 "nbformat_minor": 2
}
