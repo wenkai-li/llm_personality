{
 "cells": [
  {
   "cell_type": "code",
   "execution_count": 1,
   "metadata": {},
   "outputs": [],
   "source": [
    "%load_ext autoreload\n",
    "%autoreload 2"
   ]
  },
  {
   "cell_type": "code",
   "execution_count": 2,
   "metadata": {},
   "outputs": [],
   "source": [
    "import json\n",
    "import pandas as pd\n",
    "from tqdm import tqdm\n",
    "from llm import call\n",
    "from utils import *\n",
    "from config import get_model_config\n",
    "# from prompts import *"
   ]
  },
  {
   "cell_type": "code",
   "execution_count": 3,
   "metadata": {},
   "outputs": [],
   "source": [
    "### llama3 8b\n",
    "# model = 'llama3_8b'\n",
    "# def llm_config_func(llm):\n",
    "#     llm.temperature = 0\n",
    "#     llm.max_tokens = 4096\n",
    "#     return llm\n",
    "# config = get_model_config(model)\n",
    "\n",
    "persona_model = 'llama3_8b_persona'\n",
    "def llm_config_func(llm):\n",
    "    llm.temperature = 0\n",
    "    llm.max_tokens = 4096\n",
    "    return llm\n",
    "persona_config = get_model_config(persona_model)\n",
    "### llama2 7b\n",
    "# model = 'llama2_7b'\n",
    "# def llm_config_func(llm):\n",
    "#     llm.temperature = 0\n",
    "#     llm.max_tokens = 2048\n",
    "#     return llm\n",
    "# config = get_model_config(model)\n",
    "\n",
    "### gpt3.5\n",
    "# model = 'gpt-3.5-turbo'\n",
    "# def llm_config_func(llm):\n",
    "#     llm.temperature = 0.8\n",
    "#     llm.max_tokens = 4096\n",
    "#     return llm\n",
    "# config = get_model_config(model)"
   ]
  },
  {
   "cell_type": "code",
   "execution_count": null,
   "metadata": {},
   "outputs": [],
   "source": [
    "import rich\n",
    "prompt = [\n",
    "    \"Help me complete the sentence with certain Big Five Personality: Openness - median, Conscientiousness - high, Extraversion - median, Agreeableness - high, Neuroticism - low. \" + \"I hope to get some flowers,\"\n",
    "]\n",
    "res = call(\n",
    "    prompt,\n",
    "    llm_config_func,\n",
    "    has_system_prompt=True,\n",
    "    model_version=model,\n",
    "    verbose=True,\n",
    "    **config\n",
    ")\n",
    "\n",
    "rich.print(res)"
   ]
  },
  {
   "cell_type": "code",
   "execution_count": 6,
   "metadata": {},
   "outputs": [
    {
     "name": "stdout",
     "output_type": "stream",
     "text": [
      "Help me complete the sentence with certain Big Five Personality: Openness - median, Conscientiousness - high, Extraversion - median, Agreeableness - high, Neuroticism - low. I hope to get some flowers,\n",
      "my grandmacaps shop story....ugh!!!\n"
     ]
    }
   ],
   "source": [
    "res = call(\n",
    "    prompt,\n",
    "    llm_config_func,\n",
    "    has_system_prompt=True,\n",
    "    model_version=persona_model,\n",
    "    verbose=True,\n",
    "    **persona_config\n",
    ")\n",
    "\n"
   ]
  },
  {
   "cell_type": "code",
   "execution_count": 2,
   "metadata": {},
   "outputs": [],
   "source": [
    "with open(\"testset/alpaca_big_five_dataset_test.json\") as f:\n",
    "    data = json.load(f)"
   ]
  }
 ],
 "metadata": {
  "kernelspec": {
   "display_name": "mmc",
   "language": "python",
   "name": "python3"
  },
  "language_info": {
   "codemirror_mode": {
    "name": "ipython",
    "version": 3
   },
   "file_extension": ".py",
   "mimetype": "text/x-python",
   "name": "python",
   "nbconvert_exporter": "python",
   "pygments_lexer": "ipython3",
   "version": "3.11.9"
  }
 },
 "nbformat": 4,
 "nbformat_minor": 2
}
