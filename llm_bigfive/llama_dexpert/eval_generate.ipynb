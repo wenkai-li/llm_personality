{
 "cells": [
  {
   "cell_type": "markdown",
   "metadata": {},
   "source": [
    "### Run Whole Evaluation"
   ]
  },
  {
   "cell_type": "code",
   "execution_count": 2,
   "metadata": {},
   "outputs": [
    {
     "name": "stderr",
     "output_type": "stream",
     "text": [
      "/home/wenkail/miniconda3/envs/lp/lib/python3.10/site-packages/sentence_transformers/cross_encoder/CrossEncoder.py:11: TqdmWarning: IProgress not found. Please update jupyter and ipywidgets. See https://ipywidgets.readthedocs.io/en/stable/user_install.html\n",
      "  from tqdm.autonotebook import tqdm, trange\n",
      "/home/wenkail/miniconda3/envs/lp/lib/python3.10/site-packages/huggingface_hub/file_download.py:1132: FutureWarning: `resume_download` is deprecated and will be removed in version 1.0.0. Downloads always resume when possible. If you want to force a new download, use `force_download=True`.\n",
      "  warnings.warn(\n"
     ]
    }
   ],
   "source": [
    "from sentence_transformers import SentenceTransformer, util\n",
    "import json\n",
    "from tqdm import tqdm\n",
    "import numpy as np\n",
    "import evaluate\n",
    "from nltk.tokenize import word_tokenize\n",
    "import random\n",
    "import nltk\n",
    "from scipy.spatial.distance import jensenshannon\n",
    "from sentence_transformers import SentenceTransformer\n",
    "from scipy.spatial.distance import jensenshannon\n",
    "\n",
    "model = SentenceTransformer('sentence-transformers/all-MiniLM-L6-v2')\n"
   ]
  },
  {
   "cell_type": "code",
   "execution_count": 4,
   "metadata": {},
   "outputs": [],
   "source": [
    "# Read Ground True File\n",
    "# with open(\"testset/alpaca_big_five_dataset_test.json\", 'r') as f:\n",
    "#     ground_true = json.load(f)\n",
    "# \"testset/aplaca_big_five_dataset_train_first_1000_5_tokens.json\"\n",
    "\n",
    "ground_true_file_path = \"testset/alpaca_big_five_dataset_1000_test_5_tokens_subtestset.json\"\n",
    "with open(ground_true_file_path, 'r') as f:\n",
    "    ground_true = json.load(f)\n",
    "    # Subsample here\n",
    "    # num_samples = 1000\n",
    "    # seed = 42\n",
    "    # random.seed(seed)\n",
    "    # ground_true = random.sample(ground_true, num_samples)\n",
    "\n",
    "# Read Prediction File\n",
    "prediction_file_path = \"testset/llama_3b_persona_inferene_1000_token_5_epoch_subtestset.json\"\n",
    "with open(prediction_file_path, 'r') as f:\n",
    "    prediction = json.load(f)\n",
    "\n",
    "# # Read Prediction File\n",
    "# with open(\"testset/llama_3b_persona_inferene_result_epoch_40.json\") as f:\n",
    "#     prediction_40 = json.load(f)\n",
    "\n",
    "def compute_token_overlap_ratio(text1, text2):\n",
    "    tokens1 = set(word_tokenize(text1.lower()))\n",
    "    tokens2 = set(word_tokenize(text2.lower()))\n",
    "    overlap = len(tokens1.intersection(tokens2))\n",
    "    ratio = overlap / max(len(tokens1), len(tokens2))\n",
    "    return ratio\n",
    "\n",
    "def compute_jsd(sentence1, sentence2):\n",
    "    model = SentenceTransformer('sentence-transformers/all-MiniLM-L6-v2')\n",
    "    sentences = [sentence1, sentence2]\n",
    "    embeddings = model.encode(sentences)\n",
    "    def normalize_vector(vector):\n",
    "        vector = np.abs(vector)\n",
    "        return vector / np.sum(vector)\n",
    "    norm_embeddings = np.array([normalize_vector(embedding) for embedding in embeddings])\n",
    "    jsd = jensenshannon(norm_embeddings[0], norm_embeddings[1], base=2)\n",
    "    similarity = 1 - jsd\n",
    "    return similarity"
   ]
  },
  {
   "cell_type": "code",
   "execution_count": 5,
   "metadata": {},
   "outputs": [
    {
     "name": "stdout",
     "output_type": "stream",
     "text": [
      "there is a midget in a wheelchair parked in the hallway outside my office.i suppose that he's there waiting for the meeting in the conference room to let out, or something.\n",
      "there is a midget in my room\n"
     ]
    }
   ],
   "source": [
    "print(ground_true[0]['input'] + ' ' + ground_true[0]['output'])\n",
    "print(prediction[0]['input'] + \" \" + prediction[0]['prediction'])"
   ]
  },
  {
   "cell_type": "code",
   "execution_count": 6,
   "metadata": {},
   "outputs": [
    {
     "name": "stderr",
     "output_type": "stream",
     "text": [
      "Proccessing Cosine Similarity: 100%|██████████| 998/998 [00:08<00:00, 116.84it/s]\n"
     ]
    },
    {
     "name": "stdout",
     "output_type": "stream",
     "text": [
      "Average Cosine Sentence Similarity: 0.520480751991272\n"
     ]
    },
    {
     "name": "stderr",
     "output_type": "stream",
     "text": [
      "Proccessing Token Overlapping: 100%|██████████| 998/998 [00:00<00:00, 2783.47it/s]\n"
     ]
    },
    {
     "name": "stdout",
     "output_type": "stream",
     "text": [
      "Average Token Overlapping Ratio: 0.36071023577639433\n"
     ]
    },
    {
     "name": "stderr",
     "output_type": "stream",
     "text": [
      "Proccessing JSD Similarity: 100%|██████████| 998/998 [08:52<00:00,  1.88it/s]"
     ]
    },
    {
     "name": "stdout",
     "output_type": "stream",
     "text": [
      "Average JSD Sentence Similarity: 0.6142571672783119\n"
     ]
    },
    {
     "name": "stderr",
     "output_type": "stream",
     "text": [
      "\n"
     ]
    }
   ],
   "source": [
    "#Compute embedding to gain similarity\n",
    "similarity_list = []\n",
    "for i in tqdm(range(len(prediction)), desc = \"Proccessing Cosine Similarity: \"):\n",
    "    embedding_1= model.encode(ground_true[i]['input'] + \" \" + ground_true[i]['output'], convert_to_tensor=True)\n",
    "    embedding_2 = model.encode(prediction[i]['input'] + \" \" + prediction[i]['prediction'], convert_to_tensor=True)\n",
    "    similarity_list.append(util.pytorch_cos_sim(embedding_1, embedding_2).cpu().detach().numpy())\n",
    "print(f\"Average Cosine Sentence Similarity: {np.mean(similarity_list)}\")\n",
    "\n",
    "overlap_ratios = []\n",
    "for i in tqdm(range(len(prediction)), desc = \"Proccessing Token Overlapping: \"):\n",
    "    true_text = ground_true[i]['input'] + \" \" + ground_true[i]['output']\n",
    "    pred_text = prediction[i]['input'] + \" \" + prediction[i]['prediction']\n",
    "    \n",
    "    overlap_ratio = compute_token_overlap_ratio(true_text, pred_text)\n",
    "    overlap_ratios.append(overlap_ratio)\n",
    "average_overlap_ratio = np.mean(overlap_ratios)\n",
    "print(f\"Average Token Overlapping Ratio: {average_overlap_ratio}\")\n",
    "\n",
    "jsd_list = []\n",
    "for i in tqdm(range(len(prediction)), desc = \"Proccessing JSD Similarity: \"):\n",
    "    true_text = ground_true[i]['input'] + \" \" + ground_true[i]['output']\n",
    "    pred_text = prediction[i]['input'] + \" \" + prediction[i]['prediction']\n",
    "    \n",
    "    jsd_score = compute_jsd(true_text, pred_text)\n",
    "    jsd_list.append(jsd_score)\n",
    "\n",
    "average_jsd_score = np.mean(jsd_list)\n",
    "print(f\"Average JSD Sentence Similarity: {average_jsd_score}\")"
   ]
  },
  {
   "cell_type": "code",
   "execution_count": 7,
   "metadata": {},
   "outputs": [
    {
     "name": "stdout",
     "output_type": "stream",
     "text": [
      "Average Cosine Sentence Similarity: 0.5205\n",
      "Average Token Overlapping Ratio: 0.3607\n",
      "Average JSD Sentence Similarity: 0.6143\n"
     ]
    }
   ],
   "source": [
    "cosine_similarity = np.mean(similarity_list)\n",
    "print(\"Average Cosine Sentence Similarity: {:.4f}\".format(cosine_similarity))\n",
    "print(\"Average Token Overlapping Ratio: {:.4f}\".format(average_overlap_ratio))\n",
    "print(\"Average JSD Sentence Similarity: {:.4f}\".format(average_jsd_score))"
   ]
  },
  {
   "cell_type": "markdown",
   "metadata": {},
   "source": [
    "### Test Evaluation"
   ]
  },
  {
   "cell_type": "code",
   "execution_count": 19,
   "metadata": {},
   "outputs": [
    {
     "name": "stdout",
     "output_type": "stream",
     "text": [
      "Jensen-Shannon Divergence: 0.36065374499994163\n",
      "Similarity (1 - JSD): 0.6393462550000584\n"
     ]
    }
   ],
   "source": [
    "from sentence_transformers import SentenceTransformer\n",
    "from scipy.spatial.distance import jensenshannon\n",
    "import numpy as np\n",
    "\n",
    "model = SentenceTransformer('paraphrase-MiniLM-L6-v2')\n",
    "\n",
    "sentences = [\"This is the first sentence.\", \"This is the third sentence.\"]\n",
    "\n",
    "embeddings = model.encode(sentences)\n",
    "\n",
    "def normalize_vector(vector):\n",
    "    vector = np.abs(vector)\n",
    "    return vector / np.sum(vector)\n",
    "\n",
    "norm_embeddings = np.array([normalize_vector(embedding) for embedding in embeddings])\n",
    "\n",
    "jsd = jensenshannon(norm_embeddings[0], norm_embeddings[1], base=2)\n",
    "\n",
    "\n",
    "similarity = 1 - jsd\n",
    "return similarity\n"
   ]
  }
 ],
 "metadata": {
  "kernelspec": {
   "display_name": "llm_persona",
   "language": "python",
   "name": "python3"
  },
  "language_info": {
   "codemirror_mode": {
    "name": "ipython",
    "version": 3
   },
   "file_extension": ".py",
   "mimetype": "text/x-python",
   "name": "python",
   "nbconvert_exporter": "python",
   "pygments_lexer": "ipython3",
   "version": "3.10.14"
  }
 },
 "nbformat": 4,
 "nbformat_minor": 2
}
