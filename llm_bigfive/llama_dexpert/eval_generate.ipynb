{
 "cells": [
  {
   "cell_type": "code",
   "execution_count": 22,
   "metadata": {},
   "outputs": [],
   "source": [
    "from sentence_transformers import SentenceTransformer, util\n",
    "import json\n",
    "from tqdm import tqdm\n",
    "import numpy as np\n",
    "import evaluate\n",
    "from nltk.tokenize import word_tokenize\n",
    "import numpy as np\n",
    "\n",
    "model = SentenceTransformer('sentence-transformers/all-MiniLM-L6-v2')"
   ]
  },
  {
   "cell_type": "code",
   "execution_count": 26,
   "metadata": {},
   "outputs": [],
   "source": [
    "# Read Ground True File\n",
    "with open(\"testset/alpaca_big_five_dataset_test.json\", 'r') as f:\n",
    "    ground_true = json.load(f)\n",
    "\n",
    "# Read Prediction File\n",
    "with open(\"testset/llama_3b_persona_inferene_result.json\", 'r') as f:\n",
    "    prediction_10 = json.load(f)\n",
    "\n",
    "# Read Prediction File\n",
    "with open(\"testset/llama_3b_persona_inferene_result_epoch_40.json\") as f:\n",
    "    prediction_40 = json.load(f)\n",
    "\n",
    "def compute_token_overlap_ratio(text1, text2):\n",
    "    tokens1 = set(word_tokenize(text1.lower()))\n",
    "    tokens2 = set(word_tokenize(text2.lower()))\n",
    "    overlap = len(tokens1.intersection(tokens2))\n",
    "    ratio = overlap / max(len(tokens1), len(tokens2))\n",
    "    return ratio"
   ]
  },
  {
   "cell_type": "code",
   "execution_count": 25,
   "metadata": {},
   "outputs": [
    {
     "name": "stdout",
     "output_type": "stream",
     "text": [
      "oh my gosh it is soooo stinking funny i love it!\n",
      "i'd like to the caritho is a little ride with the whole story....i'm going to see it.\n"
     ]
    }
   ],
   "source": [
    "print(ground_true[0]['input'] + ' ' + ground_true[0]['output'])\n",
    "print(prediction[i]['input'] + \" \" + prediction[i]['prediction'])"
   ]
  },
  {
   "cell_type": "code",
   "execution_count": 29,
   "metadata": {},
   "outputs": [
    {
     "name": "stdout",
     "output_type": "stream",
     "text": [
      "Average Sentence Similarity: 0.30100786685943604\n",
      "Average Token Overlapping Ratio: 0.19313862938598966\n"
     ]
    }
   ],
   "source": [
    "#Compute embedding to gain similarity\n",
    "prediction = prediction_40\n",
    "similarity_list = []\n",
    "for i in range(len(prediction)):\n",
    "    embedding_1= model.encode(ground_true[i]['input'] + \" \" + ground_true[i]['output'], convert_to_tensor=True)\n",
    "    embedding_2 = model.encode(prediction[i]['input'] + \" \" + prediction[i]['prediction'], convert_to_tensor=True)\n",
    "    similarity_list.append(util.pytorch_cos_sim(embedding_1, embedding_2).cpu().detach().numpy())\n",
    "print(f\"Average Sentence Similarity: {np.mean(similarity_list)}\")\n",
    "\n",
    "overlap_ratios = []\n",
    "for i in range(len(prediction)):\n",
    "    true_text = ground_true[i]['input'] + \" \" + ground_true[i]['output']\n",
    "    pred_text = prediction[i]['input'] + \" \" + prediction[i]['prediction']\n",
    "    \n",
    "    overlap_ratio = compute_token_overlap_ratio(true_text, pred_text)\n",
    "    overlap_ratios.append(overlap_ratio)\n",
    "\n",
    "average_overlap_ratio = np.mean(overlap_ratios)\n",
    "print(f\"Average Token Overlapping Ratio: {average_overlap_ratio}\")"
   ]
  }
 ],
 "metadata": {
  "kernelspec": {
   "display_name": "llm_persona",
   "language": "python",
   "name": "python3"
  },
  "language_info": {
   "codemirror_mode": {
    "name": "ipython",
    "version": 3
   },
   "file_extension": ".py",
   "mimetype": "text/x-python",
   "name": "python",
   "nbconvert_exporter": "python",
   "pygments_lexer": "ipython3",
   "version": "3.11.9"
  }
 },
 "nbformat": 4,
 "nbformat_minor": 2
}
