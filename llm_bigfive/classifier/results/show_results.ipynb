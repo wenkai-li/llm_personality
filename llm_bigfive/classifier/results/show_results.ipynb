{
 "cells": [
  {
   "cell_type": "code",
   "execution_count": 4,
   "metadata": {},
   "outputs": [],
   "source": [
    "import json\n",
    "import rich"
   ]
  },
  {
   "cell_type": "code",
   "execution_count": 2,
   "metadata": {},
   "outputs": [],
   "source": [
    "datas = []\n",
    "with open(\"generated_predictions_10000.jsonl\", \"r\") as f:\n",
    "    for line in f:\n",
    "        data = json.loads(line)\n",
    "        datas.append(data)"
   ]
  },
  {
   "cell_type": "code",
   "execution_count": 15,
   "metadata": {},
   "outputs": [
    {
     "data": {
      "text/plain": [
       "{'prompt': 'user\\n\\nHelp me complete the sentence with certain Big Five Personality: Openness - low, Conscientiousness - high, Extraversion - high, Agreeableness - high, Neuroticism - low\\nafternoon beer and football. loveassistant\\n\\n',\n",
       " 'label': 'bank hol weekends! just wish the san miguel was cold!',\n",
       " 'predict': 'it'}"
      ]
     },
     "execution_count": 15,
     "metadata": {},
     "output_type": "execute_result"
    }
   ],
   "source": [
    "datas[0]"
   ]
  },
  {
   "cell_type": "code",
   "execution_count": 23,
   "metadata": {},
   "outputs": [
    {
     "name": "stdout",
     "output_type": "stream",
     "text": [
      "The 0th Example:\n",
      "Personality Trait Instruction: Help me complete the sentence with certain Big Five Personality: Openness - low, Conscientiousness - high, Extraversion - high, Agreeableness - high, Neuroticism - low\n",
      "First Five Input Words: afternoon beer and football. loveassistant\n",
      "Ground True: bank hol weekends! just wish the san miguel was cold!\n",
      "Prediction: it\n",
      "\n",
      "The 1th Example:\n",
      "Personality Trait Instruction: Help me complete the sentence with certain Big Five Personality: Openness - high, Conscientiousness - low, Extraversion - low, Agreeableness - median, Neuroticism - high\n",
      "First Five Input Words: i'm not much of aassistant\n",
      "Ground True: curser.i have a pretty extensive vocabulary and find i can put together complete sentences that get my point across without the use of foul language.\n",
      "Prediction: bookworm, but i did enjoy reading a bit of \"the history of the decline and fall of the roman empire\" by edward gibbon.\n",
      "\n",
      "The 2th Example:\n",
      "Personality Trait Instruction: Help me complete the sentence with certain Big Five Personality: Openness - high, Conscientiousness - high, Extraversion - high, Agreeableness - high, Neuroticism - median\n",
      "First Five Input Words: spent the entire day withassistant\n",
      "Ground True: my momma. and it was quite lovely.\n",
      "Prediction: the love of my life\n",
      "\n"
     ]
    }
   ],
   "source": [
    "for i in range(len(datas[:3])):\n",
    "    print(f\"The {i}th Example:\")\n",
    "    pt = datas[i]['prompt'].split('\\n')[2]\n",
    "    f = datas[i]['prompt'].split('\\n')[-3]\n",
    "    print(f\"Personality Trait Instruction: {pt}\")\n",
    "    print(f\"First Five Input Words: {f}\")\n",
    "    print(f\"Ground True: {datas[i]['label']}\")\n",
    "    print(f\"Prediction: {datas[i]['predict']}\")\n",
    "    print()"
   ]
  },
  {
   "cell_type": "code",
   "execution_count": null,
   "metadata": {},
   "outputs": [],
   "source": []
  }
 ],
 "metadata": {
  "kernelspec": {
   "display_name": "lp",
   "language": "python",
   "name": "python3"
  },
  "language_info": {
   "codemirror_mode": {
    "name": "ipython",
    "version": 3
   },
   "file_extension": ".py",
   "mimetype": "text/x-python",
   "name": "python",
   "nbconvert_exporter": "python",
   "pygments_lexer": "ipython3",
   "version": "3.10.14"
  }
 },
 "nbformat": 4,
 "nbformat_minor": 2
}
