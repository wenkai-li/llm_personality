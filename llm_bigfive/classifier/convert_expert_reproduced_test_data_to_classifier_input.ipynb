{
 "cells": [
  {
   "cell_type": "code",
   "execution_count": 8,
   "metadata": {},
   "outputs": [
    {
     "data": {
      "text/plain": [
       "{'a': '/home/jiaruil5/personality/llm_personality/llm_bigfive/generator/outputs/test_a/generated_predictions.jsonl',\n",
       " 'e': '/home/jiaruil5/personality/llm_personality/llm_bigfive/generator/outputs/test_e/generated_predictions.jsonl'}"
      ]
     },
     "execution_count": 8,
     "metadata": {},
     "output_type": "execute_result"
    }
   ],
   "source": [
    "# the output directory for generator inference results on the test set\n",
    "# traits = ['o', 'c', 'e', 'a', 'n']\n",
    "traits = ['a', 'e']\n",
    "in_dirs = {}\n",
    "for trait in traits:\n",
    "    in_dirs[trait] = f'/home/jiaruil5/personality/llm_personality/llm_bigfive/generator/outputs/test_{trait}/generated_predictions.jsonl'\n",
    "in_dirs"
   ]
  },
  {
   "cell_type": "code",
   "execution_count": 2,
   "metadata": {},
   "outputs": [],
   "source": [
    "import pandas as pd\n",
    "data_ref = pd.read_csv('/data/user_data/wenkail/llm_personality/data/big5_data_classifier_test.csv').to_dict(orient='records')"
   ]
  },
  {
   "cell_type": "code",
   "execution_count": 5,
   "metadata": {},
   "outputs": [],
   "source": [
    "import json\n",
    "import re\n",
    "def convert_data(in_file):\n",
    "    \"\"\"in_file: innput file path, a jsonl file\n",
    "    \"\"\"\n",
    "    data = [json.loads(i) for i in open(in_file, 'r').readlines()]\n",
    "    pattern = r\"Help me complete the sentence with certain Big Five Personality: (?:Openness|Conscientiousness|Extraversion|Agreeableness|Neuroticism) - (?:low|high)\\n\"\n",
    "    \n",
    "    data_lst = []\n",
    "    for item, ref in zip(data, data_ref):\n",
    "        # get label and input, output as a csv file\n",
    "        # label: ope_z_label,con_z_label,ext_z_label,agr_z_label,neu_z_label\n",
    "        # input: message\n",
    "        message = item['prompt'].split(\"assistant\\n\\n\")\n",
    "        if len(message) == 1:\n",
    "            continue\n",
    "        message = re.split(pattern, message[0])[-1] + \" \" + item['predict']\n",
    "        \n",
    "        info = {\n",
    "            \"ope_z_label\": ref['ope_z_label'],\n",
    "            \"con_z_label\": ref['con_z_label'],\n",
    "            \"ext_z_label\": ref['ext_z_label'],\n",
    "            \"agr_z_label\": ref['agr_z_label'],\n",
    "            \"neu_z_label\": ref['neu_z_label'],\n",
    "            \"message\": message\n",
    "        }\n",
    "        data_lst.append(info)\n",
    "    return data_lst"
   ]
  },
  {
   "cell_type": "code",
   "execution_count": 9,
   "metadata": {},
   "outputs": [],
   "source": [
    "for trait in traits:\n",
    "    res = convert_data(in_dirs[trait])\n",
    "    df = pd.DataFrame().from_records(res)\n",
    "    df.to_csv(f\"/data/user_data/wenkail/llm_personality/generator/data/outputs/generator_predictions_{trait}.csv\")"
   ]
  },
  {
   "cell_type": "code",
   "execution_count": null,
   "metadata": {},
   "outputs": [],
   "source": [
    "# from utils import preprocess_function_with_tokenizer\n",
    "# for split in ['train', 'val', 'test']:\n",
    "#     df = pd.read_csv(f'/data/user_data/wenkail/llm_personality/data/big5_data_classifier_{split}.csv')\n",
    "#     dataset = Dataset.from_pandas(df.dropna())\n",
    "#     tokenizer = RobertaTokenizer.from_pretrained(\"roberta-large\")\n",
    "#     dataset = dataset.map(lambda examples: preprocess_function_with_tokenizer(examples, tokenizer), batched=True)\n",
    "#     dataset.save_to_disk(f'/data/user_data/wenkail/llm_personality/data_mse/{split}_psychgen')"
   ]
  }
 ],
 "metadata": {
  "kernelspec": {
   "display_name": "new",
   "language": "python",
   "name": "new"
  },
  "language_info": {
   "codemirror_mode": {
    "name": "ipython",
    "version": 3
   },
   "file_extension": ".py",
   "mimetype": "text/x-python",
   "name": "python",
   "nbconvert_exporter": "python",
   "pygments_lexer": "ipython3",
   "version": "3.11.5"
  }
 },
 "nbformat": 4,
 "nbformat_minor": 2
}
