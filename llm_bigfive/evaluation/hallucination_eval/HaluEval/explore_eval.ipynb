{
 "cells": [
  {
   "cell_type": "code",
   "execution_count": 1,
   "metadata": {},
   "outputs": [],
   "source": [
    "import json\n",
    "import pandas as pd\n",
    "from sklearn.metrics import precision_recall_fscore_support, accuracy_score"
   ]
  },
  {
   "cell_type": "code",
   "execution_count": 2,
   "metadata": {},
   "outputs": [],
   "source": [
    "def evaluate_metric(file_path):\n",
    "    data = []\n",
    "    ground_truth = []\n",
    "    predict = []\n",
    "    with open(file_path, \"r\") as f:\n",
    "        for line in f:\n",
    "            data.append(json.loads(line))\n",
    "    for i in data:\n",
    "        ground_truth.append(i['ground_truth'])\n",
    "        predict.append(i['judgement'])\n",
    "\n",
    "    accuracy = accuracy_score(ground_truth, predict)\n",
    "    file_name = file_path.split('/')[-1]\n",
    "    print(\"For file:\", file_name.split('.')[0])\n",
    "    print(f'Accuracy: {accuracy}')\n",
    "    precision, recall, f1, _ = precision_recall_fscore_support(ground_truth, predict, average='macro', zero_division=0)\n",
    "    print(f\"F1: {f1}\")\n",
    "    print(f\"Recall: {recall}\")\n",
    "    print(f\"Precision: {precision}\")"
   ]
  },
  {
   "cell_type": "code",
   "execution_count": 3,
   "metadata": {},
   "outputs": [
    {
     "name": "stdout",
     "output_type": "stream",
     "text": [
      "For file: qa_llama_13b_dpo_istj_dpo_results\n",
      "Accuracy: 0.5487\n",
      "F1: 0.35931170197568457\n",
      "Recall: 0.36622159287881945\n",
      "Precision: 0.37208875170361866\n"
     ]
    }
   ],
   "source": [
    "file_path = \"evaluation/qa/qa_llama_13b_dpo_istj_dpo_results.json\"\n",
    "\n",
    "evaluate_metric(file_path)"
   ]
  },
  {
   "cell_type": "code",
   "execution_count": 4,
   "metadata": {},
   "outputs": [
    {
     "name": "stdout",
     "output_type": "stream",
     "text": [
      "For file: qa_llama_13b_without_lora_None_results\n",
      "Accuracy: 0.4953\n",
      "F1: 0.25218931442993453\n",
      "Recall: 0.3290449980533022\n",
      "Precision: 0.3190251018569867\n"
     ]
    }
   ],
   "source": [
    "file_path = \"evaluation/qa/qa_llama_13b_without_lora_None_results.json\"\n",
    "\n",
    "evaluate_metric(file_path)"
   ]
  },
  {
   "cell_type": "code",
   "execution_count": 5,
   "metadata": {},
   "outputs": [
    {
     "name": "stdout",
     "output_type": "stream",
     "text": [
      "For file: qa_llama_13b_enfp_15000_dpo_results\n",
      "Accuracy: 0.5043\n",
      "F1: 0.22856156630563407\n",
      "Recall: 0.3348834914691969\n",
      "Precision: 0.3989229996710128\n"
     ]
    }
   ],
   "source": [
    "file_path = \"evaluation/qa/qa_llama_13b_enfp_15000_dpo_results.json\"\n",
    "\n",
    "evaluate_metric(file_path)"
   ]
  },
  {
   "cell_type": "code",
   "execution_count": 6,
   "metadata": {},
   "outputs": [],
   "source": [
    "def to_dataframe(file_paths):\n",
    "    columns = ['file_name', 'accuracy', 'f1', 'recall', 'precision']\n",
    "    full_data = []\n",
    "    for file_path in file_paths:\n",
    "        each_data = []\n",
    "        data = []\n",
    "        ground_truth = []\n",
    "        predict = []\n",
    "        with open(file_path, \"r\") as f:\n",
    "            for line in f:\n",
    "                data.append(json.loads(line))\n",
    "        for i in data:\n",
    "            ground_truth.append(i['ground_truth'])\n",
    "            predict.append(i['judgement'])\n",
    "\n",
    "        accuracy = accuracy_score(ground_truth, predict)\n",
    "        file_name = file_path.split('/')[-1]\n",
    "        each_data.append(file_name.split('.')[0][:-8])\n",
    "        each_data.append(accuracy)\n",
    "        precision, recall, f1, _ = precision_recall_fscore_support(ground_truth, predict, average='macro', zero_division=0)\n",
    "        each_data.append(f1)\n",
    "        each_data.append(recall)\n",
    "        each_data.append(precision)\n",
    "        full_data.append(each_data)\n",
    "        # print(\"For file:\", file_name.split('.')[0])\n",
    "        # print(f'Accuracy: {accuracy}')\n",
    "        # print(f\"F1: {f1}\")\n",
    "        # print(f\"Recall: {recall}\")\n",
    "        # print(f\"Precision: {precision}\")\n",
    "    df = pd.DataFrame(full_data, columns=columns)\n",
    "    return df"
   ]
  },
  {
   "cell_type": "code",
   "execution_count": 12,
   "metadata": {},
   "outputs": [
    {
     "data": {
      "text/html": [
       "<div>\n",
       "<style scoped>\n",
       "    .dataframe tbody tr th:only-of-type {\n",
       "        vertical-align: middle;\n",
       "    }\n",
       "\n",
       "    .dataframe tbody tr th {\n",
       "        vertical-align: top;\n",
       "    }\n",
       "\n",
       "    .dataframe thead th {\n",
       "        text-align: right;\n",
       "    }\n",
       "</style>\n",
       "<table border=\"1\" class=\"dataframe\">\n",
       "  <thead>\n",
       "    <tr style=\"text-align: right;\">\n",
       "      <th></th>\n",
       "      <th>file_name</th>\n",
       "      <th>accuracy</th>\n",
       "      <th>f1</th>\n",
       "      <th>recall</th>\n",
       "      <th>precision</th>\n",
       "    </tr>\n",
       "  </thead>\n",
       "  <tbody>\n",
       "    <tr>\n",
       "      <th>0</th>\n",
       "      <td>qa_llama_13b_without_lora_None</td>\n",
       "      <td>0.495300</td>\n",
       "      <td>0.252189</td>\n",
       "      <td>0.329045</td>\n",
       "      <td>0.319025</td>\n",
       "    </tr>\n",
       "    <tr>\n",
       "      <th>1</th>\n",
       "      <td>qa_llama_13b_dpo_istj_dpo</td>\n",
       "      <td>0.548700</td>\n",
       "      <td>0.359312</td>\n",
       "      <td>0.366222</td>\n",
       "      <td>0.372089</td>\n",
       "    </tr>\n",
       "    <tr>\n",
       "      <th>2</th>\n",
       "      <td>qa_llama_13b_enfp_15000_dpo</td>\n",
       "      <td>0.504300</td>\n",
       "      <td>0.228562</td>\n",
       "      <td>0.334883</td>\n",
       "      <td>0.398923</td>\n",
       "    </tr>\n",
       "    <tr>\n",
       "      <th>3</th>\n",
       "      <td>qa_llama_13b_feeling_fullfinetune_None</td>\n",
       "      <td>0.501900</td>\n",
       "      <td>0.222799</td>\n",
       "      <td>0.333267</td>\n",
       "      <td>0.167333</td>\n",
       "    </tr>\n",
       "    <tr>\n",
       "      <th>4</th>\n",
       "      <td>qa_llama_13b_thinking_fullfinetune_None</td>\n",
       "      <td>0.006102</td>\n",
       "      <td>0.008003</td>\n",
       "      <td>0.004042</td>\n",
       "      <td>0.443697</td>\n",
       "    </tr>\n",
       "  </tbody>\n",
       "</table>\n",
       "</div>"
      ],
      "text/plain": [
       "                                 file_name  accuracy        f1    recall  \\\n",
       "0           qa_llama_13b_without_lora_None  0.495300  0.252189  0.329045   \n",
       "1                qa_llama_13b_dpo_istj_dpo  0.548700  0.359312  0.366222   \n",
       "2              qa_llama_13b_enfp_15000_dpo  0.504300  0.228562  0.334883   \n",
       "3   qa_llama_13b_feeling_fullfinetune_None  0.501900  0.222799  0.333267   \n",
       "4  qa_llama_13b_thinking_fullfinetune_None  0.006102  0.008003  0.004042   \n",
       "\n",
       "   precision  \n",
       "0   0.319025  \n",
       "1   0.372089  \n",
       "2   0.398923  \n",
       "3   0.167333  \n",
       "4   0.443697  "
      ]
     },
     "execution_count": 12,
     "metadata": {},
     "output_type": "execute_result"
    }
   ],
   "source": [
    "file_paths = [\"evaluation/qa/qa_llama_13b_without_lora_None_results.json\", \"evaluation/qa/qa_llama_13b_dpo_istj_dpo_results.json\", \"evaluation/qa/qa_llama_13b_enfp_15000_dpo_results.json\", \"evaluation/qa/qa_llama_13b_feeling_fullfinetune_None_results.json\", \"evaluation/qa/qa_llama_13b_thinking_fullfinetune_None_results.json\"]\n",
    "df = to_dataframe(file_paths)\n",
    "df"
   ]
  },
  {
   "cell_type": "code",
   "execution_count": null,
   "metadata": {},
   "outputs": [],
   "source": []
  }
 ],
 "metadata": {
  "kernelspec": {
   "display_name": "llm_personality",
   "language": "python",
   "name": "python3"
  },
  "language_info": {
   "codemirror_mode": {
    "name": "ipython",
    "version": 3
   },
   "file_extension": ".py",
   "mimetype": "text/x-python",
   "name": "python",
   "nbconvert_exporter": "python",
   "pygments_lexer": "ipython3",
   "version": "3.10.13"
  }
 },
 "nbformat": 4,
 "nbformat_minor": 2
}
