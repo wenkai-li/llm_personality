{
 "cells": [
  {
   "cell_type": "code",
   "execution_count": 2,
   "metadata": {},
   "outputs": [
    {
     "name": "stderr",
     "output_type": "stream",
     "text": [
      "/data/user_data/jiaruil5/miniconda3/envs/new/lib/python3.11/site-packages/datasets/table.py:1392: FutureWarning: promote has been superseded by promote_options='default'.\n",
      "  table = cls._concat_blocks(blocks, axis=0)\n"
     ]
    }
   ],
   "source": [
    "from datasets import load_dataset, load_from_disk\n",
    "dataset = load_from_disk(\"/home/jiaruil5/personality/llm_personality/llm_bigfive/generator/tokenized_data/\")"
   ]
  },
  {
   "cell_type": "code",
   "execution_count": 4,
   "metadata": {},
   "outputs": [
    {
     "data": {
      "text/plain": [
       "{'_info': DatasetInfo(description='', citation='', homepage='', license='', features={'input_ids': Sequence(feature=Value(dtype='int32', id=None), length=-1, id=None), 'attention_mask': Sequence(feature=Value(dtype='int8', id=None), length=-1, id=None), 'labels': Sequence(feature=Value(dtype='int64', id=None), length=-1, id=None)}, post_processed=None, supervised_keys=None, task_templates=None, builder_name='json', dataset_name='json', config_name='default', version=0.0.0, splits={'train': SplitInfo(name='train', num_bytes=224493957, num_examples=684872, shard_lengths=None, dataset_name='json')}, download_checksums={'/data/user_data/wenkail/llm_personality/generator/data/alpaca_big_five_dataset_train_5_tokens.json': {'num_bytes': 272591273, 'checksum': None}}, download_size=272591273, post_processing_size=None, dataset_size=224493957, size_in_bytes=497085230),\n",
       " '_split': None,\n",
       " '_indexes': {},\n",
       " '_data': ConcatenationTable\n",
       " input_ids: list<item: int32>\n",
       "   child 0, item: int32\n",
       " attention_mask: list<item: int8>\n",
       "   child 0, item: int8\n",
       " labels: list<item: int64>\n",
       "   child 0, item: int64\n",
       " ----\n",
       " input_ids: [[[128000,128006,882,128007,271,...,323,1624,91941,0,128009],[128000,128006,882,128007,271,...,271,1527,27136,13,128009],...,[128000,128006,882,128007,271,...,13001,304,1124,30,128009],[128000,128006,882,128007,271,...,279,4641,0,63450,128009]],[[128000,128006,882,128007,271,...,538,220,1774,3001,128009],[128000,128006,882,128007,271,...,757,1314,1457,13,128009],...,[128000,128006,882,128007,271,...,3137,311,856,3070,128009],[128000,128006,882,128007,271,...,374,264,8941,13,128009]],...,[[128000,128006,882,128007,271,...,30063,18506,13985,13,128009],[128000,128006,882,128007,271,...,77267,71552,892,0,128009],...,[128000,128006,882,128007,271,...,387,6646,4400,13,128009],[128000,128006,882,128007,271,...,271,73370,8050,1648,128009]],[[128000,128006,882,128007,271,...,813,10456,6305,13,128009],[128000,128006,882,128007,271,...,369,779,1317,27074,128009],...,[128000,128006,882,128007,271,...,4885,1314,1457,13,128009],[128000,128006,882,128007,271,...,779,2689,2653,497,128009]]]\n",
       " attention_mask: [[[1,1,1,1,1,...,1,1,1,1,1],[1,1,1,1,1,...,1,1,1,1,1],...,[1,1,1,1,1,...,1,1,1,1,1],[1,1,1,1,1,...,1,1,1,1,1]],[[1,1,1,1,1,...,1,1,1,1,1],[1,1,1,1,1,...,1,1,1,1,1],...,[1,1,1,1,1,...,1,1,1,1,1],[1,1,1,1,1,...,1,1,1,1,1]],...,[[1,1,1,1,1,...,1,1,1,1,1],[1,1,1,1,1,...,1,1,1,1,1],...,[1,1,1,1,1,...,1,1,1,1,1],[1,1,1,1,1,...,1,1,1,1,1]],[[1,1,1,1,1,...,1,1,1,1,1],[1,1,1,1,1,...,1,1,1,1,1],...,[1,1,1,1,1,...,1,1,1,1,1],[1,1,1,1,1,...,1,1,1,1,1]]]\n",
       " labels: [[[-100,-100,-100,-100,-100,...,323,1624,91941,0,128009],[-100,-100,-100,-100,-100,...,-100,1527,27136,13,128009],...,[-100,-100,-100,-100,-100,...,13001,304,1124,30,128009],[-100,-100,-100,-100,-100,...,279,4641,0,63450,128009]],[[-100,-100,-100,-100,-100,...,538,220,1774,3001,128009],[-100,-100,-100,-100,-100,...,757,1314,1457,13,128009],...,[-100,-100,-100,-100,-100,...,3137,311,856,3070,128009],[-100,-100,-100,-100,-100,...,374,264,8941,13,128009]],...,[[-100,-100,-100,-100,-100,...,30063,18506,13985,13,128009],[-100,-100,-100,-100,-100,...,77267,71552,892,0,128009],...,[-100,-100,-100,-100,-100,...,387,6646,4400,13,128009],[-100,-100,-100,-100,-100,...,-100,73370,8050,1648,128009]],[[-100,-100,-100,-100,-100,...,813,10456,6305,13,128009],[-100,-100,-100,-100,-100,...,369,779,1317,27074,128009],...,[-100,-100,-100,-100,-100,...,4885,1314,1457,13,128009],[-100,-100,-100,-100,-100,...,779,2689,2653,497,128009]]],\n",
       " '_indices': None,\n",
       " '_format_type': None,\n",
       " '_format_kwargs': {},\n",
       " '_format_columns': None,\n",
       " '_output_all_columns': False,\n",
       " '_fingerprint': '0db1a31917524866'}"
      ]
     },
     "execution_count": 4,
     "metadata": {},
     "output_type": "execute_result"
    }
   ],
   "source": [
    "dataset.__dict__"
   ]
  },
  {
   "cell_type": "markdown",
   "metadata": {},
   "source": [
    "convert training set json file to five dimensions"
   ]
  },
  {
   "cell_type": "code",
   "execution_count": 14,
   "metadata": {},
   "outputs": [
    {
     "data": {
      "text/plain": [
       "{'Openness': 'high',\n",
       " 'Conscientiousness': 'low',\n",
       " 'Extraversion': 'low',\n",
       " 'Agreeableness': 'low',\n",
       " 'Neuroticism': 'high'}"
      ]
     },
     "execution_count": 14,
     "metadata": {},
     "output_type": "execute_result"
    }
   ],
   "source": [
    "import re\n",
    "input_string = \"Help me complete the sentence with certain Big Five Personality: Openness - high, Conscientiousness - low, Extraversion - low, Agreeableness - low, Neuroticism - high\"\n",
    "pattern = r'(\\w+) - (\\w+)'\n",
    "matches = re.findall(pattern, input_string)\n",
    "\n",
    "# Convert the matches to a dictionary\n",
    "personality_dict = {trait: value for trait, value in matches}\n",
    "personality_dict"
   ]
  },
  {
   "cell_type": "code",
   "execution_count": 19,
   "metadata": {},
   "outputs": [],
   "source": [
    "import json\n",
    "import re\n",
    "import random\n",
    "# replace \"train\" with \"test\"\n",
    "json_lst = json.load(open(\"/data/user_data/wenkail/llm_personality/generator/data/alpaca_big_five_dataset_test_5_tokens.json\", 'r'))\n",
    "\n",
    "pattern = r'(\\w+) - (\\w+)'\n",
    "new_lst = []\n",
    "for item in json_lst:\n",
    "    instruction = item['instruction']\n",
    "    matches = re.findall(pattern, instruction)\n",
    "    personality_dict = {trait: value for trait, value in matches}\n",
    "    for dim in [('Openness', 'o'), ('Conscientiousness', 'c'), ('Extraversion', 'e'), ('Agreeableness', 'a'), ('Neuroticism', 'n')]:\n",
    "        item[f'instruction_{dim[1]}'] = f\"Help me complete the sentence with the Big Five Personality dimension {dim[0]} to be {personality_dict[dim[0]]}\"\n",
    "    new_lst.append(item)\n",
    "random.shuffle(new_lst)\n",
    "out_f = open(\"/data/user_data/wenkail/llm_personality/generator/data/alpaca_big_five_dataset_test_5_tokens_ocean.json\", 'w')\n",
    "json.dump(new_lst, out_f, ensure_ascii=False, indent=4)\n",
    "out_f.flush()"
   ]
  }
 ],
 "metadata": {
  "kernelspec": {
   "display_name": "new",
   "language": "python",
   "name": "new"
  },
  "language_info": {
   "codemirror_mode": {
    "name": "ipython",
    "version": 3
   },
   "file_extension": ".py",
   "mimetype": "text/x-python",
   "name": "python",
   "nbconvert_exporter": "python",
   "pygments_lexer": "ipython3",
   "version": "3.11.5"
  }
 },
 "nbformat": 4,
 "nbformat_minor": 2
}
