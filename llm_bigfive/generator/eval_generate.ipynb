{
 "cells": [
  {
   "cell_type": "code",
   "execution_count": 1,
   "metadata": {},
   "outputs": [
    {
     "name": "stderr",
     "output_type": "stream",
     "text": [
      "2024-07-18 00:41:42.669929: I tensorflow/core/util/port.cc:113] oneDNN custom operations are on. You may see slightly different numerical results due to floating-point round-off errors from different computation orders. To turn them off, set the environment variable `TF_ENABLE_ONEDNN_OPTS=0`.\n",
      "2024-07-18 00:41:42.857806: E external/local_xla/xla/stream_executor/cuda/cuda_dnn.cc:9261] Unable to register cuDNN factory: Attempting to register factory for plugin cuDNN when one has already been registered\n",
      "2024-07-18 00:41:42.857851: E external/local_xla/xla/stream_executor/cuda/cuda_fft.cc:607] Unable to register cuFFT factory: Attempting to register factory for plugin cuFFT when one has already been registered\n",
      "2024-07-18 00:41:42.859479: E external/local_xla/xla/stream_executor/cuda/cuda_blas.cc:1515] Unable to register cuBLAS factory: Attempting to register factory for plugin cuBLAS when one has already been registered\n",
      "2024-07-18 00:41:42.891722: I tensorflow/core/platform/cpu_feature_guard.cc:182] This TensorFlow binary is optimized to use available CPU instructions in performance-critical operations.\n",
      "To enable the following instructions: AVX2 AVX512F AVX512_VNNI FMA, in other operations, rebuild TensorFlow with the appropriate compiler flags.\n",
      "2024-07-18 00:41:46.600099: W tensorflow/compiler/tf2tensorrt/utils/py_utils.cc:38] TF-TRT Warning: Could not find TensorRT\n"
     ]
    }
   ],
   "source": [
    "from sentence_transformers import SentenceTransformer, util\n",
    "import json\n",
    "from tqdm import tqdm\n",
    "import numpy as np\n",
    "import evaluate\n",
    "from nltk.tokenize import word_tokenize\n",
    "import random\n",
    "import nltk\n",
    "from scipy.spatial.distance import jensenshannon\n",
    "from sentence_transformers import SentenceTransformer\n",
    "from scipy.spatial.distance import jensenshannon\n",
    "\n",
    "model = SentenceTransformer('sentence-transformers/all-MiniLM-L6-v2')"
   ]
  },
  {
   "cell_type": "code",
   "execution_count": 6,
   "metadata": {},
   "outputs": [
    {
     "data": {
      "text/plain": [
       "'in the a.m.this has to'"
      ]
     },
     "execution_count": 6,
     "metadata": {},
     "output_type": "execute_result"
    }
   ],
   "source": [
    "\"Agreeableness - high, Neuroticism - high\\nin the a.m.this has toassistant\\n\".split(\"\\n\")[1][:-9]"
   ]
  },
  {
   "cell_type": "code",
   "execution_count": 2,
   "metadata": {},
   "outputs": [],
   "source": [
    "file_path = \"/home/jiaruil5/personality/llm_personality/llm_bigfive/generator/outputs/w_tokens_1000/generated_predictions.jsonl\"\n",
    "ground_true = []\n",
    "prediction = []\n",
    "for line in open(file_path, 'r').readlines():\n",
    "    line = json.loads(line)\n",
    "    prompt = line['prompt'].split(\" Neuroticism - \")[1]\n",
    "    if prompt[:4] == 'high':\n",
    "        prompt = prompt[4:]\n",
    "    elif prompt[:3] == 'low':\n",
    "        prompt = prompt[3:]\n",
    "    else:\n",
    "        prompt = prompt[6:]\n",
    "    prompt = prompt.split(\"\\n\")[1][:-9]\n",
    "    ground_true.append(prompt + \" \" + line['label'])\n",
    "    prediction.append(prompt + \" \" + line['predict'])\n",
    "\n",
    "def compute_token_overlap_ratio(text1, text2):\n",
    "    tokens1 = set(word_tokenize(text1.lower()))\n",
    "    tokens2 = set(word_tokenize(text2.lower()))\n",
    "    overlap = len(tokens1.intersection(tokens2))\n",
    "    ratio = overlap / max(len(tokens1), len(tokens2))\n",
    "    return ratio\n",
    "\n",
    "def compute_jsd(sentence1, sentence2):\n",
    "    model = SentenceTransformer('sentence-transformers/all-MiniLM-L6-v2')\n",
    "    sentences = [sentence1, sentence2]\n",
    "    embeddings = model.encode(sentences)\n",
    "    def normalize_vector(vector):\n",
    "        vector = np.abs(vector)\n",
    "        return vector / np.sum(vector)\n",
    "    norm_embeddings = np.array([normalize_vector(embedding) for embedding in embeddings])\n",
    "    jsd = jensenshannon(norm_embeddings[0], norm_embeddings[1], base=2)\n",
    "    similarity = 1 - jsd\n",
    "    return similarity"
   ]
  },
  {
   "cell_type": "code",
   "execution_count": 3,
   "metadata": {},
   "outputs": [
    {
     "name": "stdout",
     "output_type": "stream",
     "text": [
      "afternoon beer and football. love bank hol weekends! just wish the san miguel was cold!\n"
     ]
    }
   ],
   "source": [
    "print(ground_true[0])"
   ]
  },
  {
   "cell_type": "code",
   "execution_count": 4,
   "metadata": {},
   "outputs": [
    {
     "name": "stdout",
     "output_type": "stream",
     "text": [
      "afternoon beer and football. love it\n"
     ]
    }
   ],
   "source": [
    "print(prediction[0])"
   ]
  },
  {
   "cell_type": "code",
   "execution_count": 5,
   "metadata": {},
   "outputs": [
    {
     "name": "stderr",
     "output_type": "stream",
     "text": [
      "Proccessing Cosine Similarity: 100%|██████████| 1000/1000 [01:13<00:00, 13.63it/s]\n"
     ]
    },
    {
     "name": "stdout",
     "output_type": "stream",
     "text": [
      "Average Cosine Sentence Similarity: 0.5262521505355835\n"
     ]
    },
    {
     "name": "stderr",
     "output_type": "stream",
     "text": [
      "Proccessing Token Overlapping: 100%|██████████| 1000/1000 [00:00<00:00, 1738.92it/s]\n"
     ]
    },
    {
     "name": "stdout",
     "output_type": "stream",
     "text": [
      "Average Token Overlapping Ratio: 0.3722497367190912\n"
     ]
    },
    {
     "name": "stderr",
     "output_type": "stream",
     "text": [
      "Proccessing JSD Similarity: 100%|██████████| 1000/1000 [12:32<00:00,  1.33it/s]"
     ]
    },
    {
     "name": "stdout",
     "output_type": "stream",
     "text": [
      "Average JSD Sentence Similarity: 0.6180709342678702\n"
     ]
    },
    {
     "name": "stderr",
     "output_type": "stream",
     "text": [
      "\n"
     ]
    }
   ],
   "source": [
    "#Compute embedding to gain similarity\n",
    "similarity_list = []\n",
    "for i in tqdm(range(len(prediction)), desc = \"Proccessing Cosine Similarity: \"):\n",
    "    embedding_1= model.encode(ground_true[i], convert_to_tensor=True)\n",
    "    embedding_2 = model.encode(prediction[i], convert_to_tensor=True)\n",
    "    similarity_list.append(util.pytorch_cos_sim(embedding_1, embedding_2).cpu().detach().numpy())\n",
    "print(f\"Average Cosine Sentence Similarity: {np.mean(similarity_list)}\")\n",
    "\n",
    "overlap_ratios = []\n",
    "for i in tqdm(range(len(prediction)), desc = \"Proccessing Token Overlapping: \"):\n",
    "    true_text = ground_true[i]\n",
    "    pred_text = prediction[i]\n",
    "    \n",
    "    overlap_ratio = compute_token_overlap_ratio(true_text, pred_text)\n",
    "    overlap_ratios.append(overlap_ratio)\n",
    "average_overlap_ratio = np.mean(overlap_ratios)\n",
    "print(f\"Average Token Overlapping Ratio: {average_overlap_ratio}\")\n",
    "\n",
    "jsd_list = []\n",
    "for i in tqdm(range(len(prediction)), desc = \"Proccessing JSD Similarity: \"):\n",
    "    true_text = ground_true[i]\n",
    "    pred_text = prediction[i]\n",
    "    \n",
    "    jsd_score = compute_jsd(true_text, pred_text)\n",
    "    jsd_list.append(jsd_score)\n",
    "\n",
    "average_jsd_score = np.mean(jsd_list)\n",
    "print(f\"Average JSD Sentence Similarity: {average_jsd_score}\")"
   ]
  },
  {
   "cell_type": "code",
   "execution_count": 6,
   "metadata": {},
   "outputs": [
    {
     "name": "stdout",
     "output_type": "stream",
     "text": [
      "Average Cosine Sentence Similarity: 0.5263\n",
      "Average Token Overlapping Ratio: 0.3722\n",
      "Average JSD Sentence Similarity: 0.6181\n"
     ]
    }
   ],
   "source": [
    "cosine_similarity = np.mean(similarity_list)\n",
    "print(\"Average Cosine Sentence Similarity: {:.4f}\".format(cosine_similarity))\n",
    "print(\"Average Token Overlapping Ratio: {:.4f}\".format(average_overlap_ratio))\n",
    "print(\"Average JSD Sentence Similarity: {:.4f}\".format(average_jsd_score))"
   ]
  },
  {
   "cell_type": "markdown",
   "metadata": {},
   "source": [
    "# Test Evaluation"
   ]
  },
  {
   "cell_type": "code",
   "execution_count": null,
   "metadata": {},
   "outputs": [],
   "source": [
    "from sentence_transformers import SentenceTransformer\n",
    "from scipy.spatial.distance import jensenshannon\n",
    "import numpy as np\n",
    "\n",
    "model = SentenceTransformer('paraphrase-MiniLM-L6-v2')\n",
    "\n",
    "sentences = [\"This is the first sentence.\", \"This is the third sentence.\"]\n",
    "\n",
    "embeddings = model.encode(sentences)\n",
    "\n",
    "def normalize_vector(vector):\n",
    "    vector = np.abs(vector)\n",
    "    return vector / np.sum(vector)\n",
    "\n",
    "norm_embeddings = np.array([normalize_vector(embedding) for embedding in embeddings])\n",
    "\n",
    "jsd = jensenshannon(norm_embeddings[0], norm_embeddings[1], base=2)\n",
    "\n",
    "\n",
    "similarity = 1 - jsd\n",
    "return similarity"
   ]
  },
  {
   "cell_type": "markdown",
   "metadata": {},
   "source": [
    "# Personality Alpaca Format"
   ]
  }
 ],
 "metadata": {
  "kernelspec": {
   "display_name": "new",
   "language": "python",
   "name": "new"
  },
  "language_info": {
   "codemirror_mode": {
    "name": "ipython",
    "version": 3
   },
   "file_extension": ".py",
   "mimetype": "text/x-python",
   "name": "python",
   "nbconvert_exporter": "python",
   "pygments_lexer": "ipython3",
   "version": "3.11.5"
  }
 },
 "nbformat": 4,
 "nbformat_minor": 2
}
