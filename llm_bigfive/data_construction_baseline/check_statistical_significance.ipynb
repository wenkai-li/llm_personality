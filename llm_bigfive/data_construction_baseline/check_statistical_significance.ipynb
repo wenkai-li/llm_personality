{
 "cells": [
  {
   "cell_type": "code",
   "execution_count": 12,
   "metadata": {},
   "outputs": [
    {
     "name": "stdout",
     "output_type": "stream",
     "text": [
      "gpt4omini\n",
      "0.65\n",
      "expert\n",
      "0.825\n",
      "gpt4omini\n",
      "0.78\n",
      "expert\n",
      "0.8\n",
      "gpt4omini\n",
      "0.8\n",
      "expert\n",
      "0.8\n",
      "gpt4omini\n",
      "0.855\n",
      "expert\n",
      "0.81\n",
      "gpt4omini\n",
      "0.84\n",
      "expert\n",
      "0.785\n"
     ]
    }
   ],
   "source": [
    "import json\n",
    "import numpy as np\n",
    "data = json.load(open(\"statistical_table1.json\", 'r'))\n",
    "data_a, data_b = data[0], data[1]\n",
    "system_a, system_b = [], []\n",
    "def calculate_accuracy(predictions, labels):\n",
    "    correct = sum(p == l for p, l in zip(predictions, labels))\n",
    "    total = len(labels)\n",
    "    accuracy = correct / total\n",
    "    return accuracy\n",
    "for i in range(5):\n",
    "    print(\"gpt4omini\")\n",
    "    print(calculate_accuracy(data_a['labels'][i], data_a['preds'][i]))\n",
    "    print(\"expert\")\n",
    "    print(calculate_accuracy(data_b['labels'][i], data_b['preds'][i]))\n",
    "    for j in range(200):\n",
    "        if data_a['labels'][i][j] == data_a['preds'][i][j]:\n",
    "            system_a.append(1)\n",
    "        else:\n",
    "            system_a.append(0)\n",
    "            \n",
    "        if data_b['labels'][i][j] == data_b['preds'][i][j]:\n",
    "            system_b.append(1)\n",
    "        else:\n",
    "            system_b.append(0)\n",
    "system_a, system_b = np.array(system_a), np.array(system_b)"
   ]
  },
  {
   "cell_type": "code",
   "execution_count": 13,
   "metadata": {},
   "outputs": [
    {
     "data": {
      "text/plain": [
       "(785, 804)"
      ]
     },
     "execution_count": 13,
     "metadata": {},
     "output_type": "execute_result"
    }
   ],
   "source": [
    "sum(system_a), sum(system_b)"
   ]
  },
  {
   "cell_type": "code",
   "execution_count": 15,
   "metadata": {},
   "outputs": [
    {
     "data": {
      "text/plain": [
       "(785, 804, 1000, 1000)"
      ]
     },
     "execution_count": 15,
     "metadata": {},
     "output_type": "execute_result"
    }
   ],
   "source": [
    "success_a, success_b, n_a, n_b"
   ]
  },
  {
   "cell_type": "code",
   "execution_count": 18,
   "metadata": {},
   "outputs": [
    {
     "name": "stdout",
     "output_type": "stream",
     "text": [
      "Z-statistic: -1.9658\n",
      "p-value: 0.0493\n",
      "There is a significant difference between the two systems.\n"
     ]
    }
   ],
   "source": [
    "import numpy as np\n",
    "from statsmodels.stats.proportion import proportions_ztest\n",
    "\n",
    "# Example binary outputs for two systems (0 or 1)\n",
    "# system_a = np.array([1, 0, 1, 1, 0, 1, 0, 1, 1, 0])  # System A outputs\n",
    "# system_b = np.array([0, 0, 1, 1, 1, 1, 0, 0, 1, 0])  # System B outputs\n",
    "\n",
    "# Calculate success counts (number of 1s) for each system\n",
    "success_a = np.sum(system_a)\n",
    "success_b = np.sum(system_b)\n",
    "\n",
    "# Total number of trials for each system\n",
    "n_a = len(system_a)\n",
    "n_b = len(system_b)\n",
    "\n",
    "# Run two-proportion z-test\n",
    "count = np.array([success_a, 820])  # Number of successes\n",
    "nobs = np.array([n_a, n_b])  # Number of observations\n",
    "stat, pval = proportions_ztest(count, nobs)\n",
    "\n",
    "print(f'Z-statistic: {stat:.4f}')\n",
    "print(f'p-value: {pval:.4f}')\n",
    "\n",
    "# Interpretation\n",
    "if pval < 0.05:\n",
    "    print(\"There is a significant difference between the two systems.\")\n",
    "else:\n",
    "    print(\"There is no significant difference between the two systems.\")\n"
   ]
  }
 ],
 "metadata": {
  "kernelspec": {
   "display_name": "new",
   "language": "python",
   "name": "python3"
  },
  "language_info": {
   "codemirror_mode": {
    "name": "ipython",
    "version": 3
   },
   "file_extension": ".py",
   "mimetype": "text/x-python",
   "name": "python",
   "nbconvert_exporter": "python",
   "pygments_lexer": "ipython3",
   "version": "3.10.14"
  }
 },
 "nbformat": 4,
 "nbformat_minor": 2
}
