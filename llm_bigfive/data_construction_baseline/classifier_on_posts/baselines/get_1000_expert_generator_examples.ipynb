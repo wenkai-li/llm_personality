{
 "cells": [
  {
   "cell_type": "code",
   "execution_count": 1,
   "metadata": {},
   "outputs": [],
   "source": [
    "import json\n",
    "import random"
   ]
  },
  {
   "cell_type": "code",
   "execution_count": 2,
   "metadata": {},
   "outputs": [],
   "source": [
    "traits = [\"o\", \"c\", \"e\", \"a\", \"n\"]\n",
    "predict_dict = {}\n",
    "for t in traits:\n",
    "    predict_dict[t] = {}\n",
    "    with open(f\"/data/user_data/wenkail/llm_personality/generator/data/outputs/generated_predictions_{t}.jsonl\", \"r\") as f:\n",
    "        store_low, store_high = [], []\n",
    "        for i in f.readlines():\n",
    "            tmp = json.loads(i)\n",
    "            if \" - low\\n\" in tmp['prompt']:\n",
    "                store_low.append(tmp)\n",
    "            elif \" - high\\n\" in tmp['prompt']:\n",
    "                store_high.append(tmp)\n",
    "        predict_dict[t]['low'] = store_low\n",
    "        predict_dict[t]['high'] = store_high"
   ]
  },
  {
   "cell_type": "code",
   "execution_count": 3,
   "metadata": {},
   "outputs": [],
   "source": [
    "sub_predict = {}\n",
    "for t in traits:\n",
    "    sub_predict[t] = {}\n",
    "    for l in [\"low\", \"high\"]:\n",
    "        sample_size = min(len(predict_dict[t][l]), 100)\n",
    "        random_sample = random.sample(predict_dict[t][l], sample_size)\n",
    "        sub_predict[t][l] = random_sample"
   ]
  },
  {
   "cell_type": "code",
   "execution_count": 4,
   "metadata": {},
   "outputs": [
    {
     "data": {
      "text/plain": [
       "(dict_keys(['o', 'c', 'e', 'a', 'n']), dict_keys(['low', 'high']), 100)"
      ]
     },
     "execution_count": 4,
     "metadata": {},
     "output_type": "execute_result"
    }
   ],
   "source": [
    "sub_predict.keys(), sub_predict['o'].keys(), len(sub_predict['o']['high'])"
   ]
  },
  {
   "cell_type": "code",
   "execution_count": 5,
   "metadata": {},
   "outputs": [
    {
     "data": {
      "text/plain": [
       "{'prompt': 'user\\n\\nHelp me complete the sentence with certain Big Five Personality: Openness - high\\nidgaf who come to myassistant\\n\\n',\n",
       " 'label': 'party truthfully. i just want it to be live asfuck.',\n",
       " 'predict': \"house i'm not going to the party\"}"
      ]
     },
     "execution_count": 5,
     "metadata": {},
     "output_type": "execute_result"
    }
   ],
   "source": [
    "sub_predict['o']['high'][0]"
   ]
  },
  {
   "cell_type": "code",
   "execution_count": 6,
   "metadata": {},
   "outputs": [
    {
     "name": "stdout",
     "output_type": "stream",
     "text": [
      "hmm... i'm starting to hate\n"
     ]
    }
   ],
   "source": [
    "import re\n",
    "\n",
    "def extract_starting_sentence(text):\n",
    "    # Regex pattern to capture text before \"assistant\\n\\n\" while accounting for \"- high\\n\" or \"- low\\n\"\n",
    "    match = re.search(r'- (high|low)\\n(.+?)(?=assistant\\n\\n)', text, re.DOTALL)\n",
    "    if match:\n",
    "        starting_sentence = match.group(2).strip()\n",
    "        return starting_sentence\n",
    "    return None\n",
    "\n",
    "# Example input\n",
    "input_text = \"user\\n\\nHelp me complete the sentence with certain Big Five Personality: Openness - high\\nhmm... i'm starting to hateassistant\\n\\n\"\n",
    "\n",
    "# Extracting the starting sentence\n",
    "starting_sentence = extract_starting_sentence(input_text)\n",
    "print(starting_sentence)\n"
   ]
  },
  {
   "cell_type": "code",
   "execution_count": 7,
   "metadata": {},
   "outputs": [],
   "source": [
    "for t in traits:\n",
    "    for l in [\"low\", \"high\"]:\n",
    "        for i in range(100):\n",
    "            sub_predict[t][l][i]['psychgenerator_data'] = extract_starting_sentence(sub_predict[t][l][i]['prompt']) + \" \" + sub_predict[t][l][i]['label']\n",
    "            sub_predict[t][l][i]['expert_generator_data'] = extract_starting_sentence(sub_predict[t][l][i]['prompt']) + \" \" + sub_predict[t][l][i]['predict']"
   ]
  },
  {
   "cell_type": "code",
   "execution_count": 8,
   "metadata": {},
   "outputs": [
    {
     "data": {
      "text/plain": [
       "{'prompt': 'user\\n\\nHelp me complete the sentence with certain Big Five Personality: Openness - high\\nidgaf who come to myassistant\\n\\n',\n",
       " 'label': 'party truthfully. i just want it to be live asfuck.',\n",
       " 'predict': \"house i'm not going to the party\",\n",
       " 'psychgenerator_data': 'idgaf who come to my party truthfully. i just want it to be live asfuck.',\n",
       " 'expert_generator_data': \"idgaf who come to my house i'm not going to the party\"}"
      ]
     },
     "execution_count": 8,
     "metadata": {},
     "output_type": "execute_result"
    }
   ],
   "source": [
    "sub_predict['o']['high'][0]"
   ]
  },
  {
   "cell_type": "code",
   "execution_count": 9,
   "metadata": {},
   "outputs": [],
   "source": [
    "out_f = open(\"baseline_source_data.json\", 'w')\n",
    "json.dump(sub_predict, out_f, indent=2, ensure_ascii=False)\n",
    "out_f.flush()"
   ]
  }
 ],
 "metadata": {
  "kernelspec": {
   "display_name": "new",
   "language": "python",
   "name": "python3"
  },
  "language_info": {
   "codemirror_mode": {
    "name": "ipython",
    "version": 3
   },
   "file_extension": ".py",
   "mimetype": "text/x-python",
   "name": "python",
   "nbconvert_exporter": "python",
   "pygments_lexer": "ipython3",
   "version": "3.10.14"
  }
 },
 "nbformat": 4,
 "nbformat_minor": 2
}
