{
 "cells": [
  {
   "cell_type": "code",
   "execution_count": 1,
   "metadata": {},
   "outputs": [],
   "source": [
    "import json\n",
    "\n",
    "metrics = [\n",
    "    \"Level: 1 (extremely low) to 5 (extremely high)\",\n",
    "    \"Realism: 1 (extremely bad) to 5 (extremely good)\",\n",
    "    \"Coherence: 1 (extremely bad) to 5 (extremely good)\"\n",
    "]\n",
    "levels = ['1 (extremely low)', '2 (low)', '3 (moderate)', '4 (high)', '5 (extremely high)']\n",
    "metric_descriptions = [\n",
    "    'Level evaluates the extent or intensity to which the personality traits are expressed by the LLM, ranging from minimal to highly pronounced.',\n",
    "    'Realism assesses how lifelike, convincing, and human-like the personality of the LLM appears during interactions.',\n",
    "    'Coherence measures the internal consistency and logical alignment of the personality traits exhibited by the LLM across different interactions and contexts.'\n",
    "]"
   ]
  },
  {
   "cell_type": "code",
   "execution_count": 10,
   "metadata": {},
   "outputs": [],
   "source": [
    "import pandas as pd\n",
    "in_file = \"/home/jiaruil5/personality/llm_personality/llm_bigfive/data_construction_baseline/classifier_on_posts/baselines/baseline_new_results_gpt-4o-mini.jsonl\"\n",
    "data = [json.loads(i) for i in open(in_file, 'r')]\n",
    "csv_data = []\n",
    "for idx in range(10):\n",
    "    for j in range(idx * 100, idx * 100+20):\n",
    "        info = {}\n",
    "        info['level'] = data[j]['level']\n",
    "        info['trait'] = data[j]['trait']\n",
    "        info['human'] = data[j]['initial_data']['psychgenerator_data']\n",
    "        info['expert'] = data[j]['initial_data']['expert_generator_data']\n",
    "        info['gpt4omini'] = data[j]['result']\n",
    "        csv_data.append(info)\n",
    "df = pd.DataFrame().from_records(csv_data)\n",
    "df.to_csv(\"human_eval_new.csv\")"
   ]
  },
  {
   "cell_type": "code",
   "execution_count": 11,
   "metadata": {},
   "outputs": [],
   "source": [
    "import pandas as pd\n",
    "in_file = \"/home/jiaruil5/personality/llm_personality/llm_bigfive/data_construction_baseline/classifier_on_posts/baselines/baseline_previous_results_gpt-4o-mini.jsonl\"\n",
    "data = [json.loads(i) for i in open(in_file, 'r')]\n",
    "csv_data = []\n",
    "for idx in range(10):\n",
    "    for j in range(idx * 100, idx * 100+20):\n",
    "        info = {}\n",
    "        info['level'] = data[j]['level']\n",
    "        info['trait'] = data[j]['trait']\n",
    "        info['human'] = data[j]['initial_data']['psychgenerator_data']\n",
    "        info['expert'] = data[j]['initial_data']['expert_generator_data']\n",
    "        info['gpt4omini'] = data[j]['post']\n",
    "        csv_data.append(info)\n",
    "df = pd.DataFrame().from_records(csv_data)\n",
    "df.to_csv(\"human_eval_previous.csv\")"
   ]
  }
 ],
 "metadata": {
  "kernelspec": {
   "display_name": "new",
   "language": "python",
   "name": "python3"
  },
  "language_info": {
   "codemirror_mode": {
    "name": "ipython",
    "version": 3
   },
   "file_extension": ".py",
   "mimetype": "text/x-python",
   "name": "python",
   "nbconvert_exporter": "python",
   "pygments_lexer": "ipython3",
   "version": "3.10.14"
  }
 },
 "nbformat": 4,
 "nbformat_minor": 2
}
