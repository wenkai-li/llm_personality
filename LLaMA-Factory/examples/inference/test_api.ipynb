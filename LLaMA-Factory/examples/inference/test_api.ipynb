{
 "cells": [
  {
   "cell_type": "code",
   "execution_count": 1,
   "metadata": {},
   "outputs": [],
   "source": [
    "from openai import OpenAI"
   ]
  },
  {
   "cell_type": "code",
   "execution_count": 3,
   "metadata": {},
   "outputs": [],
   "source": [
    "oepnai_api_key = \"EMPTY\"\n",
    "oepnai_api_base = \"http://localhost:8000/v1\"\n",
    "client = OpenAI(\n",
    "    api_key = oepnai_api_key,\n",
    "    base_url = oepnai_api_base\n",
    ")"
   ]
  },
  {
   "cell_type": "code",
   "execution_count": 16,
   "metadata": {},
   "outputs": [
    {
     "name": "stdout",
     "output_type": "stream",
     "text": [
      "I think you meant to say \"calculate\"!\n",
      "\n",
      "Yes, I can help you with that! There are many ways to calculate 10, depending on what operation you want to perform. Here are a few examples:\n",
      "\n",
      "* 2 + 8 = 10\n",
      "* 5 + 5 = 10\n",
      "* 10 x 1 = 10\n",
      "* 20 ÷ 2 = 10\n",
      "\n",
      "Is there a specific calculation you'd like to do with 10?\n"
     ]
    }
   ],
   "source": [
    "chat_response = client.chat.completions.create(\n",
    "    model = \"Meta-Llama-3-8B-Instruct\",\n",
    "    messages = [\n",
    "        {\"role\": \"system\", \"content\": \"You are a helpful assistant.\"},\n",
    "        {\"role\": \"user\", \"content\": \"Do you know how to caculate 10\"}\n",
    "    ],\n",
    "    temperature = 0.0\n",
    ")\n",
    "\n",
    "print(chat_response.choices[0].message.content)"
   ]
  },
  {
   "cell_type": "code",
   "execution_count": null,
   "metadata": {},
   "outputs": [],
   "source": []
  }
 ],
 "metadata": {
  "kernelspec": {
   "display_name": "lf_persona",
   "language": "python",
   "name": "python3"
  },
  "language_info": {
   "codemirror_mode": {
    "name": "ipython",
    "version": 3
   },
   "file_extension": ".py",
   "mimetype": "text/x-python",
   "name": "python",
   "nbconvert_exporter": "python",
   "pygments_lexer": "ipython3",
   "version": "3.11.9"
  }
 },
 "nbformat": 4,
 "nbformat_minor": 2
}
