{
 "cells": [
  {
   "cell_type": "code",
   "execution_count": 6,
   "metadata": {},
   "outputs": [],
   "source": [
    "import json\n",
    "from sklearn.metrics import precision_recall_fscore_support, accuracy_score"
   ]
  },
  {
   "cell_type": "code",
   "execution_count": 11,
   "metadata": {},
   "outputs": [],
   "source": [
    "def evaluate_metric(file_path):\n",
    "    data = []\n",
    "    ground_truth = []\n",
    "    predict = []\n",
    "    with open(file_path, \"r\") as f:\n",
    "        for line in f:\n",
    "            data.append(json.loads(line))\n",
    "    for i in data:\n",
    "        ground_truth.append(i['ground_truth'])\n",
    "        predict.append(i['judgement'])\n",
    "\n",
    "    accuracy = accuracy_score(ground_truth, predict)\n",
    "    file_name = file_path.split('/')[-1]\n",
    "    print(\"For file:\", file_name.split('.')[0])\n",
    "    print(f'Accuracy: {accuracy}')\n",
    "    precision, recall, f1, _ = precision_recall_fscore_support(ground_truth, predict, average='macro', zero_division=0)\n",
    "    print(f\"F1: {f1}\")\n",
    "    print(f\"Recall: {recall}\")\n",
    "    print(f\"Precision: {precision}\")"
   ]
  },
  {
   "cell_type": "code",
   "execution_count": 13,
   "metadata": {},
   "outputs": [
    {
     "name": "stdout",
     "output_type": "stream",
     "text": [
      "For file: qa_llama_13b_dpo_istj_dpo_results\n",
      "Accuracy: 0.5487\n",
      "F1: 0.35931170197568457\n",
      "Recall: 0.36622159287881945\n",
      "Precision: 0.37208875170361866\n"
     ]
    }
   ],
   "source": [
    "file_path = \"evaluation/qa/qa_llama_13b_dpo_istj_dpo_results.json\"\n",
    "\n",
    "evaluate_metric(file_path)"
   ]
  },
  {
   "cell_type": "code",
   "execution_count": 14,
   "metadata": {},
   "outputs": [
    {
     "name": "stdout",
     "output_type": "stream",
     "text": [
      "For file: qa_llama_13b_without_lora_None_results\n",
      "Accuracy: 0.4953\n",
      "F1: 0.25218931442993453\n",
      "Recall: 0.3290449980533022\n",
      "Precision: 0.3190251018569867\n"
     ]
    }
   ],
   "source": [
    "file_path = \"evaluation/qa/qa_llama_13b_without_lora_None_results.json\"\n",
    "\n",
    "evaluate_metric(file_path)"
   ]
  },
  {
   "cell_type": "code",
   "execution_count": 15,
   "metadata": {},
   "outputs": [
    {
     "name": "stdout",
     "output_type": "stream",
     "text": [
      "For file: qa_llama_13b_enfp_15000_dpo_results\n",
      "Accuracy: 0.5043\n",
      "F1: 0.22856156630563407\n",
      "Recall: 0.3348834914691969\n",
      "Precision: 0.3989229996710128\n"
     ]
    }
   ],
   "source": [
    "file_path = \"evaluation/qa/qa_llama_13b_enfp_15000_dpo_results.json\"\n",
    "\n",
    "evaluate_metric(file_path)"
   ]
  },
  {
   "cell_type": "code",
   "execution_count": null,
   "metadata": {},
   "outputs": [],
   "source": []
  }
 ],
 "metadata": {
  "kernelspec": {
   "display_name": "llm_personality",
   "language": "python",
   "name": "python3"
  },
  "language_info": {
   "codemirror_mode": {
    "name": "ipython",
    "version": 3
   },
   "file_extension": ".py",
   "mimetype": "text/x-python",
   "name": "python",
   "nbconvert_exporter": "python",
   "pygments_lexer": "ipython3",
   "version": "3.10.13"
  }
 },
 "nbformat": 4,
 "nbformat_minor": 2
}
