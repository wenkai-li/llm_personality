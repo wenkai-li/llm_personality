{
 "cells": [
  {
   "cell_type": "code",
   "execution_count": 9,
   "metadata": {},
   "outputs": [],
   "source": [
    "import sys\n",
    "sys.path.append('../')\n",
    "import os\n",
    "from data_processing.preprocess import KaggleDatasetWithQuestion"
   ]
  },
  {
   "cell_type": "code",
   "execution_count": 10,
   "metadata": {},
   "outputs": [],
   "source": [
    "from select_processing.select_pipeline import get_json_list"
   ]
  },
  {
   "cell_type": "code",
   "execution_count": 39,
   "metadata": {},
   "outputs": [],
   "source": [
    "data = get_json_list(\"/home/wenkail/anlp_final/src/data/selected_questions_pairs_max_length_3000.json\")"
   ]
  },
  {
   "cell_type": "code",
   "execution_count": 40,
   "metadata": {},
   "outputs": [
    {
     "data": {
      "text/plain": [
       "200"
      ]
     },
     "execution_count": 40,
     "metadata": {},
     "output_type": "execute_result"
    }
   ],
   "source": [
    "len(data[0])"
   ]
  },
  {
   "cell_type": "code",
   "execution_count": 42,
   "metadata": {},
   "outputs": [
    {
     "data": {
      "text/plain": [
       "61"
      ]
     },
     "execution_count": 42,
     "metadata": {},
     "output_type": "execute_result"
    }
   ],
   "source": [
    "len(data[0][0]['pairs'])"
   ]
  },
  {
   "cell_type": "code",
   "execution_count": null,
   "metadata": {},
   "outputs": [],
   "source": []
  },
  {
   "cell_type": "code",
   "execution_count": null,
   "metadata": {},
   "outputs": [],
   "source": []
  },
  {
   "cell_type": "code",
   "execution_count": 32,
   "metadata": {},
   "outputs": [],
   "source": [
    "pair = KaggleDatasetWithQuestion(\"/home/wenkail/anlp_final/src/data/kaggleWithQuestion.csv\").poster_data"
   ]
  },
  {
   "cell_type": "code",
   "execution_count": 44,
   "metadata": {},
   "outputs": [
    {
     "data": {
      "text/plain": [
       "['What are some effective strategies for problem-solving, and how can we apply them to reach a logical conclusion?',\n",
       " 'What recurring themes or elements have you noticed in your dreams, and have they led to any meaningful connections or reunions with people from your past?',\n",
       " \"What are some creative and unconventional ideas for a children's playroom that deviate from traditional toys and dolls?\",\n",
       " \"What does the phrase 'thumbs up icon' suggest about the way people express appreciation in digital communication, and how can we use this insight to improve our interactions with others?\",\n",
       " 'Could this particular outcome be attained under the given circumstances?',\n",
       " 'What is the phone number that you are suggesting I try, which is seven digits long and starts with 717?',\n",
       " \"What is the speaker's reaction to the prospect of no longer receiving spam messages?\",\n",
       " \"What is the difference in the way that some people approach life, as suggested by the statement 'For some people, life is a buffet,' compared to others, who view their world as 'a set meal'?\",\n",
       " 'What type of breakfast food is currently desired by you?',\n",
       " \"What is the name of the technique used in linguistics to identify the speaker's signature in a text, which can reveal their unique writing style and identity?\",\n",
       " 'What are some common obstacles that prevent individuals from following their intuition, and how can one overcome them to make more informed decisions?',\n",
       " 'What humorous event, joke, or situation prompted your hearty laughter?',\n",
       " 'What specific qualities or characteristics do you think are unique to s and/or s that could potentially make them more suitable for writing, and how do these qualities differ from those of other individuals who are good with written words?',\n",
       " \"What is the most effective way to approach problem-solving, and how can we ensure that we're considering all relevant factors to reach a well-informed conclusion?\",\n",
       " \"What is the most effective way to approach problem-solving, and how can we ensure that we're considering all relevant factors to reach a well-informed conclusion?\",\n",
       " 'What is your level of confidence in the probability of a particular event occurring, given the available data and your understanding of the situation?',\n",
       " \"What are some effective strategies for problem-solving, and how can we ensure that we're taking a step-by-step approach to reach the right conclusion?\",\n",
       " 'What are some low-impact exercise alternatives to running on a treadmill that can provide a similar cardiovascular workout?',\n",
       " 'What motivated the speaker to go for a long walk to the gym, and how did they feel about their first-time experience there?',\n",
       " 'What is the primary aspect of being an artist, according to the given statement, and what does it entail?',\n",
       " 'In what context do you view sentimental things as unconventional, and how do you distinguish them from conventional ones?',\n",
       " 'What mouth-watering dishes are being described in a cookbook or menu to elicit such a strong desire to eat in the person reading it?',\n",
       " 'What are some ways to get to know someone better, especially when they seem to be a definite NF personality type?',\n",
       " \"What is the activity that you have been engrossed in for hours, leading you to stay up until 3 a.m., and what does the abbreviation 'NT's' in the name of the club suggest about its nature?\",\n",
       " 'What are the required fabric qualities for clothes suitable for various physical activities like jogging, swimming, and bungee jumping?',\n",
       " \"What is the context and implied meaning behind the statement 'Your logic will be disabled soon.. :laughing:'?\",\n",
       " 'What is your response when someone tells a joke that you find hilarious?',\n",
       " 'What are the underlying factors that influence the determination of values and value systems across different cultures and perspectives, and how do these factors contribute to variations in what is deemed valuable or desirable?',\n",
       " 'What type of attire might someone wear for a Halloween costume that could be considered inappropriate or disrespectful if worn in a religious context?',\n",
       " 'What are some effective strategies for developing empathy towards people who annoy us regularly, and how can we overcome the ease of being heartless and not caring?',\n",
       " 'What are some effective strategies for problem-solving, and how can we apply them to reach a logical conclusion?',\n",
       " \"What is the topic or subject of the answer 'Because ... Fanvids ...'?\",\n",
       " \"What are some effective strategies for problem-solving, and how can we ensure that we're taking a step-by-step approach to reach the right conclusion?\",\n",
       " \"What are some effective strategies for problem-solving, and how can we ensure that we're taking a step-by-step approach to reach the right conclusion?\",\n",
       " 'What is the significance of driving a car on an empty freeway with the dashboard glowing, and how does it relate to the idea of the future?',\n",
       " \"What is the most effective way to approach problem-solving, and how can we ensure that we're considering all relevant factors to reach a well-informed conclusion?\",\n",
       " 'What happened to your avatar, and how did you resolve the issue?',\n",
       " 'What are some effective techniques or strategies that you have tried to improve your concentration, and how have they worked for you?',\n",
       " 'In what context do people often find that their enjoyment in an activity decreases when it becomes work, and they face high expectations or demands for perfection from an employer or authority figure?',\n",
       " 'What are some effective strategies for problem-solving, and how can we apply them to reach a logical conclusion?',\n",
       " 'What are the factors causing you to feel stressed and unhappy with your current job, and have you considered exploring alternative career paths or stress-management strategies to improve your overall well-being?',\n",
       " \"What are the two constant factors in someone's choice despite changes in other aspects, and how do they relate to the concepts of Ni and Se?\",\n",
       " 'What kind of recognition did the speaker receive after years of being disrespected, and how did it differ from the typical awards given in schools?']"
      ]
     },
     "execution_count": 44,
     "metadata": {},
     "output_type": "execute_result"
    }
   ],
   "source": [
    "pair[0]['questions']"
   ]
  },
  {
   "cell_type": "code",
   "execution_count": null,
   "metadata": {},
   "outputs": [],
   "source": []
  },
  {
   "cell_type": "code",
   "execution_count": null,
   "metadata": {},
   "outputs": [],
   "source": []
  },
  {
   "cell_type": "code",
   "execution_count": null,
   "metadata": {},
   "outputs": [],
   "source": []
  },
  {
   "cell_type": "code",
   "execution_count": null,
   "metadata": {},
   "outputs": [],
   "source": []
  },
  {
   "cell_type": "code",
   "execution_count": null,
   "metadata": {},
   "outputs": [],
   "source": []
  },
  {
   "cell_type": "code",
   "execution_count": null,
   "metadata": {},
   "outputs": [],
   "source": []
  },
  {
   "cell_type": "code",
   "execution_count": null,
   "metadata": {},
   "outputs": [],
   "source": []
  },
  {
   "cell_type": "code",
   "execution_count": null,
   "metadata": {},
   "outputs": [],
   "source": []
  },
  {
   "cell_type": "code",
   "execution_count": null,
   "metadata": {},
   "outputs": [],
   "source": []
  }
 ],
 "metadata": {
  "kernelspec": {
   "display_name": "anlp",
   "language": "python",
   "name": "python3"
  },
  "language_info": {
   "codemirror_mode": {
    "name": "ipython",
    "version": 3
   },
   "file_extension": ".py",
   "mimetype": "text/x-python",
   "name": "python",
   "nbconvert_exporter": "python",
   "pygments_lexer": "ipython3",
   "version": "3.10.13"
  }
 },
 "nbformat": 4,
 "nbformat_minor": 2
}
