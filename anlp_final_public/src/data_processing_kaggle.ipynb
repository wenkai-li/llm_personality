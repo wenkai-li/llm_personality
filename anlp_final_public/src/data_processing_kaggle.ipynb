{
 "cells": [
  {
   "cell_type": "code",
   "execution_count": 15,
   "metadata": {},
   "outputs": [],
   "source": [
    "import pandas as pd\n",
    "from sklearn.metrics import f1_score, classification_report, accuracy_score"
   ]
  },
  {
   "cell_type": "code",
   "execution_count": 16,
   "metadata": {},
   "outputs": [],
   "source": [
    "data_root = \"data/llama_whole_new_direct/\"\n",
    "base_path = \"_llama.csv\"\n",
    "k0 = pd.read_csv(data_root + \"IE\" + base_path, delimiter='\\t')\n",
    "k0 = k0[['pred','label0']]\n",
    "k0 = k0.rename(columns={'pred':'pred','label0':'gold'})\n",
    "\n",
    "k1 = pd.read_csv(data_root + \"NS\" + base_path, delimiter='\\t')\n",
    "k1 = k1[['pred','label1']]\n",
    "k1 = k1.rename(columns={'pred':'pred','label1':'gold'})\n",
    "\n",
    "k2 = pd.read_csv(data_root + \"TF\" + base_path, delimiter='\\t')\n",
    "k2 = k2[['pred','label2']]\n",
    "k2 = k2.rename(columns={'pred':'pred','label2':'gold'})\n",
    "\n",
    "k3 = pd.read_csv(data_root + \"JP\" + base_path, delimiter='\\t')\n",
    "k3 = k3[['pred','label3']]\n",
    "k3 = k3.rename(columns={'pred':'pred','label3':'gold'})\n",
    "\n",
    "tags = []"
   ]
  },
  {
   "cell_type": "code",
   "execution_count": 17,
   "metadata": {},
   "outputs": [],
   "source": [
    "def modify1(new_a):\n",
    "    new_a = new_a.replace('.*[iI]nt.*',0, regex=True)\n",
    "    new_a = new_a.replace('.*IN.*',0, regex=True)\n",
    "    new_a = new_a.replace('.*ext.*',1, regex=True)\n",
    "    new_a = new_a.replace('.*am.*',2, regex=True)\n",
    "    new_a = new_a.replace('.*both.*',2, regex=True)\n",
    "    new_a = new_a.replace('.*neither.*',2, regex=True)\n",
    "    new_a = new_a.replace('.*[^01].*',2, regex=True)\n",
    "    new_a = new_a.fillna(2)\n",
    "    return new_a\n",
    "tags.append(modify1(k0))\n",
    "def modify2(new_a):\n",
    "    new_a = new_a.replace('.*ens.*',1, regex=True)\n",
    "    new_a = new_a.replace('.*eel.*',1, regex=True)\n",
    "    new_a = new_a.replace('.*tui.*',0, regex=True)\n",
    "    new_a = new_a.replace('.*both.*',2, regex=True)\n",
    "    new_a = new_a.replace('.*[Nn].*',0, regex=True)\n",
    "    new_a = new_a.replace('.*m.*',2, regex=True)\n",
    "    new_a = new_a.fillna(2)\n",
    "    return new_a\n",
    "tags.append(modify2(k1))\n",
    "def modify3(new_a):\n",
    "    new_a = new_a.replace('.*[Hh]ybrid.*',2, regex=True)\n",
    "    new_a = new_a.replace('.*eel.*',0, regex=True)\n",
    "    new_a = new_a.replace('.*ink.*',1, regex=True)\n",
    "    new_a = new_a.replace('.*T.*',1, regex=True)\n",
    "    new_a = new_a.replace('.*[Nn].*',2, regex=True)\n",
    "    new_a = new_a.replace('.*Ambi.*',2, regex=True)\n",
    "    new_a = new_a.replace('.*ambi.*',2, regex=True)\n",
    "    new_a = new_a.replace('.*both.*',2, regex=True)\n",
    "    new_a = new_a.fillna(2)\n",
    "    return new_a\n",
    "tags.append(modify3(k2))\n",
    "def modify4(new_a):\n",
    "    new_a = new_a.replace('.*[Pp].*',0, regex=True)\n",
    "    new_a = new_a.replace('.*[Jj].*',1, regex=True)\n",
    "    new_a = new_a.replace('.*neutral.*',2, regex=True)\n",
    "    new_a = new_a.replace('.*ambi.*',2, regex=True)\n",
    "    new_a = new_a.replace('.*mix.*',2, regex=True)\n",
    "    new_a = new_a.replace('.*both.*',2, regex=True)\n",
    "    new_a = new_a.replace('.*N/A.*',2, regex=True)\n",
    "    new_a = new_a.replace('.*[^01].*',2, regex=True)\n",
    "    # new_a = new_a.replace('.*T.*',1, regex=True)\n",
    "    new_a = new_a.fillna(2)\n",
    "    return new_a\n",
    "tags.append(modify4(k3))\n",
    "# k0 = modify(k0)"
   ]
  },
  {
   "cell_type": "code",
   "execution_count": 18,
   "metadata": {},
   "outputs": [
    {
     "name": "stdout",
     "output_type": "stream",
     "text": [
      "Counter({0: 175, 1: 24, 2: 1})\n",
      "Counter({0: 165, 1: 35})\n",
      "Counter({1: 114, 0: 86})\n",
      "Counter({1.0: 110, 0.0: 88, 2.0: 2})\n"
     ]
    }
   ],
   "source": [
    "from collections import Counter\n",
    "print(Counter(tags[0]['pred']))\n",
    "print(Counter(tags[1]['pred']))\n",
    "print(Counter(tags[2]['pred']))\n",
    "print(Counter(tags[3]['pred']))"
   ]
  },
  {
   "cell_type": "code",
   "execution_count": 19,
   "metadata": {},
   "outputs": [
    {
     "name": "stdout",
     "output_type": "stream",
     "text": [
      "              precision    recall  f1-score   support\n",
      "\n",
      "           0     0.7829    0.9013    0.8379       152\n",
      "           1     0.4167    0.2083    0.2778        48\n",
      "\n",
      "   micro avg     0.7387    0.7350    0.7368       200\n",
      "   macro avg     0.5998    0.5548    0.5578       200\n",
      "weighted avg     0.6950    0.7350    0.7035       200\n",
      "\n",
      "              precision    recall  f1-score   support\n",
      "\n",
      "           0     0.8788    0.8382    0.8580       173\n",
      "           1     0.2000    0.2593    0.2258        27\n",
      "\n",
      "    accuracy                         0.7600       200\n",
      "   macro avg     0.5394    0.5487    0.5419       200\n",
      "weighted avg     0.7872    0.7600    0.7726       200\n",
      "\n",
      "              precision    recall  f1-score   support\n",
      "\n",
      "           0     0.7907    0.5913    0.6766       115\n",
      "           1     0.5877    0.7882    0.6734        85\n",
      "\n",
      "    accuracy                         0.6750       200\n",
      "   macro avg     0.6892    0.6898    0.6750       200\n",
      "weighted avg     0.7044    0.6750    0.6752       200\n",
      "\n",
      "              precision    recall  f1-score   support\n",
      "\n",
      "           0     0.6591    0.4754    0.5524       122\n",
      "           1     0.4182    0.5897    0.4894        78\n",
      "\n",
      "   micro avg     0.5253    0.5200    0.5226       200\n",
      "   macro avg     0.5386    0.5326    0.5209       200\n",
      "weighted avg     0.5651    0.5200    0.5278       200\n",
      "\n"
     ]
    }
   ],
   "source": [
    "macro_f1 = []\n",
    "acc = []\n",
    "for i in tags:\n",
    "    print(classification_report(i['gold'],i['pred'],digits=4, labels=[0, 1]))\n",
    "    macro_f1.append(f1_score(i['gold'],i['pred'],average='macro', labels=[0,1]))\n",
    "    acc.append(accuracy_score(i['gold'],i['pred']))"
   ]
  },
  {
   "cell_type": "code",
   "execution_count": 20,
   "metadata": {},
   "outputs": [
    {
     "name": "stdout",
     "output_type": "stream",
     "text": [
      "[0.735, 0.76, 0.675, 0.52] 0.6725\n",
      "[0.5578491335372069, 0.5418973086466883, 0.67499187479687, 0.520871327254306] 0.5739024110587678\n",
      "['73.5', '55.78', '76.0', '54.19', '67.5', '67.5', '52.0', '52.09', '67.25', '57.39']\n"
     ]
    }
   ],
   "source": [
    "print(acc, sum(acc)/len(acc))\n",
    "print(macro_f1, sum(macro_f1)/len(macro_f1))\n",
    "output = []\n",
    "for i, j in zip(macro_f1,acc):\n",
    "    output.append(round(j*100,2))\n",
    "    output.append(round(i*100,2))\n",
    "output.append(round(sum(acc)/len(acc)*100,2))\n",
    "output.append(round(sum(macro_f1)/len(macro_f1)*100,2))\n",
    "output = [str(i) for i in output]\n",
    "print(output)"
   ]
  },
  {
   "cell_type": "code",
   "execution_count": 21,
   "metadata": {},
   "outputs": [
    {
     "name": "stdout",
     "output_type": "stream",
     "text": [
      "73.5 & 55.78 & 76.0 & 54.19 & 67.5 & 67.5 & 52.0 & 52.09 & 67.25 & 57.39\n"
     ]
    }
   ],
   "source": [
    "print(' & '.join(output))"
   ]
  }
 ],
 "metadata": {
  "kernelspec": {
   "display_name": "llama2",
   "language": "python",
   "name": "python3"
  },
  "language_info": {
   "codemirror_mode": {
    "name": "ipython",
    "version": 3
   },
   "file_extension": ".py",
   "mimetype": "text/x-python",
   "name": "python",
   "nbconvert_exporter": "python",
   "pygments_lexer": "ipython3",
   "version": "3.9.17"
  },
  "orig_nbformat": 4
 },
 "nbformat": 4,
 "nbformat_minor": 2
}
