{
 "cells": [
  {
   "cell_type": "code",
   "execution_count": 1,
   "metadata": {},
   "outputs": [],
   "source": [
    "import pandas as pd\n",
    "from sklearn.metrics import f1_score, classification_report, accuracy_score"
   ]
  },
  {
   "cell_type": "code",
   "execution_count": 2,
   "metadata": {},
   "outputs": [],
   "source": [
    "k0 = pd.read_csv(\"mbti_test_zero_psycot_0.csv\")\n",
    "k0 = k0[['gold','answers']]\n",
    "k1 = pd.read_csv(\"mbti_test_zero_psycot_1.csv\")\n",
    "k1 = k1[['gold','answers']]\n",
    "k2 = pd.read_csv(\"mbti_test_zero_psycot_2.csv\")\n",
    "k2 = k2[['gold','answers']]\n",
    "k3 = pd.read_csv(\"mbti_test_zero_psycot_3.csv\")\n",
    "k3 = k3[['gold','answers']]\n",
    "tags = [k0,k1,k2,k3]"
   ]
  },
  {
   "cell_type": "code",
   "execution_count": 3,
   "metadata": {},
   "outputs": [],
   "source": [
    "def modify(new_a):\n",
    "    new_a = new_a.replace('.*A.*',0, regex=True)\n",
    "    new_a = new_a.replace('.*B.*',1, regex=True)\n",
    "    return new_a\n",
    "tags = [modify(i) for i in tags]"
   ]
  },
  {
   "cell_type": "code",
   "execution_count": 4,
   "metadata": {},
   "outputs": [
    {
     "name": "stdout",
     "output_type": "stream",
     "text": [
      "              precision    recall  f1-score   support\n",
      "\n",
      "           0     0.0000    0.0000    0.0000       152\n",
      "           1     0.2400    1.0000    0.3871        48\n",
      "\n",
      "    accuracy                         0.2400       200\n",
      "   macro avg     0.1200    0.5000    0.1935       200\n",
      "weighted avg     0.0576    0.2400    0.0929       200\n",
      "\n",
      "              precision    recall  f1-score   support\n",
      "\n",
      "           0     0.0000    0.0000    0.0000       173\n",
      "           1     0.1350    1.0000    0.2379        27\n",
      "\n",
      "    accuracy                         0.1350       200\n",
      "   macro avg     0.0675    0.5000    0.1189       200\n",
      "weighted avg     0.0182    0.1350    0.0321       200\n",
      "\n",
      "              precision    recall  f1-score   support\n",
      "\n",
      "           0     0.0000    0.0000    0.0000       115\n",
      "           1     0.4250    1.0000    0.5965        85\n",
      "\n",
      "    accuracy                         0.4250       200\n",
      "   macro avg     0.2125    0.5000    0.2982       200\n",
      "weighted avg     0.1806    0.4250    0.2535       200\n",
      "\n",
      "              precision    recall  f1-score   support\n",
      "\n",
      "           0     0.6000    0.0492    0.0909       122\n",
      "           1     0.3895    0.9487    0.5522        78\n",
      "\n",
      "    accuracy                         0.4000       200\n",
      "   macro avg     0.4947    0.4989    0.3216       200\n",
      "weighted avg     0.5179    0.4000    0.2708       200\n",
      "\n"
     ]
    },
    {
     "name": "stderr",
     "output_type": "stream",
     "text": [
      "/home/zw3/miniconda3/envs/llama2/lib/python3.9/site-packages/sklearn/metrics/_classification.py:1469: UndefinedMetricWarning: Precision and F-score are ill-defined and being set to 0.0 in labels with no predicted samples. Use `zero_division` parameter to control this behavior.\n",
      "  _warn_prf(average, modifier, msg_start, len(result))\n",
      "/home/zw3/miniconda3/envs/llama2/lib/python3.9/site-packages/sklearn/metrics/_classification.py:1469: UndefinedMetricWarning: Precision and F-score are ill-defined and being set to 0.0 in labels with no predicted samples. Use `zero_division` parameter to control this behavior.\n",
      "  _warn_prf(average, modifier, msg_start, len(result))\n",
      "/home/zw3/miniconda3/envs/llama2/lib/python3.9/site-packages/sklearn/metrics/_classification.py:1469: UndefinedMetricWarning: Precision and F-score are ill-defined and being set to 0.0 in labels with no predicted samples. Use `zero_division` parameter to control this behavior.\n",
      "  _warn_prf(average, modifier, msg_start, len(result))\n",
      "/home/zw3/miniconda3/envs/llama2/lib/python3.9/site-packages/sklearn/metrics/_classification.py:1469: UndefinedMetricWarning: Precision and F-score are ill-defined and being set to 0.0 in labels with no predicted samples. Use `zero_division` parameter to control this behavior.\n",
      "  _warn_prf(average, modifier, msg_start, len(result))\n",
      "/home/zw3/miniconda3/envs/llama2/lib/python3.9/site-packages/sklearn/metrics/_classification.py:1469: UndefinedMetricWarning: Precision and F-score are ill-defined and being set to 0.0 in labels with no predicted samples. Use `zero_division` parameter to control this behavior.\n",
      "  _warn_prf(average, modifier, msg_start, len(result))\n",
      "/home/zw3/miniconda3/envs/llama2/lib/python3.9/site-packages/sklearn/metrics/_classification.py:1469: UndefinedMetricWarning: Precision and F-score are ill-defined and being set to 0.0 in labels with no predicted samples. Use `zero_division` parameter to control this behavior.\n",
      "  _warn_prf(average, modifier, msg_start, len(result))\n",
      "/home/zw3/miniconda3/envs/llama2/lib/python3.9/site-packages/sklearn/metrics/_classification.py:1469: UndefinedMetricWarning: Precision and F-score are ill-defined and being set to 0.0 in labels with no predicted samples. Use `zero_division` parameter to control this behavior.\n",
      "  _warn_prf(average, modifier, msg_start, len(result))\n",
      "/home/zw3/miniconda3/envs/llama2/lib/python3.9/site-packages/sklearn/metrics/_classification.py:1469: UndefinedMetricWarning: Precision and F-score are ill-defined and being set to 0.0 in labels with no predicted samples. Use `zero_division` parameter to control this behavior.\n",
      "  _warn_prf(average, modifier, msg_start, len(result))\n",
      "/home/zw3/miniconda3/envs/llama2/lib/python3.9/site-packages/sklearn/metrics/_classification.py:1469: UndefinedMetricWarning: Precision and F-score are ill-defined and being set to 0.0 in labels with no predicted samples. Use `zero_division` parameter to control this behavior.\n",
      "  _warn_prf(average, modifier, msg_start, len(result))\n"
     ]
    }
   ],
   "source": [
    "macro_f1 = []\n",
    "acc = []\n",
    "for i in tags:\n",
    "    print(classification_report(i['gold'],i['answers'],digits=4))\n",
    "    macro_f1.append(f1_score(i['gold'],i['answers'],average='macro'))\n",
    "    acc.append(accuracy_score(i['gold'],i['answers']))"
   ]
  },
  {
   "cell_type": "code",
   "execution_count": 5,
   "metadata": {},
   "outputs": [
    {
     "name": "stdout",
     "output_type": "stream",
     "text": [
      "[0.24, 0.135, 0.425, 0.4] 0.30000000000000004\n",
      "[0.1935483870967742, 0.11894273127753305, 0.2982456140350877, 0.32157394843962006] 0.23307767021225373\n",
      "['24.0', '19.35', '13.5', '11.89', '42.5', '29.82', '40.0', '32.16', '30.0', '23.31']\n"
     ]
    }
   ],
   "source": [
    "print(acc, sum(acc)/len(acc))\n",
    "print(macro_f1, sum(macro_f1)/len(macro_f1))\n",
    "output = []\n",
    "for i, j in zip(macro_f1,acc):\n",
    "    output.append(round(j*100,2))\n",
    "    output.append(round(i*100,2))\n",
    "output.append(round(sum(acc)/len(acc)*100,2))\n",
    "output.append(round(sum(macro_f1)/len(macro_f1)*100,2))\n",
    "output = [str(i) for i in output]\n",
    "print(output)\n",
    "    "
   ]
  },
  {
   "cell_type": "code",
   "execution_count": 6,
   "metadata": {},
   "outputs": [
    {
     "name": "stdout",
     "output_type": "stream",
     "text": [
      "24.0 & 19.35 & 13.5 & 11.89 & 42.5 & 29.82 & 40.0 & 32.16 & 30.0 & 23.31\n"
     ]
    }
   ],
   "source": [
    "print(' & '.join(output))"
   ]
  }
 ],
 "metadata": {
  "kernelspec": {
   "display_name": "llama2",
   "language": "python",
   "name": "python3"
  },
  "language_info": {
   "codemirror_mode": {
    "name": "ipython",
    "version": 3
   },
   "file_extension": ".py",
   "mimetype": "text/x-python",
   "name": "python",
   "nbconvert_exporter": "python",
   "pygments_lexer": "ipython3",
   "version": "3.9.17"
  },
  "orig_nbformat": 4
 },
 "nbformat": 4,
 "nbformat_minor": 2
}
