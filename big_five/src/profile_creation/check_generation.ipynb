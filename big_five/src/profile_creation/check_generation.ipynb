{
 "cells": [
  {
   "cell_type": "code",
   "execution_count": 2,
   "metadata": {},
   "outputs": [
    {
     "data": {
      "text/plain": [
       "env_idx\n",
       "0       3\n",
       "3330    3\n",
       "3337    3\n",
       "3336    3\n",
       "3335    3\n",
       "       ..\n",
       "1666    3\n",
       "1665    3\n",
       "1664    3\n",
       "1663    3\n",
       "4999    3\n",
       "Name: count, Length: 5000, dtype: int64"
      ]
     },
     "execution_count": 2,
     "metadata": {},
     "output_type": "execute_result"
    }
   ],
   "source": [
    "import json\n",
    "import pandas as pd\n",
    "data = [json.loads(i) for i in open(\"/data/user_data/wenkail/llm_personality/profiles/env_profiles_n_2.jsonl\", 'r').readlines()]\n",
    "df = pd.DataFrame().from_records(data)\n",
    "df['env_idx'].value_counts()"
   ]
  }
 ],
 "metadata": {
  "kernelspec": {
   "display_name": "new",
   "language": "python",
   "name": "python3"
  },
  "language_info": {
   "codemirror_mode": {
    "name": "ipython",
    "version": 3
   },
   "file_extension": ".py",
   "mimetype": "text/x-python",
   "name": "python",
   "nbconvert_exporter": "python",
   "pygments_lexer": "ipython3",
   "version": "3.11.5"
  }
 },
 "nbformat": 4,
 "nbformat_minor": 2
}
