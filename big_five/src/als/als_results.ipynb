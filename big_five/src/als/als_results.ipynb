{
 "cells": [
  {
   "cell_type": "code",
   "execution_count": 3,
   "metadata": {},
   "outputs": [],
   "source": [
    "import json\n",
    "from sklearn.metrics import classification_report\n",
    "\n",
    "preds, labels = json.load(open(\"pred.json\", 'r')), json.load(open(\"rs.json\", 'r'))\n",
    "preds = preds['preds']"
   ]
  },
  {
   "cell_type": "code",
   "execution_count": 4,
   "metadata": {},
   "outputs": [
    {
     "data": {
      "text/plain": [
       "(5, 5)"
      ]
     },
     "execution_count": 4,
     "metadata": {},
     "output_type": "execute_result"
    }
   ],
   "source": [
    "len(preds), len(labels)"
   ]
  },
  {
   "cell_type": "code",
   "execution_count": 11,
   "metadata": {},
   "outputs": [
    {
     "name": "stdout",
     "output_type": "stream",
     "text": [
      "o\n",
      "              precision    recall  f1-score   support\n",
      "\n",
      "           0       0.63      0.57      0.60      3304\n",
      "           1       0.42      0.38      0.40      3241\n",
      "           2       0.58      0.70      0.63      3447\n",
      "\n",
      "    accuracy                           0.55      9992\n",
      "   macro avg       0.55      0.55      0.54      9992\n",
      "weighted avg       0.55      0.55      0.55      9992\n",
      "\n",
      "c\n",
      "              precision    recall  f1-score   support\n",
      "\n",
      "           0       0.67      0.46      0.55      3303\n",
      "           1       0.44      0.29      0.35      3438\n",
      "           2       0.49      0.81      0.61      3251\n",
      "\n",
      "    accuracy                           0.52      9992\n",
      "   macro avg       0.53      0.52      0.50      9992\n",
      "weighted avg       0.53      0.52      0.50      9992\n",
      "\n",
      "e\n",
      "              precision    recall  f1-score   support\n",
      "\n",
      "           0       0.65      0.54      0.59      3370\n",
      "           1       0.44      0.34      0.39      3299\n",
      "           2       0.55      0.76      0.64      3323\n",
      "\n",
      "    accuracy                           0.55      9992\n",
      "   macro avg       0.54      0.55      0.54      9992\n",
      "weighted avg       0.55      0.55      0.54      9992\n",
      "\n",
      "a\n",
      "              precision    recall  f1-score   support\n",
      "\n",
      "           0       0.59      0.66      0.62      3307\n",
      "           1       0.43      0.37      0.40      3392\n",
      "           2       0.59      0.61      0.60      3293\n",
      "\n",
      "    accuracy                           0.54      9992\n",
      "   macro avg       0.54      0.55      0.54      9992\n",
      "weighted avg       0.54      0.54      0.54      9992\n",
      "\n",
      "n\n",
      "              precision    recall  f1-score   support\n",
      "\n",
      "           0       0.59      0.69      0.64      3377\n",
      "           1       0.45      0.38      0.41      3259\n",
      "           2       0.66      0.65      0.65      3356\n",
      "\n",
      "    accuracy                           0.57      9992\n",
      "   macro avg       0.57      0.57      0.57      9992\n",
      "weighted avg       0.57      0.57      0.57      9992\n",
      "\n"
     ]
    }
   ],
   "source": [
    "import numpy as np\n",
    "dim = ['o', 'c', 'e', 'a', 'n']\n",
    "for level in range(len(preds)):\n",
    "        print(dim[level])\n",
    "        print(classification_report(labels[level], preds[level]))"
   ]
  }
 ],
 "metadata": {
  "kernelspec": {
   "display_name": "new",
   "language": "python",
   "name": "python3"
  },
  "language_info": {
   "codemirror_mode": {
    "name": "ipython",
    "version": 3
   },
   "file_extension": ".py",
   "mimetype": "text/x-python",
   "name": "python",
   "nbconvert_exporter": "python",
   "pygments_lexer": "ipython3",
   "version": "3.11.5"
  }
 },
 "nbformat": 4,
 "nbformat_minor": 2
}
