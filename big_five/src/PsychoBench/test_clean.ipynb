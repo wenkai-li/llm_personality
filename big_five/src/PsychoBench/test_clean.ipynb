{
 "cells": [
  {
   "cell_type": "code",
   "execution_count": 2,
   "metadata": {},
   "outputs": [
    {
     "name": "stdout",
     "output_type": "stream",
     "text": [
      "2:1\n",
      "3:5\n",
      "4:1\n",
      "5:4\n",
      "6:2\n",
      "7:5\n",
      "8:2\n",
      "9:4\n",
      "10:5\n",
      "11:4\n",
      "12:1\n",
      "13:5\n",
      "14:2\n",
      "15:4\n",
      "16:5\n",
      "17:5\n",
      "18:1\n",
      "19:2\n",
      "20:4\n",
      "21:2\n",
      "22:5\n",
      "23:1\n",
      "24:5\n",
      "25:4\n",
      "26:4\n",
      "27:1\n",
      "28:5\n",
      "29:2\n",
      "30:4\n"
     ]
    }
   ],
   "source": [
    "data = \"\"\"\n",
    "I'll score each statement from 1 to 5. Here are my responses:\n",
    "\n",
    "1. Is talkative: 2\n",
    "2. Tends to find fault with others: 1\n",
    "3. Does a thorough job: 5\n",
    "4. Is depressed, blue: 1\n",
    "5. Is original, comes up with new ideas: 4\n",
    "6. Is reserved: 2\n",
    "7. Is helpful and unselfish with others: 5\n",
    "8. Can be somewhat careless: 2\n",
    "9. Is relaxed, handles stress well: 4\n",
    "10. Is curious about many different things: 5\n",
    "11. Is full of energy: 4\n",
    "12. Starts quarrels with others: 1\n",
    "13. Is a reliable worker: 5\n",
    "14. Can be tense: 2\n",
    "15. Is ingenious, a deep thinker: 4\n",
    "16. Generates a lot of enthusiasm: 5\n",
    "17. Has a forgiving nature: 5\n",
    "18. Tends to be disorganized: 1\n",
    "19. Worries a lot: 2\n",
    "20. Has an active imagination: 4\n",
    "21. Tends to be quiet: 2\n",
    "22. Is generally trusting: 5\n",
    "23. Tends to be lazy: 1\n",
    "24. Is emotionally stable, not easily upset: 5\n",
    "25. Is inventive: 4\n",
    "26. Has an assertive personality: 4\n",
    "27. Can be cold and aloof: 1\n",
    "28. Perseveres until the task is finished: 5\n",
    "29. Can be moody: 2\n",
    "30. Values artistic, aesthetic experiences: 4\n",
    "\"\"\"\n",
    "\n",
    "# Split the data into lines\n",
    "lines = data.strip().split(\"\\n\")\n",
    "\n",
    "# Skip the first three lines which are not needed\n",
    "lines = lines[2:]\n",
    "\n",
    "# Process each line and format it as \"number:score\"\n",
    "formatted_responses = [f\"{line.split('.')[0]}:{line.split(':')[-1].strip()}\" for line in lines]\n",
    "\n",
    "# Join the formatted responses into the desired format\n",
    "result = \"\\n\".join(formatted_responses)\n",
    "\n",
    "print(result)\n"
   ]
  },
  {
   "cell_type": "code",
   "execution_count": 4,
   "metadata": {},
   "outputs": [
    {
     "data": {
      "text/plain": [
       "True"
      ]
     },
     "execution_count": 4,
     "metadata": {},
     "output_type": "execute_result"
    }
   ],
   "source": [
    "result.startswith('2')"
   ]
  }
 ],
 "metadata": {
  "kernelspec": {
   "display_name": "lp",
   "language": "python",
   "name": "python3"
  },
  "language_info": {
   "codemirror_mode": {
    "name": "ipython",
    "version": 3
   },
   "file_extension": ".py",
   "mimetype": "text/x-python",
   "name": "python",
   "nbconvert_exporter": "python",
   "pygments_lexer": "ipython3",
   "version": "3.10.14"
  }
 },
 "nbformat": 4,
 "nbformat_minor": 2
}
