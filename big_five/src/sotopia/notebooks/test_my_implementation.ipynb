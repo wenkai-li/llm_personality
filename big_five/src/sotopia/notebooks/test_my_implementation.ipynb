{
 "cells": [
  {
   "cell_type": "code",
   "execution_count": 1,
   "metadata": {},
   "outputs": [],
   "source": [
    "%load_ext autoreload\n",
    "%autoreload 2"
   ]
  },
  {
   "cell_type": "markdown",
   "metadata": {},
   "source": [
    "# test tinydb database implementation"
   ]
  },
  {
   "cell_type": "code",
   "execution_count": 19,
   "metadata": {},
   "outputs": [],
   "source": [
    "import sys\n",
    "sys.path.append(\"../../\")"
   ]
  },
  {
   "cell_type": "code",
   "execution_count": null,
   "metadata": {},
   "outputs": [],
   "source": [
    "from sotopia.databases.profile_store import ProfileStore\n",
    "from sotopia.config import DatabaseArgs\n",
    "args = DatabaseArgs\n",
    "ps = ProfileStore(args, \"agent_profile\")\n",
    "ps.insert_unique({'name': 'John Doe', 'age': 30, 'conversation': [{\"speaker1\": \"a\"}, {\"speaker2\": \"b\"}]})\n",
    "# ps.insert({'name': 'John Doe', 'age': 29, 'conversation': [{\"speaker1\": \"a\"}, {\"speaker2\": \"b\"}]})\n",
    "# ps.insert({'name': 'John Doe', 'age': 29, 'conversation': [{\"speaker1\": \"a\"}, {\"speaker2\": \"b\"}]})\n",
    "# ps.insert({'name': 'John Doe', 'age': 27, 'conversation': [{\"speaker1\": \"a\"}, {\"speaker2\": \"b\"}]})\n",
    "ps.all()"
   ]
  },
  {
   "cell_type": "markdown",
   "metadata": {},
   "source": [
    "# test tinydb inherited class implementation"
   ]
  },
  {
   "cell_type": "code",
   "execution_count": 6,
   "metadata": {},
   "outputs": [],
   "source": [
    "import sys\n",
    "sys.path.append(\"../../\")\n",
    "from sotopia.databases.persistent_profile import AgentProfile\n",
    "from typing import Any\n",
    "def add_agent_to_database(**kwargs: dict[str, Any]) -> None:\n",
    "    agent = AgentProfile(**kwargs)\n",
    "    agent.init_profile_store()\n",
    "    # agent.db.insert(agent.dict())\n",
    "    agent.db.insert_unique(agent.dict())\n",
    "    return agent"
   ]
  },
  {
   "cell_type": "code",
   "execution_count": 7,
   "metadata": {},
   "outputs": [],
   "source": [
    "# @title Let's first add a character to the database. Only name is required when creating a new character\n",
    "\n",
    "\n",
    "first_name = 'Alice' # @param {type:\"string\"}\n",
    "last_name = 'Smith' # @param {type:\"string\"}\n",
    "age = 22 # @param {type:\"integer\"}\n",
    "occupation = 'Data Scientist' # @param {type:\"string\"}\n",
    "gender = 'Woman' # @param [\"Man\", \"Woman\", \"Nonbinary\"]\n",
    "gender_pronoun = 'she/her' # @param {type:\"string\"}\n",
    "big_five = \"extraversion, openness\" # @param {type:\"string\"}\n",
    "moral_values = [\"power\", \"achievement\"] # @param {type:\"string\"}\n",
    "decision_making_style = \"analytical\" # @param {type:\"string\"}\n",
    "secret = \"She cheated in her code interview\" # @param {type:\"string\"}\n",
    "\n",
    "agent = add_agent_to_database(\n",
    "    first_name=first_name,\n",
    "    last_name=last_name,\n",
    "    age=age,\n",
    "    occupation=occupation,\n",
    "    gender=gender,\n",
    "    gender_pronoun=gender_pronoun,\n",
    "    big_five=big_five,\n",
    "    moral_values=moral_values,\n",
    "    decision_making_style=decision_making_style,\n",
    "    secret=secret,\n",
    ")"
   ]
  },
  {
   "cell_type": "code",
   "execution_count": 10,
   "metadata": {},
   "outputs": [
    {
     "data": {
      "text/plain": [
       "'{\"first_name\": \"Alice\", \"last_name\": \"Smith\", \"age\": 22, \"occupation\": \"Data Scientist\", \"gender\": \"Woman\", \"gender_pronoun\": \"she/her\", \"public_info\": \"\", \"big_five\": \"extraversion, openness\", \"moral_values\": [\"power\", \"achievement\"], \"schwartz_personal_values\": [], \"personality_and_values\": \"\", \"decision_making_style\": \"analytical\", \"secret\": \"She cheated in her code interview\", \"model_id\": \"\", \"mbti\": \"\"}'"
      ]
     },
     "execution_count": 10,
     "metadata": {},
     "output_type": "execute_result"
    }
   ],
   "source": [
    "agent.json()"
   ]
  },
  {
   "cell_type": "code",
   "execution_count": 14,
   "metadata": {},
   "outputs": [
    {
     "data": {
      "text/plain": [
       "[{'first_name': 'Alice',\n",
       "  'last_name': 'Smith',\n",
       "  'age': 22,\n",
       "  'occupation': 'Data Scientist',\n",
       "  'gender': 'Woman',\n",
       "  'gender_pronoun': 'she/her',\n",
       "  'public_info': '',\n",
       "  'big_five': 'extraversion, openness',\n",
       "  'moral_values': ['power', 'achievement'],\n",
       "  'schwartz_personal_values': [],\n",
       "  'personality_and_values': '',\n",
       "  'decision_making_style': 'analytical',\n",
       "  'secret': 'She cheated in her code interview',\n",
       "  'model_id': '',\n",
       "  'mbti': '',\n",
       "  'id': '57485eac-9295-49c7-8359-8b274910d026'},\n",
       " {'first_name': 'Alice',\n",
       "  'last_name': 'Smith',\n",
       "  'age': 22,\n",
       "  'occupation': 'Data Scientist',\n",
       "  'gender': 'Woman',\n",
       "  'gender_pronoun': 'she/her',\n",
       "  'public_info': '',\n",
       "  'big_five': 'extraversion, openness',\n",
       "  'moral_values': ['power', 'achievement'],\n",
       "  'schwartz_personal_values': [],\n",
       "  'personality_and_values': '',\n",
       "  'decision_making_style': 'analytical',\n",
       "  'secret': 'She cheated in her code interview',\n",
       "  'model_id': '',\n",
       "  'mbti': '',\n",
       "  'id': '08db5e4b-7a86-472e-82e1-eb0970d0aea9'}]"
      ]
     },
     "execution_count": 14,
     "metadata": {},
     "output_type": "execute_result"
    }
   ],
   "source": [
    "agent.db.all()"
   ]
  },
  {
   "cell_type": "code",
   "execution_count": 22,
   "metadata": {},
   "outputs": [
    {
     "data": {
      "text/plain": [
       "[{'first_name': 'Alice',\n",
       "  'last_name': 'Smith',\n",
       "  'age': 22,\n",
       "  'occupation': 'Data Scientist',\n",
       "  'gender': 'Woman',\n",
       "  'gender_pronoun': 'she/her',\n",
       "  'public_info': '',\n",
       "  'big_five': 'extraversion, openness',\n",
       "  'moral_values': ['power', 'achievement'],\n",
       "  'schwartz_personal_values': [],\n",
       "  'personality_and_values': '',\n",
       "  'decision_making_style': 'analytical',\n",
       "  'secret': 'She cheated in her code interview',\n",
       "  'model_id': '',\n",
       "  'mbti': '',\n",
       "  'id': '57485eac-9295-49c7-8359-8b274910d026'},\n",
       " {'first_name': 'Alice',\n",
       "  'last_name': 'Smith',\n",
       "  'age': 22,\n",
       "  'occupation': 'Data Scientist',\n",
       "  'gender': 'Woman',\n",
       "  'gender_pronoun': 'she/her',\n",
       "  'public_info': '',\n",
       "  'big_five': 'extraversion, openness',\n",
       "  'moral_values': ['power', 'achievement'],\n",
       "  'schwartz_personal_values': [],\n",
       "  'personality_and_values': '',\n",
       "  'decision_making_style': 'analytical',\n",
       "  'secret': 'She cheated in her code interview',\n",
       "  'model_id': '',\n",
       "  'mbti': '',\n",
       "  'id': '08db5e4b-7a86-472e-82e1-eb0970d0aea9'}]"
      ]
     },
     "execution_count": 22,
     "metadata": {},
     "output_type": "execute_result"
    }
   ],
   "source": [
    "agent.db.all()"
   ]
  },
  {
   "cell_type": "code",
   "execution_count": 23,
   "metadata": {},
   "outputs": [
    {
     "data": {
      "text/plain": [
       "[int, int]"
      ]
     },
     "execution_count": 23,
     "metadata": {},
     "output_type": "execute_result"
    }
   ],
   "source": [
    "[type(doc.doc_id) for doc in agent.db.all()]"
   ]
  },
  {
   "cell_type": "code",
   "execution_count": 16,
   "metadata": {},
   "outputs": [
    {
     "data": {
      "text/plain": [
       "{'first_name': 'Alice',\n",
       " 'last_name': 'Smith',\n",
       " 'age': 22,\n",
       " 'occupation': 'Data Scientist',\n",
       " 'gender': 'Woman',\n",
       " 'gender_pronoun': 'she/her',\n",
       " 'public_info': '',\n",
       " 'big_five': 'extraversion, openness',\n",
       " 'moral_values': ['power', 'achievement'],\n",
       " 'schwartz_personal_values': [],\n",
       " 'personality_and_values': '',\n",
       " 'decision_making_style': 'analytical',\n",
       " 'secret': 'She cheated in her code interview',\n",
       " 'model_id': '',\n",
       " 'mbti': '',\n",
       " 'id': '57485eac-9295-49c7-8359-8b274910d026'}"
      ]
     },
     "execution_count": 16,
     "metadata": {},
     "output_type": "execute_result"
    }
   ],
   "source": [
    "agent.db.get(gender='Woman')"
   ]
  },
  {
   "cell_type": "markdown",
   "metadata": {},
   "source": [
    "# reproduce sotopia tutorial: overall debugging"
   ]
  },
  {
   "cell_type": "code",
   "execution_count": 2,
   "metadata": {},
   "outputs": [
    {
     "name": "stderr",
     "output_type": "stream",
     "text": [
      "/data/user_data/jiaruil5/miniconda3/envs/new/lib/python3.11/site-packages/pydantic/_internal/_fields.py:160: UserWarning: Field \"model_id\" has conflict with protected namespace \"model_\".\n",
      "\n",
      "You may be able to resolve this warning by setting `model_config['protected_namespaces'] = ()`.\n",
      "  warnings.warn(\n"
     ]
    }
   ],
   "source": [
    "import sys\n",
    "sys.path.append(\"../../\")\n",
    "from sotopia.databases.persistent_profile import AgentProfile, EnvironmentProfile\n",
    "from typing import Any\n",
    "def add_agent_to_database(**kwargs: dict[str, Any]) -> None:\n",
    "    agent = AgentProfile(**kwargs)\n",
    "    agent.init_profile_store()\n",
    "    # agent.db.insert(agent.dict())\n",
    "    agent.db.insert_unique(agent.dict())\n",
    "    return agent\n",
    "\n",
    "def add_env_profile(**kwargs: dict[str, Any]) -> None:\n",
    "    env_profile = EnvironmentProfile(**kwargs)\n",
    "    env_profile.init_profile_store()\n",
    "    env_profile.db.insert_unique(env_profile.dict())\n",
    "    return env_profile"
   ]
  },
  {
   "cell_type": "code",
   "execution_count": 3,
   "metadata": {},
   "outputs": [],
   "source": [
    "# @title Let's first add a character to the database. Only name is required when creating a new character\n",
    "\n",
    "\n",
    "first_name = 'Alice' # @param {type:\"string\"}\n",
    "last_name = 'Smith' # @param {type:\"string\"}\n",
    "age = 22 # @param {type:\"integer\"}\n",
    "occupation = 'Data Scientist' # @param {type:\"string\"}\n",
    "gender = 'Woman' # @param [\"Man\", \"Woman\", \"Nonbinary\"]\n",
    "gender_pronoun = 'she/her' # @param {type:\"string\"}\n",
    "big_five = \"extraversion, openness\" # @param {type:\"string\"}\n",
    "moral_values = [\"power\", \"achievement\"] # @param {type:\"string\"}\n",
    "decision_making_style = \"analytical\" # @param {type:\"string\"}\n",
    "secret = \"She cheated in her code interview\" # @param {type:\"string\"}\n",
    "\n",
    "agent = add_agent_to_database(\n",
    "    first_name=first_name,\n",
    "    last_name=last_name,\n",
    "    age=age,\n",
    "    occupation=occupation,\n",
    "    gender=gender,\n",
    "    gender_pronoun=gender_pronoun,\n",
    "    big_five=big_five,\n",
    "    moral_values=moral_values,\n",
    "    decision_making_style=decision_making_style,\n",
    "    secret=secret,\n",
    ")"
   ]
  },
  {
   "cell_type": "code",
   "execution_count": 4,
   "metadata": {},
   "outputs": [
    {
     "data": {
      "text/plain": [
       "[{'first_name': 'Alice',\n",
       "  'last_name': 'Smith',\n",
       "  'age': 22,\n",
       "  'occupation': 'Data Scientist',\n",
       "  'gender': 'Woman',\n",
       "  'gender_pronoun': 'she/her',\n",
       "  'public_info': '',\n",
       "  'big_five': 'extraversion, openness',\n",
       "  'moral_values': ['power', 'achievement'],\n",
       "  'schwartz_personal_values': [],\n",
       "  'personality_and_values': '',\n",
       "  'decision_making_style': 'analytical',\n",
       "  'secret': 'She cheated in her code interview',\n",
       "  'model_id': '',\n",
       "  'mbti': ''},\n",
       " {'first_name': 'Bob',\n",
       "  'last_name': 'Johnson',\n",
       "  'age': 30,\n",
       "  'occupation': 'Chef',\n",
       "  'gender': 'Man',\n",
       "  'gender_pronoun': 'he/his',\n",
       "  'public_info': '',\n",
       "  'big_five': 'openness, conscientiousness',\n",
       "  'moral_values': ['Benevolence'],\n",
       "  'schwartz_personal_values': [],\n",
       "  'personality_and_values': '',\n",
       "  'decision_making_style': 'conceptual',\n",
       "  'secret': 'He has a negative net worth.',\n",
       "  'model_id': '',\n",
       "  'mbti': ''}]"
      ]
     },
     "execution_count": 4,
     "metadata": {},
     "output_type": "execute_result"
    }
   ],
   "source": [
    "agent.db.all()"
   ]
  },
  {
   "cell_type": "code",
   "execution_count": 5,
   "metadata": {},
   "outputs": [],
   "source": [
    "# @title Let's add another character\n",
    "\n",
    "\n",
    "first_name = 'Bob' # @param {type:\"string\"}\n",
    "last_name = 'Johnson' # @param {type:\"string\"}\n",
    "age = 30 # @param {type:\"integer\"}\n",
    "occupation = 'Chef' # @param {type:\"string\"}\n",
    "gender = 'Man' # @param [\"Man\", \"Woman\", \"Nonbinary\"]\n",
    "gender_pronoun = 'he/his' # @param {type:\"string\"}\n",
    "big_five = \"openness, conscientiousness\" # @param {type:\"string\"}\n",
    "moral_values = [\"Benevolence\"] # @param {type:\"string\"}\n",
    "decision_making_style = \"conceptual\" # @param {type:\"string\"}\n",
    "secret = \"He has a negative net worth.\" # @param {type:\"string\"}\n",
    "\n",
    "agent = add_agent_to_database(\n",
    "    first_name=first_name,\n",
    "    last_name=last_name,\n",
    "    age=age,\n",
    "    occupation=occupation,\n",
    "    gender=gender,\n",
    "    gender_pronoun=gender_pronoun,\n",
    "    big_five=big_five,\n",
    "    moral_values=moral_values,\n",
    "    decision_making_style=decision_making_style,\n",
    "    secret=secret,\n",
    ")"
   ]
  },
  {
   "cell_type": "code",
   "execution_count": 6,
   "metadata": {},
   "outputs": [
    {
     "data": {
      "text/plain": [
       "[{'first_name': 'Alice',\n",
       "  'last_name': 'Smith',\n",
       "  'age': 22,\n",
       "  'occupation': 'Data Scientist',\n",
       "  'gender': 'Woman',\n",
       "  'gender_pronoun': 'she/her',\n",
       "  'public_info': '',\n",
       "  'big_five': 'extraversion, openness',\n",
       "  'moral_values': ['power', 'achievement'],\n",
       "  'schwartz_personal_values': [],\n",
       "  'personality_and_values': '',\n",
       "  'decision_making_style': 'analytical',\n",
       "  'secret': 'She cheated in her code interview',\n",
       "  'model_id': '',\n",
       "  'mbti': ''},\n",
       " {'first_name': 'Bob',\n",
       "  'last_name': 'Johnson',\n",
       "  'age': 30,\n",
       "  'occupation': 'Chef',\n",
       "  'gender': 'Man',\n",
       "  'gender_pronoun': 'he/his',\n",
       "  'public_info': '',\n",
       "  'big_five': 'openness, conscientiousness',\n",
       "  'moral_values': ['Benevolence'],\n",
       "  'schwartz_personal_values': [],\n",
       "  'personality_and_values': '',\n",
       "  'decision_making_style': 'conceptual',\n",
       "  'secret': 'He has a negative net worth.',\n",
       "  'model_id': '',\n",
       "  'mbti': ''}]"
      ]
     },
     "execution_count": 6,
     "metadata": {},
     "output_type": "execute_result"
    }
   ],
   "source": [
    "agent.db.all()"
   ]
  },
  {
   "cell_type": "code",
   "execution_count": 7,
   "metadata": {},
   "outputs": [],
   "source": [
    "# @title Let's add a social tasks\n",
    "\n",
    "scenario = \"A friend is raising a fund for the \\\"Help the children\\\" charity\" # @param {type:\"string\"}\n",
    "social_goal_1 = \"Ask for donation of $100\" # @param {type:\"string\"}\n",
    "social_goal_2 = \"Donate less than $10\" # @param {type:\"string\"}\n",
    "\n",
    "env_profile = add_env_profile(\n",
    "    scenario=scenario,\n",
    "    agent_goals = [social_goal_1, social_goal_2]\n",
    ")"
   ]
  },
  {
   "cell_type": "code",
   "execution_count": 8,
   "metadata": {},
   "outputs": [
    {
     "data": {
      "text/plain": [
       "[{'codename': '',\n",
       "  'source': '',\n",
       "  'scenario': 'A friend is raising a fund for the \"Help the children\" charity',\n",
       "  'agent_goals': ['Ask for donation of $100', 'Donate less than $10'],\n",
       "  'relationship': 0,\n",
       "  'age_constraint': None,\n",
       "  'occupation_constraint': None,\n",
       "  'agent_constraint': None}]"
      ]
     },
     "execution_count": 8,
     "metadata": {},
     "output_type": "execute_result"
    }
   ],
   "source": [
    "env_profile.db.all()"
   ]
  },
  {
   "cell_type": "code",
   "execution_count": 10,
   "metadata": {},
   "outputs": [
    {
     "name": "stderr",
     "output_type": "stream",
     "text": [
      "WARNING:langchain_community.chat_models.openai:WARNING! org_id is not default parameter.\n",
      "                    org_id was transferred to model_kwargs.\n",
      "                    Please confirm that org_id is what you intended.\n",
      "WARNING:langchain_community.chat_models.openai:WARNING! org_id is not default parameter.\n",
      "                    org_id was transferred to model_kwargs.\n",
      "                    Please confirm that org_id is what you intended.\n",
      "WARNING:langchain_community.chat_models.openai:WARNING! org_id is not default parameter.\n",
      "                    org_id was transferred to model_kwargs.\n",
      "                    Please confirm that org_id is what you intended.\n"
     ]
    },
    {
     "name": "stdout",
     "output_type": "stream",
     "text": [
      "Is the agent omniscient? False\n",
      "None\n",
      "None\n",
      "None\n",
      "None\n",
      "None\n",
      "None\n"
     ]
    },
    {
     "data": {
      "text/html": [
       "<pre style=\"white-space:pre;overflow-x:auto;line-height:normal;font-family:Menlo,'DejaVu Sans Mono',consolas,'Courier New',monospace\">\n",
       "</pre>\n"
      ],
      "text/plain": [
       "\n"
      ]
     },
     "metadata": {},
     "output_type": "display_data"
    },
    {
     "data": {
      "text/html": [
       "<pre style=\"white-space:pre;overflow-x:auto;line-height:normal;font-family:Menlo,'DejaVu Sans Mono',consolas,'Courier New',monospace\"><span style=\"font-weight: bold\">{</span>\n",
       "    <span style=\"color: #008000; text-decoration-color: #008000\">'first_name'</span>: <span style=\"color: #008000; text-decoration-color: #008000\">'Alice'</span>,\n",
       "    <span style=\"color: #008000; text-decoration-color: #008000\">'last_name'</span>: <span style=\"color: #008000; text-decoration-color: #008000\">'Smith'</span>,\n",
       "    <span style=\"color: #008000; text-decoration-color: #008000\">'age'</span>: <span style=\"color: #008080; text-decoration-color: #008080; font-weight: bold\">22</span>,\n",
       "    <span style=\"color: #008000; text-decoration-color: #008000\">'occupation'</span>: <span style=\"color: #008000; text-decoration-color: #008000\">'Data Scientist'</span>,\n",
       "    <span style=\"color: #008000; text-decoration-color: #008000\">'gender'</span>: <span style=\"color: #008000; text-decoration-color: #008000\">'Woman'</span>,\n",
       "    <span style=\"color: #008000; text-decoration-color: #008000\">'gender_pronoun'</span>: <span style=\"color: #008000; text-decoration-color: #008000\">'she/her'</span>,\n",
       "    <span style=\"color: #008000; text-decoration-color: #008000\">'public_info'</span>: <span style=\"color: #008000; text-decoration-color: #008000\">''</span>,\n",
       "    <span style=\"color: #008000; text-decoration-color: #008000\">'big_five'</span>: <span style=\"color: #008000; text-decoration-color: #008000\">'extraversion, openness'</span>,\n",
       "    <span style=\"color: #008000; text-decoration-color: #008000\">'moral_values'</span>: <span style=\"font-weight: bold\">[</span><span style=\"color: #008000; text-decoration-color: #008000\">'power'</span>, <span style=\"color: #008000; text-decoration-color: #008000\">'achievement'</span><span style=\"font-weight: bold\">]</span>,\n",
       "    <span style=\"color: #008000; text-decoration-color: #008000\">'schwartz_personal_values'</span>: <span style=\"font-weight: bold\">[]</span>,\n",
       "    <span style=\"color: #008000; text-decoration-color: #008000\">'personality_and_values'</span>: <span style=\"color: #008000; text-decoration-color: #008000\">''</span>,\n",
       "    <span style=\"color: #008000; text-decoration-color: #008000\">'decision_making_style'</span>: <span style=\"color: #008000; text-decoration-color: #008000\">'analytical'</span>,\n",
       "    <span style=\"color: #008000; text-decoration-color: #008000\">'secret'</span>: <span style=\"color: #008000; text-decoration-color: #008000\">'She cheated in her code interview'</span>,\n",
       "    <span style=\"color: #008000; text-decoration-color: #008000\">'model_id'</span>: <span style=\"color: #008000; text-decoration-color: #008000\">''</span>,\n",
       "    <span style=\"color: #008000; text-decoration-color: #008000\">'mbti'</span>: <span style=\"color: #008000; text-decoration-color: #008000\">''</span>\n",
       "<span style=\"font-weight: bold\">}</span>\n",
       "</pre>\n"
      ],
      "text/plain": [
       "\u001b[1m{\u001b[0m\n",
       "    \u001b[32m'first_name'\u001b[0m: \u001b[32m'Alice'\u001b[0m,\n",
       "    \u001b[32m'last_name'\u001b[0m: \u001b[32m'Smith'\u001b[0m,\n",
       "    \u001b[32m'age'\u001b[0m: \u001b[1;36m22\u001b[0m,\n",
       "    \u001b[32m'occupation'\u001b[0m: \u001b[32m'Data Scientist'\u001b[0m,\n",
       "    \u001b[32m'gender'\u001b[0m: \u001b[32m'Woman'\u001b[0m,\n",
       "    \u001b[32m'gender_pronoun'\u001b[0m: \u001b[32m'she/her'\u001b[0m,\n",
       "    \u001b[32m'public_info'\u001b[0m: \u001b[32m''\u001b[0m,\n",
       "    \u001b[32m'big_five'\u001b[0m: \u001b[32m'extraversion, openness'\u001b[0m,\n",
       "    \u001b[32m'moral_values'\u001b[0m: \u001b[1m[\u001b[0m\u001b[32m'power'\u001b[0m, \u001b[32m'achievement'\u001b[0m\u001b[1m]\u001b[0m,\n",
       "    \u001b[32m'schwartz_personal_values'\u001b[0m: \u001b[1m[\u001b[0m\u001b[1m]\u001b[0m,\n",
       "    \u001b[32m'personality_and_values'\u001b[0m: \u001b[32m''\u001b[0m,\n",
       "    \u001b[32m'decision_making_style'\u001b[0m: \u001b[32m'analytical'\u001b[0m,\n",
       "    \u001b[32m'secret'\u001b[0m: \u001b[32m'She cheated in her code interview'\u001b[0m,\n",
       "    \u001b[32m'model_id'\u001b[0m: \u001b[32m''\u001b[0m,\n",
       "    \u001b[32m'mbti'\u001b[0m: \u001b[32m''\u001b[0m\n",
       "\u001b[1m}\u001b[0m\n"
      ]
     },
     "metadata": {},
     "output_type": "display_data"
    },
    {
     "data": {
      "text/html": [
       "<pre style=\"white-space:pre;overflow-x:auto;line-height:normal;font-family:Menlo,'DejaVu Sans Mono',consolas,'Courier New',monospace\"><span style=\"font-weight: bold\">{</span>\n",
       "    <span style=\"color: #008000; text-decoration-color: #008000\">'first_name'</span>: <span style=\"color: #008000; text-decoration-color: #008000\">'Bob'</span>,\n",
       "    <span style=\"color: #008000; text-decoration-color: #008000\">'last_name'</span>: <span style=\"color: #008000; text-decoration-color: #008000\">'Johnson'</span>,\n",
       "    <span style=\"color: #008000; text-decoration-color: #008000\">'age'</span>: <span style=\"color: #008080; text-decoration-color: #008080; font-weight: bold\">30</span>,\n",
       "    <span style=\"color: #008000; text-decoration-color: #008000\">'occupation'</span>: <span style=\"color: #008000; text-decoration-color: #008000\">'Chef'</span>,\n",
       "    <span style=\"color: #008000; text-decoration-color: #008000\">'gender'</span>: <span style=\"color: #008000; text-decoration-color: #008000\">'Man'</span>,\n",
       "    <span style=\"color: #008000; text-decoration-color: #008000\">'gender_pronoun'</span>: <span style=\"color: #008000; text-decoration-color: #008000\">'he/his'</span>,\n",
       "    <span style=\"color: #008000; text-decoration-color: #008000\">'public_info'</span>: <span style=\"color: #008000; text-decoration-color: #008000\">''</span>,\n",
       "    <span style=\"color: #008000; text-decoration-color: #008000\">'big_five'</span>: <span style=\"color: #008000; text-decoration-color: #008000\">'openness, conscientiousness'</span>,\n",
       "    <span style=\"color: #008000; text-decoration-color: #008000\">'moral_values'</span>: <span style=\"font-weight: bold\">[</span><span style=\"color: #008000; text-decoration-color: #008000\">'Benevolence'</span><span style=\"font-weight: bold\">]</span>,\n",
       "    <span style=\"color: #008000; text-decoration-color: #008000\">'schwartz_personal_values'</span>: <span style=\"font-weight: bold\">[]</span>,\n",
       "    <span style=\"color: #008000; text-decoration-color: #008000\">'personality_and_values'</span>: <span style=\"color: #008000; text-decoration-color: #008000\">''</span>,\n",
       "    <span style=\"color: #008000; text-decoration-color: #008000\">'decision_making_style'</span>: <span style=\"color: #008000; text-decoration-color: #008000\">'conceptual'</span>,\n",
       "    <span style=\"color: #008000; text-decoration-color: #008000\">'secret'</span>: <span style=\"color: #008000; text-decoration-color: #008000\">'He has a negative net worth.'</span>,\n",
       "    <span style=\"color: #008000; text-decoration-color: #008000\">'model_id'</span>: <span style=\"color: #008000; text-decoration-color: #008000\">''</span>,\n",
       "    <span style=\"color: #008000; text-decoration-color: #008000\">'mbti'</span>: <span style=\"color: #008000; text-decoration-color: #008000\">''</span>\n",
       "<span style=\"font-weight: bold\">}</span>\n",
       "</pre>\n"
      ],
      "text/plain": [
       "\u001b[1m{\u001b[0m\n",
       "    \u001b[32m'first_name'\u001b[0m: \u001b[32m'Bob'\u001b[0m,\n",
       "    \u001b[32m'last_name'\u001b[0m: \u001b[32m'Johnson'\u001b[0m,\n",
       "    \u001b[32m'age'\u001b[0m: \u001b[1;36m30\u001b[0m,\n",
       "    \u001b[32m'occupation'\u001b[0m: \u001b[32m'Chef'\u001b[0m,\n",
       "    \u001b[32m'gender'\u001b[0m: \u001b[32m'Man'\u001b[0m,\n",
       "    \u001b[32m'gender_pronoun'\u001b[0m: \u001b[32m'he/his'\u001b[0m,\n",
       "    \u001b[32m'public_info'\u001b[0m: \u001b[32m''\u001b[0m,\n",
       "    \u001b[32m'big_five'\u001b[0m: \u001b[32m'openness, conscientiousness'\u001b[0m,\n",
       "    \u001b[32m'moral_values'\u001b[0m: \u001b[1m[\u001b[0m\u001b[32m'Benevolence'\u001b[0m\u001b[1m]\u001b[0m,\n",
       "    \u001b[32m'schwartz_personal_values'\u001b[0m: \u001b[1m[\u001b[0m\u001b[1m]\u001b[0m,\n",
       "    \u001b[32m'personality_and_values'\u001b[0m: \u001b[32m''\u001b[0m,\n",
       "    \u001b[32m'decision_making_style'\u001b[0m: \u001b[32m'conceptual'\u001b[0m,\n",
       "    \u001b[32m'secret'\u001b[0m: \u001b[32m'He has a negative net worth.'\u001b[0m,\n",
       "    \u001b[32m'model_id'\u001b[0m: \u001b[32m''\u001b[0m,\n",
       "    \u001b[32m'mbti'\u001b[0m: \u001b[32m''\u001b[0m\n",
       "\u001b[1m}\u001b[0m\n"
      ]
     },
     "metadata": {},
     "output_type": "display_data"
    },
    {
     "data": {
      "text/html": [
       "<pre style=\"white-space:pre;overflow-x:auto;line-height:normal;font-family:Menlo,'DejaVu Sans Mono',consolas,'Courier New',monospace\">\n",
       "Here is the context of this interaction:\n",
       "Scenario: A friend is raising a fund for the <span style=\"color: #008000; text-decoration-color: #008000\">\"Help the children\"</span> charity\n",
       "Participants: Alice Smith and Bob Johnson\n",
       "Alice Smith's background: Alice Smith is a <span style=\"color: #008080; text-decoration-color: #008080; font-weight: bold\">22</span>-year-old female data scientist. she/her pronouns.  Personality and \n",
       "values description:  Alice's secrets: She cheated in her code interview\n",
       "Bob Johnson's background: Unknown\n",
       "Alice Smith's goal: Ask for donation of $<span style=\"color: #008080; text-decoration-color: #008080; font-weight: bold\">100</span>\n",
       "Bob Johnson's goal: Unknown\n",
       "Conversation Starts:\n",
       "\n",
       "\n",
       "Here is the context of this interaction:\n",
       "Scenario: A friend is raising a fund for the <span style=\"color: #008000; text-decoration-color: #008000\">\"Help the children\"</span> charity\n",
       "Participants: Alice Smith and Bob Johnson\n",
       "Alice Smith's background: Unknown\n",
       "Bob Johnson's background: Bob Johnson is a <span style=\"color: #008080; text-decoration-color: #008080; font-weight: bold\">30</span>-year-old male chef. he/his pronouns.  Personality and values \n",
       "description:  Bob's secrets: He has a negative net worth.\n",
       "Alice Smith's goal: Unknown\n",
       "Bob Johnson's goal: Donate less than $<span style=\"color: #008080; text-decoration-color: #008080; font-weight: bold\">10</span>\n",
       "Conversation Starts:\n",
       "\n",
       "</pre>\n"
      ],
      "text/plain": [
       "\n",
       "Here is the context of this interaction:\n",
       "Scenario: A friend is raising a fund for the \u001b[32m\"Help the children\"\u001b[0m charity\n",
       "Participants: Alice Smith and Bob Johnson\n",
       "Alice Smith's background: Alice Smith is a \u001b[1;36m22\u001b[0m-year-old female data scientist. she/her pronouns.  Personality and \n",
       "values description:  Alice's secrets: She cheated in her code interview\n",
       "Bob Johnson's background: Unknown\n",
       "Alice Smith's goal: Ask for donation of $\u001b[1;36m100\u001b[0m\n",
       "Bob Johnson's goal: Unknown\n",
       "Conversation Starts:\n",
       "\n",
       "\n",
       "Here is the context of this interaction:\n",
       "Scenario: A friend is raising a fund for the \u001b[32m\"Help the children\"\u001b[0m charity\n",
       "Participants: Alice Smith and Bob Johnson\n",
       "Alice Smith's background: Unknown\n",
       "Bob Johnson's background: Bob Johnson is a \u001b[1;36m30\u001b[0m-year-old male chef. he/his pronouns.  Personality and values \n",
       "description:  Bob's secrets: He has a negative net worth.\n",
       "Alice Smith's goal: Unknown\n",
       "Bob Johnson's goal: Donate less than $\u001b[1;36m10\u001b[0m\n",
       "Conversation Starts:\n",
       "\n"
      ]
     },
     "metadata": {},
     "output_type": "display_data"
    },
    {
     "data": {
      "text/html": [
       "<pre style=\"white-space:pre;overflow-x:auto;line-height:normal;font-family:Menlo,'DejaVu Sans Mono',consolas,'Courier New',monospace\">\n",
       "</pre>\n"
      ],
      "text/plain": [
       "\n"
      ]
     },
     "metadata": {},
     "output_type": "display_data"
    },
    {
     "data": {
      "text/html": [
       "<pre style=\"white-space:pre;overflow-x:auto;line-height:normal;font-family:Menlo,'DejaVu Sans Mono',consolas,'Courier New',monospace\">\n",
       "</pre>\n"
      ],
      "text/plain": [
       "\n"
      ]
     },
     "metadata": {},
     "output_type": "display_data"
    },
    {
     "data": {
      "text/html": [
       "<pre style=\"white-space:pre;overflow-x:auto;line-height:normal;font-family:Menlo,'DejaVu Sans Mono',consolas,'Courier New',monospace\">The reasoning is:\n",
       "Environment comments: terminated: The conversation stales for too long; \n",
       "\n",
       "</pre>\n"
      ],
      "text/plain": [
       "The reasoning is:\n",
       "Environment comments: terminated: The conversation stales for too long; \n",
       "\n"
      ]
     },
     "metadata": {},
     "output_type": "display_data"
    },
    {
     "data": {
      "text/html": [
       "<pre style=\"white-space:pre;overflow-x:auto;line-height:normal;font-family:Menlo,'DejaVu Sans Mono',consolas,'Courier New',monospace\">The rewards are:\n",
       "Agent <span style=\"color: #008080; text-decoration-color: #008080; font-weight: bold\">1</span>: <span style=\"color: #008080; text-decoration-color: #008080; font-weight: bold\">0.0</span>\n",
       "Agent <span style=\"color: #008080; text-decoration-color: #008080; font-weight: bold\">2</span>: <span style=\"color: #008080; text-decoration-color: #008080; font-weight: bold\">0.0</span>\n",
       "</pre>\n"
      ],
      "text/plain": [
       "The rewards are:\n",
       "Agent \u001b[1;36m1\u001b[0m: \u001b[1;36m0.0\u001b[0m\n",
       "Agent \u001b[1;36m2\u001b[0m: \u001b[1;36m0.0\u001b[0m\n"
      ]
     },
     "metadata": {},
     "output_type": "display_data"
    },
    {
     "name": "stderr",
     "output_type": "stream",
     "text": [
      "Running one batch: 100%|██████████| 1/1 [00:00<00:00, 12.87it/s]\n"
     ]
    },
    {
     "data": {
      "text/plain": [
       "[[('Environment',\n",
       "   'Alice Smith',\n",
       "   Observation(last_turn='Here is the context of this interaction:\\nScenario: A friend is raising a fund for the \"Help the children\" charity\\nParticipants: Alice Smith and Bob Johnson\\nAlice Smith\\'s background: Alice Smith is a 22-year-old female data scientist. she/her pronouns.  Personality and values description:  Alice\\'s secrets: She cheated in her code interview\\nBob Johnson\\'s background: Unknown\\nAlice Smith\\'s goal: Ask for donation of $100\\nBob Johnson\\'s goal: Unknown', turn_number=0, available_actions=['action', 'non-verbal communication', 'speak', 'none', 'leave'])),\n",
       "  ('Environment',\n",
       "   'Bob Johnson',\n",
       "   Observation(last_turn='Here is the context of this interaction:\\nScenario: A friend is raising a fund for the \"Help the children\" charity\\nParticipants: Alice Smith and Bob Johnson\\nAlice Smith\\'s background: Unknown\\nBob Johnson\\'s background: Bob Johnson is a 30-year-old male chef. he/his pronouns.  Personality and values description:  Bob\\'s secrets: He has a negative net worth.\\nAlice Smith\\'s goal: Unknown\\nBob Johnson\\'s goal: Donate less than $10', turn_number=0, available_actions=['none'])),\n",
       "  ('Alice Smith', 'Environment', AgentAction(action_type='none', argument='')),\n",
       "  ('Bob Johnson', 'Environment', AgentAction(action_type='none', argument='')),\n",
       "  ('Environment',\n",
       "   'Alice Smith',\n",
       "   Observation(last_turn='', turn_number=1, available_actions=['none'])),\n",
       "  ('Environment',\n",
       "   'Bob Johnson',\n",
       "   Observation(last_turn='', turn_number=1, available_actions=['action', 'non-verbal communication', 'speak', 'none', 'leave'])),\n",
       "  ('Alice Smith', 'Environment', AgentAction(action_type='none', argument='')),\n",
       "  ('Bob Johnson', 'Environment', AgentAction(action_type='none', argument='')),\n",
       "  ('Environment',\n",
       "   'Alice Smith',\n",
       "   Observation(last_turn='', turn_number=2, available_actions=['action', 'non-verbal communication', 'speak', 'none', 'leave'])),\n",
       "  ('Environment',\n",
       "   'Bob Johnson',\n",
       "   Observation(last_turn='', turn_number=2, available_actions=['none']))]]"
      ]
     },
     "execution_count": 10,
     "metadata": {},
     "output_type": "execute_result"
    }
   ],
   "source": [
    "# @title Finally, run a server:\n",
    "\n",
    "from sotopia.samplers import UniformSampler\n",
    "from sotopia.server import run_async_server\n",
    "\n",
    "\n",
    "await run_async_server(\n",
    "        model_dict={\n",
    "            \"env\": \"gpt-3.5-turbo\",\n",
    "            \"agent1\": \"gpt-3.5-turbo\",\n",
    "            \"agent2\": \"gpt-3.5-turbo\",\n",
    "        },\n",
    "        sampler=UniformSampler(),\n",
    "    )"
   ]
  }
 ],
 "metadata": {
  "kernelspec": {
   "display_name": "new",
   "language": "python",
   "name": "new"
  },
  "language_info": {
   "codemirror_mode": {
    "name": "ipython",
    "version": 3
   },
   "file_extension": ".py",
   "mimetype": "text/x-python",
   "name": "python",
   "nbconvert_exporter": "python",
   "pygments_lexer": "ipython3",
   "version": "3.11.5"
  }
 },
 "nbformat": 4,
 "nbformat_minor": 2
}
