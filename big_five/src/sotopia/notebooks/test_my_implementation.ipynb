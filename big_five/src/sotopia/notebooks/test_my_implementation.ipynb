{
 "cells": [
  {
   "cell_type": "code",
   "execution_count": 1,
   "metadata": {},
   "outputs": [],
   "source": [
    "%load_ext autoreload\n",
    "%autoreload 2"
   ]
  },
  {
   "cell_type": "markdown",
   "metadata": {},
   "source": [
    "# test tinydb database implementation"
   ]
  },
  {
   "cell_type": "code",
   "execution_count": 19,
   "metadata": {},
   "outputs": [],
   "source": [
    "import sys\n",
    "sys.path.append(\"../../\")"
   ]
  },
  {
   "cell_type": "code",
   "execution_count": null,
   "metadata": {},
   "outputs": [],
   "source": [
    "from sotopia.databases.profile_store import ProfileStore\n",
    "from sotopia.config import DatabaseArgs\n",
    "args = DatabaseArgs\n",
    "ps = ProfileStore(args, \"agent_profile\")\n",
    "ps.insert_unique({'name': 'John Doe', 'age': 30, 'conversation': [{\"speaker1\": \"a\"}, {\"speaker2\": \"b\"}]})\n",
    "# ps.insert({'name': 'John Doe', 'age': 29, 'conversation': [{\"speaker1\": \"a\"}, {\"speaker2\": \"b\"}]})\n",
    "# ps.insert({'name': 'John Doe', 'age': 29, 'conversation': [{\"speaker1\": \"a\"}, {\"speaker2\": \"b\"}]})\n",
    "# ps.insert({'name': 'John Doe', 'age': 27, 'conversation': [{\"speaker1\": \"a\"}, {\"speaker2\": \"b\"}]})\n",
    "ps.all()"
   ]
  },
  {
   "cell_type": "markdown",
   "metadata": {},
   "source": [
    "# test tinydb inherited class implementation"
   ]
  },
  {
   "cell_type": "code",
   "execution_count": 6,
   "metadata": {},
   "outputs": [],
   "source": [
    "import sys\n",
    "sys.path.append(\"../../\")\n",
    "from sotopia.databases.persistent_profile import AgentProfile\n",
    "from typing import Any\n",
    "def add_agent_to_database(**kwargs: dict[str, Any]) -> None:\n",
    "    agent = AgentProfile(**kwargs)\n",
    "    agent.init_profile_store()\n",
    "    # agent.db.insert(agent.dict())\n",
    "    agent.db.insert_unique(agent.dict())\n",
    "    return agent"
   ]
  },
  {
   "cell_type": "code",
   "execution_count": 7,
   "metadata": {},
   "outputs": [],
   "source": [
    "# @title Let's first add a character to the database. Only name is required when creating a new character\n",
    "\n",
    "\n",
    "first_name = 'Alice' # @param {type:\"string\"}\n",
    "last_name = 'Smith' # @param {type:\"string\"}\n",
    "age = 22 # @param {type:\"integer\"}\n",
    "occupation = 'Data Scientist' # @param {type:\"string\"}\n",
    "gender = 'Woman' # @param [\"Man\", \"Woman\", \"Nonbinary\"]\n",
    "gender_pronoun = 'she/her' # @param {type:\"string\"}\n",
    "big_five = \"extraversion, openness\" # @param {type:\"string\"}\n",
    "moral_values = [\"power\", \"achievement\"] # @param {type:\"string\"}\n",
    "decision_making_style = \"analytical\" # @param {type:\"string\"}\n",
    "secret = \"She cheated in her code interview\" # @param {type:\"string\"}\n",
    "\n",
    "agent = add_agent_to_database(\n",
    "    first_name=first_name,\n",
    "    last_name=last_name,\n",
    "    age=age,\n",
    "    occupation=occupation,\n",
    "    gender=gender,\n",
    "    gender_pronoun=gender_pronoun,\n",
    "    big_five=big_five,\n",
    "    moral_values=moral_values,\n",
    "    decision_making_style=decision_making_style,\n",
    "    secret=secret,\n",
    ")"
   ]
  },
  {
   "cell_type": "code",
   "execution_count": 10,
   "metadata": {},
   "outputs": [
    {
     "data": {
      "text/plain": [
       "'{\"first_name\": \"Alice\", \"last_name\": \"Smith\", \"age\": 22, \"occupation\": \"Data Scientist\", \"gender\": \"Woman\", \"gender_pronoun\": \"she/her\", \"public_info\": \"\", \"big_five\": \"extraversion, openness\", \"moral_values\": [\"power\", \"achievement\"], \"schwartz_personal_values\": [], \"personality_and_values\": \"\", \"decision_making_style\": \"analytical\", \"secret\": \"She cheated in her code interview\", \"model_id\": \"\", \"mbti\": \"\"}'"
      ]
     },
     "execution_count": 10,
     "metadata": {},
     "output_type": "execute_result"
    }
   ],
   "source": [
    "agent.json()"
   ]
  },
  {
   "cell_type": "code",
   "execution_count": 14,
   "metadata": {},
   "outputs": [
    {
     "data": {
      "text/plain": [
       "[{'first_name': 'Alice',\n",
       "  'last_name': 'Smith',\n",
       "  'age': 22,\n",
       "  'occupation': 'Data Scientist',\n",
       "  'gender': 'Woman',\n",
       "  'gender_pronoun': 'she/her',\n",
       "  'public_info': '',\n",
       "  'big_five': 'extraversion, openness',\n",
       "  'moral_values': ['power', 'achievement'],\n",
       "  'schwartz_personal_values': [],\n",
       "  'personality_and_values': '',\n",
       "  'decision_making_style': 'analytical',\n",
       "  'secret': 'She cheated in her code interview',\n",
       "  'model_id': '',\n",
       "  'mbti': '',\n",
       "  'id': '57485eac-9295-49c7-8359-8b274910d026'},\n",
       " {'first_name': 'Alice',\n",
       "  'last_name': 'Smith',\n",
       "  'age': 22,\n",
       "  'occupation': 'Data Scientist',\n",
       "  'gender': 'Woman',\n",
       "  'gender_pronoun': 'she/her',\n",
       "  'public_info': '',\n",
       "  'big_five': 'extraversion, openness',\n",
       "  'moral_values': ['power', 'achievement'],\n",
       "  'schwartz_personal_values': [],\n",
       "  'personality_and_values': '',\n",
       "  'decision_making_style': 'analytical',\n",
       "  'secret': 'She cheated in her code interview',\n",
       "  'model_id': '',\n",
       "  'mbti': '',\n",
       "  'id': '08db5e4b-7a86-472e-82e1-eb0970d0aea9'}]"
      ]
     },
     "execution_count": 14,
     "metadata": {},
     "output_type": "execute_result"
    }
   ],
   "source": [
    "agent.db.all()"
   ]
  },
  {
   "cell_type": "code",
   "execution_count": 22,
   "metadata": {},
   "outputs": [
    {
     "data": {
      "text/plain": [
       "[{'first_name': 'Alice',\n",
       "  'last_name': 'Smith',\n",
       "  'age': 22,\n",
       "  'occupation': 'Data Scientist',\n",
       "  'gender': 'Woman',\n",
       "  'gender_pronoun': 'she/her',\n",
       "  'public_info': '',\n",
       "  'big_five': 'extraversion, openness',\n",
       "  'moral_values': ['power', 'achievement'],\n",
       "  'schwartz_personal_values': [],\n",
       "  'personality_and_values': '',\n",
       "  'decision_making_style': 'analytical',\n",
       "  'secret': 'She cheated in her code interview',\n",
       "  'model_id': '',\n",
       "  'mbti': '',\n",
       "  'id': '57485eac-9295-49c7-8359-8b274910d026'},\n",
       " {'first_name': 'Alice',\n",
       "  'last_name': 'Smith',\n",
       "  'age': 22,\n",
       "  'occupation': 'Data Scientist',\n",
       "  'gender': 'Woman',\n",
       "  'gender_pronoun': 'she/her',\n",
       "  'public_info': '',\n",
       "  'big_five': 'extraversion, openness',\n",
       "  'moral_values': ['power', 'achievement'],\n",
       "  'schwartz_personal_values': [],\n",
       "  'personality_and_values': '',\n",
       "  'decision_making_style': 'analytical',\n",
       "  'secret': 'She cheated in her code interview',\n",
       "  'model_id': '',\n",
       "  'mbti': '',\n",
       "  'id': '08db5e4b-7a86-472e-82e1-eb0970d0aea9'}]"
      ]
     },
     "execution_count": 22,
     "metadata": {},
     "output_type": "execute_result"
    }
   ],
   "source": [
    "agent.db.all()"
   ]
  },
  {
   "cell_type": "code",
   "execution_count": 23,
   "metadata": {},
   "outputs": [
    {
     "data": {
      "text/plain": [
       "[int, int]"
      ]
     },
     "execution_count": 23,
     "metadata": {},
     "output_type": "execute_result"
    }
   ],
   "source": [
    "[type(doc.doc_id) for doc in agent.db.all()]"
   ]
  },
  {
   "cell_type": "code",
   "execution_count": 16,
   "metadata": {},
   "outputs": [
    {
     "data": {
      "text/plain": [
       "{'first_name': 'Alice',\n",
       " 'last_name': 'Smith',\n",
       " 'age': 22,\n",
       " 'occupation': 'Data Scientist',\n",
       " 'gender': 'Woman',\n",
       " 'gender_pronoun': 'she/her',\n",
       " 'public_info': '',\n",
       " 'big_five': 'extraversion, openness',\n",
       " 'moral_values': ['power', 'achievement'],\n",
       " 'schwartz_personal_values': [],\n",
       " 'personality_and_values': '',\n",
       " 'decision_making_style': 'analytical',\n",
       " 'secret': 'She cheated in her code interview',\n",
       " 'model_id': '',\n",
       " 'mbti': '',\n",
       " 'id': '57485eac-9295-49c7-8359-8b274910d026'}"
      ]
     },
     "execution_count": 16,
     "metadata": {},
     "output_type": "execute_result"
    }
   ],
   "source": [
    "agent.db.get(gender='Woman')"
   ]
  },
  {
   "cell_type": "markdown",
   "metadata": {},
   "source": [
    "# reproduce sotopia tutorial: overall debugging"
   ]
  },
  {
   "cell_type": "code",
   "execution_count": 2,
   "metadata": {},
   "outputs": [
    {
     "name": "stderr",
     "output_type": "stream",
     "text": [
      "/data/user_data/jiaruil5/miniconda3/envs/new/lib/python3.11/site-packages/pydantic/_internal/_fields.py:160: UserWarning: Field \"model_id\" has conflict with protected namespace \"model_\".\n",
      "\n",
      "You may be able to resolve this warning by setting `model_config['protected_namespaces'] = ()`.\n",
      "  warnings.warn(\n"
     ]
    }
   ],
   "source": [
    "import sys\n",
    "sys.path.append(\"../../\")\n",
    "from sotopia.databases.persistent_profile import AgentProfile, EnvironmentProfile\n",
    "from typing import Any\n",
    "def add_agent_to_database(**kwargs: dict[str, Any]) -> None:\n",
    "    agent = AgentProfile(**kwargs)\n",
    "    agent.init_profile_store()\n",
    "    # agent.db.insert(agent.dict())\n",
    "    agent.db.insert_unique(agent.dict())\n",
    "    return agent\n",
    "\n",
    "def add_env_profile(**kwargs: dict[str, Any]) -> None:\n",
    "    env_profile = EnvironmentProfile(**kwargs)\n",
    "    env_profile.init_profile_store()\n",
    "    env_profile.db.insert_unique(env_profile.dict())\n",
    "    return env_profile"
   ]
  },
  {
   "cell_type": "code",
   "execution_count": 3,
   "metadata": {},
   "outputs": [],
   "source": [
    "# @title Let's first add a character to the database. Only name is required when creating a new character\n",
    "\n",
    "\n",
    "first_name = 'Alice' # @param {type:\"string\"}\n",
    "last_name = 'Smith' # @param {type:\"string\"}\n",
    "age = 22 # @param {type:\"integer\"}\n",
    "occupation = 'Data Scientist' # @param {type:\"string\"}\n",
    "gender = 'Woman' # @param [\"Man\", \"Woman\", \"Nonbinary\"]\n",
    "gender_pronoun = 'she/her' # @param {type:\"string\"}\n",
    "big_five = \"extraversion, openness\" # @param {type:\"string\"}\n",
    "moral_values = [\"power\", \"achievement\"] # @param {type:\"string\"}\n",
    "decision_making_style = \"analytical\" # @param {type:\"string\"}\n",
    "secret = \"She cheated in her code interview\" # @param {type:\"string\"}\n",
    "\n",
    "agent = add_agent_to_database(\n",
    "    first_name=first_name,\n",
    "    last_name=last_name,\n",
    "    age=age,\n",
    "    occupation=occupation,\n",
    "    gender=gender,\n",
    "    gender_pronoun=gender_pronoun,\n",
    "    big_five=big_five,\n",
    "    moral_values=moral_values,\n",
    "    decision_making_style=decision_making_style,\n",
    "    secret=secret,\n",
    ")"
   ]
  },
  {
   "cell_type": "code",
   "execution_count": 4,
   "metadata": {},
   "outputs": [
    {
     "data": {
      "text/plain": [
       "[{'first_name': 'Alice',\n",
       "  'last_name': 'Smith',\n",
       "  'age': 22,\n",
       "  'occupation': 'Data Scientist',\n",
       "  'gender': 'Woman',\n",
       "  'gender_pronoun': 'she/her',\n",
       "  'public_info': '',\n",
       "  'big_five': 'extraversion, openness',\n",
       "  'moral_values': ['power', 'achievement'],\n",
       "  'schwartz_personal_values': [],\n",
       "  'personality_and_values': '',\n",
       "  'decision_making_style': 'analytical',\n",
       "  'secret': 'She cheated in her code interview',\n",
       "  'model_id': '',\n",
       "  'mbti': ''},\n",
       " {'first_name': 'Bob',\n",
       "  'last_name': 'Johnson',\n",
       "  'age': 30,\n",
       "  'occupation': 'Chef',\n",
       "  'gender': 'Man',\n",
       "  'gender_pronoun': 'he/his',\n",
       "  'public_info': '',\n",
       "  'big_five': 'openness, conscientiousness',\n",
       "  'moral_values': ['Benevolence'],\n",
       "  'schwartz_personal_values': [],\n",
       "  'personality_and_values': '',\n",
       "  'decision_making_style': 'conceptual',\n",
       "  'secret': 'He has a negative net worth.',\n",
       "  'model_id': '',\n",
       "  'mbti': ''}]"
      ]
     },
     "execution_count": 4,
     "metadata": {},
     "output_type": "execute_result"
    }
   ],
   "source": [
    "agent.db.all()"
   ]
  },
  {
   "cell_type": "code",
   "execution_count": 5,
   "metadata": {},
   "outputs": [],
   "source": [
    "# @title Let's add another character\n",
    "\n",
    "\n",
    "first_name = 'Bob' # @param {type:\"string\"}\n",
    "last_name = 'Johnson' # @param {type:\"string\"}\n",
    "age = 30 # @param {type:\"integer\"}\n",
    "occupation = 'Chef' # @param {type:\"string\"}\n",
    "gender = 'Man' # @param [\"Man\", \"Woman\", \"Nonbinary\"]\n",
    "gender_pronoun = 'he/his' # @param {type:\"string\"}\n",
    "big_five = \"openness, conscientiousness\" # @param {type:\"string\"}\n",
    "moral_values = [\"Benevolence\"] # @param {type:\"string\"}\n",
    "decision_making_style = \"conceptual\" # @param {type:\"string\"}\n",
    "secret = \"He has a negative net worth.\" # @param {type:\"string\"}\n",
    "\n",
    "agent = add_agent_to_database(\n",
    "    first_name=first_name,\n",
    "    last_name=last_name,\n",
    "    age=age,\n",
    "    occupation=occupation,\n",
    "    gender=gender,\n",
    "    gender_pronoun=gender_pronoun,\n",
    "    big_five=big_five,\n",
    "    moral_values=moral_values,\n",
    "    decision_making_style=decision_making_style,\n",
    "    secret=secret,\n",
    ")"
   ]
  },
  {
   "cell_type": "code",
   "execution_count": 6,
   "metadata": {},
   "outputs": [
    {
     "data": {
      "text/plain": [
       "[{'first_name': 'Alice',\n",
       "  'last_name': 'Smith',\n",
       "  'age': 22,\n",
       "  'occupation': 'Data Scientist',\n",
       "  'gender': 'Woman',\n",
       "  'gender_pronoun': 'she/her',\n",
       "  'public_info': '',\n",
       "  'big_five': 'extraversion, openness',\n",
       "  'moral_values': ['power', 'achievement'],\n",
       "  'schwartz_personal_values': [],\n",
       "  'personality_and_values': '',\n",
       "  'decision_making_style': 'analytical',\n",
       "  'secret': 'She cheated in her code interview',\n",
       "  'model_id': '',\n",
       "  'mbti': ''},\n",
       " {'first_name': 'Bob',\n",
       "  'last_name': 'Johnson',\n",
       "  'age': 30,\n",
       "  'occupation': 'Chef',\n",
       "  'gender': 'Man',\n",
       "  'gender_pronoun': 'he/his',\n",
       "  'public_info': '',\n",
       "  'big_five': 'openness, conscientiousness',\n",
       "  'moral_values': ['Benevolence'],\n",
       "  'schwartz_personal_values': [],\n",
       "  'personality_and_values': '',\n",
       "  'decision_making_style': 'conceptual',\n",
       "  'secret': 'He has a negative net worth.',\n",
       "  'model_id': '',\n",
       "  'mbti': ''}]"
      ]
     },
     "execution_count": 6,
     "metadata": {},
     "output_type": "execute_result"
    }
   ],
   "source": [
    "agent.db.all()"
   ]
  },
  {
   "cell_type": "code",
   "execution_count": 7,
   "metadata": {},
   "outputs": [],
   "source": [
    "# @title Let's add a social tasks\n",
    "\n",
    "scenario = \"A friend is raising a fund for the \\\"Help the children\\\" charity\" # @param {type:\"string\"}\n",
    "social_goal_1 = \"Ask for donation of $100\" # @param {type:\"string\"}\n",
    "social_goal_2 = \"Donate less than $10\" # @param {type:\"string\"}\n",
    "\n",
    "env_profile = add_env_profile(\n",
    "    scenario=scenario,\n",
    "    agent_goals = [social_goal_1, social_goal_2]\n",
    ")"
   ]
  },
  {
   "cell_type": "code",
   "execution_count": 8,
   "metadata": {},
   "outputs": [
    {
     "data": {
      "text/plain": [
       "[{'codename': '',\n",
       "  'source': '',\n",
       "  'scenario': 'A friend is raising a fund for the \"Help the children\" charity',\n",
       "  'agent_goals': ['Ask for donation of $100', 'Donate less than $10'],\n",
       "  'relationship': 0,\n",
       "  'age_constraint': None,\n",
       "  'occupation_constraint': None,\n",
       "  'agent_constraint': None}]"
      ]
     },
     "execution_count": 8,
     "metadata": {},
     "output_type": "execute_result"
    }
   ],
   "source": [
    "env_profile.db.all()"
   ]
  },
  {
   "cell_type": "code",
   "execution_count": 9,
   "metadata": {},
   "outputs": [
    {
     "name": "stderr",
     "output_type": "stream",
     "text": [
      "/data/user_data/jiaruil5/miniconda3/envs/new/lib/python3.11/site-packages/beartype/_util/hint/pep/utilpeptest.py:347: BeartypeDecorHintPep585DeprecationWarning: PEP 484 type hint typing.Sequence[sotopia.agents.base_agent.BaseAgent[sotopia.messages.message_classes.Observation, sotopia.messages.message_classes.AgentAction]] deprecated by PEP 585. This hint is scheduled for removal in the first Python version released after October 5th, 2025. To resolve this, import this hint from \"beartype.typing\" rather than \"typing\". For further commentary and alternatives, see also:\n",
      "    https://beartype.readthedocs.io/en/latest/api_roar/#pep-585-deprecations\n",
      "  warn(\n",
      "Running one batch:   0%|          | 0/1 [00:00<?, ?it/s]"
     ]
    },
    {
     "name": "stdout",
     "output_type": "stream",
     "text": [
      "Is the agent omniscient? False\n",
      "None\n",
      "None\n"
     ]
    },
    {
     "name": "stderr",
     "output_type": "stream",
     "text": [
      "/data/user_data/jiaruil5/miniconda3/envs/new/lib/python3.11/site-packages/langchain_core/_api/deprecation.py:117: LangChainDeprecationWarning: The class `langchain_community.chat_models.openai.ChatOpenAI` was deprecated in langchain-community 0.0.10 and will be removed in 0.2.0. An updated version of the class exists in the langchain-openai package and should be used instead. To use it run `pip install -U langchain-openai` and import as `from langchain_openai import ChatOpenAI`.\n",
      "  warn_deprecated(\n",
      "WARNING! org_id is not default parameter.\n",
      "                    org_id was transferred to model_kwargs.\n",
      "                    Please confirm that org_id is what you intended.\n",
      "WARNING:langchain_community.chat_models.openai:WARNING! org_id is not default parameter.\n",
      "                    org_id was transferred to model_kwargs.\n",
      "                    Please confirm that org_id is what you intended.\n",
      "WARNING:langchain_community.chat_models.openai:WARNING! org_id is not default parameter.\n",
      "                    org_id was transferred to model_kwargs.\n",
      "                    Please confirm that org_id is what you intended.\n"
     ]
    },
    {
     "name": "stdout",
     "output_type": "stream",
     "text": [
      "None\n",
      "None\n",
      "None\n",
      "None\n"
     ]
    },
    {
     "ename": "AttributeError",
     "evalue": "'EnvironmentProfile' object has no attribute 'pk'",
     "output_type": "error",
     "traceback": [
      "\u001b[0;31m---------------------------------------------------------------------------\u001b[0m",
      "\u001b[0;31mAttributeError\u001b[0m                            Traceback (most recent call last)",
      "Cell \u001b[0;32mIn[9], line 7\u001b[0m\n\u001b[1;32m      3\u001b[0m \u001b[38;5;28;01mfrom\u001b[39;00m \u001b[38;5;21;01msotopia\u001b[39;00m\u001b[38;5;21;01m.\u001b[39;00m\u001b[38;5;21;01msamplers\u001b[39;00m \u001b[38;5;28;01mimport\u001b[39;00m UniformSampler\n\u001b[1;32m      4\u001b[0m \u001b[38;5;28;01mfrom\u001b[39;00m \u001b[38;5;21;01msotopia\u001b[39;00m\u001b[38;5;21;01m.\u001b[39;00m\u001b[38;5;21;01mserver\u001b[39;00m \u001b[38;5;28;01mimport\u001b[39;00m run_async_server\n\u001b[0;32m----> 7\u001b[0m \u001b[38;5;28;01mawait\u001b[39;00m run_async_server(\n\u001b[1;32m      8\u001b[0m         model_dict\u001b[38;5;241m=\u001b[39m{\n\u001b[1;32m      9\u001b[0m             \u001b[38;5;124m\"\u001b[39m\u001b[38;5;124menv\u001b[39m\u001b[38;5;124m\"\u001b[39m: \u001b[38;5;124m\"\u001b[39m\u001b[38;5;124mgpt-3.5-turbo\u001b[39m\u001b[38;5;124m\"\u001b[39m,\n\u001b[1;32m     10\u001b[0m             \u001b[38;5;124m\"\u001b[39m\u001b[38;5;124magent1\u001b[39m\u001b[38;5;124m\"\u001b[39m: \u001b[38;5;124m\"\u001b[39m\u001b[38;5;124mgpt-3.5-turbo\u001b[39m\u001b[38;5;124m\"\u001b[39m,\n\u001b[1;32m     11\u001b[0m             \u001b[38;5;124m\"\u001b[39m\u001b[38;5;124magent2\u001b[39m\u001b[38;5;124m\"\u001b[39m: \u001b[38;5;124m\"\u001b[39m\u001b[38;5;124mgpt-3.5-turbo\u001b[39m\u001b[38;5;124m\"\u001b[39m,\n\u001b[1;32m     12\u001b[0m         },\n\u001b[1;32m     13\u001b[0m         sampler\u001b[38;5;241m=\u001b[39mUniformSampler(),\n\u001b[1;32m     14\u001b[0m     )\n",
      "File \u001b[0;32m<@beartype(sotopia.server.run_async_server) at 0x7f0838bf79c0>:260\u001b[0m, in \u001b[0;36mrun_async_server\u001b[0;34m(__beartype_func, __beartype_conf, __beartype_get_violation, __beartype_object_65386848, __beartype_object_139673292146992, __beartype_object_139673292147184, __beartype_object_139674322559152, __beartype_object_66816976, __beartype_object_19161840, __beartype_object_38254288, __beartype_getrandbits, __beartype_object_139673289141568, __beartype_object_25855104, *args, **kwargs)\u001b[0m\n",
      "File \u001b[0;32m~/personality/llm_personality/big_five/src/sotopia/notebooks/../../sotopia/server.py:314\u001b[0m, in \u001b[0;36mrun_async_server\u001b[0;34m(model_dict, sampler, action_order, env_agent_combo_list, omniscient, script_like, json_in_script, tag, push_to_db, using_async)\u001b[0m\n\u001b[1;32m    288\u001b[0m     env_agent_combo_iter \u001b[38;5;241m=\u001b[39m sampler\u001b[38;5;241m.\u001b[39msample(\n\u001b[1;32m    289\u001b[0m         agent_classes\u001b[38;5;241m=\u001b[39m[\n\u001b[1;32m    290\u001b[0m             get_agent_class(model_name) \u001b[38;5;28;01mfor\u001b[39;00m model_name \u001b[38;5;129;01min\u001b[39;00m agents_model_dict\u001b[38;5;241m.\u001b[39mvalues()\n\u001b[0;32m   (...)\u001b[0m\n\u001b[1;32m    297\u001b[0m         ],\n\u001b[1;32m    298\u001b[0m     )\n\u001b[1;32m    299\u001b[0m episode_futures \u001b[38;5;241m=\u001b[39m [\n\u001b[1;32m    300\u001b[0m     arun_one_episode(\n\u001b[1;32m    301\u001b[0m         env\u001b[38;5;241m=\u001b[39menv_agent_combo[\u001b[38;5;241m0\u001b[39m],\n\u001b[0;32m   (...)\u001b[0m\n\u001b[1;32m    310\u001b[0m     \u001b[38;5;28;01mfor\u001b[39;00m env_agent_combo \u001b[38;5;129;01min\u001b[39;00m env_agent_combo_iter\n\u001b[1;32m    311\u001b[0m ]\n\u001b[1;32m    313\u001b[0m batch_results \u001b[38;5;241m=\u001b[39m (\n\u001b[0;32m--> 314\u001b[0m     \u001b[38;5;28;01mawait\u001b[39;00m tqdm_asyncio\u001b[38;5;241m.\u001b[39mgather(\u001b[38;5;241m*\u001b[39mepisode_futures, desc\u001b[38;5;241m=\u001b[39m\u001b[38;5;124m\"\u001b[39m\u001b[38;5;124mRunning one batch\u001b[39m\u001b[38;5;124m\"\u001b[39m)\n\u001b[1;32m    315\u001b[0m     \u001b[38;5;28;01mif\u001b[39;00m using_async\n\u001b[1;32m    316\u001b[0m     \u001b[38;5;28;01melse\u001b[39;00m [\u001b[38;5;28;01mawait\u001b[39;00m i \u001b[38;5;28;01mfor\u001b[39;00m i \u001b[38;5;129;01min\u001b[39;00m episode_futures]\n\u001b[1;32m    317\u001b[0m )\n\u001b[1;32m    319\u001b[0m \u001b[38;5;28;01mreturn\u001b[39;00m cast(\u001b[38;5;28mlist\u001b[39m[\u001b[38;5;28mlist\u001b[39m[\u001b[38;5;28mtuple\u001b[39m[\u001b[38;5;28mstr\u001b[39m, \u001b[38;5;28mstr\u001b[39m, Message]]], batch_results)\n",
      "File \u001b[0;32m/data/user_data/jiaruil5/miniconda3/envs/new/lib/python3.11/site-packages/tqdm/asyncio.py:79\u001b[0m, in \u001b[0;36mtqdm_asyncio.gather\u001b[0;34m(cls, loop, timeout, total, *fs, **tqdm_kwargs)\u001b[0m\n\u001b[1;32m     76\u001b[0m     \u001b[38;5;28;01mreturn\u001b[39;00m i, \u001b[38;5;28;01mawait\u001b[39;00m f\n\u001b[1;32m     78\u001b[0m ifs \u001b[38;5;241m=\u001b[39m [wrap_awaitable(i, f) \u001b[38;5;28;01mfor\u001b[39;00m i, f \u001b[38;5;129;01min\u001b[39;00m \u001b[38;5;28menumerate\u001b[39m(fs)]\n\u001b[0;32m---> 79\u001b[0m res \u001b[38;5;241m=\u001b[39m [\u001b[38;5;28;01mawait\u001b[39;00m f \u001b[38;5;28;01mfor\u001b[39;00m f \u001b[38;5;129;01min\u001b[39;00m \u001b[38;5;28mcls\u001b[39m\u001b[38;5;241m.\u001b[39mas_completed(ifs, loop\u001b[38;5;241m=\u001b[39mloop, timeout\u001b[38;5;241m=\u001b[39mtimeout,\n\u001b[1;32m     80\u001b[0m                                          total\u001b[38;5;241m=\u001b[39mtotal, \u001b[38;5;241m*\u001b[39m\u001b[38;5;241m*\u001b[39mtqdm_kwargs)]\n\u001b[1;32m     81\u001b[0m \u001b[38;5;28;01mreturn\u001b[39;00m [i \u001b[38;5;28;01mfor\u001b[39;00m _, i \u001b[38;5;129;01min\u001b[39;00m \u001b[38;5;28msorted\u001b[39m(res)]\n",
      "File \u001b[0;32m/data/user_data/jiaruil5/miniconda3/envs/new/lib/python3.11/site-packages/tqdm/asyncio.py:79\u001b[0m, in \u001b[0;36m<listcomp>\u001b[0;34m(.0)\u001b[0m\n\u001b[1;32m     76\u001b[0m     \u001b[38;5;28;01mreturn\u001b[39;00m i, \u001b[38;5;28;01mawait\u001b[39;00m f\n\u001b[1;32m     78\u001b[0m ifs \u001b[38;5;241m=\u001b[39m [wrap_awaitable(i, f) \u001b[38;5;28;01mfor\u001b[39;00m i, f \u001b[38;5;129;01min\u001b[39;00m \u001b[38;5;28menumerate\u001b[39m(fs)]\n\u001b[0;32m---> 79\u001b[0m res \u001b[38;5;241m=\u001b[39m [\u001b[38;5;28;01mawait\u001b[39;00m f \u001b[38;5;28;01mfor\u001b[39;00m f \u001b[38;5;129;01min\u001b[39;00m \u001b[38;5;28mcls\u001b[39m\u001b[38;5;241m.\u001b[39mas_completed(ifs, loop\u001b[38;5;241m=\u001b[39mloop, timeout\u001b[38;5;241m=\u001b[39mtimeout,\n\u001b[1;32m     80\u001b[0m                                          total\u001b[38;5;241m=\u001b[39mtotal, \u001b[38;5;241m*\u001b[39m\u001b[38;5;241m*\u001b[39mtqdm_kwargs)]\n\u001b[1;32m     81\u001b[0m \u001b[38;5;28;01mreturn\u001b[39;00m [i \u001b[38;5;28;01mfor\u001b[39;00m _, i \u001b[38;5;129;01min\u001b[39;00m \u001b[38;5;28msorted\u001b[39m(res)]\n",
      "File \u001b[0;32m/data/user_data/jiaruil5/miniconda3/envs/new/lib/python3.11/asyncio/tasks.py:605\u001b[0m, in \u001b[0;36mas_completed.<locals>._wait_for_one\u001b[0;34m()\u001b[0m\n\u001b[1;32m    602\u001b[0m \u001b[38;5;28;01mif\u001b[39;00m f \u001b[38;5;129;01mis\u001b[39;00m \u001b[38;5;28;01mNone\u001b[39;00m:\n\u001b[1;32m    603\u001b[0m     \u001b[38;5;66;03m# Dummy value from _on_timeout().\u001b[39;00m\n\u001b[1;32m    604\u001b[0m     \u001b[38;5;28;01mraise\u001b[39;00m exceptions\u001b[38;5;241m.\u001b[39mTimeoutError\n\u001b[0;32m--> 605\u001b[0m \u001b[38;5;28;01mreturn\u001b[39;00m \u001b[43mf\u001b[49m\u001b[38;5;241;43m.\u001b[39;49m\u001b[43mresult\u001b[49m\u001b[43m(\u001b[49m\u001b[43m)\u001b[49m\n",
      "File \u001b[0;32m/data/user_data/jiaruil5/miniconda3/envs/new/lib/python3.11/site-packages/tqdm/asyncio.py:76\u001b[0m, in \u001b[0;36mtqdm_asyncio.gather.<locals>.wrap_awaitable\u001b[0;34m(i, f)\u001b[0m\n\u001b[1;32m     75\u001b[0m \u001b[38;5;28;01masync\u001b[39;00m \u001b[38;5;28;01mdef\u001b[39;00m \u001b[38;5;21mwrap_awaitable\u001b[39m(i, f):\n\u001b[0;32m---> 76\u001b[0m     \u001b[38;5;28;01mreturn\u001b[39;00m i, \u001b[38;5;28;01mawait\u001b[39;00m f\n",
      "File \u001b[0;32m~/personality/llm_personality/big_five/src/sotopia/notebooks/../../sotopia/server.py:198\u001b[0m, in \u001b[0;36marun_one_episode\u001b[0;34m(env, agent_list, model_dict, omniscient, script_like, json_in_script, tag, push_to_db)\u001b[0m\n\u001b[1;32m    194\u001b[0m     done \u001b[38;5;241m=\u001b[39m \u001b[38;5;28mall\u001b[39m(terminated\u001b[38;5;241m.\u001b[39mvalues())\n\u001b[1;32m    196\u001b[0m \u001b[38;5;66;03m# TODO: clean up this part\u001b[39;00m\n\u001b[1;32m    197\u001b[0m epilog \u001b[38;5;241m=\u001b[39m EpisodeLog(\n\u001b[0;32m--> 198\u001b[0m     environment\u001b[38;5;241m=\u001b[39m\u001b[43menv\u001b[49m\u001b[38;5;241;43m.\u001b[39;49m\u001b[43mprofile\u001b[49m\u001b[38;5;241;43m.\u001b[39;49m\u001b[43mpk\u001b[49m,\n\u001b[1;32m    199\u001b[0m     agents\u001b[38;5;241m=\u001b[39m[agent\u001b[38;5;241m.\u001b[39mprofile\u001b[38;5;241m.\u001b[39mpk \u001b[38;5;28;01mfor\u001b[39;00m agent \u001b[38;5;129;01min\u001b[39;00m agent_list],\n\u001b[1;32m    200\u001b[0m     tag\u001b[38;5;241m=\u001b[39mtag,\n\u001b[1;32m    201\u001b[0m     models\u001b[38;5;241m=\u001b[39m[model_dict[\u001b[38;5;124m\"\u001b[39m\u001b[38;5;124menv\u001b[39m\u001b[38;5;124m\"\u001b[39m], model_dict[\u001b[38;5;124m\"\u001b[39m\u001b[38;5;124magent1\u001b[39m\u001b[38;5;124m\"\u001b[39m], model_dict[\u001b[38;5;124m\"\u001b[39m\u001b[38;5;124magent2\u001b[39m\u001b[38;5;124m\"\u001b[39m]],\n\u001b[1;32m    202\u001b[0m     messages\u001b[38;5;241m=\u001b[39m[\n\u001b[1;32m    203\u001b[0m         [(m[\u001b[38;5;241m0\u001b[39m], m[\u001b[38;5;241m1\u001b[39m], m[\u001b[38;5;241m2\u001b[39m]\u001b[38;5;241m.\u001b[39mto_natural_language()) \u001b[38;5;28;01mfor\u001b[39;00m m \u001b[38;5;129;01min\u001b[39;00m messages_in_turn]\n\u001b[1;32m    204\u001b[0m         \u001b[38;5;28;01mfor\u001b[39;00m messages_in_turn \u001b[38;5;129;01min\u001b[39;00m messages\n\u001b[1;32m    205\u001b[0m     ],\n\u001b[1;32m    206\u001b[0m     reasoning\u001b[38;5;241m=\u001b[39minfo[env\u001b[38;5;241m.\u001b[39magents[\u001b[38;5;241m0\u001b[39m]][\u001b[38;5;124m\"\u001b[39m\u001b[38;5;124mcomments\u001b[39m\u001b[38;5;124m\"\u001b[39m],\n\u001b[1;32m    207\u001b[0m     rewards\u001b[38;5;241m=\u001b[39m[info[agent_name][\u001b[38;5;124m\"\u001b[39m\u001b[38;5;124mcomplete_rating\u001b[39m\u001b[38;5;124m\"\u001b[39m] \u001b[38;5;28;01mfor\u001b[39;00m agent_name \u001b[38;5;129;01min\u001b[39;00m env\u001b[38;5;241m.\u001b[39magents],\n\u001b[1;32m    208\u001b[0m     rewards_prompt\u001b[38;5;241m=\u001b[39minfo[\u001b[38;5;124m\"\u001b[39m\u001b[38;5;124mrewards_prompt\u001b[39m\u001b[38;5;124m\"\u001b[39m][\u001b[38;5;124m\"\u001b[39m\u001b[38;5;124moverall_prompt\u001b[39m\u001b[38;5;124m\"\u001b[39m],\n\u001b[1;32m    209\u001b[0m )\n\u001b[1;32m    210\u001b[0m rich\u001b[38;5;241m.\u001b[39mprint(epilog\u001b[38;5;241m.\u001b[39mrewards_prompt)\n\u001b[1;32m    211\u001b[0m agent_profiles, conversation \u001b[38;5;241m=\u001b[39m epilog\u001b[38;5;241m.\u001b[39mrender_for_humans()\n",
      "File \u001b[0;32m/data/user_data/jiaruil5/miniconda3/envs/new/lib/python3.11/site-packages/pydantic/main.py:811\u001b[0m, in \u001b[0;36mBaseModel.__getattr__\u001b[0;34m(self, item)\u001b[0m\n\u001b[1;32m    808\u001b[0m     \u001b[38;5;28;01mreturn\u001b[39;00m \u001b[38;5;28msuper\u001b[39m()\u001b[38;5;241m.\u001b[39m\u001b[38;5;21m__getattribute__\u001b[39m(item)  \u001b[38;5;66;03m# Raises AttributeError if appropriate\u001b[39;00m\n\u001b[1;32m    809\u001b[0m \u001b[38;5;28;01melse\u001b[39;00m:\n\u001b[1;32m    810\u001b[0m     \u001b[38;5;66;03m# this is the current error\u001b[39;00m\n\u001b[0;32m--> 811\u001b[0m     \u001b[38;5;28;01mraise\u001b[39;00m \u001b[38;5;167;01mAttributeError\u001b[39;00m(\u001b[38;5;124mf\u001b[39m\u001b[38;5;124m'\u001b[39m\u001b[38;5;132;01m{\u001b[39;00m\u001b[38;5;28mtype\u001b[39m(\u001b[38;5;28mself\u001b[39m)\u001b[38;5;241m.\u001b[39m\u001b[38;5;18m__name__\u001b[39m\u001b[38;5;132;01m!r}\u001b[39;00m\u001b[38;5;124m object has no attribute \u001b[39m\u001b[38;5;132;01m{\u001b[39;00mitem\u001b[38;5;132;01m!r}\u001b[39;00m\u001b[38;5;124m'\u001b[39m)\n",
      "\u001b[0;31mAttributeError\u001b[0m: 'EnvironmentProfile' object has no attribute 'pk'"
     ]
    }
   ],
   "source": [
    "# @title Finally, run a server:\n",
    "\n",
    "from sotopia.samplers import UniformSampler\n",
    "from sotopia.server import run_async_server\n",
    "\n",
    "\n",
    "await run_async_server(\n",
    "        model_dict={\n",
    "            \"env\": \"gpt-3.5-turbo\",\n",
    "            \"agent1\": \"gpt-3.5-turbo\",\n",
    "            \"agent2\": \"gpt-3.5-turbo\",\n",
    "        },\n",
    "        sampler=UniformSampler(),\n",
    "    )"
   ]
  },
  {
   "cell_type": "code",
   "execution_count": null,
   "metadata": {},
   "outputs": [],
   "source": [
    "from pydantic import BaseModel, Field\n",
    "class Message(BaseModel):\n",
    "    \"\"\"\n",
    "    An interface for messages.\n",
    "    There is only one required method: to_natural_language\n",
    "    \"\"\"\n",
    "\n",
    "    def to_natural_language(self) -> str:\n",
    "        raise NotImplementedError\n",
    "\n",
    "\n",
    "class SimpleMessage(Message):\n",
    "    \"\"\"\n",
    "    A simple message with a single string field.\n",
    "    \"\"\"\n",
    "\n",
    "    message: str = Field(description=\"the message\")\n",
    "\n",
    "    def to_natural_language(self) -> str:\n",
    "        return self.message"
   ]
  },
  {
   "cell_type": "code",
   "execution_count": null,
   "metadata": {},
   "outputs": [],
   "source": [
    "a = SimpleMessage(message='a')"
   ]
  },
  {
   "cell_type": "code",
   "execution_count": null,
   "metadata": {},
   "outputs": [
    {
     "data": {
      "text/plain": [
       "True"
      ]
     },
     "execution_count": 27,
     "metadata": {},
     "output_type": "execute_result"
    }
   ],
   "source": [
    "isinstance(a, Message)"
   ]
  }
 ],
 "metadata": {
  "kernelspec": {
   "display_name": "new",
   "language": "python",
   "name": "new"
  },
  "language_info": {
   "codemirror_mode": {
    "name": "ipython",
    "version": 3
   },
   "file_extension": ".py",
   "mimetype": "text/x-python",
   "name": "python",
   "nbconvert_exporter": "python",
   "pygments_lexer": "ipython3",
   "version": "3.11.5"
  }
 },
 "nbformat": 4,
 "nbformat_minor": 2
}
