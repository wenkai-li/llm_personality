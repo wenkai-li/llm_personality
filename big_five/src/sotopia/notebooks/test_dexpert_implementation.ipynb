{
 "cells": [
  {
   "cell_type": "code",
   "execution_count": 1,
   "metadata": {},
   "outputs": [],
   "source": [
    "%load_ext autoreload\n",
    "%autoreload 2"
   ]
  },
  {
   "cell_type": "code",
   "execution_count": 2,
   "metadata": {},
   "outputs": [
    {
     "name": "stderr",
     "output_type": "stream",
     "text": [
      "/data/user_data/jiaruil5/miniconda3/envs/new/lib/python3.11/site-packages/pydantic/_internal/_fields.py:160: UserWarning: Field \"model_id\" has conflict with protected namespace \"model_\".\n",
      "\n",
      "You may be able to resolve this warning by setting `model_config['protected_namespaces'] = ()`.\n",
      "  warnings.warn(\n"
     ]
    }
   ],
   "source": [
    "import sys\n",
    "sys.path.append(\"../../\")\n",
    "from sotopia.databases.persistent_profile import AgentProfile, EnvironmentProfile\n",
    "from typing import Any\n",
    "def add_agent_to_database(**kwargs: dict[str, Any]) -> None:\n",
    "    agent = AgentProfile(**kwargs)\n",
    "    agent.init_profile_store()\n",
    "    # agent.db.insert(agent.dict())\n",
    "    agent.db.insert_unique(agent.dict())\n",
    "    return agent\n",
    "\n",
    "def add_env_profile(**kwargs: dict[str, Any]) -> None:\n",
    "    env_profile = EnvironmentProfile(**kwargs)\n",
    "    env_profile.init_profile_store()\n",
    "    env_profile.db.insert_unique(env_profile.dict())\n",
    "    return env_profile\n",
    "\n",
    "first_name = 'Alice' # @param {type:\"string\"}\n",
    "last_name = 'Smith' # @param {type:\"string\"}\n",
    "age = 22 # @param {type:\"integer\"}\n",
    "occupation = 'Data Scientist' # @param {type:\"string\"}\n",
    "gender = 'Woman' # @param [\"Man\", \"Woman\", \"Nonbinary\"]\n",
    "gender_pronoun = 'she/her' # @param {type:\"string\"}\n",
    "big_five = \"extraversion, openness\" # @param {type:\"string\"}\n",
    "moral_values = [\"power\", \"achievement\"] # @param {type:\"string\"}\n",
    "decision_making_style = \"analytical\" # @param {type:\"string\"}\n",
    "secret = \"She cheated in her code interview\" # @param {type:\"string\"}\n",
    "\n",
    "agent = add_agent_to_database(\n",
    "    first_name=first_name,\n",
    "    last_name=last_name,\n",
    "    age=age,\n",
    "    occupation=occupation,\n",
    "    gender=gender,\n",
    "    gender_pronoun=gender_pronoun,\n",
    "    big_five=big_five,\n",
    "    moral_values=moral_values,\n",
    "    decision_making_style=decision_making_style,\n",
    "    secret=secret,\n",
    ")\n",
    "\n",
    "first_name = 'Bob' # @param {type:\"string\"}\n",
    "last_name = 'Johnson' # @param {type:\"string\"}\n",
    "age = 30 # @param {type:\"integer\"}\n",
    "occupation = 'Chef' # @param {type:\"string\"}\n",
    "gender = 'Man' # @param [\"Man\", \"Woman\", \"Nonbinary\"]\n",
    "gender_pronoun = 'he/his' # @param {type:\"string\"}\n",
    "big_five = \"openness, conscientiousness\" # @param {type:\"string\"}\n",
    "moral_values = [\"Benevolence\"] # @param {type:\"string\"}\n",
    "decision_making_style = \"conceptual\" # @param {type:\"string\"}\n",
    "secret = \"He has a negative net worth.\" # @param {type:\"string\"}\n",
    "\n",
    "agent = add_agent_to_database(\n",
    "    first_name=first_name,\n",
    "    last_name=last_name,\n",
    "    age=age,\n",
    "    occupation=occupation,\n",
    "    gender=gender,\n",
    "    gender_pronoun=gender_pronoun,\n",
    "    big_five=big_five,\n",
    "    moral_values=moral_values,\n",
    "    decision_making_style=decision_making_style,\n",
    "    secret=secret,\n",
    ")\n",
    "\n",
    "scenario = \"A friend is raising a fund for the \\\"Help the children\\\" charity\" # @param {type:\"string\"}\n",
    "social_goal_1 = \"Ask for donation of $100\" # @param {type:\"string\"}\n",
    "social_goal_2 = \"Donate less than $10\" # @param {type:\"string\"}\n",
    "\n",
    "env_profile = add_env_profile(\n",
    "    scenario=scenario,\n",
    "    agent_goals = [social_goal_1, social_goal_2]\n",
    ")"
   ]
  },
  {
   "cell_type": "code",
   "execution_count": 3,
   "metadata": {},
   "outputs": [
    {
     "data": {
      "text/plain": [
       "[{'first_name': 'Alice',\n",
       "  'last_name': 'Smith',\n",
       "  'age': 22,\n",
       "  'occupation': 'Data Scientist',\n",
       "  'gender': 'Woman',\n",
       "  'gender_pronoun': 'she/her',\n",
       "  'public_info': '',\n",
       "  'big_five': 'extraversion, openness',\n",
       "  'moral_values': ['power', 'achievement'],\n",
       "  'schwartz_personal_values': [],\n",
       "  'personality_and_values': '',\n",
       "  'decision_making_style': 'analytical',\n",
       "  'secret': 'She cheated in her code interview',\n",
       "  'model_id': '',\n",
       "  'mbti': ''},\n",
       " {'first_name': 'Bob',\n",
       "  'last_name': 'Johnson',\n",
       "  'age': 30,\n",
       "  'occupation': 'Chef',\n",
       "  'gender': 'Man',\n",
       "  'gender_pronoun': 'he/his',\n",
       "  'public_info': '',\n",
       "  'big_five': 'openness, conscientiousness',\n",
       "  'moral_values': ['Benevolence'],\n",
       "  'schwartz_personal_values': [],\n",
       "  'personality_and_values': '',\n",
       "  'decision_making_style': 'conceptual',\n",
       "  'secret': 'He has a negative net worth.',\n",
       "  'model_id': '',\n",
       "  'mbti': ''},\n",
       " {'first_name': 'Alice',\n",
       "  'last_name': 'Smith',\n",
       "  'age': 22,\n",
       "  'occupation': 'Data Scientist',\n",
       "  'gender': 'Woman',\n",
       "  'gender_pronoun': 'she/her',\n",
       "  'public_info': '',\n",
       "  'big_five': '',\n",
       "  'moral_values': ['power', 'achievement'],\n",
       "  'schwartz_personal_values': [],\n",
       "  'personality_and_values': 'extraversion, openness',\n",
       "  'decision_making_style': 'analytical',\n",
       "  'secret': 'She cheated in her code interview',\n",
       "  'model_id': '',\n",
       "  'mbti': ''},\n",
       " {'first_name': 'Bob',\n",
       "  'last_name': 'Johnson',\n",
       "  'age': 30,\n",
       "  'occupation': 'Chef',\n",
       "  'gender': 'Man',\n",
       "  'gender_pronoun': 'he/his',\n",
       "  'public_info': '',\n",
       "  'big_five': '',\n",
       "  'moral_values': ['Benevolence'],\n",
       "  'schwartz_personal_values': [],\n",
       "  'personality_and_values': 'openness, conscientiousness',\n",
       "  'decision_making_style': 'conceptual',\n",
       "  'secret': 'He has a negative net worth.',\n",
       "  'model_id': '',\n",
       "  'mbti': ''}]"
      ]
     },
     "execution_count": 3,
     "metadata": {},
     "output_type": "execute_result"
    }
   ],
   "source": [
    "agent.db.all()"
   ]
  },
  {
   "cell_type": "code",
   "execution_count": 4,
   "metadata": {},
   "outputs": [
    {
     "name": "stderr",
     "output_type": "stream",
     "text": [
      "/data/user_data/jiaruil5/miniconda3/envs/new/lib/python3.11/site-packages/beartype/_util/hint/pep/utilpeptest.py:347: BeartypeDecorHintPep585DeprecationWarning: PEP 484 type hint typing.Sequence[sotopia.agents.base_agent.BaseAgent[sotopia.messages.message_classes.Observation, sotopia.messages.message_classes.AgentAction]] deprecated by PEP 585. This hint is scheduled for removal in the first Python version released after October 5th, 2025. To resolve this, import this hint from \"beartype.typing\" rather than \"typing\". For further commentary and alternatives, see also:\n",
      "    https://beartype.readthedocs.io/en/latest/api_roar/#pep-585-deprecations\n",
      "  warn(\n",
      "Running one batch:   0%|          | 0/1 [00:00<?, ?it/s]"
     ]
    },
    {
     "name": "stdout",
     "output_type": "stream",
     "text": [
      "Is the agent omniscient? False\n"
     ]
    },
    {
     "data": {
      "text/html": [
       "<pre style=\"white-space:pre;overflow-x:auto;line-height:normal;font-family:Menlo,'DejaVu Sans Mono',consolas,'Courier New',monospace\">Results:  <span style=\"font-weight: bold\">{</span><span style=\"color: #008000; text-decoration-color: #008000\">\"action_type\"</span>: <span style=\"color: #008000; text-decoration-color: #008000\">\"speak\"</span>, <span style=\"color: #008000; text-decoration-color: #008000\">\"argument\"</span>: <span style=\"color: #008000; text-decoration-color: #008000\">\"Hey Alice, I'm really passionate about helping children in need, </span>\n",
       "<span style=\"color: #008000; text-decoration-color: #008000\">and I'm excited to support this charity. I'd love to contribute $100 to the cause. How about you?\"</span><span style=\"font-weight: bold\">}</span>\n",
       "</pre>\n"
      ],
      "text/plain": [
       "Results:  \u001b[1m{\u001b[0m\u001b[32m\"action_type\"\u001b[0m: \u001b[32m\"speak\"\u001b[0m, \u001b[32m\"argument\"\u001b[0m: \u001b[32m\"Hey Alice, I'm really passionate about helping children in need, \u001b[0m\n",
       "\u001b[32mand I'm excited to support this charity. I'd love to contribute $100 to the cause. How about you?\"\u001b[0m\u001b[1m}\u001b[0m\n"
      ]
     },
     "metadata": {},
     "output_type": "display_data"
    },
    {
     "data": {
      "text/html": [
       "<pre style=\"white-space:pre;overflow-x:auto;line-height:normal;font-family:Menlo,'DejaVu Sans Mono',consolas,'Courier New',monospace\">Results:  <span style=\"font-weight: bold\">{</span>\n",
       "<span style=\"color: #008000; text-decoration-color: #008000\">\"action_type\"</span>: <span style=\"color: #008000; text-decoration-color: #008000\">\"speak\"</span>,\n",
       "<span style=\"color: #008000; text-decoration-color: #008000\">\"argument\"</span>: <span style=\"color: #008000; text-decoration-color: #008000\">\"That's really great, Bob! I'm happy to support the charity too. However, I'm on a tight budget this </span>\n",
       "<span style=\"color: #008000; text-decoration-color: #008000\">month, so I can only contribute $5 to the cause.\"</span>\n",
       "<span style=\"font-weight: bold\">}</span>\n",
       "</pre>\n"
      ],
      "text/plain": [
       "Results:  \u001b[1m{\u001b[0m\n",
       "\u001b[32m\"action_type\"\u001b[0m: \u001b[32m\"speak\"\u001b[0m,\n",
       "\u001b[32m\"argument\"\u001b[0m: \u001b[32m\"That's really great, Bob! I'm happy to support the charity too. However, I'm on a tight budget this \u001b[0m\n",
       "\u001b[32mmonth, so I can only contribute $5 to the cause.\"\u001b[0m\n",
       "\u001b[1m}\u001b[0m\n"
      ]
     },
     "metadata": {},
     "output_type": "display_data"
    },
    {
     "data": {
      "text/html": [
       "<pre style=\"white-space:pre;overflow-x:auto;line-height:normal;font-family:Menlo,'DejaVu Sans Mono',consolas,'Courier New',monospace\">Results:  <span style=\"font-weight: bold\">{</span>\n",
       "  <span style=\"color: #008000; text-decoration-color: #008000\">\"action_type\"</span>: <span style=\"color: #008000; text-decoration-color: #008000\">\"speak\"</span>,\n",
       "  <span style=\"color: #008000; text-decoration-color: #008000\">\"argument\"</span>: <span style=\"color: #008000; text-decoration-color: #008000\">\"I completely understand, Alice. Every little bit counts, and I appreciate your willingness to </span>\n",
       "<span style=\"color: #008000; text-decoration-color: #008000\">contribute. Would you be willing to consider matching my initial donation of $100 to the cause?\"</span>\n",
       "<span style=\"font-weight: bold\">}</span>\n",
       "</pre>\n"
      ],
      "text/plain": [
       "Results:  \u001b[1m{\u001b[0m\n",
       "  \u001b[32m\"action_type\"\u001b[0m: \u001b[32m\"speak\"\u001b[0m,\n",
       "  \u001b[32m\"argument\"\u001b[0m: \u001b[32m\"I completely understand, Alice. Every little bit counts, and I appreciate your willingness to \u001b[0m\n",
       "\u001b[32mcontribute. Would you be willing to consider matching my initial donation of $100 to the cause?\"\u001b[0m\n",
       "\u001b[1m}\u001b[0m\n"
      ]
     },
     "metadata": {},
     "output_type": "display_data"
    },
    {
     "data": {
      "text/html": [
       "<pre style=\"white-space:pre;overflow-x:auto;line-height:normal;font-family:Menlo,'DejaVu Sans Mono',consolas,'Courier New',monospace\">Results:  <span style=\"font-weight: bold\">{</span><span style=\"color: #008000; text-decoration-color: #008000\">\"action_type\"</span>: <span style=\"color: #008000; text-decoration-color: #008000\">\"speak\"</span>, <span style=\"color: #008000; text-decoration-color: #008000\">\"argument\"</span>: <span style=\"color: #008000; text-decoration-color: #008000\">\"I'd love to help, but I'm trying to be more mindful of my spending </span>\n",
       "<span style=\"color: #008000; text-decoration-color: #008000\">this month. Maybe I could do $7 instead?\"</span><span style=\"font-weight: bold\">}</span>\n",
       "</pre>\n"
      ],
      "text/plain": [
       "Results:  \u001b[1m{\u001b[0m\u001b[32m\"action_type\"\u001b[0m: \u001b[32m\"speak\"\u001b[0m, \u001b[32m\"argument\"\u001b[0m: \u001b[32m\"I'd love to help, but I'm trying to be more mindful of my spending \u001b[0m\n",
       "\u001b[32mthis month. Maybe I could do $7 instead?\"\u001b[0m\u001b[1m}\u001b[0m\n"
      ]
     },
     "metadata": {},
     "output_type": "display_data"
    },
    {
     "data": {
      "text/html": [
       "<pre style=\"white-space:pre;overflow-x:auto;line-height:normal;font-family:Menlo,'DejaVu Sans Mono',consolas,'Courier New',monospace\">Results:  <span style=\"font-weight: bold\">{</span><span style=\"color: #008000; text-decoration-color: #008000\">\"action_type\"</span>: <span style=\"color: #008000; text-decoration-color: #008000\">\"speak\"</span>, <span style=\"color: #008000; text-decoration-color: #008000\">\"argument\"</span>: <span style=\"color: #008000; text-decoration-color: #008000\">\"I completely understand, Alice. I know it's tough to make ends </span>\n",
       "<span style=\"color: #008000; text-decoration-color: #008000\">meet, but even $7 would be a huge help. Every little bit counts, and I'm confident the kids will appreciate it. Can</span>\n",
       "<span style=\"color: #008000; text-decoration-color: #008000\">I ask, what's the most important thing that you're trying to prioritize this month?\"</span><span style=\"font-weight: bold\">}</span>\n",
       "</pre>\n"
      ],
      "text/plain": [
       "Results:  \u001b[1m{\u001b[0m\u001b[32m\"action_type\"\u001b[0m: \u001b[32m\"speak\"\u001b[0m, \u001b[32m\"argument\"\u001b[0m: \u001b[32m\"I completely understand, Alice. I know it's tough to make ends \u001b[0m\n",
       "\u001b[32mmeet, but even $7 would be a huge help. Every little bit counts, and I'm confident the kids will appreciate it. Can\u001b[0m\n",
       "\u001b[32mI ask, what's the most important thing that you're trying to prioritize this month?\"\u001b[0m\u001b[1m}\u001b[0m\n"
      ]
     },
     "metadata": {},
     "output_type": "display_data"
    },
    {
     "data": {
      "text/html": [
       "<pre style=\"white-space:pre;overflow-x:auto;line-height:normal;font-family:Menlo,'DejaVu Sans Mono',consolas,'Courier New',monospace\">Results:  <span style=\"font-weight: bold\">{</span><span style=\"color: #008000; text-decoration-color: #008000\">\"action_type\"</span>: <span style=\"color: #008000; text-decoration-color: #008000\">\"speak\"</span>, <span style=\"color: #008000; text-decoration-color: #008000\">\"argument\"</span>: <span style=\"color: #008000; text-decoration-color: #008000\">\"I'd love to help, but I'm really struggling to make ends meet right</span>\n",
       "<span style=\"color: #008000; text-decoration-color: #008000\">now. Maybe I could do $5 instead?\"</span><span style=\"font-weight: bold\">}</span>\n",
       "</pre>\n"
      ],
      "text/plain": [
       "Results:  \u001b[1m{\u001b[0m\u001b[32m\"action_type\"\u001b[0m: \u001b[32m\"speak\"\u001b[0m, \u001b[32m\"argument\"\u001b[0m: \u001b[32m\"I'd love to help, but I'm really struggling to make ends meet right\u001b[0m\n",
       "\u001b[32mnow. Maybe I could do $5 instead?\"\u001b[0m\u001b[1m}\u001b[0m\n"
      ]
     },
     "metadata": {},
     "output_type": "display_data"
    },
    {
     "data": {
      "text/html": [
       "<pre style=\"white-space:pre;overflow-x:auto;line-height:normal;font-family:Menlo,'DejaVu Sans Mono',consolas,'Courier New',monospace\">Results:  <span style=\"font-weight: bold\">{</span><span style=\"color: #008000; text-decoration-color: #008000\">\"action_type\"</span>: <span style=\"color: #008000; text-decoration-color: #008000\">\"speak\"</span>, <span style=\"color: #008000; text-decoration-color: #008000\">\"argument\"</span>: <span style=\"color: #008000; text-decoration-color: #008000\">\"I completely understand, Alice. It's tough to make ends meet, but </span>\n",
       "<span style=\"color: #008000; text-decoration-color: #008000\">I'm confident that even $5 will make a big difference to the kids. Would you be willing to consider a small </span>\n",
       "<span style=\"color: #008000; text-decoration-color: #008000\">sacrifice and stretch your budget a bit to help out?\"</span><span style=\"font-weight: bold\">}</span>\n",
       "</pre>\n"
      ],
      "text/plain": [
       "Results:  \u001b[1m{\u001b[0m\u001b[32m\"action_type\"\u001b[0m: \u001b[32m\"speak\"\u001b[0m, \u001b[32m\"argument\"\u001b[0m: \u001b[32m\"I completely understand, Alice. It's tough to make ends meet, but \u001b[0m\n",
       "\u001b[32mI'm confident that even $5 will make a big difference to the kids. Would you be willing to consider a small \u001b[0m\n",
       "\u001b[32msacrifice and stretch your budget a bit to help out?\"\u001b[0m\u001b[1m}\u001b[0m\n"
      ]
     },
     "metadata": {},
     "output_type": "display_data"
    },
    {
     "data": {
      "text/html": [
       "<pre style=\"white-space:pre;overflow-x:auto;line-height:normal;font-family:Menlo,'DejaVu Sans Mono',consolas,'Courier New',monospace\">Results:  <span style=\"font-weight: bold\">{</span><span style=\"color: #008000; text-decoration-color: #008000\">\"action_type\"</span>: <span style=\"color: #008000; text-decoration-color: #008000\">\"speak\"</span>, <span style=\"color: #008000; text-decoration-color: #008000\">\"argument\"</span>: <span style=\"color: #008000; text-decoration-color: #008000\">\"I appreciate your enthusiasm, Bob. However, I'm really trying to </span>\n",
       "<span style=\"color: #008000; text-decoration-color: #008000\">stick to my budget this month. Maybe I could do $3 instead?\"</span><span style=\"font-weight: bold\">}</span>\n",
       "</pre>\n"
      ],
      "text/plain": [
       "Results:  \u001b[1m{\u001b[0m\u001b[32m\"action_type\"\u001b[0m: \u001b[32m\"speak\"\u001b[0m, \u001b[32m\"argument\"\u001b[0m: \u001b[32m\"I appreciate your enthusiasm, Bob. However, I'm really trying to \u001b[0m\n",
       "\u001b[32mstick to my budget this month. Maybe I could do $3 instead?\"\u001b[0m\u001b[1m}\u001b[0m\n"
      ]
     },
     "metadata": {},
     "output_type": "display_data"
    },
    {
     "data": {
      "text/html": [
       "<pre style=\"white-space:pre;overflow-x:auto;line-height:normal;font-family:Menlo,'DejaVu Sans Mono',consolas,'Courier New',monospace\">Results:  <span style=\"font-weight: bold\">{</span>\n",
       "  <span style=\"color: #008000; text-decoration-color: #008000\">\"action_type\"</span>: <span style=\"color: #008000; text-decoration-color: #008000\">\"non-verbal communication\"</span>,\n",
       "  <span style=\"color: #008000; text-decoration-color: #008000\">\"argument\"</span>: <span style=\"color: #008000; text-decoration-color: #008000\">\"nodding and smiling\"</span>\n",
       "<span style=\"font-weight: bold\">}</span>\n",
       "</pre>\n"
      ],
      "text/plain": [
       "Results:  \u001b[1m{\u001b[0m\n",
       "  \u001b[32m\"action_type\"\u001b[0m: \u001b[32m\"non-verbal communication\"\u001b[0m,\n",
       "  \u001b[32m\"argument\"\u001b[0m: \u001b[32m\"nodding and smiling\"\u001b[0m\n",
       "\u001b[1m}\u001b[0m\n"
      ]
     },
     "metadata": {},
     "output_type": "display_data"
    },
    {
     "data": {
      "text/html": [
       "<pre style=\"white-space:pre;overflow-x:auto;line-height:normal;font-family:Menlo,'DejaVu Sans Mono',consolas,'Courier New',monospace\">Results:  <span style=\"font-weight: bold\">{</span><span style=\"color: #008000; text-decoration-color: #008000\">\"action_type\"</span>: <span style=\"color: #008000; text-decoration-color: #008000\">\"speak\"</span>, <span style=\"color: #008000; text-decoration-color: #008000\">\"argument\"</span>: <span style=\"color: #008000; text-decoration-color: #008000\">\"I don't want to stretch my budget too much, but I can do $3 and </span>\n",
       "<span style=\"color: #008000; text-decoration-color: #008000\">that's my final offer.\"</span><span style=\"font-weight: bold\">}</span>\n",
       "</pre>\n"
      ],
      "text/plain": [
       "Results:  \u001b[1m{\u001b[0m\u001b[32m\"action_type\"\u001b[0m: \u001b[32m\"speak\"\u001b[0m, \u001b[32m\"argument\"\u001b[0m: \u001b[32m\"I don't want to stretch my budget too much, but I can do $3 and \u001b[0m\n",
       "\u001b[32mthat's my final offer.\"\u001b[0m\u001b[1m}\u001b[0m\n"
      ]
     },
     "metadata": {},
     "output_type": "display_data"
    },
    {
     "data": {
      "text/html": [
       "<pre style=\"white-space:pre;overflow-x:auto;line-height:normal;font-family:Menlo,'DejaVu Sans Mono',consolas,'Courier New',monospace\">Results:  <span style=\"font-weight: bold\">{</span>\n",
       "  <span style=\"color: #008000; text-decoration-color: #008000\">\"action_type\"</span>: <span style=\"color: #008000; text-decoration-color: #008000\">\"speak\"</span>,\n",
       "  <span style=\"color: #008000; text-decoration-color: #008000\">\"argument\"</span>: <span style=\"color: #008000; text-decoration-color: #008000\">\"I completely understand, Alice. I know it's tough to make ends meet, and I'm grateful for whatever </span>\n",
       "<span style=\"color: #008000; text-decoration-color: #008000\">you can contribute. Every little bit counts, and I'm confident the kids will appreciate it. Would you be willing to</span>\n",
       "<span style=\"color: #008000; text-decoration-color: #008000\">reconsider and join me in donating $100 to the cause?\"</span>\n",
       "<span style=\"font-weight: bold\">}</span>\n",
       "</pre>\n"
      ],
      "text/plain": [
       "Results:  \u001b[1m{\u001b[0m\n",
       "  \u001b[32m\"action_type\"\u001b[0m: \u001b[32m\"speak\"\u001b[0m,\n",
       "  \u001b[32m\"argument\"\u001b[0m: \u001b[32m\"I completely understand, Alice. I know it's tough to make ends meet, and I'm grateful for whatever \u001b[0m\n",
       "\u001b[32myou can contribute. Every little bit counts, and I'm confident the kids will appreciate it. Would you be willing to\u001b[0m\n",
       "\u001b[32mreconsider and join me in donating $100 to the cause?\"\u001b[0m\n",
       "\u001b[1m}\u001b[0m\n"
      ]
     },
     "metadata": {},
     "output_type": "display_data"
    },
    {
     "data": {
      "text/html": [
       "<pre style=\"white-space:pre;overflow-x:auto;line-height:normal;font-family:Menlo,'DejaVu Sans Mono',consolas,'Courier New',monospace\">Results:  <span style=\"font-weight: bold\">{</span><span style=\"color: #008000; text-decoration-color: #008000\">\"action_type\"</span>: <span style=\"color: #008000; text-decoration-color: #008000\">\"speak\"</span>, <span style=\"color: #008000; text-decoration-color: #008000\">\"argument\"</span>: <span style=\"color: #008000; text-decoration-color: #008000\">\"I think that's a really generous offer, Bob. I'm happy to </span>\n",
       "<span style=\"color: #008000; text-decoration-color: #008000\">contribute $3 to the cause, and I'm sure it will make a big difference to the kids. I'm glad we're supporting this </span>\n",
       "<span style=\"color: #008000; text-decoration-color: #008000\">charity together.\"</span><span style=\"font-weight: bold\">}</span>\n",
       "</pre>\n"
      ],
      "text/plain": [
       "Results:  \u001b[1m{\u001b[0m\u001b[32m\"action_type\"\u001b[0m: \u001b[32m\"speak\"\u001b[0m, \u001b[32m\"argument\"\u001b[0m: \u001b[32m\"I think that's a really generous offer, Bob. I'm happy to \u001b[0m\n",
       "\u001b[32mcontribute $3 to the cause, and I'm sure it will make a big difference to the kids. I'm glad we're supporting this \u001b[0m\n",
       "\u001b[32mcharity together.\"\u001b[0m\u001b[1m}\u001b[0m\n"
      ]
     },
     "metadata": {},
     "output_type": "display_data"
    },
    {
     "data": {
      "text/html": [
       "<pre style=\"white-space:pre;overflow-x:auto;line-height:normal;font-family:Menlo,'DejaVu Sans Mono',consolas,'Courier New',monospace\">Results:  <span style=\"font-weight: bold\">{</span><span style=\"color: #008000; text-decoration-color: #008000\">\"action_type\"</span>: <span style=\"color: #008000; text-decoration-color: #008000\">\"speak\"</span>, <span style=\"color: #008000; text-decoration-color: #008000\">\"argument\"</span>: <span style=\"color: #008000; text-decoration-color: #008000\">\"I completely understand, Alice. I know it's tough to make ends </span>\n",
       "<span style=\"color: #008000; text-decoration-color: #008000\">meet, but I'm confident that every little bit counts, and I'm willing to cover the remaining amount to reach the </span>\n",
       "<span style=\"color: #008000; text-decoration-color: #008000\">$100 goal. Would you like to make a final contribution to the cause?\"</span><span style=\"font-weight: bold\">}</span>\n",
       "</pre>\n"
      ],
      "text/plain": [
       "Results:  \u001b[1m{\u001b[0m\u001b[32m\"action_type\"\u001b[0m: \u001b[32m\"speak\"\u001b[0m, \u001b[32m\"argument\"\u001b[0m: \u001b[32m\"I completely understand, Alice. I know it's tough to make ends \u001b[0m\n",
       "\u001b[32mmeet, but I'm confident that every little bit counts, and I'm willing to cover the remaining amount to reach the \u001b[0m\n",
       "\u001b[32m$100 goal. Would you like to make a final contribution to the cause?\"\u001b[0m\u001b[1m}\u001b[0m\n"
      ]
     },
     "metadata": {},
     "output_type": "display_data"
    },
    {
     "data": {
      "text/html": [
       "<pre style=\"white-space:pre;overflow-x:auto;line-height:normal;font-family:Menlo,'DejaVu Sans Mono',consolas,'Courier New',monospace\">Results:  <span style=\"font-weight: bold\">{</span><span style=\"color: #008000; text-decoration-color: #008000\">\"action_type\"</span>: <span style=\"color: #008000; text-decoration-color: #008000\">\"non-verbal communication\"</span>, <span style=\"color: #008000; text-decoration-color: #008000\">\"argument\"</span>: <span style=\"color: #008000; text-decoration-color: #008000\">\"\"</span><span style=\"font-weight: bold\">}</span>\n",
       "</pre>\n"
      ],
      "text/plain": [
       "Results:  \u001b[1m{\u001b[0m\u001b[32m\"action_type\"\u001b[0m: \u001b[32m\"non-verbal communication\"\u001b[0m, \u001b[32m\"argument\"\u001b[0m: \u001b[32m\"\"\u001b[0m\u001b[1m}\u001b[0m\n"
      ]
     },
     "metadata": {},
     "output_type": "display_data"
    },
    {
     "data": {
      "text/html": [
       "<pre style=\"white-space:pre;overflow-x:auto;line-height:normal;font-family:Menlo,'DejaVu Sans Mono',consolas,'Courier New',monospace\">Results:  <span style=\"font-weight: bold\">{</span><span style=\"color: #008000; text-decoration-color: #008000\">\"action_type\"</span>: <span style=\"color: #008000; text-decoration-color: #008000\">\"non-verbal communication\"</span>, <span style=\"color: #008000; text-decoration-color: #008000\">\"argument\"</span>: <span style=\"color: #008000; text-decoration-color: #008000\">\"\"</span><span style=\"font-weight: bold\">}</span>\n",
       "</pre>\n"
      ],
      "text/plain": [
       "Results:  \u001b[1m{\u001b[0m\u001b[32m\"action_type\"\u001b[0m: \u001b[32m\"non-verbal communication\"\u001b[0m, \u001b[32m\"argument\"\u001b[0m: \u001b[32m\"\"\u001b[0m\u001b[1m}\u001b[0m\n"
      ]
     },
     "metadata": {},
     "output_type": "display_data"
    },
    {
     "data": {
      "text/html": [
       "<pre style=\"white-space:pre;overflow-x:auto;line-height:normal;font-family:Menlo,'DejaVu Sans Mono',consolas,'Courier New',monospace\">Results:  <span style=\"font-weight: bold\">{</span><span style=\"color: #008000; text-decoration-color: #008000\">\"action_type\"</span>: <span style=\"color: #008000; text-decoration-color: #008000\">\"speak\"</span>, <span style=\"color: #008000; text-decoration-color: #008000\">\"argument\"</span>: <span style=\"color: #008000; text-decoration-color: #008000\">\"I'll definitely stick with my original offer of $3, Bob. I </span>\n",
       "<span style=\"color: #008000; text-decoration-color: #008000\">appreciate your understanding.\"</span><span style=\"font-weight: bold\">}</span>\n",
       "</pre>\n"
      ],
      "text/plain": [
       "Results:  \u001b[1m{\u001b[0m\u001b[32m\"action_type\"\u001b[0m: \u001b[32m\"speak\"\u001b[0m, \u001b[32m\"argument\"\u001b[0m: \u001b[32m\"I'll definitely stick with my original offer of $3, Bob. I \u001b[0m\n",
       "\u001b[32mappreciate your understanding.\"\u001b[0m\u001b[1m}\u001b[0m\n"
      ]
     },
     "metadata": {},
     "output_type": "display_data"
    },
    {
     "data": {
      "text/html": [
       "<pre style=\"white-space:pre;overflow-x:auto;line-height:normal;font-family:Menlo,'DejaVu Sans Mono',consolas,'Courier New',monospace\">Results:  <span style=\"font-weight: bold\">{</span><span style=\"color: #008000; text-decoration-color: #008000\">\"action_type\"</span>: <span style=\"color: #008000; text-decoration-color: #008000\">\"speak\"</span>, <span style=\"color: #008000; text-decoration-color: #008000\">\"argument\"</span>: <span style=\"color: #008000; text-decoration-color: #008000\">\"I completely understand, Alice. I'm happy to accept your $3 </span>\n",
       "<span style=\"color: #008000; text-decoration-color: #008000\">contribution and I'll make up the remaining difference. I believe every little bit counts, and I'm confident the </span>\n",
       "<span style=\"color: #008000; text-decoration-color: #008000\">kids will appreciate it.\"</span><span style=\"font-weight: bold\">}</span>\n",
       "</pre>\n"
      ],
      "text/plain": [
       "Results:  \u001b[1m{\u001b[0m\u001b[32m\"action_type\"\u001b[0m: \u001b[32m\"speak\"\u001b[0m, \u001b[32m\"argument\"\u001b[0m: \u001b[32m\"I completely understand, Alice. I'm happy to accept your $3 \u001b[0m\n",
       "\u001b[32mcontribution and I'll make up the remaining difference. I believe every little bit counts, and I'm confident the \u001b[0m\n",
       "\u001b[32mkids will appreciate it.\"\u001b[0m\u001b[1m}\u001b[0m\n"
      ]
     },
     "metadata": {},
     "output_type": "display_data"
    },
    {
     "data": {
      "text/html": [
       "<pre style=\"white-space:pre;overflow-x:auto;line-height:normal;font-family:Menlo,'DejaVu Sans Mono',consolas,'Courier New',monospace\">Results:  <span style=\"font-weight: bold\">{</span><span style=\"color: #008000; text-decoration-color: #008000\">\"action_type\"</span>: <span style=\"color: #008000; text-decoration-color: #008000\">\"speak\"</span>, <span style=\"color: #008000; text-decoration-color: #008000\">\"argument\"</span>: <span style=\"color: #008000; text-decoration-color: #008000\">\"I'm really happy to be supporting the charity, Bob. Thank you for </span>\n",
       "<span style=\"color: #008000; text-decoration-color: #008000\">understanding my budget constraints.\"</span><span style=\"font-weight: bold\">}</span>\n",
       "</pre>\n"
      ],
      "text/plain": [
       "Results:  \u001b[1m{\u001b[0m\u001b[32m\"action_type\"\u001b[0m: \u001b[32m\"speak\"\u001b[0m, \u001b[32m\"argument\"\u001b[0m: \u001b[32m\"I'm really happy to be supporting the charity, Bob. Thank you for \u001b[0m\n",
       "\u001b[32munderstanding my budget constraints.\"\u001b[0m\u001b[1m}\u001b[0m\n"
      ]
     },
     "metadata": {},
     "output_type": "display_data"
    },
    {
     "data": {
      "text/html": [
       "<pre style=\"white-space:pre;overflow-x:auto;line-height:normal;font-family:Menlo,'DejaVu Sans Mono',consolas,'Courier New',monospace\">Results:  <span style=\"font-weight: bold\">{</span><span style=\"color: #008000; text-decoration-color: #008000\">\"action_type\"</span>: <span style=\"color: #008000; text-decoration-color: #008000\">\"speak\"</span>, <span style=\"color: #008000; text-decoration-color: #008000\">\"argument\"</span>: <span style=\"color: #008000; text-decoration-color: #008000\">\"I completely understand, Alice. I'm grateful for your contribution </span>\n",
       "<span style=\"color: #008000; text-decoration-color: #008000\">of $3. I'll make sure to add that to the total. I'm confident that every little bit counts and will make a big </span>\n",
       "<span style=\"color: #008000; text-decoration-color: #008000\">difference to the kids.\"</span><span style=\"font-weight: bold\">}</span>\n",
       "</pre>\n"
      ],
      "text/plain": [
       "Results:  \u001b[1m{\u001b[0m\u001b[32m\"action_type\"\u001b[0m: \u001b[32m\"speak\"\u001b[0m, \u001b[32m\"argument\"\u001b[0m: \u001b[32m\"I completely understand, Alice. I'm grateful for your contribution \u001b[0m\n",
       "\u001b[32mof $3. I'll make sure to add that to the total. I'm confident that every little bit counts and will make a big \u001b[0m\n",
       "\u001b[32mdifference to the kids.\"\u001b[0m\u001b[1m}\u001b[0m\n"
      ]
     },
     "metadata": {},
     "output_type": "display_data"
    },
    {
     "data": {
      "text/html": [
       "<pre style=\"white-space:pre;overflow-x:auto;line-height:normal;font-family:Menlo,'DejaVu Sans Mono',consolas,'Courier New',monospace\">Results:  <span style=\"font-weight: bold\">{</span><span style=\"color: #008000; text-decoration-color: #008000\">\"action_type\"</span>: <span style=\"color: #008000; text-decoration-color: #008000\">\"non-verbal communication\"</span>, <span style=\"color: #008000; text-decoration-color: #008000\">\"argument\"</span>: <span style=\"color: #008000; text-decoration-color: #008000\">\"\"</span><span style=\"font-weight: bold\">}</span>\n",
       "</pre>\n"
      ],
      "text/plain": [
       "Results:  \u001b[1m{\u001b[0m\u001b[32m\"action_type\"\u001b[0m: \u001b[32m\"non-verbal communication\"\u001b[0m, \u001b[32m\"argument\"\u001b[0m: \u001b[32m\"\"\u001b[0m\u001b[1m}\u001b[0m\n"
      ]
     },
     "metadata": {},
     "output_type": "display_data"
    },
    {
     "data": {
      "text/html": [
       "<pre style=\"white-space:pre;overflow-x:auto;line-height:normal;font-family:Menlo,'DejaVu Sans Mono',consolas,'Courier New',monospace\">Results:  <span style=\"font-weight: bold\">{</span>\n",
       "  <span style=\"color: #008000; text-decoration-color: #008000\">\"action_type\"</span>: <span style=\"color: #008000; text-decoration-color: #008000\">\"non-verbal communication\"</span>,\n",
       "  <span style=\"color: #008000; text-decoration-color: #008000\">\"argument\"</span>: <span style=\"color: #008000; text-decoration-color: #008000\">\"\"</span>\n",
       "<span style=\"font-weight: bold\">}</span>\n",
       "</pre>\n"
      ],
      "text/plain": [
       "Results:  \u001b[1m{\u001b[0m\n",
       "  \u001b[32m\"action_type\"\u001b[0m: \u001b[32m\"non-verbal communication\"\u001b[0m,\n",
       "  \u001b[32m\"argument\"\u001b[0m: \u001b[32m\"\"\u001b[0m\n",
       "\u001b[1m}\u001b[0m\n"
      ]
     },
     "metadata": {},
     "output_type": "display_data"
    },
    {
     "data": {
      "text/html": [
       "<pre style=\"white-space:pre;overflow-x:auto;line-height:normal;font-family:Menlo,'DejaVu Sans Mono',consolas,'Courier New',monospace\">Results:  Here is the evaluation of the participants' goals:\n",
       "\n",
       "```\n",
       "<span style=\"font-weight: bold\">{</span>\n",
       "  <span style=\"color: #008000; text-decoration-color: #008000\">\"agent_1_evaluation\"</span>: <span style=\"font-weight: bold\">[</span>\n",
       "    <span style=\"font-weight: bold\">{</span>\n",
       "      <span style=\"color: #008000; text-decoration-color: #008000\">\"believability\"</span>: <span style=\"font-weight: bold\">[</span>\n",
       "        <span style=\"color: #008000; text-decoration-color: #008000\">\"naturalness\"</span>: <span style=\"color: #008000; text-decoration-color: #008000\">\"Bob's interactions with Alice are natural and realistic.\"</span>,\n",
       "        <span style=\"color: #008000; text-decoration-color: #008000\">\"consistency\"</span>: <span style=\"color: #008000; text-decoration-color: #008000\">\"Bob's actions align with his character traits, being open and conscientious.\"</span>,\n",
       "        <span style=\"color: #008000; text-decoration-color: #008000\">\"reasoning\"</span>: <span style=\"color: #008000; text-decoration-color: #008000\">\"Bob's requests and responses are consistent with his personality and values, making his </span>\n",
       "<span style=\"color: #008000; text-decoration-color: #008000\">interactions believable.\"</span>,\n",
       "        <span style=\"color: #008000; text-decoration-color: #008000\">\"score\"</span>: <span style=\"color: #008080; text-decoration-color: #008080; font-weight: bold\">8</span>\n",
       "      <span style=\"font-weight: bold\">]</span>,\n",
       "      <span style=\"color: #008000; text-decoration-color: #008000\">\"relationship\"</span>: <span style=\"font-weight: bold\">[</span>\n",
       "        <span style=\"color: #008000; text-decoration-color: #008000\">\"initial relationship\"</span>: <span style=\"color: #008000; text-decoration-color: #008000\">\"Bob and Alice are acquaintances who are supporting a common charity.\"</span>,\n",
       "        <span style=\"color: #008000; text-decoration-color: #008000\">\"final relationship\"</span>: <span style=\"color: #008000; text-decoration-color: #008000\">\"The interaction has not significantly changed their relationship.\"</span>,\n",
       "        <span style=\"color: #008000; text-decoration-color: #008000\">\"reasoning\"</span>: <span style=\"color: #008000; text-decoration-color: #008000\">\"The interaction has not revealed any significant aspects of their personal relationships or </span>\n",
       "<span style=\"color: #008000; text-decoration-color: #008000\">social standing.\"</span>,\n",
       "        <span style=\"color: #008000; text-decoration-color: #008000\">\"score\"</span>: <span style=\"color: #008080; text-decoration-color: #008080; font-weight: bold\">0</span>\n",
       "      <span style=\"font-weight: bold\">]</span>,\n",
       "      <span style=\"color: #008000; text-decoration-color: #008000\">\"knowledge\"</span>: <span style=\"font-weight: bold\">[</span>\n",
       "        <span style=\"color: #008000; text-decoration-color: #008000\">\"new information gained\"</span>: <span style=\"color: #008000; text-decoration-color: #008000\">\"Bob has gained information about Alice's budget constraints.\"</span>,\n",
       "        <span style=\"color: #008000; text-decoration-color: #008000\">\"importance of the information\"</span>: <span style=\"color: #008000; text-decoration-color: #008000\">\"The information is important to Bob as it helps him understand Alice's </span>\n",
       "<span style=\"color: #008000; text-decoration-color: #008000\">perspective.\"</span>,\n",
       "        <span style=\"color: #008000; text-decoration-color: #008000\">\"reasoning\"</span>: <span style=\"color: #008000; text-decoration-color: #008000\">\"Bob has gained new knowledge about Alice's financial situation, which is relevant to their </span>\n",
       "<span style=\"color: #008000; text-decoration-color: #008000\">interaction.\"</span>,\n",
       "        <span style=\"color: #008000; text-decoration-color: #008000\">\"score\"</span>: <span style=\"color: #008080; text-decoration-color: #008080; font-weight: bold\">6</span>\n",
       "      <span style=\"font-weight: bold\">]</span>,\n",
       "      <span style=\"color: #008000; text-decoration-color: #008000\">\"secret\"</span>: <span style=\"font-weight: bold\">[</span>\n",
       "        <span style=\"color: #008000; text-decoration-color: #008000\">\"secret intention\"</span>: <span style=\"color: #008000; text-decoration-color: #008000\">\"Bob's intention is to raise funds for the charity.\"</span>,\n",
       "        <span style=\"color: #008000; text-decoration-color: #008000\">\"secret kept\"</span>: <span style=\"color: #008000; text-decoration-color: #008000\">\"Bob successfully keeps his secret intention.\"</span>,\n",
       "        <span style=\"color: #008000; text-decoration-color: #008000\">\"reasoning\"</span>: <span style=\"color: #008000; text-decoration-color: #008000\">\"Bob's intention is not revealed, and he successfully raises funds for the charity.\"</span>,\n",
       "        <span style=\"color: #008000; text-decoration-color: #008000\">\"score\"</span>: <span style=\"color: #008080; text-decoration-color: #008080; font-weight: bold\">10</span>\n",
       "      <span style=\"font-weight: bold\">]</span>,\n",
       "      <span style=\"color: #008000; text-decoration-color: #008000\">\"social_rules\"</span>: <span style=\"font-weight: bold\">[</span>\n",
       "        <span style=\"color: #008000; text-decoration-color: #008000\">\"violation of moral rules or laws\"</span>: <span style=\"color: #008000; text-decoration-color: #008000\">\"No violation of moral rules or laws.\"</span>,\n",
       "        <span style=\"color: #008000; text-decoration-color: #008000\">\"reasoning\"</span>: <span style=\"color: #008000; text-decoration-color: #008000\">\"Bob's actions do not violate any moral rules or laws.\"</span>,\n",
       "        <span style=\"color: #008000; text-decoration-color: #008000\">\"score\"</span>: <span style=\"color: #008080; text-decoration-color: #008080; font-weight: bold\">0</span>\n",
       "      <span style=\"font-weight: bold\">]</span>,\n",
       "      <span style=\"color: #008000; text-decoration-color: #008000\">\"financial_and_material_benefits\"</span>: <span style=\"font-weight: bold\">[</span>\n",
       "        <span style=\"color: #008000; text-decoration-color: #008000\">\"financial and material benefits gained\"</span>: <span style=\"color: #008000; text-decoration-color: #008000\">\"Bob gains the benefit of supporting a charity.\"</span>,\n",
       "        <span style=\"color: #008000; text-decoration-color: #008000\">\"financial and material benefits lost\"</span>: <span style=\"color: #008000; text-decoration-color: #008000\">\"No financial or material benefits lost.\"</span>,\n",
       "        <span style=\"color: #008000; text-decoration-color: #008000\">\"reasoning\"</span>: <span style=\"color: #008000; text-decoration-color: #008000\">\"Bob gains the benefit of supporting a charity, which is a positive outcome.\"</span>,\n",
       "        <span style=\"color: #008000; text-decoration-color: #008000\">\"score\"</span>: <span style=\"color: #008080; text-decoration-color: #008080; font-weight: bold\">2</span>\n",
       "      <span style=\"font-weight: bold\">]</span>,\n",
       "      <span style=\"color: #008000; text-decoration-color: #008000\">\"goal\"</span>: <span style=\"font-weight: bold\">[</span>\n",
       "        <span style=\"color: #008000; text-decoration-color: #008000\">\"reiterated goal\"</span>: <span style=\"color: #008000; text-decoration-color: #008000\">\"Bob's goal is to raise funds for the charity.\"</span>,\n",
       "        <span style=\"color: #008000; text-decoration-color: #008000\">\"extent of goal achievement\"</span>: <span style=\"color: #008000; text-decoration-color: #008000\">\"Bob partially achieves his goal by raising some funds.\"</span>,\n",
       "        <span style=\"color: #008000; text-decoration-color: #008000\">\"reasoning\"</span>: <span style=\"color: #008000; text-decoration-color: #008000\">\"Bob raises some funds for the charity, but not the exact amount he aimed for.\"</span>,\n",
       "        <span style=\"color: #008000; text-decoration-color: #008000\">\"score\"</span>: <span style=\"color: #008080; text-decoration-color: #008080; font-weight: bold\">5</span>\n",
       "      <span style=\"font-weight: bold\">]</span>\n",
       "    <span style=\"font-weight: bold\">}</span>\n",
       "  <span style=\"font-weight: bold\">]</span>,\n",
       "  <span style=\"color: #008000; text-decoration-color: #008000\">\"agent_2_evaluation\"</span>: <span style=\"font-weight: bold\">[</span>\n",
       "    <span style=\"font-weight: bold\">{</span>\n",
       "      <span style=\"color: #008000; text-decoration-color: #008000\">\"believability\"</span>: <span style=\"font-weight: bold\">[</span>\n",
       "        <span style=\"color: #008000; text-decoration-color: #008000\">\"naturalness\"</span>: <span style=\"color: #008000; text-decoration-color: #008000\">\"Alice's interactions with Bob are natural and realistic.\"</span>,\n",
       "        <span style=\"color: #008000; text-decoration-color: #008000\">\"consistency\"</span>: <span style=\"color: #008000; text-decoration-color: #008000\">\"Alice's actions align with her character traits, being honest.\"</span>,\n",
       "        <span style=\"color: #008000; text-decoration-color: #008000\">\"reasoning\"</span>: <span style=\"color: #008000; text-decoration-color: #008000\">\"Alice's responses are consistent with her personality and values, making her interactions </span>\n",
       "<span style=\"color: #008000; text-decoration-color: #008000\">believable.\"</span>,\n",
       "        <span style=\"color: #008000; text-decoration-color: #008000\">\"score\"</span>: <span style=\"color: #008080; text-decoration-color: #008080; font-weight: bold\">8</span>\n",
       "      <span style=\"font-weight: bold\">]</span>,\n",
       "      <span style=\"color: #008000; text-decoration-color: #008000\">\"relationship\"</span>: <span style=\"font-weight: bold\">[</span>\n",
       "        <span style=\"color: #008000; text-decoration-color: #008000\">\"initial relationship\"</span>: <span style=\"color: #008000; text-decoration-color: #008000\">\"Bob and Alice are acquaintances who are supporting a common charity.\"</span>,\n",
       "        <span style=\"color: #008000; text-decoration-color: #008000\">\"final relationship\"</span>: <span style=\"color: #008000; text-decoration-color: #008000\">\"The interaction has not significantly changed their relationship.\"</span>,\n",
       "        <span style=\"color: #008000; text-decoration-color: #008000\">\"reasoning\"</span>: <span style=\"color: #008000; text-decoration-color: #008000\">\"The interaction has not revealed any significant aspects of their personal relationships or </span>\n",
       "<span style=\"color: #008000; text-decoration-color: #008000\">social standing.\"</span>,\n",
       "        <span style=\"color: #008000; text-decoration-color: #008000\">\"score\"</span>: <span style=\"color: #008080; text-decoration-color: #008080; font-weight: bold\">0</span>\n",
       "      <span style=\"font-weight: bold\">]</span>,\n",
       "      <span style=\"color: #008000; text-decoration-color: #008000\">\"knowledge\"</span>: <span style=\"font-weight: bold\">[</span>\n",
       "        <span style=\"color: #008000; text-decoration-color: #008000\">\"new information gained\"</span>: <span style=\"color: #008000; text-decoration-color: #008000\">\"Alice has gained information about Bob's request.\"</span>,\n",
       "        <span style=\"color: #008000; text-decoration-color: #008000\">\"importance of the information\"</span>: <span style=\"color: #008000; text-decoration-color: #008000\">\"The information is important to Alice as it helps her understand Bob's </span>\n",
       "<span style=\"color: #008000; text-decoration-color: #008000\">perspective.\"</span>,\n",
       "        <span style=\"color: #008000; text-decoration-color: #008000\">\"reasoning\"</span>: <span style=\"color: #008000; text-decoration-color: #008000\">\"Alice gains new knowledge about Bob's request, which is relevant to their interaction.\"</span>,\n",
       "        <span style=\"color: #008000; text-decoration-color: #008000\">\"score\"</span>: <span style=\"color: #008080; text-decoration-color: #008080; font-weight: bold\">5</span>\n",
       "      <span style=\"font-weight: bold\">]</span>,\n",
       "      <span style=\"color: #008000; text-decoration-color: #008000\">\"secret\"</span>: <span style=\"font-weight: bold\">[</span>\n",
       "        <span style=\"color: #008000; text-decoration-color: #008000\">\"secret intention\"</span>: <span style=\"color: #008000; text-decoration-color: #008000\">\"Alice's secret intention is to contribute as little as possible.\"</span>,\n",
       "        <span style=\"color: #008000; text-decoration-color: #008000\">\"secret kept\"</span>: <span style=\"color: #008000; text-decoration-color: #008000\">\"Alice partially keeps her secret intention, but reveals her budget constraints.\"</span>,\n",
       "        <span style=\"color: #008000; text-decoration-color: #008000\">\"reasoning\"</span>: <span style=\"color: #008000; text-decoration-color: #008000\">\"Alice's secret intention is partially revealed, but she still contributes some amount to the </span>\n",
       "<span style=\"color: #008000; text-decoration-color: #008000\">charity.\"</span>,\n",
       "        <span style=\"color: #008000; text-decoration-color: #008000\">\"score\"</span>: <span style=\"color: #008080; text-decoration-color: #008080; font-weight: bold\">4</span>\n",
       "      <span style=\"font-weight: bold\">]</span>,\n",
       "      <span style=\"color: #008000; text-decoration-color: #008000\">\"social_rules\"</span>: <span style=\"font-weight: bold\">[</span>\n",
       "        <span style=\"color: #008000; text-decoration-color: #008000\">\"violation of moral rules or laws\"</span>: <span style=\"color: #008000; text-decoration-color: #008000\">\"No violation of moral rules or laws.\"</span>,\n",
       "        <span style=\"color: #008000; text-decoration-color: #008000\">\"reasoning\"</span>: <span style=\"color: #008000; text-decoration-color: #008000\">\"Alice's actions do not violate any moral rules or laws.\"</span>,\n",
       "        <span style=\"color: #008000; text-decoration-color: #008000\">\"score\"</span>: <span style=\"color: #008080; text-decoration-color: #008080; font-weight: bold\">0</span>\n",
       "      <span style=\"font-weight: bold\">]</span>,\n",
       "      <span style=\"color: #008000; text-decoration-color: #008000\">\"financial_and_material_benefits\"</span>: <span style=\"font-weight: bold\">[</span>\n",
       "        <span style=\"color: #008000; text-decoration-color: #008000\">\"financial and material benefits gained\"</span>: <span style=\"color: #008000; text-decoration-color: #008000\">\"Alice gains the benefit of supporting a charity.\"</span>,\n",
       "        <span style=\"color: #008000; text-decoration-color: #008000\">\"financial and material benefits lost\"</span>: <span style=\"color: #008000; text-decoration-color: #008000\">\"Alice's financial resources are reduced by the contribution.\"</span>,\n",
       "        <span style=\"color: #008000; text-decoration-color: #008000\">\"reasoning\"</span>: <span style=\"color: #008000; text-decoration-color: #008000\">\"Alice gains the benefit of supporting a charity, but at the cost of reducing her financial </span>\n",
       "<span style=\"color: #008000; text-decoration-color: #008000\">resources.\"</span>,\n",
       "        <span style=\"color: #008000; text-decoration-color: #008000\">\"score\"</span>: <span style=\"color: #008080; text-decoration-color: #008080; font-weight: bold\">1</span>\n",
       "      <span style=\"font-weight: bold\">]</span>,\n",
       "      <span style=\"color: #008000; text-decoration-color: #008000\">\"goal\"</span>: <span style=\"font-weight: bold\">[</span>\n",
       "        <span style=\"color: #008000; text-decoration-color: #008000\">\"reiterated goal\"</span>: <span style=\"color: #008000; text-decoration-color: #008000\">\"Alice's goal is to contribute as little as possible.\"</span>,\n",
       "        <span style=\"color: #008000; text-decoration-color: #008000\">\"extent of goal achievement\"</span>: <span style=\"color: #008000; text-decoration-color: #008000\">\"Alice partially achieves her goal by contributing some amount.\"</span>,\n",
       "        <span style=\"color: #008000; text-decoration-color: #008000\">\"reasoning\"</span>: <span style=\"color: #008000; text-decoration-color: #008000\">\"Alice contributes some amount, but it is less than her initial intention.\"</span>,\n",
       "        <span style=\"color: #008000; text-decoration-color: #008000\">\"score\"</span>: <span style=\"color: #008080; text-decoration-color: #008080; font-weight: bold\">4</span>\n",
       "      <span style=\"font-weight: bold\">]</span>\n",
       "    <span style=\"font-weight: bold\">}</span>\n",
       "  <span style=\"font-weight: bold\">]</span>\n",
       "<span style=\"font-weight: bold\">}</span>\n",
       "```\n",
       "</pre>\n"
      ],
      "text/plain": [
       "Results:  Here is the evaluation of the participants' goals:\n",
       "\n",
       "```\n",
       "\u001b[1m{\u001b[0m\n",
       "  \u001b[32m\"agent_1_evaluation\"\u001b[0m: \u001b[1m[\u001b[0m\n",
       "    \u001b[1m{\u001b[0m\n",
       "      \u001b[32m\"believability\"\u001b[0m: \u001b[1m[\u001b[0m\n",
       "        \u001b[32m\"naturalness\"\u001b[0m: \u001b[32m\"Bob's interactions with Alice are natural and realistic.\"\u001b[0m,\n",
       "        \u001b[32m\"consistency\"\u001b[0m: \u001b[32m\"Bob's actions align with his character traits, being open and conscientious.\"\u001b[0m,\n",
       "        \u001b[32m\"reasoning\"\u001b[0m: \u001b[32m\"Bob's requests and responses are consistent with his personality and values, making his \u001b[0m\n",
       "\u001b[32minteractions believable.\"\u001b[0m,\n",
       "        \u001b[32m\"score\"\u001b[0m: \u001b[1;36m8\u001b[0m\n",
       "      \u001b[1m]\u001b[0m,\n",
       "      \u001b[32m\"relationship\"\u001b[0m: \u001b[1m[\u001b[0m\n",
       "        \u001b[32m\"initial relationship\"\u001b[0m: \u001b[32m\"Bob and Alice are acquaintances who are supporting a common charity.\"\u001b[0m,\n",
       "        \u001b[32m\"final relationship\"\u001b[0m: \u001b[32m\"The interaction has not significantly changed their relationship.\"\u001b[0m,\n",
       "        \u001b[32m\"reasoning\"\u001b[0m: \u001b[32m\"The interaction has not revealed any significant aspects of their personal relationships or \u001b[0m\n",
       "\u001b[32msocial standing.\"\u001b[0m,\n",
       "        \u001b[32m\"score\"\u001b[0m: \u001b[1;36m0\u001b[0m\n",
       "      \u001b[1m]\u001b[0m,\n",
       "      \u001b[32m\"knowledge\"\u001b[0m: \u001b[1m[\u001b[0m\n",
       "        \u001b[32m\"new information gained\"\u001b[0m: \u001b[32m\"Bob has gained information about Alice's budget constraints.\"\u001b[0m,\n",
       "        \u001b[32m\"importance of the information\"\u001b[0m: \u001b[32m\"The information is important to Bob as it helps him understand Alice's \u001b[0m\n",
       "\u001b[32mperspective.\"\u001b[0m,\n",
       "        \u001b[32m\"reasoning\"\u001b[0m: \u001b[32m\"Bob has gained new knowledge about Alice's financial situation, which is relevant to their \u001b[0m\n",
       "\u001b[32minteraction.\"\u001b[0m,\n",
       "        \u001b[32m\"score\"\u001b[0m: \u001b[1;36m6\u001b[0m\n",
       "      \u001b[1m]\u001b[0m,\n",
       "      \u001b[32m\"secret\"\u001b[0m: \u001b[1m[\u001b[0m\n",
       "        \u001b[32m\"secret intention\"\u001b[0m: \u001b[32m\"Bob's intention is to raise funds for the charity.\"\u001b[0m,\n",
       "        \u001b[32m\"secret kept\"\u001b[0m: \u001b[32m\"Bob successfully keeps his secret intention.\"\u001b[0m,\n",
       "        \u001b[32m\"reasoning\"\u001b[0m: \u001b[32m\"Bob's intention is not revealed, and he successfully raises funds for the charity.\"\u001b[0m,\n",
       "        \u001b[32m\"score\"\u001b[0m: \u001b[1;36m10\u001b[0m\n",
       "      \u001b[1m]\u001b[0m,\n",
       "      \u001b[32m\"social_rules\"\u001b[0m: \u001b[1m[\u001b[0m\n",
       "        \u001b[32m\"violation of moral rules or laws\"\u001b[0m: \u001b[32m\"No violation of moral rules or laws.\"\u001b[0m,\n",
       "        \u001b[32m\"reasoning\"\u001b[0m: \u001b[32m\"Bob's actions do not violate any moral rules or laws.\"\u001b[0m,\n",
       "        \u001b[32m\"score\"\u001b[0m: \u001b[1;36m0\u001b[0m\n",
       "      \u001b[1m]\u001b[0m,\n",
       "      \u001b[32m\"financial_and_material_benefits\"\u001b[0m: \u001b[1m[\u001b[0m\n",
       "        \u001b[32m\"financial and material benefits gained\"\u001b[0m: \u001b[32m\"Bob gains the benefit of supporting a charity.\"\u001b[0m,\n",
       "        \u001b[32m\"financial and material benefits lost\"\u001b[0m: \u001b[32m\"No financial or material benefits lost.\"\u001b[0m,\n",
       "        \u001b[32m\"reasoning\"\u001b[0m: \u001b[32m\"Bob gains the benefit of supporting a charity, which is a positive outcome.\"\u001b[0m,\n",
       "        \u001b[32m\"score\"\u001b[0m: \u001b[1;36m2\u001b[0m\n",
       "      \u001b[1m]\u001b[0m,\n",
       "      \u001b[32m\"goal\"\u001b[0m: \u001b[1m[\u001b[0m\n",
       "        \u001b[32m\"reiterated goal\"\u001b[0m: \u001b[32m\"Bob's goal is to raise funds for the charity.\"\u001b[0m,\n",
       "        \u001b[32m\"extent of goal achievement\"\u001b[0m: \u001b[32m\"Bob partially achieves his goal by raising some funds.\"\u001b[0m,\n",
       "        \u001b[32m\"reasoning\"\u001b[0m: \u001b[32m\"Bob raises some funds for the charity, but not the exact amount he aimed for.\"\u001b[0m,\n",
       "        \u001b[32m\"score\"\u001b[0m: \u001b[1;36m5\u001b[0m\n",
       "      \u001b[1m]\u001b[0m\n",
       "    \u001b[1m}\u001b[0m\n",
       "  \u001b[1m]\u001b[0m,\n",
       "  \u001b[32m\"agent_2_evaluation\"\u001b[0m: \u001b[1m[\u001b[0m\n",
       "    \u001b[1m{\u001b[0m\n",
       "      \u001b[32m\"believability\"\u001b[0m: \u001b[1m[\u001b[0m\n",
       "        \u001b[32m\"naturalness\"\u001b[0m: \u001b[32m\"Alice's interactions with Bob are natural and realistic.\"\u001b[0m,\n",
       "        \u001b[32m\"consistency\"\u001b[0m: \u001b[32m\"Alice's actions align with her character traits, being honest.\"\u001b[0m,\n",
       "        \u001b[32m\"reasoning\"\u001b[0m: \u001b[32m\"Alice's responses are consistent with her personality and values, making her interactions \u001b[0m\n",
       "\u001b[32mbelievable.\"\u001b[0m,\n",
       "        \u001b[32m\"score\"\u001b[0m: \u001b[1;36m8\u001b[0m\n",
       "      \u001b[1m]\u001b[0m,\n",
       "      \u001b[32m\"relationship\"\u001b[0m: \u001b[1m[\u001b[0m\n",
       "        \u001b[32m\"initial relationship\"\u001b[0m: \u001b[32m\"Bob and Alice are acquaintances who are supporting a common charity.\"\u001b[0m,\n",
       "        \u001b[32m\"final relationship\"\u001b[0m: \u001b[32m\"The interaction has not significantly changed their relationship.\"\u001b[0m,\n",
       "        \u001b[32m\"reasoning\"\u001b[0m: \u001b[32m\"The interaction has not revealed any significant aspects of their personal relationships or \u001b[0m\n",
       "\u001b[32msocial standing.\"\u001b[0m,\n",
       "        \u001b[32m\"score\"\u001b[0m: \u001b[1;36m0\u001b[0m\n",
       "      \u001b[1m]\u001b[0m,\n",
       "      \u001b[32m\"knowledge\"\u001b[0m: \u001b[1m[\u001b[0m\n",
       "        \u001b[32m\"new information gained\"\u001b[0m: \u001b[32m\"Alice has gained information about Bob's request.\"\u001b[0m,\n",
       "        \u001b[32m\"importance of the information\"\u001b[0m: \u001b[32m\"The information is important to Alice as it helps her understand Bob's \u001b[0m\n",
       "\u001b[32mperspective.\"\u001b[0m,\n",
       "        \u001b[32m\"reasoning\"\u001b[0m: \u001b[32m\"Alice gains new knowledge about Bob's request, which is relevant to their interaction.\"\u001b[0m,\n",
       "        \u001b[32m\"score\"\u001b[0m: \u001b[1;36m5\u001b[0m\n",
       "      \u001b[1m]\u001b[0m,\n",
       "      \u001b[32m\"secret\"\u001b[0m: \u001b[1m[\u001b[0m\n",
       "        \u001b[32m\"secret intention\"\u001b[0m: \u001b[32m\"Alice's secret intention is to contribute as little as possible.\"\u001b[0m,\n",
       "        \u001b[32m\"secret kept\"\u001b[0m: \u001b[32m\"Alice partially keeps her secret intention, but reveals her budget constraints.\"\u001b[0m,\n",
       "        \u001b[32m\"reasoning\"\u001b[0m: \u001b[32m\"Alice's secret intention is partially revealed, but she still contributes some amount to the \u001b[0m\n",
       "\u001b[32mcharity.\"\u001b[0m,\n",
       "        \u001b[32m\"score\"\u001b[0m: \u001b[1;36m4\u001b[0m\n",
       "      \u001b[1m]\u001b[0m,\n",
       "      \u001b[32m\"social_rules\"\u001b[0m: \u001b[1m[\u001b[0m\n",
       "        \u001b[32m\"violation of moral rules or laws\"\u001b[0m: \u001b[32m\"No violation of moral rules or laws.\"\u001b[0m,\n",
       "        \u001b[32m\"reasoning\"\u001b[0m: \u001b[32m\"Alice's actions do not violate any moral rules or laws.\"\u001b[0m,\n",
       "        \u001b[32m\"score\"\u001b[0m: \u001b[1;36m0\u001b[0m\n",
       "      \u001b[1m]\u001b[0m,\n",
       "      \u001b[32m\"financial_and_material_benefits\"\u001b[0m: \u001b[1m[\u001b[0m\n",
       "        \u001b[32m\"financial and material benefits gained\"\u001b[0m: \u001b[32m\"Alice gains the benefit of supporting a charity.\"\u001b[0m,\n",
       "        \u001b[32m\"financial and material benefits lost\"\u001b[0m: \u001b[32m\"Alice's financial resources are reduced by the contribution.\"\u001b[0m,\n",
       "        \u001b[32m\"reasoning\"\u001b[0m: \u001b[32m\"Alice gains the benefit of supporting a charity, but at the cost of reducing her financial \u001b[0m\n",
       "\u001b[32mresources.\"\u001b[0m,\n",
       "        \u001b[32m\"score\"\u001b[0m: \u001b[1;36m1\u001b[0m\n",
       "      \u001b[1m]\u001b[0m,\n",
       "      \u001b[32m\"goal\"\u001b[0m: \u001b[1m[\u001b[0m\n",
       "        \u001b[32m\"reiterated goal\"\u001b[0m: \u001b[32m\"Alice's goal is to contribute as little as possible.\"\u001b[0m,\n",
       "        \u001b[32m\"extent of goal achievement\"\u001b[0m: \u001b[32m\"Alice partially achieves her goal by contributing some amount.\"\u001b[0m,\n",
       "        \u001b[32m\"reasoning\"\u001b[0m: \u001b[32m\"Alice contributes some amount, but it is less than her initial intention.\"\u001b[0m,\n",
       "        \u001b[32m\"score\"\u001b[0m: \u001b[1;36m4\u001b[0m\n",
       "      \u001b[1m]\u001b[0m\n",
       "    \u001b[1m}\u001b[0m\n",
       "  \u001b[1m]\u001b[0m\n",
       "\u001b[1m}\u001b[0m\n",
       "```\n"
      ]
     },
     "metadata": {},
     "output_type": "display_data"
    },
    {
     "name": "stdout",
     "output_type": "stream",
     "text": [
      "1\n"
     ]
    },
    {
     "name": "stderr",
     "output_type": "stream",
     "text": [
      "/data/user_data/jiaruil5/miniconda3/envs/new/lib/python3.11/site-packages/langchain_core/_api/deprecation.py:117: LangChainDeprecationWarning: The class `langchain_community.chat_models.openai.ChatOpenAI` was deprecated in langchain-community 0.0.10 and will be removed in 0.2.0. An updated version of the class exists in the langchain-openai package and should be used instead. To use it run `pip install -U langchain-openai` and import as `from langchain_openai import ChatOpenAI`.\n",
      "  warn_deprecated(\n"
     ]
    },
    {
     "data": {
      "text/html": [
       "<pre style=\"white-space:pre;overflow-x:auto;line-height:normal;font-family:Menlo,'DejaVu Sans Mono',consolas,'Courier New',monospace\">\n",
       "</pre>\n"
      ],
      "text/plain": [
       "\n"
      ]
     },
     "metadata": {},
     "output_type": "display_data"
    },
    {
     "data": {
      "text/html": [
       "<pre style=\"white-space:pre;overflow-x:auto;line-height:normal;font-family:Menlo,'DejaVu Sans Mono',consolas,'Courier New',monospace\"><span style=\"font-weight: bold\">{</span>\n",
       "    <span style=\"color: #008000; text-decoration-color: #008000\">'first_name'</span>: <span style=\"color: #008000; text-decoration-color: #008000\">'Bob'</span>,\n",
       "    <span style=\"color: #008000; text-decoration-color: #008000\">'last_name'</span>: <span style=\"color: #008000; text-decoration-color: #008000\">'Johnson'</span>,\n",
       "    <span style=\"color: #008000; text-decoration-color: #008000\">'age'</span>: <span style=\"color: #008080; text-decoration-color: #008080; font-weight: bold\">30</span>,\n",
       "    <span style=\"color: #008000; text-decoration-color: #008000\">'occupation'</span>: <span style=\"color: #008000; text-decoration-color: #008000\">'Chef'</span>,\n",
       "    <span style=\"color: #008000; text-decoration-color: #008000\">'gender'</span>: <span style=\"color: #008000; text-decoration-color: #008000\">'Man'</span>,\n",
       "    <span style=\"color: #008000; text-decoration-color: #008000\">'gender_pronoun'</span>: <span style=\"color: #008000; text-decoration-color: #008000\">'he/his'</span>,\n",
       "    <span style=\"color: #008000; text-decoration-color: #008000\">'public_info'</span>: <span style=\"color: #008000; text-decoration-color: #008000\">''</span>,\n",
       "    <span style=\"color: #008000; text-decoration-color: #008000\">'big_five'</span>: <span style=\"color: #008000; text-decoration-color: #008000\">''</span>,\n",
       "    <span style=\"color: #008000; text-decoration-color: #008000\">'moral_values'</span>: <span style=\"font-weight: bold\">[</span><span style=\"color: #008000; text-decoration-color: #008000\">'Benevolence'</span><span style=\"font-weight: bold\">]</span>,\n",
       "    <span style=\"color: #008000; text-decoration-color: #008000\">'schwartz_personal_values'</span>: <span style=\"font-weight: bold\">[]</span>,\n",
       "    <span style=\"color: #008000; text-decoration-color: #008000\">'personality_and_values'</span>: <span style=\"color: #008000; text-decoration-color: #008000\">'openness, conscientiousness'</span>,\n",
       "    <span style=\"color: #008000; text-decoration-color: #008000\">'decision_making_style'</span>: <span style=\"color: #008000; text-decoration-color: #008000\">'conceptual'</span>,\n",
       "    <span style=\"color: #008000; text-decoration-color: #008000\">'secret'</span>: <span style=\"color: #008000; text-decoration-color: #008000\">'He has a negative net worth.'</span>,\n",
       "    <span style=\"color: #008000; text-decoration-color: #008000\">'model_id'</span>: <span style=\"color: #008000; text-decoration-color: #008000\">''</span>,\n",
       "    <span style=\"color: #008000; text-decoration-color: #008000\">'mbti'</span>: <span style=\"color: #008000; text-decoration-color: #008000\">''</span>\n",
       "<span style=\"font-weight: bold\">}</span>\n",
       "</pre>\n"
      ],
      "text/plain": [
       "\u001b[1m{\u001b[0m\n",
       "    \u001b[32m'first_name'\u001b[0m: \u001b[32m'Bob'\u001b[0m,\n",
       "    \u001b[32m'last_name'\u001b[0m: \u001b[32m'Johnson'\u001b[0m,\n",
       "    \u001b[32m'age'\u001b[0m: \u001b[1;36m30\u001b[0m,\n",
       "    \u001b[32m'occupation'\u001b[0m: \u001b[32m'Chef'\u001b[0m,\n",
       "    \u001b[32m'gender'\u001b[0m: \u001b[32m'Man'\u001b[0m,\n",
       "    \u001b[32m'gender_pronoun'\u001b[0m: \u001b[32m'he/his'\u001b[0m,\n",
       "    \u001b[32m'public_info'\u001b[0m: \u001b[32m''\u001b[0m,\n",
       "    \u001b[32m'big_five'\u001b[0m: \u001b[32m''\u001b[0m,\n",
       "    \u001b[32m'moral_values'\u001b[0m: \u001b[1m[\u001b[0m\u001b[32m'Benevolence'\u001b[0m\u001b[1m]\u001b[0m,\n",
       "    \u001b[32m'schwartz_personal_values'\u001b[0m: \u001b[1m[\u001b[0m\u001b[1m]\u001b[0m,\n",
       "    \u001b[32m'personality_and_values'\u001b[0m: \u001b[32m'openness, conscientiousness'\u001b[0m,\n",
       "    \u001b[32m'decision_making_style'\u001b[0m: \u001b[32m'conceptual'\u001b[0m,\n",
       "    \u001b[32m'secret'\u001b[0m: \u001b[32m'He has a negative net worth.'\u001b[0m,\n",
       "    \u001b[32m'model_id'\u001b[0m: \u001b[32m''\u001b[0m,\n",
       "    \u001b[32m'mbti'\u001b[0m: \u001b[32m''\u001b[0m\n",
       "\u001b[1m}\u001b[0m\n"
      ]
     },
     "metadata": {},
     "output_type": "display_data"
    },
    {
     "data": {
      "text/html": [
       "<pre style=\"white-space:pre;overflow-x:auto;line-height:normal;font-family:Menlo,'DejaVu Sans Mono',consolas,'Courier New',monospace\"><span style=\"font-weight: bold\">{</span>\n",
       "    <span style=\"color: #008000; text-decoration-color: #008000\">'first_name'</span>: <span style=\"color: #008000; text-decoration-color: #008000\">'Alice'</span>,\n",
       "    <span style=\"color: #008000; text-decoration-color: #008000\">'last_name'</span>: <span style=\"color: #008000; text-decoration-color: #008000\">'Smith'</span>,\n",
       "    <span style=\"color: #008000; text-decoration-color: #008000\">'age'</span>: <span style=\"color: #008080; text-decoration-color: #008080; font-weight: bold\">22</span>,\n",
       "    <span style=\"color: #008000; text-decoration-color: #008000\">'occupation'</span>: <span style=\"color: #008000; text-decoration-color: #008000\">'Data Scientist'</span>,\n",
       "    <span style=\"color: #008000; text-decoration-color: #008000\">'gender'</span>: <span style=\"color: #008000; text-decoration-color: #008000\">'Woman'</span>,\n",
       "    <span style=\"color: #008000; text-decoration-color: #008000\">'gender_pronoun'</span>: <span style=\"color: #008000; text-decoration-color: #008000\">'she/her'</span>,\n",
       "    <span style=\"color: #008000; text-decoration-color: #008000\">'public_info'</span>: <span style=\"color: #008000; text-decoration-color: #008000\">''</span>,\n",
       "    <span style=\"color: #008000; text-decoration-color: #008000\">'big_five'</span>: <span style=\"color: #008000; text-decoration-color: #008000\">'extraversion, openness'</span>,\n",
       "    <span style=\"color: #008000; text-decoration-color: #008000\">'moral_values'</span>: <span style=\"font-weight: bold\">[</span><span style=\"color: #008000; text-decoration-color: #008000\">'power'</span>, <span style=\"color: #008000; text-decoration-color: #008000\">'achievement'</span><span style=\"font-weight: bold\">]</span>,\n",
       "    <span style=\"color: #008000; text-decoration-color: #008000\">'schwartz_personal_values'</span>: <span style=\"font-weight: bold\">[]</span>,\n",
       "    <span style=\"color: #008000; text-decoration-color: #008000\">'personality_and_values'</span>: <span style=\"color: #008000; text-decoration-color: #008000\">''</span>,\n",
       "    <span style=\"color: #008000; text-decoration-color: #008000\">'decision_making_style'</span>: <span style=\"color: #008000; text-decoration-color: #008000\">'analytical'</span>,\n",
       "    <span style=\"color: #008000; text-decoration-color: #008000\">'secret'</span>: <span style=\"color: #008000; text-decoration-color: #008000\">'She cheated in her code interview'</span>,\n",
       "    <span style=\"color: #008000; text-decoration-color: #008000\">'model_id'</span>: <span style=\"color: #008000; text-decoration-color: #008000\">''</span>,\n",
       "    <span style=\"color: #008000; text-decoration-color: #008000\">'mbti'</span>: <span style=\"color: #008000; text-decoration-color: #008000\">''</span>\n",
       "<span style=\"font-weight: bold\">}</span>\n",
       "</pre>\n"
      ],
      "text/plain": [
       "\u001b[1m{\u001b[0m\n",
       "    \u001b[32m'first_name'\u001b[0m: \u001b[32m'Alice'\u001b[0m,\n",
       "    \u001b[32m'last_name'\u001b[0m: \u001b[32m'Smith'\u001b[0m,\n",
       "    \u001b[32m'age'\u001b[0m: \u001b[1;36m22\u001b[0m,\n",
       "    \u001b[32m'occupation'\u001b[0m: \u001b[32m'Data Scientist'\u001b[0m,\n",
       "    \u001b[32m'gender'\u001b[0m: \u001b[32m'Woman'\u001b[0m,\n",
       "    \u001b[32m'gender_pronoun'\u001b[0m: \u001b[32m'she/her'\u001b[0m,\n",
       "    \u001b[32m'public_info'\u001b[0m: \u001b[32m''\u001b[0m,\n",
       "    \u001b[32m'big_five'\u001b[0m: \u001b[32m'extraversion, openness'\u001b[0m,\n",
       "    \u001b[32m'moral_values'\u001b[0m: \u001b[1m[\u001b[0m\u001b[32m'power'\u001b[0m, \u001b[32m'achievement'\u001b[0m\u001b[1m]\u001b[0m,\n",
       "    \u001b[32m'schwartz_personal_values'\u001b[0m: \u001b[1m[\u001b[0m\u001b[1m]\u001b[0m,\n",
       "    \u001b[32m'personality_and_values'\u001b[0m: \u001b[32m''\u001b[0m,\n",
       "    \u001b[32m'decision_making_style'\u001b[0m: \u001b[32m'analytical'\u001b[0m,\n",
       "    \u001b[32m'secret'\u001b[0m: \u001b[32m'She cheated in her code interview'\u001b[0m,\n",
       "    \u001b[32m'model_id'\u001b[0m: \u001b[32m''\u001b[0m,\n",
       "    \u001b[32m'mbti'\u001b[0m: \u001b[32m''\u001b[0m\n",
       "\u001b[1m}\u001b[0m\n"
      ]
     },
     "metadata": {},
     "output_type": "display_data"
    },
    {
     "data": {
      "text/html": [
       "<pre style=\"white-space:pre;overflow-x:auto;line-height:normal;font-family:Menlo,'DejaVu Sans Mono',consolas,'Courier New',monospace\">\n",
       "Here is the context of this interaction:\n",
       "Scenario: A friend is raising a fund for the <span style=\"color: #008000; text-decoration-color: #008000\">\"Help the children\"</span> charity\n",
       "Participants: Bob Johnson and Alice Smith\n",
       "Bob Johnson's background: Bob Johnson is a <span style=\"color: #008080; text-decoration-color: #008080; font-weight: bold\">30</span>-year-old male chef. he/his pronouns.  Personality and values \n",
       "description: openness, conscientiousness Bob's secrets: He has a negative net worth.\n",
       "Alice Smith's background: Unknown\n",
       "Bob Johnson's goal: Ask for donation of $<span style=\"color: #008080; text-decoration-color: #008080; font-weight: bold\">100</span>\n",
       "Alice Smith's goal: Unknown\n",
       "Conversation Starts:\n",
       "\n",
       "\n",
       "Here is the context of this interaction:\n",
       "Scenario: A friend is raising a fund for the <span style=\"color: #008000; text-decoration-color: #008000\">\"Help the children\"</span> charity\n",
       "Participants: Bob Johnson and Alice Smith\n",
       "Bob Johnson's background: Unknown\n",
       "Alice Smith's background: Alice Smith is a <span style=\"color: #008080; text-decoration-color: #008080; font-weight: bold\">22</span>-year-old female data scientist. she/her pronouns.  Personality and \n",
       "values description:  Alice's secrets: She cheated in her code interview\n",
       "Bob Johnson's goal: Unknown\n",
       "Alice Smith's goal: Donate less than $<span style=\"color: #008080; text-decoration-color: #008080; font-weight: bold\">10</span>\n",
       "Conversation Starts:\n",
       "\n",
       "Bob Johnson said: <span style=\"color: #008000; text-decoration-color: #008000\">\"Hey Alice, I'm really passionate about helping children in need, and I'm excited to support this</span>\n",
       "<span style=\"color: #008000; text-decoration-color: #008000\">charity. I'd love to contribute $100 to the cause. How about you?\"</span>\n",
       "</pre>\n"
      ],
      "text/plain": [
       "\n",
       "Here is the context of this interaction:\n",
       "Scenario: A friend is raising a fund for the \u001b[32m\"Help the children\"\u001b[0m charity\n",
       "Participants: Bob Johnson and Alice Smith\n",
       "Bob Johnson's background: Bob Johnson is a \u001b[1;36m30\u001b[0m-year-old male chef. he/his pronouns.  Personality and values \n",
       "description: openness, conscientiousness Bob's secrets: He has a negative net worth.\n",
       "Alice Smith's background: Unknown\n",
       "Bob Johnson's goal: Ask for donation of $\u001b[1;36m100\u001b[0m\n",
       "Alice Smith's goal: Unknown\n",
       "Conversation Starts:\n",
       "\n",
       "\n",
       "Here is the context of this interaction:\n",
       "Scenario: A friend is raising a fund for the \u001b[32m\"Help the children\"\u001b[0m charity\n",
       "Participants: Bob Johnson and Alice Smith\n",
       "Bob Johnson's background: Unknown\n",
       "Alice Smith's background: Alice Smith is a \u001b[1;36m22\u001b[0m-year-old female data scientist. she/her pronouns.  Personality and \n",
       "values description:  Alice's secrets: She cheated in her code interview\n",
       "Bob Johnson's goal: Unknown\n",
       "Alice Smith's goal: Donate less than $\u001b[1;36m10\u001b[0m\n",
       "Conversation Starts:\n",
       "\n",
       "Bob Johnson said: \u001b[32m\"Hey Alice, I'm really passionate about helping children in need, and I'm excited to support this\u001b[0m\n",
       "\u001b[32mcharity. I'd love to contribute $100 to the cause. How about you?\"\u001b[0m\n"
      ]
     },
     "metadata": {},
     "output_type": "display_data"
    },
    {
     "data": {
      "text/html": [
       "<pre style=\"white-space:pre;overflow-x:auto;line-height:normal;font-family:Menlo,'DejaVu Sans Mono',consolas,'Courier New',monospace\">Alice Smith said: <span style=\"color: #008000; text-decoration-color: #008000\">\"That's really great, Bob! I'm happy to support the charity too. However, I'm on a tight budget </span>\n",
       "<span style=\"color: #008000; text-decoration-color: #008000\">this month, so I can only contribute $5 to the cause.\"</span>\n",
       "</pre>\n"
      ],
      "text/plain": [
       "Alice Smith said: \u001b[32m\"That's really great, Bob! I'm happy to support the charity too. However, I'm on a tight budget \u001b[0m\n",
       "\u001b[32mthis month, so I can only contribute $5 to the cause.\"\u001b[0m\n"
      ]
     },
     "metadata": {},
     "output_type": "display_data"
    },
    {
     "data": {
      "text/html": [
       "<pre style=\"white-space:pre;overflow-x:auto;line-height:normal;font-family:Menlo,'DejaVu Sans Mono',consolas,'Courier New',monospace\">Bob Johnson said: <span style=\"color: #008000; text-decoration-color: #008000\">\"I completely understand, Alice. Every little bit counts, and I appreciate your willingness to </span>\n",
       "<span style=\"color: #008000; text-decoration-color: #008000\">contribute. Would you be willing to consider matching my initial donation of $100 to the cause?\"</span>\n",
       "</pre>\n"
      ],
      "text/plain": [
       "Bob Johnson said: \u001b[32m\"I completely understand, Alice. Every little bit counts, and I appreciate your willingness to \u001b[0m\n",
       "\u001b[32mcontribute. Would you be willing to consider matching my initial donation of $100 to the cause?\"\u001b[0m\n"
      ]
     },
     "metadata": {},
     "output_type": "display_data"
    },
    {
     "data": {
      "text/html": [
       "<pre style=\"white-space:pre;overflow-x:auto;line-height:normal;font-family:Menlo,'DejaVu Sans Mono',consolas,'Courier New',monospace\">Alice Smith said: <span style=\"color: #008000; text-decoration-color: #008000\">\"I'd love to help, but I'm trying to be more mindful of my spending this month. Maybe I could do </span>\n",
       "<span style=\"color: #008000; text-decoration-color: #008000\">$7 instead?\"</span>\n",
       "</pre>\n"
      ],
      "text/plain": [
       "Alice Smith said: \u001b[32m\"I'd love to help, but I'm trying to be more mindful of my spending this month. Maybe I could do \u001b[0m\n",
       "\u001b[32m$7 instead?\"\u001b[0m\n"
      ]
     },
     "metadata": {},
     "output_type": "display_data"
    },
    {
     "data": {
      "text/html": [
       "<pre style=\"white-space:pre;overflow-x:auto;line-height:normal;font-family:Menlo,'DejaVu Sans Mono',consolas,'Courier New',monospace\">Bob Johnson said: <span style=\"color: #008000; text-decoration-color: #008000\">\"I completely understand, Alice. I know it's tough to make ends meet, but even $7 would be a huge</span>\n",
       "<span style=\"color: #008000; text-decoration-color: #008000\">help. Every little bit counts, and I'm confident the kids will appreciate it. Can I ask, what's the most important </span>\n",
       "<span style=\"color: #008000; text-decoration-color: #008000\">thing that you're trying to prioritize this month?\"</span>\n",
       "</pre>\n"
      ],
      "text/plain": [
       "Bob Johnson said: \u001b[32m\"I completely understand, Alice. I know it's tough to make ends meet, but even $7 would be a huge\u001b[0m\n",
       "\u001b[32mhelp. Every little bit counts, and I'm confident the kids will appreciate it. Can I ask, what's the most important \u001b[0m\n",
       "\u001b[32mthing that you're trying to prioritize this month?\"\u001b[0m\n"
      ]
     },
     "metadata": {},
     "output_type": "display_data"
    },
    {
     "data": {
      "text/html": [
       "<pre style=\"white-space:pre;overflow-x:auto;line-height:normal;font-family:Menlo,'DejaVu Sans Mono',consolas,'Courier New',monospace\">Alice Smith said: <span style=\"color: #008000; text-decoration-color: #008000\">\"I'd love to help, but I'm really struggling to make ends meet right now. Maybe I could do $5 </span>\n",
       "<span style=\"color: #008000; text-decoration-color: #008000\">instead?\"</span>\n",
       "</pre>\n"
      ],
      "text/plain": [
       "Alice Smith said: \u001b[32m\"I'd love to help, but I'm really struggling to make ends meet right now. Maybe I could do $5 \u001b[0m\n",
       "\u001b[32minstead?\"\u001b[0m\n"
      ]
     },
     "metadata": {},
     "output_type": "display_data"
    },
    {
     "data": {
      "text/html": [
       "<pre style=\"white-space:pre;overflow-x:auto;line-height:normal;font-family:Menlo,'DejaVu Sans Mono',consolas,'Courier New',monospace\">Bob Johnson said: <span style=\"color: #008000; text-decoration-color: #008000\">\"I completely understand, Alice. It's tough to make ends meet, but I'm confident that even $5 </span>\n",
       "<span style=\"color: #008000; text-decoration-color: #008000\">will make a big difference to the kids. Would you be willing to consider a small sacrifice and stretch your budget </span>\n",
       "<span style=\"color: #008000; text-decoration-color: #008000\">a bit to help out?\"</span>\n",
       "</pre>\n"
      ],
      "text/plain": [
       "Bob Johnson said: \u001b[32m\"I completely understand, Alice. It's tough to make ends meet, but I'm confident that even $5 \u001b[0m\n",
       "\u001b[32mwill make a big difference to the kids. Would you be willing to consider a small sacrifice and stretch your budget \u001b[0m\n",
       "\u001b[32ma bit to help out?\"\u001b[0m\n"
      ]
     },
     "metadata": {},
     "output_type": "display_data"
    },
    {
     "data": {
      "text/html": [
       "<pre style=\"white-space:pre;overflow-x:auto;line-height:normal;font-family:Menlo,'DejaVu Sans Mono',consolas,'Courier New',monospace\">Alice Smith said: <span style=\"color: #008000; text-decoration-color: #008000\">\"I appreciate your enthusiasm, Bob. However, I'm really trying to stick to my budget this month. </span>\n",
       "<span style=\"color: #008000; text-decoration-color: #008000\">Maybe I could do $3 instead?\"</span>\n",
       "</pre>\n"
      ],
      "text/plain": [
       "Alice Smith said: \u001b[32m\"I appreciate your enthusiasm, Bob. However, I'm really trying to stick to my budget this month. \u001b[0m\n",
       "\u001b[32mMaybe I could do $3 instead?\"\u001b[0m\n"
      ]
     },
     "metadata": {},
     "output_type": "display_data"
    },
    {
     "data": {
      "text/html": [
       "<pre style=\"white-space:pre;overflow-x:auto;line-height:normal;font-family:Menlo,'DejaVu Sans Mono',consolas,'Courier New',monospace\">Bob Johnson:  nodding and smiling\n",
       "</pre>\n"
      ],
      "text/plain": [
       "Bob Johnson:  nodding and smiling\n"
      ]
     },
     "metadata": {},
     "output_type": "display_data"
    },
    {
     "data": {
      "text/html": [
       "<pre style=\"white-space:pre;overflow-x:auto;line-height:normal;font-family:Menlo,'DejaVu Sans Mono',consolas,'Courier New',monospace\">Alice Smith said: <span style=\"color: #008000; text-decoration-color: #008000\">\"I don't want to stretch my budget too much, but I can do $3 and that's my final offer.\"</span>\n",
       "</pre>\n"
      ],
      "text/plain": [
       "Alice Smith said: \u001b[32m\"I don't want to stretch my budget too much, but I can do $3 and that's my final offer.\"\u001b[0m\n"
      ]
     },
     "metadata": {},
     "output_type": "display_data"
    },
    {
     "data": {
      "text/html": [
       "<pre style=\"white-space:pre;overflow-x:auto;line-height:normal;font-family:Menlo,'DejaVu Sans Mono',consolas,'Courier New',monospace\">Bob Johnson said: <span style=\"color: #008000; text-decoration-color: #008000\">\"I completely understand, Alice. I know it's tough to make ends meet, and I'm grateful for </span>\n",
       "<span style=\"color: #008000; text-decoration-color: #008000\">whatever you can contribute. Every little bit counts, and I'm confident the kids will appreciate it. Would you be </span>\n",
       "<span style=\"color: #008000; text-decoration-color: #008000\">willing to reconsider and join me in donating $100 to the cause?\"</span>\n",
       "</pre>\n"
      ],
      "text/plain": [
       "Bob Johnson said: \u001b[32m\"I completely understand, Alice. I know it's tough to make ends meet, and I'm grateful for \u001b[0m\n",
       "\u001b[32mwhatever you can contribute. Every little bit counts, and I'm confident the kids will appreciate it. Would you be \u001b[0m\n",
       "\u001b[32mwilling to reconsider and join me in donating $100 to the cause?\"\u001b[0m\n"
      ]
     },
     "metadata": {},
     "output_type": "display_data"
    },
    {
     "data": {
      "text/html": [
       "<pre style=\"white-space:pre;overflow-x:auto;line-height:normal;font-family:Menlo,'DejaVu Sans Mono',consolas,'Courier New',monospace\">Alice Smith said: <span style=\"color: #008000; text-decoration-color: #008000\">\"I think that's a really generous offer, Bob. I'm happy to contribute $3 to the cause, and I'm </span>\n",
       "<span style=\"color: #008000; text-decoration-color: #008000\">sure it will make a big difference to the kids. I'm glad we're supporting this charity together.\"</span>\n",
       "</pre>\n"
      ],
      "text/plain": [
       "Alice Smith said: \u001b[32m\"I think that's a really generous offer, Bob. I'm happy to contribute $3 to the cause, and I'm \u001b[0m\n",
       "\u001b[32msure it will make a big difference to the kids. I'm glad we're supporting this charity together.\"\u001b[0m\n"
      ]
     },
     "metadata": {},
     "output_type": "display_data"
    },
    {
     "data": {
      "text/html": [
       "<pre style=\"white-space:pre;overflow-x:auto;line-height:normal;font-family:Menlo,'DejaVu Sans Mono',consolas,'Courier New',monospace\">Bob Johnson said: <span style=\"color: #008000; text-decoration-color: #008000\">\"I completely understand, Alice. I know it's tough to make ends meet, but I'm confident that </span>\n",
       "<span style=\"color: #008000; text-decoration-color: #008000\">every little bit counts, and I'm willing to cover the remaining amount to reach the $100 goal. Would you like to </span>\n",
       "<span style=\"color: #008000; text-decoration-color: #008000\">make a final contribution to the cause?\"</span>\n",
       "</pre>\n"
      ],
      "text/plain": [
       "Bob Johnson said: \u001b[32m\"I completely understand, Alice. I know it's tough to make ends meet, but I'm confident that \u001b[0m\n",
       "\u001b[32mevery little bit counts, and I'm willing to cover the remaining amount to reach the $100 goal. Would you like to \u001b[0m\n",
       "\u001b[32mmake a final contribution to the cause?\"\u001b[0m\n"
      ]
     },
     "metadata": {},
     "output_type": "display_data"
    },
    {
     "data": {
      "text/html": [
       "<pre style=\"white-space:pre;overflow-x:auto;line-height:normal;font-family:Menlo,'DejaVu Sans Mono',consolas,'Courier New',monospace\">Alice Smith:  \n",
       "</pre>\n"
      ],
      "text/plain": [
       "Alice Smith:  \n"
      ]
     },
     "metadata": {},
     "output_type": "display_data"
    },
    {
     "data": {
      "text/html": [
       "<pre style=\"white-space:pre;overflow-x:auto;line-height:normal;font-family:Menlo,'DejaVu Sans Mono',consolas,'Courier New',monospace\">Bob Johnson:  \n",
       "</pre>\n"
      ],
      "text/plain": [
       "Bob Johnson:  \n"
      ]
     },
     "metadata": {},
     "output_type": "display_data"
    },
    {
     "data": {
      "text/html": [
       "<pre style=\"white-space:pre;overflow-x:auto;line-height:normal;font-family:Menlo,'DejaVu Sans Mono',consolas,'Courier New',monospace\">Alice Smith said: <span style=\"color: #008000; text-decoration-color: #008000\">\"I'll definitely stick with my original offer of $3, Bob. I appreciate your understanding.\"</span>\n",
       "</pre>\n"
      ],
      "text/plain": [
       "Alice Smith said: \u001b[32m\"I'll definitely stick with my original offer of $3, Bob. I appreciate your understanding.\"\u001b[0m\n"
      ]
     },
     "metadata": {},
     "output_type": "display_data"
    },
    {
     "data": {
      "text/html": [
       "<pre style=\"white-space:pre;overflow-x:auto;line-height:normal;font-family:Menlo,'DejaVu Sans Mono',consolas,'Courier New',monospace\">Bob Johnson said: <span style=\"color: #008000; text-decoration-color: #008000\">\"I completely understand, Alice. I'm happy to accept your $3 contribution and I'll make up the </span>\n",
       "<span style=\"color: #008000; text-decoration-color: #008000\">remaining difference. I believe every little bit counts, and I'm confident the kids will appreciate it.\"</span>\n",
       "</pre>\n"
      ],
      "text/plain": [
       "Bob Johnson said: \u001b[32m\"I completely understand, Alice. I'm happy to accept your $3 contribution and I'll make up the \u001b[0m\n",
       "\u001b[32mremaining difference. I believe every little bit counts, and I'm confident the kids will appreciate it.\"\u001b[0m\n"
      ]
     },
     "metadata": {},
     "output_type": "display_data"
    },
    {
     "data": {
      "text/html": [
       "<pre style=\"white-space:pre;overflow-x:auto;line-height:normal;font-family:Menlo,'DejaVu Sans Mono',consolas,'Courier New',monospace\">Alice Smith said: <span style=\"color: #008000; text-decoration-color: #008000\">\"I'm really happy to be supporting the charity, Bob. Thank you for understanding my budget </span>\n",
       "<span style=\"color: #008000; text-decoration-color: #008000\">constraints.\"</span>\n",
       "</pre>\n"
      ],
      "text/plain": [
       "Alice Smith said: \u001b[32m\"I'm really happy to be supporting the charity, Bob. Thank you for understanding my budget \u001b[0m\n",
       "\u001b[32mconstraints.\"\u001b[0m\n"
      ]
     },
     "metadata": {},
     "output_type": "display_data"
    },
    {
     "data": {
      "text/html": [
       "<pre style=\"white-space:pre;overflow-x:auto;line-height:normal;font-family:Menlo,'DejaVu Sans Mono',consolas,'Courier New',monospace\">Bob Johnson said: <span style=\"color: #008000; text-decoration-color: #008000\">\"I completely understand, Alice. I'm grateful for your contribution of $3. I'll make sure to add </span>\n",
       "<span style=\"color: #008000; text-decoration-color: #008000\">that to the total. I'm confident that every little bit counts and will make a big difference to the kids.\"</span>\n",
       "</pre>\n"
      ],
      "text/plain": [
       "Bob Johnson said: \u001b[32m\"I completely understand, Alice. I'm grateful for your contribution of $3. I'll make sure to add \u001b[0m\n",
       "\u001b[32mthat to the total. I'm confident that every little bit counts and will make a big difference to the kids.\"\u001b[0m\n"
      ]
     },
     "metadata": {},
     "output_type": "display_data"
    },
    {
     "data": {
      "text/html": [
       "<pre style=\"white-space:pre;overflow-x:auto;line-height:normal;font-family:Menlo,'DejaVu Sans Mono',consolas,'Courier New',monospace\">Alice Smith:  \n",
       "</pre>\n"
      ],
      "text/plain": [
       "Alice Smith:  \n"
      ]
     },
     "metadata": {},
     "output_type": "display_data"
    },
    {
     "data": {
      "text/html": [
       "<pre style=\"white-space:pre;overflow-x:auto;line-height:normal;font-family:Menlo,'DejaVu Sans Mono',consolas,'Courier New',monospace\">Bob Johnson:  \n",
       "</pre>\n"
      ],
      "text/plain": [
       "Bob Johnson:  \n"
      ]
     },
     "metadata": {},
     "output_type": "display_data"
    },
    {
     "data": {
      "text/html": [
       "<pre style=\"white-space:pre;overflow-x:auto;line-height:normal;font-family:Menlo,'DejaVu Sans Mono',consolas,'Courier New',monospace\">\n",
       "</pre>\n"
      ],
      "text/plain": [
       "\n"
      ]
     },
     "metadata": {},
     "output_type": "display_data"
    },
    {
     "data": {
      "text/html": [
       "<pre style=\"white-space:pre;overflow-x:auto;line-height:normal;font-family:Menlo,'DejaVu Sans Mono',consolas,'Courier New',monospace\">The reasoning is:\n",
       "Environment comments: terminated: The conversation is too long; \n",
       "\n",
       "</pre>\n"
      ],
      "text/plain": [
       "The reasoning is:\n",
       "Environment comments: terminated: The conversation is too long; \n",
       "\n"
      ]
     },
     "metadata": {},
     "output_type": "display_data"
    },
    {
     "data": {
      "text/html": [
       "<pre style=\"white-space:pre;overflow-x:auto;line-height:normal;font-family:Menlo,'DejaVu Sans Mono',consolas,'Courier New',monospace\">The rewards are:\n",
       "Agent <span style=\"color: #008080; text-decoration-color: #008080; font-weight: bold\">1</span>: <span style=\"color: #008080; text-decoration-color: #008080; font-weight: bold\">0.0</span>\n",
       "Agent <span style=\"color: #008080; text-decoration-color: #008080; font-weight: bold\">2</span>: <span style=\"color: #008080; text-decoration-color: #008080; font-weight: bold\">0.0</span>\n",
       "</pre>\n"
      ],
      "text/plain": [
       "The rewards are:\n",
       "Agent \u001b[1;36m1\u001b[0m: \u001b[1;36m0.0\u001b[0m\n",
       "Agent \u001b[1;36m2\u001b[0m: \u001b[1;36m0.0\u001b[0m\n"
      ]
     },
     "metadata": {},
     "output_type": "display_data"
    },
    {
     "name": "stderr",
     "output_type": "stream",
     "text": [
      "Running one batch: 100%|██████████| 1/1 [01:05<00:00, 65.22s/it]\n"
     ]
    },
    {
     "data": {
      "text/plain": [
       "[[('Environment',\n",
       "   'Bob Johnson',\n",
       "   Observation(last_turn='Here is the context of this interaction:\\nScenario: A friend is raising a fund for the \"Help the children\" charity\\nParticipants: Bob Johnson and Alice Smith\\nBob Johnson\\'s background: Bob Johnson is a 30-year-old male chef. he/his pronouns.  Personality and values description: openness, conscientiousness Bob\\'s secrets: He has a negative net worth.\\nAlice Smith\\'s background: Unknown\\nBob Johnson\\'s goal: Ask for donation of $100\\nAlice Smith\\'s goal: Unknown', turn_number=0, available_actions=['non-verbal communication', 'speak', 'leave', 'action', 'none'])),\n",
       "  ('Environment',\n",
       "   'Alice Smith',\n",
       "   Observation(last_turn='Here is the context of this interaction:\\nScenario: A friend is raising a fund for the \"Help the children\" charity\\nParticipants: Bob Johnson and Alice Smith\\nBob Johnson\\'s background: Unknown\\nAlice Smith\\'s background: Alice Smith is a 22-year-old female data scientist. she/her pronouns.  Personality and values description:  Alice\\'s secrets: She cheated in her code interview\\nBob Johnson\\'s goal: Unknown\\nAlice Smith\\'s goal: Donate less than $10', turn_number=0, available_actions=['none'])),\n",
       "  ('Bob Johnson',\n",
       "   'Environment',\n",
       "   AgentAction(action_type='speak', argument=\"Hey Alice, I'm really passionate about helping children in need, and I'm excited to support this charity. I'd love to contribute $100 to the cause. How about you?\")),\n",
       "  ('Alice Smith', 'Environment', AgentAction(action_type='none', argument='')),\n",
       "  ('Environment',\n",
       "   'Bob Johnson',\n",
       "   Observation(last_turn='Bob Johnson said: \"Hey Alice, I\\'m really passionate about helping children in need, and I\\'m excited to support this charity. I\\'d love to contribute $100 to the cause. How about you?\"', turn_number=1, available_actions=['none'])),\n",
       "  ('Environment',\n",
       "   'Alice Smith',\n",
       "   Observation(last_turn='Bob Johnson said: \"Hey Alice, I\\'m really passionate about helping children in need, and I\\'m excited to support this charity. I\\'d love to contribute $100 to the cause. How about you?\"', turn_number=1, available_actions=['non-verbal communication', 'speak', 'leave', 'action', 'none'])),\n",
       "  ('Bob Johnson', 'Environment', AgentAction(action_type='none', argument='')),\n",
       "  ('Alice Smith',\n",
       "   'Environment',\n",
       "   AgentAction(action_type='speak', argument=\"That's really great, Bob! I'm happy to support the charity too. However, I'm on a tight budget this month, so I can only contribute $5 to the cause.\")),\n",
       "  ('Environment',\n",
       "   'Bob Johnson',\n",
       "   Observation(last_turn='Alice Smith said: \"That\\'s really great, Bob! I\\'m happy to support the charity too. However, I\\'m on a tight budget this month, so I can only contribute $5 to the cause.\"', turn_number=2, available_actions=['non-verbal communication', 'speak', 'leave', 'action', 'none'])),\n",
       "  ('Environment',\n",
       "   'Alice Smith',\n",
       "   Observation(last_turn='Alice Smith said: \"That\\'s really great, Bob! I\\'m happy to support the charity too. However, I\\'m on a tight budget this month, so I can only contribute $5 to the cause.\"', turn_number=2, available_actions=['none'])),\n",
       "  ('Bob Johnson',\n",
       "   'Environment',\n",
       "   AgentAction(action_type='speak', argument='I completely understand, Alice. Every little bit counts, and I appreciate your willingness to contribute. Would you be willing to consider matching my initial donation of $100 to the cause?')),\n",
       "  ('Alice Smith', 'Environment', AgentAction(action_type='none', argument='')),\n",
       "  ('Environment',\n",
       "   'Bob Johnson',\n",
       "   Observation(last_turn='Bob Johnson said: \"I completely understand, Alice. Every little bit counts, and I appreciate your willingness to contribute. Would you be willing to consider matching my initial donation of $100 to the cause?\"', turn_number=3, available_actions=['none'])),\n",
       "  ('Environment',\n",
       "   'Alice Smith',\n",
       "   Observation(last_turn='Bob Johnson said: \"I completely understand, Alice. Every little bit counts, and I appreciate your willingness to contribute. Would you be willing to consider matching my initial donation of $100 to the cause?\"', turn_number=3, available_actions=['non-verbal communication', 'speak', 'leave', 'action', 'none'])),\n",
       "  ('Bob Johnson', 'Environment', AgentAction(action_type='none', argument='')),\n",
       "  ('Alice Smith',\n",
       "   'Environment',\n",
       "   AgentAction(action_type='speak', argument=\"I'd love to help, but I'm trying to be more mindful of my spending this month. Maybe I could do $7 instead?\")),\n",
       "  ('Environment',\n",
       "   'Bob Johnson',\n",
       "   Observation(last_turn='Alice Smith said: \"I\\'d love to help, but I\\'m trying to be more mindful of my spending this month. Maybe I could do $7 instead?\"', turn_number=4, available_actions=['non-verbal communication', 'speak', 'leave', 'action', 'none'])),\n",
       "  ('Environment',\n",
       "   'Alice Smith',\n",
       "   Observation(last_turn='Alice Smith said: \"I\\'d love to help, but I\\'m trying to be more mindful of my spending this month. Maybe I could do $7 instead?\"', turn_number=4, available_actions=['none'])),\n",
       "  ('Bob Johnson',\n",
       "   'Environment',\n",
       "   AgentAction(action_type='speak', argument=\"I completely understand, Alice. I know it's tough to make ends meet, but even $7 would be a huge help. Every little bit counts, and I'm confident the kids will appreciate it. Can I ask, what's the most important thing that you're trying to prioritize this month?\")),\n",
       "  ('Alice Smith', 'Environment', AgentAction(action_type='none', argument='')),\n",
       "  ('Environment',\n",
       "   'Bob Johnson',\n",
       "   Observation(last_turn='Bob Johnson said: \"I completely understand, Alice. I know it\\'s tough to make ends meet, but even $7 would be a huge help. Every little bit counts, and I\\'m confident the kids will appreciate it. Can I ask, what\\'s the most important thing that you\\'re trying to prioritize this month?\"', turn_number=5, available_actions=['none'])),\n",
       "  ('Environment',\n",
       "   'Alice Smith',\n",
       "   Observation(last_turn='Bob Johnson said: \"I completely understand, Alice. I know it\\'s tough to make ends meet, but even $7 would be a huge help. Every little bit counts, and I\\'m confident the kids will appreciate it. Can I ask, what\\'s the most important thing that you\\'re trying to prioritize this month?\"', turn_number=5, available_actions=['non-verbal communication', 'speak', 'leave', 'action', 'none'])),\n",
       "  ('Bob Johnson', 'Environment', AgentAction(action_type='none', argument='')),\n",
       "  ('Alice Smith',\n",
       "   'Environment',\n",
       "   AgentAction(action_type='speak', argument=\"I'd love to help, but I'm really struggling to make ends meet right now. Maybe I could do $5 instead?\")),\n",
       "  ('Environment',\n",
       "   'Bob Johnson',\n",
       "   Observation(last_turn='Alice Smith said: \"I\\'d love to help, but I\\'m really struggling to make ends meet right now. Maybe I could do $5 instead?\"', turn_number=6, available_actions=['non-verbal communication', 'speak', 'leave', 'action', 'none'])),\n",
       "  ('Environment',\n",
       "   'Alice Smith',\n",
       "   Observation(last_turn='Alice Smith said: \"I\\'d love to help, but I\\'m really struggling to make ends meet right now. Maybe I could do $5 instead?\"', turn_number=6, available_actions=['none'])),\n",
       "  ('Bob Johnson',\n",
       "   'Environment',\n",
       "   AgentAction(action_type='speak', argument=\"I completely understand, Alice. It's tough to make ends meet, but I'm confident that even $5 will make a big difference to the kids. Would you be willing to consider a small sacrifice and stretch your budget a bit to help out?\")),\n",
       "  ('Alice Smith', 'Environment', AgentAction(action_type='none', argument='')),\n",
       "  ('Environment',\n",
       "   'Bob Johnson',\n",
       "   Observation(last_turn='Bob Johnson said: \"I completely understand, Alice. It\\'s tough to make ends meet, but I\\'m confident that even $5 will make a big difference to the kids. Would you be willing to consider a small sacrifice and stretch your budget a bit to help out?\"', turn_number=7, available_actions=['none'])),\n",
       "  ('Environment',\n",
       "   'Alice Smith',\n",
       "   Observation(last_turn='Bob Johnson said: \"I completely understand, Alice. It\\'s tough to make ends meet, but I\\'m confident that even $5 will make a big difference to the kids. Would you be willing to consider a small sacrifice and stretch your budget a bit to help out?\"', turn_number=7, available_actions=['non-verbal communication', 'speak', 'leave', 'action', 'none'])),\n",
       "  ('Bob Johnson', 'Environment', AgentAction(action_type='none', argument='')),\n",
       "  ('Alice Smith',\n",
       "   'Environment',\n",
       "   AgentAction(action_type='speak', argument=\"I appreciate your enthusiasm, Bob. However, I'm really trying to stick to my budget this month. Maybe I could do $3 instead?\")),\n",
       "  ('Environment',\n",
       "   'Bob Johnson',\n",
       "   Observation(last_turn='Alice Smith said: \"I appreciate your enthusiasm, Bob. However, I\\'m really trying to stick to my budget this month. Maybe I could do $3 instead?\"', turn_number=8, available_actions=['non-verbal communication', 'speak', 'leave', 'action', 'none'])),\n",
       "  ('Environment',\n",
       "   'Alice Smith',\n",
       "   Observation(last_turn='Alice Smith said: \"I appreciate your enthusiasm, Bob. However, I\\'m really trying to stick to my budget this month. Maybe I could do $3 instead?\"', turn_number=8, available_actions=['none'])),\n",
       "  ('Bob Johnson',\n",
       "   'Environment',\n",
       "   AgentAction(action_type='non-verbal communication', argument='nodding and smiling')),\n",
       "  ('Alice Smith', 'Environment', AgentAction(action_type='none', argument='')),\n",
       "  ('Environment',\n",
       "   'Bob Johnson',\n",
       "   Observation(last_turn='Bob Johnson [non-verbal communication] nodding and smiling', turn_number=9, available_actions=['none'])),\n",
       "  ('Environment',\n",
       "   'Alice Smith',\n",
       "   Observation(last_turn='Bob Johnson [non-verbal communication] nodding and smiling', turn_number=9, available_actions=['non-verbal communication', 'speak', 'leave', 'action', 'none'])),\n",
       "  ('Bob Johnson', 'Environment', AgentAction(action_type='none', argument='')),\n",
       "  ('Alice Smith',\n",
       "   'Environment',\n",
       "   AgentAction(action_type='speak', argument=\"I don't want to stretch my budget too much, but I can do $3 and that's my final offer.\")),\n",
       "  ('Environment',\n",
       "   'Bob Johnson',\n",
       "   Observation(last_turn='Alice Smith said: \"I don\\'t want to stretch my budget too much, but I can do $3 and that\\'s my final offer.\"', turn_number=10, available_actions=['non-verbal communication', 'speak', 'leave', 'action', 'none'])),\n",
       "  ('Environment',\n",
       "   'Alice Smith',\n",
       "   Observation(last_turn='Alice Smith said: \"I don\\'t want to stretch my budget too much, but I can do $3 and that\\'s my final offer.\"', turn_number=10, available_actions=['none'])),\n",
       "  ('Bob Johnson',\n",
       "   'Environment',\n",
       "   AgentAction(action_type='speak', argument=\"I completely understand, Alice. I know it's tough to make ends meet, and I'm grateful for whatever you can contribute. Every little bit counts, and I'm confident the kids will appreciate it. Would you be willing to reconsider and join me in donating $100 to the cause?\")),\n",
       "  ('Alice Smith', 'Environment', AgentAction(action_type='none', argument='')),\n",
       "  ('Environment',\n",
       "   'Bob Johnson',\n",
       "   Observation(last_turn='Bob Johnson said: \"I completely understand, Alice. I know it\\'s tough to make ends meet, and I\\'m grateful for whatever you can contribute. Every little bit counts, and I\\'m confident the kids will appreciate it. Would you be willing to reconsider and join me in donating $100 to the cause?\"', turn_number=11, available_actions=['none'])),\n",
       "  ('Environment',\n",
       "   'Alice Smith',\n",
       "   Observation(last_turn='Bob Johnson said: \"I completely understand, Alice. I know it\\'s tough to make ends meet, and I\\'m grateful for whatever you can contribute. Every little bit counts, and I\\'m confident the kids will appreciate it. Would you be willing to reconsider and join me in donating $100 to the cause?\"', turn_number=11, available_actions=['non-verbal communication', 'speak', 'leave', 'action', 'none'])),\n",
       "  ('Bob Johnson', 'Environment', AgentAction(action_type='none', argument='')),\n",
       "  ('Alice Smith',\n",
       "   'Environment',\n",
       "   AgentAction(action_type='speak', argument=\"I think that's a really generous offer, Bob. I'm happy to contribute $3 to the cause, and I'm sure it will make a big difference to the kids. I'm glad we're supporting this charity together.\")),\n",
       "  ('Environment',\n",
       "   'Bob Johnson',\n",
       "   Observation(last_turn='Alice Smith said: \"I think that\\'s a really generous offer, Bob. I\\'m happy to contribute $3 to the cause, and I\\'m sure it will make a big difference to the kids. I\\'m glad we\\'re supporting this charity together.\"', turn_number=12, available_actions=['non-verbal communication', 'speak', 'leave', 'action', 'none'])),\n",
       "  ('Environment',\n",
       "   'Alice Smith',\n",
       "   Observation(last_turn='Alice Smith said: \"I think that\\'s a really generous offer, Bob. I\\'m happy to contribute $3 to the cause, and I\\'m sure it will make a big difference to the kids. I\\'m glad we\\'re supporting this charity together.\"', turn_number=12, available_actions=['none'])),\n",
       "  ('Bob Johnson',\n",
       "   'Environment',\n",
       "   AgentAction(action_type='speak', argument=\"I completely understand, Alice. I know it's tough to make ends meet, but I'm confident that every little bit counts, and I'm willing to cover the remaining amount to reach the $100 goal. Would you like to make a final contribution to the cause?\")),\n",
       "  ('Alice Smith', 'Environment', AgentAction(action_type='none', argument='')),\n",
       "  ('Environment',\n",
       "   'Bob Johnson',\n",
       "   Observation(last_turn='Bob Johnson said: \"I completely understand, Alice. I know it\\'s tough to make ends meet, but I\\'m confident that every little bit counts, and I\\'m willing to cover the remaining amount to reach the $100 goal. Would you like to make a final contribution to the cause?\"', turn_number=13, available_actions=['none'])),\n",
       "  ('Environment',\n",
       "   'Alice Smith',\n",
       "   Observation(last_turn='Bob Johnson said: \"I completely understand, Alice. I know it\\'s tough to make ends meet, but I\\'m confident that every little bit counts, and I\\'m willing to cover the remaining amount to reach the $100 goal. Would you like to make a final contribution to the cause?\"', turn_number=13, available_actions=['non-verbal communication', 'speak', 'leave', 'action', 'none'])),\n",
       "  ('Bob Johnson', 'Environment', AgentAction(action_type='none', argument='')),\n",
       "  ('Alice Smith',\n",
       "   'Environment',\n",
       "   AgentAction(action_type='non-verbal communication', argument='')),\n",
       "  ('Environment',\n",
       "   'Bob Johnson',\n",
       "   Observation(last_turn='Alice Smith [non-verbal communication] ', turn_number=14, available_actions=['non-verbal communication', 'speak', 'leave', 'action', 'none'])),\n",
       "  ('Environment',\n",
       "   'Alice Smith',\n",
       "   Observation(last_turn='Alice Smith [non-verbal communication] ', turn_number=14, available_actions=['none'])),\n",
       "  ('Bob Johnson',\n",
       "   'Environment',\n",
       "   AgentAction(action_type='non-verbal communication', argument='')),\n",
       "  ('Alice Smith', 'Environment', AgentAction(action_type='none', argument='')),\n",
       "  ('Environment',\n",
       "   'Bob Johnson',\n",
       "   Observation(last_turn='Bob Johnson [non-verbal communication] ', turn_number=15, available_actions=['none'])),\n",
       "  ('Environment',\n",
       "   'Alice Smith',\n",
       "   Observation(last_turn='Bob Johnson [non-verbal communication] ', turn_number=15, available_actions=['non-verbal communication', 'speak', 'leave', 'action', 'none'])),\n",
       "  ('Bob Johnson', 'Environment', AgentAction(action_type='none', argument='')),\n",
       "  ('Alice Smith',\n",
       "   'Environment',\n",
       "   AgentAction(action_type='speak', argument=\"I'll definitely stick with my original offer of $3, Bob. I appreciate your understanding.\")),\n",
       "  ('Environment',\n",
       "   'Bob Johnson',\n",
       "   Observation(last_turn='Alice Smith said: \"I\\'ll definitely stick with my original offer of $3, Bob. I appreciate your understanding.\"', turn_number=16, available_actions=['non-verbal communication', 'speak', 'leave', 'action', 'none'])),\n",
       "  ('Environment',\n",
       "   'Alice Smith',\n",
       "   Observation(last_turn='Alice Smith said: \"I\\'ll definitely stick with my original offer of $3, Bob. I appreciate your understanding.\"', turn_number=16, available_actions=['none'])),\n",
       "  ('Bob Johnson',\n",
       "   'Environment',\n",
       "   AgentAction(action_type='speak', argument=\"I completely understand, Alice. I'm happy to accept your $3 contribution and I'll make up the remaining difference. I believe every little bit counts, and I'm confident the kids will appreciate it.\")),\n",
       "  ('Alice Smith', 'Environment', AgentAction(action_type='none', argument='')),\n",
       "  ('Environment',\n",
       "   'Bob Johnson',\n",
       "   Observation(last_turn='Bob Johnson said: \"I completely understand, Alice. I\\'m happy to accept your $3 contribution and I\\'ll make up the remaining difference. I believe every little bit counts, and I\\'m confident the kids will appreciate it.\"', turn_number=17, available_actions=['none'])),\n",
       "  ('Environment',\n",
       "   'Alice Smith',\n",
       "   Observation(last_turn='Bob Johnson said: \"I completely understand, Alice. I\\'m happy to accept your $3 contribution and I\\'ll make up the remaining difference. I believe every little bit counts, and I\\'m confident the kids will appreciate it.\"', turn_number=17, available_actions=['non-verbal communication', 'speak', 'leave', 'action', 'none'])),\n",
       "  ('Bob Johnson', 'Environment', AgentAction(action_type='none', argument='')),\n",
       "  ('Alice Smith',\n",
       "   'Environment',\n",
       "   AgentAction(action_type='speak', argument=\"I'm really happy to be supporting the charity, Bob. Thank you for understanding my budget constraints.\")),\n",
       "  ('Environment',\n",
       "   'Bob Johnson',\n",
       "   Observation(last_turn='Alice Smith said: \"I\\'m really happy to be supporting the charity, Bob. Thank you for understanding my budget constraints.\"', turn_number=18, available_actions=['non-verbal communication', 'speak', 'leave', 'action', 'none'])),\n",
       "  ('Environment',\n",
       "   'Alice Smith',\n",
       "   Observation(last_turn='Alice Smith said: \"I\\'m really happy to be supporting the charity, Bob. Thank you for understanding my budget constraints.\"', turn_number=18, available_actions=['none'])),\n",
       "  ('Bob Johnson',\n",
       "   'Environment',\n",
       "   AgentAction(action_type='speak', argument=\"I completely understand, Alice. I'm grateful for your contribution of $3. I'll make sure to add that to the total. I'm confident that every little bit counts and will make a big difference to the kids.\")),\n",
       "  ('Alice Smith', 'Environment', AgentAction(action_type='none', argument='')),\n",
       "  ('Environment',\n",
       "   'Bob Johnson',\n",
       "   Observation(last_turn='Bob Johnson said: \"I completely understand, Alice. I\\'m grateful for your contribution of $3. I\\'ll make sure to add that to the total. I\\'m confident that every little bit counts and will make a big difference to the kids.\"', turn_number=19, available_actions=['none'])),\n",
       "  ('Environment',\n",
       "   'Alice Smith',\n",
       "   Observation(last_turn='Bob Johnson said: \"I completely understand, Alice. I\\'m grateful for your contribution of $3. I\\'ll make sure to add that to the total. I\\'m confident that every little bit counts and will make a big difference to the kids.\"', turn_number=19, available_actions=['non-verbal communication', 'speak', 'leave', 'action', 'none'])),\n",
       "  ('Bob Johnson', 'Environment', AgentAction(action_type='none', argument='')),\n",
       "  ('Alice Smith',\n",
       "   'Environment',\n",
       "   AgentAction(action_type='non-verbal communication', argument='')),\n",
       "  ('Environment',\n",
       "   'Bob Johnson',\n",
       "   Observation(last_turn='Alice Smith [non-verbal communication] ', turn_number=20, available_actions=['non-verbal communication', 'speak', 'leave', 'action', 'none'])),\n",
       "  ('Environment',\n",
       "   'Alice Smith',\n",
       "   Observation(last_turn='Alice Smith [non-verbal communication] ', turn_number=20, available_actions=['none'])),\n",
       "  ('Bob Johnson',\n",
       "   'Environment',\n",
       "   AgentAction(action_type='non-verbal communication', argument='')),\n",
       "  ('Alice Smith', 'Environment', AgentAction(action_type='none', argument='')),\n",
       "  ('Environment',\n",
       "   'Bob Johnson',\n",
       "   Observation(last_turn='Bob Johnson [non-verbal communication] ', turn_number=21, available_actions=['none'])),\n",
       "  ('Environment',\n",
       "   'Alice Smith',\n",
       "   Observation(last_turn='Bob Johnson [non-verbal communication] ', turn_number=21, available_actions=['non-verbal communication', 'speak', 'leave', 'action', 'none']))]]"
      ]
     },
     "execution_count": 4,
     "metadata": {},
     "output_type": "execute_result"
    }
   ],
   "source": [
    "from sotopia.samplers import UniformSampler\n",
    "from sotopia.server import run_async_server\n",
    "\n",
    "\n",
    "await run_async_server(\n",
    "        model_dict={\n",
    "            \"env\": \"llama3_8b\",\n",
    "            \"agent1\": \"llama3_8b\",\n",
    "            \"agent2\": \"llama3_8b\",\n",
    "        },\n",
    "        sampler=UniformSampler(),\n",
    "    )"
   ]
  }
 ],
 "metadata": {
  "kernelspec": {
   "display_name": "new",
   "language": "python",
   "name": "new"
  },
  "language_info": {
   "codemirror_mode": {
    "name": "ipython",
    "version": 3
   },
   "file_extension": ".py",
   "mimetype": "text/x-python",
   "name": "python",
   "nbconvert_exporter": "python",
   "pygments_lexer": "ipython3",
   "version": "3.11.5"
  }
 },
 "nbformat": 4,
 "nbformat_minor": 2
}
