{
 "cells": [
  {
   "cell_type": "code",
   "execution_count": 1,
   "metadata": {},
   "outputs": [],
   "source": [
    "%load_ext autoreload\n",
    "%autoreload 2"
   ]
  },
  {
   "cell_type": "code",
   "execution_count": 3,
   "metadata": {},
   "outputs": [
    {
     "name": "stderr",
     "output_type": "stream",
     "text": [
      "/home/wenkail/miniconda3/envs/sotopia/lib/python3.11/site-packages/tqdm/auto.py:21: TqdmWarning: IProgress not found. Please update jupyter and ipywidgets. See https://ipywidgets.readthedocs.io/en/stable/user_install.html\n",
      "  from .autonotebook import tqdm as notebook_tqdm\n"
     ]
    }
   ],
   "source": [
    "import sys\n",
    "import rich\n",
    "sys.path.append(\"../../\")\n",
    "from new_sotopia.databases.persistent_profile import AgentProfile, EnvironmentProfile\n",
    "from typing import Any\n",
    "from new_sotopia.generation_utils.generate import agenerate_env_profile\n",
    "from datasets import load_dataset, DatasetDict, load_from_disk\n",
    "\n",
    "def add_agent_to_database(**kwargs: dict[str, Any]) -> None:\n",
    "    agent = AgentProfile(**kwargs)\n",
    "    agent.init_profile_store()\n",
    "    # agent.db.insert(agent.dict())\n",
    "    agent.db.insert_unique(agent.dict())\n",
    "    return agent\n",
    "\n",
    "def add_env_profile(**kwargs: dict[str, Any]) -> None:\n",
    "    env_profile = EnvironmentProfile(**kwargs)\n",
    "    env_profile.init_profile_store()\n",
    "    env_profile.db.insert_unique(env_profile.dict())\n",
    "    return env_profile\n"
   ]
  },
  {
   "cell_type": "code",
   "execution_count": 4,
   "metadata": {},
   "outputs": [],
   "source": [
    "data = load_from_disk(\"/data/user_data/wenkail/llm_personality/soda_data/sample_5000\")\n",
    "# for d in data['sample']:\n",
    "#     print(d['PersonX'])\n",
    "#     scenario = d['narrative'].replace(d['PersonX'], 'PersonX') # @param {type:\"string\"}\n",
    "#     scenario = d['narrative'].replace(d['PersonY'], 'PersonY') # @param {type:\"string\"}\n",
    "#     social_goal_1 = d['tail'] # @param {type:\"string\"}\n",
    "#     social_goal_2 = \"\" # @param {type:\"string\"}\n",
    "\n",
    "#     env_profile = add_env_profile(\n",
    "#         scenario=scenario,\n",
    "#         agent_goals = [social_goal_1, social_goal_2]\n",
    "    # )"
   ]
  },
  {
   "cell_type": "code",
   "execution_count": 5,
   "metadata": {},
   "outputs": [
    {
     "data": {
      "text/plain": [
       "'Deontay'"
      ]
     },
     "execution_count": 5,
     "metadata": {},
     "output_type": "execute_result"
    }
   ],
   "source": [
    "data = load_from_disk(\"/data/user_data/wenkail/llm_personality/soda_data/sample_5000\")\n"
   ]
  },
  {
   "cell_type": "code",
   "execution_count": 6,
   "metadata": {},
   "outputs": [
    {
     "data": {
      "text/html": [
       "<pre style=\"white-space:pre;overflow-x:auto;line-height:normal;font-family:Menlo,'DejaVu Sans Mono',consolas,'Courier New',monospace\">Deontay and Gibson started dating because Deontay was interested in getting to know Gibson better. She thought he \n",
       "was a great guy with a lot of potential, and she wanted to see where things could go between them. Gibson felt the \n",
       "same way about Deontay, so they decided to give dating a try.\n",
       "</pre>\n"
      ],
      "text/plain": [
       "Deontay and Gibson started dating because Deontay was interested in getting to know Gibson better. She thought he \n",
       "was a great guy with a lot of potential, and she wanted to see where things could go between them. Gibson felt the \n",
       "same way about Deontay, so they decided to give dating a try.\n"
      ]
     },
     "metadata": {},
     "output_type": "display_data"
    }
   ],
   "source": [
    "rich.print(data['sample'][0]['narrative'])\n"
   ]
  },
  {
   "cell_type": "code",
   "execution_count": 7,
   "metadata": {},
   "outputs": [
    {
     "data": {
      "text/html": [
       "<pre style=\"white-space:pre;overflow-x:auto;line-height:normal;font-family:Menlo,'DejaVu Sans Mono',consolas,'Courier New',monospace\">Results:  Here is a scenario and goals based on the inspirational prompt:\n",
       "\n",
       "```\n",
       "<span style=\"font-weight: bold\">{</span>\n",
       "  <span style=\"color: #008000; text-decoration-color: #008000\">\"codename\"</span>: <span style=\"color: #008000; text-decoration-color: #008000\">\"CoffeeShopEncounter\"</span>,\n",
       "  <span style=\"color: #008000; text-decoration-color: #008000\">\"source\"</span>: <span style=\"color: #008000; text-decoration-color: #008000\">\"Social Interaction\"</span>,\n",
       "  <span style=\"color: #008000; text-decoration-color: #008000\">\"scenario\"</span>: <span style=\"color: #008000; text-decoration-color: #008000\">\"Agent1 and Agent2 meet at a coffee shop on a weekday afternoon. Agent1 is interested in getting to </span>\n",
       "<span style=\"color: #008000; text-decoration-color: #008000\">know Agent2 better and thinks they have a lot in common. Agent2 feels the same way about Agent1 and is open to </span>\n",
       "<span style=\"color: #008000; text-decoration-color: #008000\">exploring a potential friendship or romantic relationship. They both sit down at a table and start chatting.\"</span>,\n",
       "  <span style=\"color: #008000; text-decoration-color: #008000\">\"agent_goals\"</span>: <span style=\"font-weight: bold\">[</span>\n",
       "    <span style=\"color: #008000; text-decoration-color: #008000\">\"Agent1: Get to know Agent2 better and find common interests (&lt;extra_info&gt;shared hobbies&lt;/extra_info&gt;, </span>\n",
       "<span style=\"color: #008000; text-decoration-color: #008000\">&lt;clarification_hint&gt;ask open-ended questions&lt;/clarification_hint&gt;, &lt;strategy_hint&gt;show genuine interest and active </span>\n",
       "<span style=\"color: #008000; text-decoration-color: #008000\">listening&lt;/strategy_hint&gt;).\"</span><span style=\"color: #000000; text-decoration-color: #000000\">,</span>\n",
       "<span style=\"color: #000000; text-decoration-color: #000000\">    </span><span style=\"color: #008000; text-decoration-color: #008000\">\"Agent2: Explore the possibility of a romantic relationship with Agent1 (&lt;extra_info&gt;shared </span>\n",
       "<span style=\"color: #008000; text-decoration-color: #008000\">values&lt;/extra_info&gt;, &lt;clarification_hint&gt;be honest about intentions&lt;/clarification_hint&gt;, &lt;strategy_hint&gt;find ways </span>\n",
       "<span style=\"color: #008000; text-decoration-color: #008000\">to build intimacy&lt;/strategy_hint&gt;).\"</span>\n",
       "  <span style=\"font-weight: bold\">]</span>,\n",
       "  <span style=\"color: #008000; text-decoration-color: #008000\">\"relationship\"</span>: <span style=\"color: #008080; text-decoration-color: #008080; font-weight: bold\">1</span>,\n",
       "  <span style=\"color: #008000; text-decoration-color: #008000\">\"age_constraint\"</span>: <span style=\"color: #008000; text-decoration-color: #008000\">\"[(18, 40), (18, 40)]\"</span>,\n",
       "  <span style=\"color: #008000; text-decoration-color: #008000\">\"occupation_constraint\"</span>: null,\n",
       "  <span style=\"color: #008000; text-decoration-color: #008000\">\"agent_constraint\"</span>: null\n",
       "<span style=\"font-weight: bold\">}</span>\n",
       "```\n",
       "\n",
       "The goal that both agents may not agree upon initially is the level of intimacy they want to achieve in their \n",
       "interaction. Agent1 may be looking for a casual friendship, while Agent2 may be interested in exploring a romantic \n",
       "relationship. They will need to collaboratively resolve this difference in expectations to achieve their goals.\n",
       "</pre>\n"
      ],
      "text/plain": [
       "Results:  Here is a scenario and goals based on the inspirational prompt:\n",
       "\n",
       "```\n",
       "\u001b[1m{\u001b[0m\n",
       "  \u001b[32m\"codename\"\u001b[0m: \u001b[32m\"CoffeeShopEncounter\"\u001b[0m,\n",
       "  \u001b[32m\"source\"\u001b[0m: \u001b[32m\"Social Interaction\"\u001b[0m,\n",
       "  \u001b[32m\"scenario\"\u001b[0m: \u001b[32m\"Agent1 and Agent2 meet at a coffee shop on a weekday afternoon. Agent1 is interested in getting to \u001b[0m\n",
       "\u001b[32mknow Agent2 better and thinks they have a lot in common. Agent2 feels the same way about Agent1 and is open to \u001b[0m\n",
       "\u001b[32mexploring a potential friendship or romantic relationship. They both sit down at a table and start chatting.\"\u001b[0m,\n",
       "  \u001b[32m\"agent_goals\"\u001b[0m: \u001b[1m[\u001b[0m\n",
       "    \u001b[32m\"Agent1: Get to know Agent2 better and find common interests \u001b[0m\u001b[32m(\u001b[0m\u001b[32m<\u001b[0m\u001b[32mextra_info\u001b[0m\u001b[32m>shared hobbies</extra_info>, \u001b[0m\n",
       "\u001b[32m<clarification_hint>ask open-ended questions</clarification_hint>, <strategy_hint>show genuine interest and active \u001b[0m\n",
       "\u001b[32mlistening</strategy_hint>\u001b[0m\u001b[32m)\u001b[0m\u001b[32m.\"\u001b[0m\u001b[39m,\u001b[0m\n",
       "\u001b[39m    \u001b[0m\u001b[32m\"Agent2: Explore the possibility of a romantic relationship with Agent1 \u001b[0m\u001b[32m(\u001b[0m\u001b[32m<extra_info>shared \u001b[0m\n",
       "\u001b[32mvalues</extra_info>, <clarification_hint>be honest about intentions</clarification_hint>, <strategy_hint>find ways \u001b[0m\n",
       "\u001b[32mto build intimacy</strategy_hint\u001b[0m\u001b[32m>\u001b[0m\u001b[32m)\u001b[0m\u001b[32m.\"\u001b[0m\n",
       "  \u001b[1m]\u001b[0m,\n",
       "  \u001b[32m\"relationship\"\u001b[0m: \u001b[1;36m1\u001b[0m,\n",
       "  \u001b[32m\"age_constraint\"\u001b[0m: \u001b[32m\"\u001b[0m\u001b[32m[\u001b[0m\u001b[32m(\u001b[0m\u001b[32m18, 40\u001b[0m\u001b[32m)\u001b[0m\u001b[32m, \u001b[0m\u001b[32m(\u001b[0m\u001b[32m18, 40\u001b[0m\u001b[32m)\u001b[0m\u001b[32m]\u001b[0m\u001b[32m\"\u001b[0m,\n",
       "  \u001b[32m\"occupation_constraint\"\u001b[0m: null,\n",
       "  \u001b[32m\"agent_constraint\"\u001b[0m: null\n",
       "\u001b[1m}\u001b[0m\n",
       "```\n",
       "\n",
       "The goal that both agents may not agree upon initially is the level of intimacy they want to achieve in their \n",
       "interaction. Agent1 may be looking for a casual friendship, while Agent2 may be interested in exploring a romantic \n",
       "relationship. They will need to collaboratively resolve this difference in expectations to achieve their goals.\n"
      ]
     },
     "metadata": {},
     "output_type": "display_data"
    },
    {
     "data": {
      "text/plain": [
       "(EnvironmentProfile(codename='CoffeeShopEncounter', source='Social Interaction', scenario='Agent1 and Agent2 meet at a coffee shop on a weekday afternoon. Agent1 is interested in getting to know Agent2 better and thinks they have a lot in common. Agent2 feels the same way about Agent1 and is open to exploring a potential friendship or romantic relationship. They both sit down at a table and start chatting.', agent_goals=['Agent1: Get to know Agent2 better and find common interests (<extra_info>shared hobbies</extra_info>, <clarification_hint>ask open-ended questions</clarification_hint>, <strategy_hint>show genuine interest and active listening</strategy_hint>).', 'Agent2: Explore the possibility of a romantic relationship with Agent1 (<extra_info>shared values</extra_info>, <clarification_hint>be honest about intentions</clarification_hint>, <strategy_hint>find ways to build intimacy</strategy_hint>).'], relationship=<RelationshipType.know_by_name: 1>, age_constraint='[(18, 40), (18, 40)]', occupation_constraint=None, agent_constraint=None),\n",
       " 'Prompt after formatting:\\nPlease generate a scenario and goals based on the examples below as well as the inspirational prompt, when creating the goals, try to find one point that both sides may not agree upon initially and need to collaboratively resolve it.\\nExamples:\\n\\nInspirational prompt: Deontay and Gibson started dating because Deontay was interested in getting to know Gibson better. She thought he was a great guy with a lot of potential, and she wanted to see where things could go between them. Gibson felt the same way about Deontay, so they decided to give dating a try.\\nPlease use the following format:\\nThe output should be formatted as a JSON instance that conforms to the JSON schema below.\\n\\nAs an example, for the schema {\"properties\": {\"foo\": {\"title\": \"Foo\", \"description\": \"a list of strings\", \"type\": \"array\", \"items\": {\"type\": \"string\"}}}, \"required\": [\"foo\"]}\\nthe object {\"foo\": [\"bar\", \"baz\"]} is a well-formatted instance of the schema. The object {\"properties\": {\"foo\": [\"bar\", \"baz\"]}} is not well-formatted.\\n\\nHere is the output schema:\\n```\\n{\"$defs\": {\"RelationshipType\": {\"enum\": [0, 1, 2, 3, 4, 5], \"title\": \"RelationshipType\", \"type\": \"integer\"}}, \"properties\": {\"codename\": {\"description\": \"The codename of the environment\", \"index\": true, \"title\": \"Codename\", \"type\": \"string\"}, \"source\": {\"description\": \"The source of the environment\", \"index\": true, \"title\": \"Source\", \"type\": \"string\"}, \"scenario\": {\"description\": \"A concrete scenario of where the social interaction takes place, the scenario should have two agents (agent1 and agent2), and you should illustrate the relationship between the two agents, and for what purpose agent1 is interacting with agent2. Please avoid mentioning specific names and occupations in the scenario and keep all the mentions gender-neutral. Also avoid generating scenarios that requires childrend (below 18) or elderly (above 70) to be involved.\", \"index\": true, \"title\": \"Scenario\", \"type\": \"string\"}, \"agent_goals\": {\"description\": \"The social goals of each agent, which could include <extra_info>...</extra_info>, <clarification_hint>...</clarification_hint>, and <strategy_hint>...</strategy_hint> to help the agent achieve the goal. Avoid providing too specific strategy hint, try to be as abstract as possible. For example, use \\'you can provide financial benefits to achieve your goal\\' instead of \\'you can buy him a boba tea to achieve your goal.\\'\", \"items\": {\"type\": \"string\"}, \"title\": \"Agent Goals\", \"type\": \"array\"}, \"relationship\": {\"allOf\": [{\"$ref\": \"#/$defs/RelationshipType\"}], \"description\": \"The relationship between the two agents, choose from: stranger, know_by_name, acquaintance, friend, romantic_relationship, family_member. Do not make up a relationship, but choose from the list, 0 means stranger, 1 means know_by_name, 2 means acquaintance, 3 means friend, 4 means romantic_relationship, 5 means family_member\", \"index\": true}, \"age_constraint\": {\"anyOf\": [{\"type\": \"string\"}, {\"type\": \"null\"}], \"description\": \"The age constraint of the environment, a list of tuples, each tuple is a range of age, e.g., \\'[(18, 25), (30, 40)]\\' means the environment is only available to agent one between 18 and 25, and agent two between 30 and 40\", \"title\": \"Age Constraint\"}, \"occupation_constraint\": {\"anyOf\": [{\"type\": \"string\"}, {\"type\": \"null\"}], \"description\": \"The occupation constraint of the environment, a list of lists, each list is a list of occupations, e.g., \\'[[\\'student\\', \\'teacher\\'], [\\'doctor\\', \\'nurse\\']]\\' means the environment is only available to agent one if agent one is a student or a teacher, and agent two is a doctor or a nurse\", \"title\": \"Occupation Constraint\"}, \"agent_constraint\": {\"anyOf\": [{\"items\": {\"items\": {\"type\": \"string\"}, \"type\": \"array\"}, \"type\": \"array\"}, {\"type\": \"null\"}], \"title\": \"Agent Constraint\"}}}\\n```\\x1b[0m')"
      ]
     },
     "execution_count": 7,
     "metadata": {},
     "output_type": "execute_result"
    }
   ],
   "source": [
    "result = await agenerate_env_profile(\n",
    "    model_name = \"llama3_70b\",\n",
    "    inspiration_prompt = data['sample'][0]['narrative']\n",
    ")\n",
    "result"
   ]
  },
  {
   "cell_type": "code",
   "execution_count": 14,
   "metadata": {},
   "outputs": [
    {
     "data": {
      "text/html": [
       "<pre style=\"white-space:pre;overflow-x:auto;line-height:normal;font-family:Menlo,'DejaVu Sans Mono',consolas,'Courier New',monospace\"><span style=\"color: #800080; text-decoration-color: #800080; font-weight: bold\">EnvironmentProfile</span><span style=\"font-weight: bold\">(</span>\n",
       "    <span style=\"color: #808000; text-decoration-color: #808000\">codename</span>=<span style=\"color: #008000; text-decoration-color: #008000\">'CoffeeShopEncounter'</span>,\n",
       "    <span style=\"color: #808000; text-decoration-color: #808000\">source</span>=<span style=\"color: #008000; text-decoration-color: #008000\">'Social Interaction'</span>,\n",
       "    <span style=\"color: #808000; text-decoration-color: #808000\">scenario</span>=<span style=\"color: #008000; text-decoration-color: #008000\">'Agent1 and Agent2 meet at a coffee shop on a weekday afternoon. Agent1 is interested in getting to </span>\n",
       "<span style=\"color: #008000; text-decoration-color: #008000\">know Agent2 better and thinks they have a lot in common. Agent2 feels the same way about Agent1 and is open to </span>\n",
       "<span style=\"color: #008000; text-decoration-color: #008000\">exploring a potential friendship or romantic relationship. They both sit down at a table and start chatting.'</span>,\n",
       "    <span style=\"color: #808000; text-decoration-color: #808000\">agent_goals</span>=<span style=\"font-weight: bold\">[</span>\n",
       "        <span style=\"color: #008000; text-decoration-color: #008000\">'Agent1: Get to know Agent2 better and find common interests (&lt;extra_info&gt;shared hobbies&lt;/extra_info&gt;, </span>\n",
       "<span style=\"color: #008000; text-decoration-color: #008000\">&lt;clarification_hint&gt;ask open-ended questions&lt;/clarification_hint&gt;, &lt;strategy_hint&gt;show genuine interest and active </span>\n",
       "<span style=\"color: #008000; text-decoration-color: #008000\">listening&lt;/strategy_hint&gt;).'</span><span style=\"color: #000000; text-decoration-color: #000000\">,</span>\n",
       "<span style=\"color: #000000; text-decoration-color: #000000\">        </span><span style=\"color: #008000; text-decoration-color: #008000\">'Agent2: Explore the possibility of a romantic relationship with Agent1 (&lt;extra_info&gt;shared </span>\n",
       "<span style=\"color: #008000; text-decoration-color: #008000\">values&lt;/extra_info&gt;, &lt;clarification_hint&gt;be honest about intentions&lt;/clarification_hint&gt;, &lt;strategy_hint&gt;find ways </span>\n",
       "<span style=\"color: #008000; text-decoration-color: #008000\">to build intimacy&lt;/strategy_hint&gt;).'</span>\n",
       "<span style=\"color: #000000; text-decoration-color: #000000\">    </span><span style=\"color: #000000; text-decoration-color: #000000; font-weight: bold\">]</span><span style=\"color: #000000; text-decoration-color: #000000\">,</span>\n",
       "<span style=\"color: #000000; text-decoration-color: #000000\">    </span><span style=\"color: #808000; text-decoration-color: #808000\">relationship</span><span style=\"color: #000000; text-decoration-color: #000000\">=&lt;RelationshipType.know_by_name: </span><span style=\"color: #008080; text-decoration-color: #008080; font-weight: bold\">1</span><span style=\"font-weight: bold\">&gt;</span>,\n",
       "    <span style=\"color: #808000; text-decoration-color: #808000\">age_constraint</span>=<span style=\"color: #008000; text-decoration-color: #008000\">'[(18, 40), (18, 40)]'</span>,\n",
       "    <span style=\"color: #808000; text-decoration-color: #808000\">occupation_constraint</span>=<span style=\"color: #800080; text-decoration-color: #800080; font-style: italic\">None</span>,\n",
       "    <span style=\"color: #808000; text-decoration-color: #808000\">agent_constraint</span>=<span style=\"color: #800080; text-decoration-color: #800080; font-style: italic\">None</span>\n",
       "<span style=\"font-weight: bold\">)</span>\n",
       "</pre>\n"
      ],
      "text/plain": [
       "\u001b[1;35mEnvironmentProfile\u001b[0m\u001b[1m(\u001b[0m\n",
       "    \u001b[33mcodename\u001b[0m=\u001b[32m'CoffeeShopEncounter'\u001b[0m,\n",
       "    \u001b[33msource\u001b[0m=\u001b[32m'Social Interaction'\u001b[0m,\n",
       "    \u001b[33mscenario\u001b[0m=\u001b[32m'Agent1 and Agent2 meet at a coffee shop on a weekday afternoon. Agent1 is interested in getting to \u001b[0m\n",
       "\u001b[32mknow Agent2 better and thinks they have a lot in common. Agent2 feels the same way about Agent1 and is open to \u001b[0m\n",
       "\u001b[32mexploring a potential friendship or romantic relationship. They both sit down at a table and start chatting.'\u001b[0m,\n",
       "    \u001b[33magent_goals\u001b[0m=\u001b[1m[\u001b[0m\n",
       "        \u001b[32m'Agent1: Get to know Agent2 better and find common interests \u001b[0m\u001b[32m(\u001b[0m\u001b[32m<\u001b[0m\u001b[32mextra_info\u001b[0m\u001b[32m>shared hobbies</extra_info>, \u001b[0m\n",
       "\u001b[32m<clarification_hint>ask open-ended questions</clarification_hint>, <strategy_hint>show genuine interest and active \u001b[0m\n",
       "\u001b[32mlistening</strategy_hint>\u001b[0m\u001b[32m)\u001b[0m\u001b[32m.'\u001b[0m\u001b[39m,\u001b[0m\n",
       "\u001b[39m        \u001b[0m\u001b[32m'Agent2: Explore the possibility of a romantic relationship with Agent1 \u001b[0m\u001b[32m(\u001b[0m\u001b[32m<extra_info>shared \u001b[0m\n",
       "\u001b[32mvalues</extra_info>, <clarification_hint>be honest about intentions</clarification_hint>, <strategy_hint>find ways \u001b[0m\n",
       "\u001b[32mto build intimacy</strategy_hint>\u001b[0m\u001b[32m)\u001b[0m\u001b[32m.'\u001b[0m\n",
       "\u001b[39m    \u001b[0m\u001b[1;39m]\u001b[0m\u001b[39m,\u001b[0m\n",
       "\u001b[39m    \u001b[0m\u001b[33mrelationship\u001b[0m\u001b[39m=<RelationshipType.know_by_name: \u001b[0m\u001b[1;36m1\u001b[0m\u001b[1m>\u001b[0m,\n",
       "    \u001b[33mage_constraint\u001b[0m=\u001b[32m'\u001b[0m\u001b[32m[\u001b[0m\u001b[32m(\u001b[0m\u001b[32m18, 40\u001b[0m\u001b[32m)\u001b[0m\u001b[32m, \u001b[0m\u001b[32m(\u001b[0m\u001b[32m18, 40\u001b[0m\u001b[32m)\u001b[0m\u001b[32m]\u001b[0m\u001b[32m'\u001b[0m,\n",
       "    \u001b[33moccupation_constraint\u001b[0m=\u001b[3;35mNone\u001b[0m,\n",
       "    \u001b[33magent_constraint\u001b[0m=\u001b[3;35mNone\u001b[0m\n",
       "\u001b[1m)\u001b[0m\n"
      ]
     },
     "metadata": {},
     "output_type": "display_data"
    }
   ],
   "source": [
    "rich.print(result[0])"
   ]
  }
 ],
 "metadata": {
  "kernelspec": {
   "display_name": "sotopia",
   "language": "python",
   "name": "python3"
  },
  "language_info": {
   "codemirror_mode": {
    "name": "ipython",
    "version": 3
   },
   "file_extension": ".py",
   "mimetype": "text/x-python",
   "name": "python",
   "nbconvert_exporter": "python",
   "pygments_lexer": "ipython3",
   "version": "3.11.9"
  }
 },
 "nbformat": 4,
 "nbformat_minor": 2
}
