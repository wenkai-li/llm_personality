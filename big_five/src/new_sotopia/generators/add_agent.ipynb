{
 "cells": [
  {
   "cell_type": "code",
   "execution_count": 1,
   "metadata": {},
   "outputs": [
    {
     "name": "stderr",
     "output_type": "stream",
     "text": [
      "/home/wenkail/miniconda3/envs/sotopia/lib/python3.11/site-packages/pydantic/_internal/_fields.py:160: UserWarning: Field \"model_id\" has conflict with protected namespace \"model_\".\n",
      "\n",
      "You may be able to resolve this warning by setting `model_config['protected_namespaces'] = ()`.\n",
      "  warnings.warn(\n"
     ]
    }
   ],
   "source": [
    "import sys\n",
    "sys.path.append(\"../../\")\n",
    "from new_sotopia.databases.persistent_profile import AgentProfile, EnvironmentProfile\n",
    "from typing import Any\n",
    "def add_agent_to_database(**kwargs: dict[str, Any]) -> None:\n",
    "    agent = AgentProfile(**kwargs)\n",
    "    agent.init_profile_store()\n",
    "    # agent.db.insert(agent.dict())\n",
    "    agent.db.insert_unique(agent.dict())\n",
    "    return agent\n",
    "\n",
    "def add_env_profile(**kwargs: dict[str, Any]) -> None:\n",
    "    env_profile = EnvironmentProfile(**kwargs)\n",
    "    env_profile.init_profile_store()\n",
    "    env_profile.db.insert_unique(env_profile.dict())\n",
    "    return env_profile\n",
    "\n",
    "first_name = 'Jiarui' # @param {type:\"string\"}\n",
    "last_name = 'Liu' # @param {type:\"string\"}\n",
    "age = 22 # @param {type:\"integer\"}\n",
    "occupation = 'Computer Scientist' # @param {type:\"string\"}\n",
    "gender = 'Man' # @param [\"Man\", \"Woman\", \"Nonbinary\"]\n",
    "gender_pronoun = 'He/him' # @param {type:\"string\"}\n",
    "public_info = \"Ethan enjoys reading about new technological advancements and watching documentaries.\"\n",
    "big_five = \"Openness to Experience - High; Conscientiousness - Low; Extraversion - Low; Agreeableness - Low; Neuroticism - Low\" # @param {type:\"string\"}\n",
    "moral_values = [\"power\", \"achievement\"] # @param {type:\"string\"}\n",
    "decision_making_style = \"analytical\" # @param {type:\"string\"}\n",
    "secret = \"She cheated in her code interview\" # @param {type:\"string\"}\n",
    "\n",
    "agent = add_agent_to_database(\n",
    "    first_name=first_name,\n",
    "    last_name=last_name,\n",
    "    age=age,\n",
    "    occupation=occupation,\n",
    "    gender=gender,\n",
    "    gender_pronoun=gender_pronoun,\n",
    "    big_five=big_five,\n",
    "    moral_values=moral_values,\n",
    "    decision_making_style=decision_making_style,\n",
    "    secret=secret,\n",
    ")\n",
    "\n",
    "first_name = 'Kyle' # @param {type:\"string\"}\n",
    "last_name = 'Li' # @param {type:\"string\"}\n",
    "age = 23 # @param {type:\"integer\"}\n",
    "occupation = 'Chef' # @param {type:\"string\"}\n",
    "gender = 'Man' # @param [\"Man\", \"Woman\", \"Nonbinary\"]\n",
    "gender_pronoun = 'he/his' # @param {type:\"string\"}\n",
    "big_five = \"Openness to Experience - High; Conscientiousness - Low; Extraversion - Low; Agreeableness - Low; Neuroticism - Low\" # @param {type:\"string\"}\n",
    "moral_values = [\"Benevolence\"] # @param {type:\"string\"}\n",
    "decision_making_style = \"conceptual\" # @param {type:\"string\"}\n",
    "secret = \"He has a negative net worth.\" # @param {type:\"string\"}\n",
    "\n",
    "agent = add_agent_to_database(\n",
    "    first_name=first_name,\n",
    "    last_name=last_name,\n",
    "    age=age,\n",
    "    occupation=occupation,\n",
    "    gender=gender,\n",
    "    gender_pronoun=gender_pronoun,\n",
    "    big_five=big_five,\n",
    "    moral_values=moral_values,\n",
    "    decision_making_style=decision_making_style,\n",
    "    secret=secret,\n",
    ")\n",
    "\n",
    "# scenario = \"A friend is raising a fund for the \\\"Help the children\\\" charity\" # @param {type:\"string\"}\n",
    "# social_goal_1 = \"Ask for donation of $100\" # @param {type:\"string\"}\n",
    "# social_goal_2 = \"Donate less than $10\" # @param {type:\"string\"}\n",
    "\n",
    "# env_profile = add_env_profile(\n",
    "#     scenario=scenario,\n",
    "#     agent_goals = [social_goal_1, social_goal_2]\n",
    "# )"
   ]
  },
  {
   "cell_type": "code",
   "execution_count": null,
   "metadata": {},
   "outputs": [],
   "source": []
  }
 ],
 "metadata": {
  "kernelspec": {
   "display_name": "sotopia",
   "language": "python",
   "name": "python3"
  },
  "language_info": {
   "codemirror_mode": {
    "name": "ipython",
    "version": 3
   },
   "file_extension": ".py",
   "mimetype": "text/x-python",
   "name": "python",
   "nbconvert_exporter": "python",
   "pygments_lexer": "ipython3",
   "version": "3.11.9"
  }
 },
 "nbformat": 4,
 "nbformat_minor": 2
}
