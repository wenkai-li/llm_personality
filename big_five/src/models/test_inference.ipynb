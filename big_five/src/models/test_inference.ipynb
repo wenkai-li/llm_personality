{
 "cells": [
  {
   "cell_type": "code",
   "execution_count": 1,
   "metadata": {},
   "outputs": [],
   "source": [
    "%load_ext autoreload\n",
    "%autoreload 2"
   ]
  },
  {
   "cell_type": "code",
   "execution_count": 2,
   "metadata": {},
   "outputs": [],
   "source": [
    "import json\n",
    "import pandas as pd\n",
    "from tqdm import tqdm\n",
    "from llm import call\n",
    "from utils import *\n",
    "from config import get_model_config\n",
    "# from prompts import *"
   ]
  },
  {
   "cell_type": "code",
   "execution_count": 10,
   "metadata": {},
   "outputs": [],
   "source": [
    "### llama3 8b\n",
    "model = 'llama3_8b'\n",
    "def llm_config_func(llm):\n",
    "    llm.temperature = 0\n",
    "    llm.max_tokens = 4096\n",
    "    return llm\n",
    "config = get_model_config(model)\n",
    "\n",
    "### llama2 7b\n",
    "# model = 'llama2_7b'\n",
    "# def llm_config_func(llm):\n",
    "#     llm.temperature = 0\n",
    "#     llm.max_tokens = 2048\n",
    "#     return llm\n",
    "# config = get_model_config(model)\n",
    "\n",
    "### gpt3.5\n",
    "# model = 'gpt-3.5-turbo'\n",
    "# def llm_config_func(llm):\n",
    "#     llm.temperature = 0.8\n",
    "#     llm.max_tokens = 4096\n",
    "#     return llm\n",
    "# config = get_model_config(model)"
   ]
  },
  {
   "cell_type": "code",
   "execution_count": 12,
   "metadata": {},
   "outputs": [
    {
     "name": "stdout",
     "output_type": "stream",
     "text": [
      "You are a helpful assistant\n",
      "Please expand a fictional personality background for a person with only one dimension of the big 5 personality traits: openness.\n",
      "Meet Emilia, a 28-year-old artist who embodies the dimension of openness to experience. Emilia is a free-spirited and curious individual who is always eager to explore new ideas, places, and experiences. She has a childlike sense of wonder and a passion for learning, which drives her to constantly seek out new knowledge and skills.\n",
      "\n",
      "Emilia's openness to experience is evident in her artistic pursuits. She is a painter, musician, and writer, and she loves to experiment with different mediums and styles. She is always looking for new sources of inspiration, whether it's a beautiful sunset, a fascinating conversation, or a strange and unusual object she finds in a thrift store. Her art is a reflection of her curiosity and creativity, and she is always pushing herself to try new things and take risks.\n",
      "\n",
      "Emilia's openness also extends to her relationships. She is a natural people person and loves to meet new people and hear their stories. She is a good listener and is always willing to lend a helping hand or offer words of encouragement. Her friends and family appreciate her empathetic nature and her ability to make them feel heard and understood.\n",
      "\n",
      "Despite her many talents and interests, Emilia is not without her challenges. Her openness to experience can sometimes make it difficult for her to focus and prioritize her time. She has a tendency to take on too many projects at once and can get overwhelmed by the sheer amount of stimuli in her life. She is also prone to feeling anxious and uncertain when faced with the unknown, which can make it difficult for her to make decisions or take risks.\n",
      "\n",
      "Overall, Emilia's personality is a unique blend of creativity, curiosity, and empathy. Her openness to experience is a driving force in her life, and it allows her to live life to the fullest and make the most of every moment.\n"
     ]
    }
   ],
   "source": [
    "prompt = [\n",
    "    \"You are a helpful assistant\",\n",
    "    \"Please expand a fictional personality background for a person with only one dimension of the big 5 personality traits: openness.\"\n",
    "]\n",
    "res = call(\n",
    "    prompt,\n",
    "    llm_config_func,\n",
    "    has_system_prompt=True,\n",
    "    model_version=model,\n",
    "    verbose=True,\n",
    "    **config\n",
    ")"
   ]
  }
 ],
 "metadata": {
  "kernelspec": {
   "display_name": "new",
   "language": "python",
   "name": "new"
  },
  "language_info": {
   "codemirror_mode": {
    "name": "ipython",
    "version": 3
   },
   "file_extension": ".py",
   "mimetype": "text/x-python",
   "name": "python",
   "nbconvert_exporter": "python",
   "pygments_lexer": "ipython3",
   "version": "3.11.5"
  }
 },
 "nbformat": 4,
 "nbformat_minor": 2
}
