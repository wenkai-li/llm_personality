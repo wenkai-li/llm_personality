{
 "cells": [
  {
   "cell_type": "code",
   "execution_count": 9,
   "metadata": {},
   "outputs": [
    {
     "name": "stdout",
     "output_type": "stream",
     "text": [
      "The autoreload extension is already loaded. To reload it, use:\n",
      "  %reload_ext autoreload\n"
     ]
    }
   ],
   "source": [
    "%load_ext autoreload\n",
    "%autoreload 2"
   ]
  },
  {
   "cell_type": "code",
   "execution_count": 10,
   "metadata": {},
   "outputs": [],
   "source": [
    "import json\n",
    "import pandas as pd\n",
    "from tqdm import tqdm\n",
    "from llm import call\n",
    "from utils import *\n",
    "from config import get_model_config\n",
    "# from prompts import *"
   ]
  },
  {
   "cell_type": "code",
   "execution_count": 11,
   "metadata": {},
   "outputs": [],
   "source": [
    "### llama3 8b\n",
    "# model = 'llama3_8b'\n",
    "# def llm_config_func(llm):\n",
    "#     llm.temperature = 0\n",
    "#     llm.max_tokens = 4096\n",
    "#     return llm\n",
    "# config = get_model_config(model)\n",
    "\n",
    "### llama3 70b\n",
    "model = 'llama3_70b'\n",
    "def llm_config_func(llm):\n",
    "    llm.temperature = 0\n",
    "    llm.max_tokens = 4096\n",
    "    return llm\n",
    "config = get_model_config(model)\n",
    "\n",
    "### llama2 7b\n",
    "# model = 'llama2_7b'\n",
    "# def llm_config_func(llm):\n",
    "#     llm.temperature = 0\n",
    "#     llm.max_tokens = 2048\n",
    "#     return llm\n",
    "# config = get_model_config(model)\n",
    "\n",
    "### gpt3.5\n",
    "# model = 'gpt-3.5-turbo'\n",
    "# def llm_config_func(llm):\n",
    "#     llm.temperature = 0.8\n",
    "#     llm.max_tokens = 4096\n",
    "#     return llm\n",
    "# config = get_model_config(model)"
   ]
  },
  {
   "cell_type": "code",
   "execution_count": null,
   "metadata": {},
   "outputs": [],
   "source": [
    "prompt = [\n",
    "    \"You are a helpful assistant\",\n",
    "    \"Please expand a fictional personality background for a person with only one dimension of the big 5 personality traits: openness.\"\n",
    "]\n",
    "res = call(\n",
    "    prompt,\n",
    "    llm_config_func,\n",
    "    has_system_prompt=True,\n",
    "    model_version=model,\n",
    "    verbose=True,\n",
    "    **config\n",
    ")"
   ]
  }
 ],
 "metadata": {
  "kernelspec": {
   "display_name": "new",
   "language": "python",
   "name": "new"
  },
  "language_info": {
   "codemirror_mode": {
    "name": "ipython",
    "version": 3
   },
   "file_extension": ".py",
   "mimetype": "text/x-python",
   "name": "python",
   "nbconvert_exporter": "python",
   "pygments_lexer": "ipython3",
   "version": "3.11.5"
  }
 },
 "nbformat": 4,
 "nbformat_minor": 2
}
