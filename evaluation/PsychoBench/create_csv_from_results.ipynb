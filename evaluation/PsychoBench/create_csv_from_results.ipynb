{
 "cells": [
  {
   "cell_type": "code",
   "execution_count": 4,
   "metadata": {},
   "outputs": [
    {
     "data": {
      "text/plain": [
       "6"
      ]
     },
     "execution_count": 4,
     "metadata": {},
     "output_type": "execute_result"
    }
   ],
   "source": [
    "import pandas as pd\n",
    "res_lines = open(\"/home/jiaruil5/personality/llm_personality/evaluation/PsychoBench/responses/direct_debug-IPIP-NEO-shuffle0.txt\", 'r').readlines()\n",
    "\n",
    "def can_convert_to_int(s):\n",
    "    try:\n",
    "        # Attempt to convert the string to an integer\n",
    "        int(s)\n",
    "        return True\n",
    "    except ValueError:\n",
    "        # If a ValueError occurs, it means the string cannot be converted\n",
    "        return False\n",
    "\n",
    "res = [[]]\n",
    "idx = 0\n",
    "for line in res_lines:\n",
    "    if can_convert_to_int(line.strip()):\n",
    "        idx += 1\n",
    "        if idx % 120 == 0:\n",
    "            idx = 0\n",
    "            res[-1].append(int(line.strip()))\n",
    "            res.append([])\n",
    "        else:\n",
    "            res[-1].append(int(line.strip()))\n",
    "len(res)"
   ]
  },
  {
   "cell_type": "code",
   "execution_count": 11,
   "metadata": {},
   "outputs": [],
   "source": [
    "df = pd.read_csv(\"/home/jiaruil5/personality/llm_personality/evaluation/PsychoBench/results/direct_debug-IPIP-NEO.csv\")\n",
    "df['shuffle0-test0'] = res[0]\n",
    "df['shuffle0-test1'] = res[1]\n",
    "df['shuffle0-test2'] = res[2]\n",
    "df['shuffle0-test3'] = res[3]\n",
    "df['shuffle0-test4'] = res[4]\n",
    "df.to_csv(\"/home/jiaruil5/personality/llm_personality/evaluation/PsychoBench/results/direct_debug-IPIP-NEO.csv\", index=False)"
   ]
  }
 ],
 "metadata": {
  "kernelspec": {
   "display_name": "new",
   "language": "python",
   "name": "python3"
  },
  "language_info": {
   "codemirror_mode": {
    "name": "ipython",
    "version": 3
   },
   "file_extension": ".py",
   "mimetype": "text/x-python",
   "name": "python",
   "nbconvert_exporter": "python",
   "pygments_lexer": "ipython3",
   "version": "3.10.14"
  }
 },
 "nbformat": 4,
 "nbformat_minor": 2
}
