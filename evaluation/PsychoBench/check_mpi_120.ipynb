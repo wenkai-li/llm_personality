{
 "cells": [
  {
   "cell_type": "code",
   "execution_count": 1,
   "metadata": {},
   "outputs": [
    {
     "data": {
      "text/html": [
       "<div>\n",
       "<style scoped>\n",
       "    .dataframe tbody tr th:only-of-type {\n",
       "        vertical-align: middle;\n",
       "    }\n",
       "\n",
       "    .dataframe tbody tr th {\n",
       "        vertical-align: top;\n",
       "    }\n",
       "\n",
       "    .dataframe thead th {\n",
       "        text-align: right;\n",
       "    }\n",
       "</style>\n",
       "<table border=\"1\" class=\"dataframe\">\n",
       "  <thead>\n",
       "    <tr style=\"text-align: right;\">\n",
       "      <th></th>\n",
       "      <th>label_raw</th>\n",
       "      <th>text</th>\n",
       "      <th>label_ocean</th>\n",
       "      <th>key</th>\n",
       "    </tr>\n",
       "  </thead>\n",
       "  <tbody>\n",
       "    <tr>\n",
       "      <th>0</th>\n",
       "      <td>Anxiety</td>\n",
       "      <td>Worry about things</td>\n",
       "      <td>N</td>\n",
       "      <td>1</td>\n",
       "    </tr>\n",
       "    <tr>\n",
       "      <th>1</th>\n",
       "      <td>Friendliness</td>\n",
       "      <td>Make friends easily</td>\n",
       "      <td>E</td>\n",
       "      <td>1</td>\n",
       "    </tr>\n",
       "    <tr>\n",
       "      <th>2</th>\n",
       "      <td>Imagination</td>\n",
       "      <td>Have a vivid imagination</td>\n",
       "      <td>O</td>\n",
       "      <td>1</td>\n",
       "    </tr>\n",
       "    <tr>\n",
       "      <th>3</th>\n",
       "      <td>Trust</td>\n",
       "      <td>Trust others</td>\n",
       "      <td>A</td>\n",
       "      <td>1</td>\n",
       "    </tr>\n",
       "    <tr>\n",
       "      <th>4</th>\n",
       "      <td>Self-efficacy</td>\n",
       "      <td>Complete tasks successfully</td>\n",
       "      <td>C</td>\n",
       "      <td>1</td>\n",
       "    </tr>\n",
       "    <tr>\n",
       "      <th>...</th>\n",
       "      <td>...</td>\n",
       "      <td>...</td>\n",
       "      <td>...</td>\n",
       "      <td>...</td>\n",
       "    </tr>\n",
       "    <tr>\n",
       "      <th>115</th>\n",
       "      <td>Vulnerability</td>\n",
       "      <td>Remain calm under pressure</td>\n",
       "      <td>N</td>\n",
       "      <td>-1</td>\n",
       "    </tr>\n",
       "    <tr>\n",
       "      <th>116</th>\n",
       "      <td>Cheerfulness</td>\n",
       "      <td>Look at the bright side of life</td>\n",
       "      <td>E</td>\n",
       "      <td>1</td>\n",
       "    </tr>\n",
       "    <tr>\n",
       "      <th>117</th>\n",
       "      <td>Liberalism</td>\n",
       "      <td>Believe that we should be tough on crime</td>\n",
       "      <td>O</td>\n",
       "      <td>-1</td>\n",
       "    </tr>\n",
       "    <tr>\n",
       "      <th>118</th>\n",
       "      <td>Sympathy</td>\n",
       "      <td>Try not to think about the needy</td>\n",
       "      <td>A</td>\n",
       "      <td>-1</td>\n",
       "    </tr>\n",
       "    <tr>\n",
       "      <th>119</th>\n",
       "      <td>Cautiousness</td>\n",
       "      <td>Act without thinking</td>\n",
       "      <td>C</td>\n",
       "      <td>-1</td>\n",
       "    </tr>\n",
       "  </tbody>\n",
       "</table>\n",
       "<p>120 rows × 4 columns</p>\n",
       "</div>"
      ],
      "text/plain": [
       "         label_raw                                      text label_ocean  key\n",
       "0          Anxiety                        Worry about things           N    1\n",
       "1     Friendliness                       Make friends easily           E    1\n",
       "2      Imagination                  Have a vivid imagination           O    1\n",
       "3            Trust                              Trust others           A    1\n",
       "4    Self-efficacy               Complete tasks successfully           C    1\n",
       "..             ...                                       ...         ...  ...\n",
       "115  Vulnerability                Remain calm under pressure           N   -1\n",
       "116   Cheerfulness           Look at the bright side of life           E    1\n",
       "117     Liberalism  Believe that we should be tough on crime           O   -1\n",
       "118       Sympathy          Try not to think about the needy           A   -1\n",
       "119   Cautiousness                      Act without thinking           C   -1\n",
       "\n",
       "[120 rows x 4 columns]"
      ]
     },
     "execution_count": 1,
     "metadata": {},
     "output_type": "execute_result"
    }
   ],
   "source": [
    "import pandas as pd\n",
    "import json\n",
    "\n",
    "df = pd.read_csv(\"mpi_120.csv\")\n",
    "df"
   ]
  },
  {
   "cell_type": "code",
   "execution_count": 2,
   "metadata": {},
   "outputs": [
    {
     "data": {
      "text/plain": [
       "(120, 4)"
      ]
     },
     "execution_count": 2,
     "metadata": {},
     "output_type": "execute_result"
    }
   ],
   "source": [
    "df.shape"
   ]
  },
  {
   "cell_type": "code",
   "execution_count": 7,
   "metadata": {},
   "outputs": [
    {
     "name": "stdout",
     "output_type": "stream",
     "text": [
      "{\"1\": \"I worry about things.\", \"2\": \"I make friends easily.\", \"3\": \"I have a vivid imagination.\", \"4\": \"I trust others.\", \"5\": \"I complete tasks successfully.\", \"6\": \"I get angry easily.\", \"7\": \"I love large parties.\", \"8\": \"I believe in the importance of art.\", \"9\": \"I use others for your own ends.\", \"10\": \"I like to tidy up.\", \"11\": \"I often feel blue.\", \"12\": \"I take charge.\", \"13\": \"I experience your emotions intensely.\", \"14\": \"I love to help others.\", \"15\": \"I keep your promises.\", \"16\": \"I find it difficult to approach others.\", \"17\": \"I are always busy.\", \"18\": \"I prefer variety to routine.\", \"19\": \"I love a good fight.\", \"20\": \"I work hard.\", \"21\": \"I go on binges.\", \"22\": \"I love excitement.\", \"23\": \"I love to read challenging material.\", \"24\": \"I believe that you are better than others.\", \"25\": \"I are always prepared.\", \"26\": \"I panic easily.\", \"27\": \"I radiate joy.\", \"28\": \"I tend to vote for liberal political candidates.\", \"29\": \"I sympathize with the homeless.\", \"30\": \"I jump into things without thinking.\", \"31\": \"I fear for the worst.\", \"32\": \"I feel comfortable around other people.\", \"33\": \"I enjoy wild flights of fancy.\", \"34\": \"I believe that others have good intentions.\", \"35\": \"I excel in what you do.\", \"36\": \"I get irritated easily.\", \"37\": \"I talk to a lot of different people at parties.\", \"38\": \"I see beauty in things that others might not notice.\", \"39\": \"I cheat to get ahead.\", \"40\": \"I often forget to put things back in their proper place.\", \"41\": \"I dislike yourself.\", \"42\": \"I try to lead others.\", \"43\": \"I feel others' emotions.\", \"44\": \"I are concerned about others.\", \"45\": \"I tell the truth.\", \"46\": \"I are afraid to draw attention to yourself.\", \"47\": \"I are always on the go.\", \"48\": \"I prefer to stick with things that you know.\", \"49\": \"I yell at people.\", \"50\": \"I do more than what's expected ofyou.\", \"51\": \"I rarely overindulge.\", \"52\": \"I seek adventure.\", \"53\": \"I avoid philosophical discussions.\", \"54\": \"I think highly of yourself.\", \"55\": \"I carry out your plans.\", \"56\": \"I become overwhelmed by events.\", \"57\": \"I have a lot of fun.\", \"58\": \"I believe that there is no absolute right or wrong.\", \"59\": \"I feel sympathy for those who are worse off than yourself.\", \"60\": \"I make rash decisions.\", \"61\": \"I are afraid of many things.\", \"62\": \"I avoid contacts with others.\", \"63\": \"I love to daydream.\", \"64\": \"I trust what people say.\", \"65\": \"I handle tasks smoothly.\", \"66\": \"I lose your temper.\", \"67\": \"I prefer to be alone.\", \"68\": \"I do not like poetry.\", \"69\": \"I take advantage of others.\", \"70\": \"I leave a mess in your room.\", \"71\": \"I are often down in the dumps.\", \"72\": \"I take control of things.\", \"73\": \"I rarely notice your emotional reactions.\", \"74\": \"I are indifferent to the feelings of others.\", \"75\": \"I break rules.\", \"76\": \"I only feel comfortable with friends.\", \"77\": \"I do a lot in your spare time.\", \"78\": \"I dislike changes.\", \"79\": \"I insult people.\", \"80\": \"I do just enough work to get by.\", \"81\": \"I easily resist temptations.\", \"82\": \"I enjoy being reckless.\", \"83\": \"I have difficulty understanding abstract ideas.\", \"84\": \"I have a high opinion of yourself.\", \"85\": \"I waste your time.\", \"86\": \"I feel that i'm unable to deal with things.\", \"87\": \"I love life.\", \"88\": \"I tend to vote for conservative political candidates.\", \"89\": \"I are not interested in other people's problems.\", \"90\": \"I rush into things.\", \"91\": \"I get stressed out easily.\", \"92\": \"I keep others at a distance.\", \"93\": \"I like to get lost in thought.\", \"94\": \"I distrust people.\", \"95\": \"I know how to get things done.\", \"96\": \"I are not easily annoyed.\", \"97\": \"I avoid crowds.\", \"98\": \"I do not enjoy going to art museums.\", \"99\": \"I obstruct others' plans.\", \"100\": \"I leave your belongings around.\", \"101\": \"I feel comfortable with yourself.\", \"102\": \"I wait for others to lead the way.\", \"103\": \"I don't understand people who get emotional.\", \"104\": \"I take no time for others.\", \"105\": \"I break your promises.\", \"106\": \"I are not bothered by difficult social situations.\", \"107\": \"I like to take it easy.\", \"108\": \"I are attached to conventional ways.\", \"109\": \"I get back at others.\", \"110\": \"I put little time and effort into your work.\", \"111\": \"I are able to control your cravings.\", \"112\": \"I act wild and crazy.\", \"113\": \"I are not interested in theoretical discussions.\", \"114\": \"I boast about your virtues.\", \"115\": \"I have difficulty starting tasks.\", \"116\": \"I remain calm under pressure.\", \"117\": \"I look at the bright side of life.\", \"118\": \"I believe that we should be tough on crime.\", \"119\": \"I try not to think about the needy.\", \"120\": \"I act without thinking.\"}\n"
     ]
    }
   ],
   "source": [
    "questions_dict = {}\n",
    "for idx, row in df.iterrows():\n",
    "    questions_dict[str(idx + 1)] = \"I \" + row['text'].lower() + \".\"\n",
    "print(json.dumps(questions_dict))"
   ]
  },
  {
   "cell_type": "code",
   "execution_count": 11,
   "metadata": {},
   "outputs": [
    {
     "name": "stdout",
     "output_type": "stream",
     "text": [
      "[9, 19, 24, 30, 39, 40, 48, 49, 51, 53, 54, 60, 62, 67, 68, 69, 70, 73, 74, 75, 78, 79, 80, 81, 83, 84, 85, 88, 89, 90, 92, 94, 96, 97, 98, 99, 100, 101, 102, 103, 104, 105, 106, 107, 108, 109, 110, 111, 113, 114, 115, 116, 118, 119, 120]\n"
     ]
    },
    {
     "data": {
      "text/plain": [
       "(None, 55)"
      ]
     },
     "execution_count": 11,
     "metadata": {},
     "output_type": "execute_result"
    }
   ],
   "source": [
    "reverse_lst = []\n",
    "for idx, row in df.iterrows():\n",
    "    if row['key'] == -1:\n",
    "        reverse_lst.append(idx + 1)\n",
    "print(json.dumps(reverse_lst)), len(reverse_lst)"
   ]
  },
  {
   "cell_type": "code",
   "execution_count": 12,
   "metadata": {},
   "outputs": [
    {
     "name": "stdout",
     "output_type": "stream",
     "text": [
      "{\"O\": [3, 8, 13, 18, 23, 28, 33, 38, 43, 48, 53, 58, 63, 68, 73, 78, 83, 88, 93, 98, 103, 108, 113, 118], \"C\": [5, 10, 15, 20, 25, 30, 35, 40, 45, 50, 55, 60, 65, 70, 75, 80, 85, 90, 95, 100, 105, 110, 115, 120], \"E\": [2, 7, 12, 17, 22, 27, 32, 37, 42, 47, 52, 57, 62, 67, 72, 77, 82, 87, 92, 97, 102, 107, 112, 117], \"A\": [4, 9, 14, 19, 24, 29, 34, 39, 44, 49, 54, 59, 64, 69, 74, 79, 84, 89, 94, 99, 104, 109, 114, 119], \"N\": [1, 6, 11, 16, 21, 26, 31, 36, 41, 46, 51, 56, 61, 66, 71, 76, 81, 86, 91, 96, 101, 106, 111, 116]}\n"
     ]
    }
   ],
   "source": [
    "trait_dict = {\n",
    "    \"O\": [],\n",
    "    \"C\": [],\n",
    "    \"E\": [],\n",
    "    \"A\": [],\n",
    "    \"N\": []\n",
    "}\n",
    "for idx, row in df.iterrows():\n",
    "    trait_dict[row['label_ocean']].append(idx + 1)\n",
    "print(json.dumps(trait_dict))"
   ]
  }
 ],
 "metadata": {
  "kernelspec": {
   "display_name": "new",
   "language": "python",
   "name": "python3"
  },
  "language_info": {
   "codemirror_mode": {
    "name": "ipython",
    "version": 3
   },
   "file_extension": ".py",
   "mimetype": "text/x-python",
   "name": "python",
   "nbconvert_exporter": "python",
   "pygments_lexer": "ipython3",
   "version": "3.10.14"
  }
 },
 "nbformat": 4,
 "nbformat_minor": 2
}
