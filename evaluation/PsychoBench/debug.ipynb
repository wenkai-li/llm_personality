{
 "cells": [
  {
   "cell_type": "code",
   "execution_count": 1,
   "metadata": {},
   "outputs": [
    {
     "name": "stdout",
     "output_type": "stream",
     "text": [
      "1\n"
     ]
    }
   ],
   "source": [
    "import re\n",
    "\n",
    "# Example string\n",
    "s = \"1: disagree\"\n",
    "\n",
    "# Extract the integer from the start of the string\n",
    "match = re.match(r'^\\d+', s)\n",
    "\n",
    "# Convert the matched string to an integer if a match is found\n",
    "if match:\n",
    "    number = int(match.group())\n",
    "    print(number)  # Output: 123\n",
    "else:\n",
    "    print(\"No leading integer found.\")\n"
   ]
  }
 ],
 "metadata": {
  "kernelspec": {
   "display_name": "new",
   "language": "python",
   "name": "python3"
  },
  "language_info": {
   "codemirror_mode": {
    "name": "ipython",
    "version": 3
   },
   "file_extension": ".py",
   "mimetype": "text/x-python",
   "name": "python",
   "nbconvert_exporter": "python",
   "pygments_lexer": "ipython3",
   "version": "3.10.14"
  }
 },
 "nbformat": 4,
 "nbformat_minor": 2
}
