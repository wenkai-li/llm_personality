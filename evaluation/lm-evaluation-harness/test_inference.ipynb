{
 "cells": [
  {
   "cell_type": "code",
   "execution_count": 2,
   "metadata": {},
   "outputs": [
    {
     "name": "stderr",
     "output_type": "stream",
     "text": [
      "/home/wenkail/miniconda3/envs/lf/lib/python3.11/site-packages/tqdm/auto.py:21: TqdmWarning: IProgress not found. Please update jupyter and ipywidgets. See https://ipywidgets.readthedocs.io/en/stable/user_install.html\n",
      "  from .autonotebook import tqdm as notebook_tqdm\n"
     ]
    }
   ],
   "source": [
    "import os\n",
    "from openai import OpenAI\n",
    "from transformers.utils.versions import require_version\n",
    "\n",
    "require_version(\"openai>=1.5.0\", \"To fix: pip install openai>=1.5.0\")\n",
    "\n",
    "if __name__ == '__main__':\n",
    "    # change to your custom port\n",
    "    port = 8000\n",
    "    client = OpenAI(\n",
    "        api_key=\"0\",\n",
    "        base_url=\"http://0.0.0.0:{}/v1\".format(os.environ.get(\"API_PORT\", 8000)),\n",
    "    )\n",
    "    messages = []\n",
    "    messages.append({\"role\": \"user\", \"content\": \"hello, where is USA\"})\n"
   ]
  },
  {
   "cell_type": "code",
   "execution_count": 3,
   "metadata": {},
   "outputs": [
    {
     "name": "stdout",
     "output_type": "stream",
     "text": [
      "Hello!\n",
      "\n",
      "The United States of America (USA) is a country located in North America. It is a federal republic consisting of 50 states, a federal district (Washington, D.C.), and several territories.\n",
      "\n",
      "The USA shares borders with Canada to the north and Mexico to the south. It also has coastlines along the Atlantic Ocean, the Pacific Ocean, and the Arctic Ocean.\n",
      "\n",
      "Here's a rough outline of the country's location:\n",
      "\n",
      "* North America: The USA is part of the continent of North America, which also includes Canada, Mexico, and several Caribbean and Central American countries.\n",
      "* Eastern Hemisphere: The USA is located in the Eastern Hemisphere, roughly between the 24th and 49th meridians west of the Prime Meridian (which passes through Greenwich, England).\n",
      "* Western Hemisphere: The USA is also part of the Western Hemisphere, which includes the Americas, including North America, Central America, South America, and the Caribbean.\n",
      "\n",
      "Some of the most well-known cities in the USA include:\n",
      "\n",
      "* New York City (East Coast)\n",
      "* Los Angeles (West Coast)\n",
      "* Chicago (Midwest)\n",
      "* Houston (Southwest)\n",
      "* Miami (Southeast)\n",
      "* San Francisco (West Coast)\n",
      "* Washington, D.C. (Capital)\n",
      "\n",
      "These are just a few examples, but the USA has many more cities, states, and territories to explore!\n"
     ]
    }
   ],
   "source": [
    "result = client.chat.completions.create(messages=messages, model=\"test\")\n",
    "print(result.choices[0].message.content)"
   ]
  },
  {
   "cell_type": "code",
   "execution_count": null,
   "metadata": {},
   "outputs": [],
   "source": []
  }
 ],
 "metadata": {
  "kernelspec": {
   "display_name": "lp",
   "language": "python",
   "name": "python3"
  },
  "language_info": {
   "codemirror_mode": {
    "name": "ipython",
    "version": 3
   },
   "file_extension": ".py",
   "mimetype": "text/x-python",
   "name": "python",
   "nbconvert_exporter": "python",
   "pygments_lexer": "ipython3",
   "version": "3.11.9"
  }
 },
 "nbformat": 4,
 "nbformat_minor": 2
}
